{
 "cells": [
  {
   "cell_type": "markdown",
   "metadata": {},
   "source": [
    "# Построение ETL пайплайна"
   ]
  },
  {
   "cell_type": "markdown",
   "metadata": {},
   "source": [
    "## Цель проекта"
   ]
  },
  {
   "cell_type": "markdown",
   "metadata": {},
   "source": [
    "Написать DAG для Airflow, который ежедневно будет агрегировать данные за предыдущий день и помещать их в новую таблицу Clickhouse."
   ]
  },
  {
   "cell_type": "markdown",
   "metadata": {},
   "source": [
    "## Описание проекта"
   ]
  },
  {
   "cell_type": "markdown",
   "metadata": {},
   "source": [
    "Приложение, для которого необходимо выполнить задачу представляет собой ленту новостей и мессенджер. Для упрощения получения данных за предыдущий день, этот процесс необходимо автоматизировать при помощи Airflow. "
   ]
  },
  {
   "cell_type": "markdown",
   "metadata": {},
   "source": [
    "## Декомпозиция задачи"
   ]
  },
  {
   "cell_type": "markdown",
   "metadata": {},
   "source": [
    "1. В распоряжении 2 таблицы - feed_actions, в которой собираются данные о пользователях ленты новостей и их активности и message_actions в которой собираются данные о пользователях мессенджера и их активности. Для feed_actions необходимо посчитать для каждого пользователя число лайков и просмотров. Для message_action - количество отправленных и полученных сообщений на каждого пользователя.\n",
    "2. Объединить полученные таблицы.\n",
    "3. Для этой таблицы посчитать все эти метрики в разрезе по полу, возрасту и ос. \n",
    "4. Финальные данные со всеми метриками записать в отдельную таблицу в ClickHouse."
   ]
  },
  {
   "cell_type": "markdown",
   "metadata": {},
   "source": [
    "## Код проекта"
   ]
  },
  {
   "cell_type": "code",
   "execution_count": null,
   "metadata": {},
   "outputs": [],
   "source": [
    "# Импорт библиотек\n",
    "from datetime import datetime, timedelta\n",
    "import pandas as pd\n",
    "from io import StringIO\n",
    "import pandahouse as ph\n",
    "\n",
    "from airflow.decorators import dag, task\n",
    "from airflow.operators.python import get_current_context\n",
    "\n",
    "# Список необходимых столбцов\n",
    "columns_names = ['event_date', 'dimension', 'dimension_value', 'views', 'likes',\n",
    "                'messages_received', 'messages_sent', 'users_received', 'users_sent']\n",
    "\n",
    "#коннект к БД\n",
    "connection = {\n",
    "    'host': '',\n",
    "    'password': '',\n",
    "    'user': '',\n",
    "    'database': ''\n",
    "}\n",
    "\n",
    "#коннект к БД на запись \n",
    "connection_out = {\n",
    "    'host': '',\n",
    "    'database':'',\n",
    "    'user':'', \n",
    "    'password':''\n",
    "}\n",
    "\n",
    "#запрос в ленту\n",
    "feed_query = \"\"\"SELECT user_id,\n",
    "                       time::DATE as event_date,\n",
    "                       countIf(action = 'like') as likes,\n",
    "                       countIf(action = 'view') as views,\n",
    "                       os,\n",
    "                       age,\n",
    "                       gender\n",
    "                FROM simulator_20230520.feed_actions\n",
    "                WHERE time::DATE = yesterday()\n",
    "                GROUP BY user_id, os, age, gender, time::DATE\"\"\"\n",
    "\n",
    "#запрос в мессенджер\n",
    "messanger_query = \"\"\"SELECT DISTINCT user_id,\n",
    "                                     event_date,\n",
    "                                     messages_sent,\n",
    "                                     users_sent,\n",
    "                                     gender,\n",
    "                                     age,\n",
    "                                     os,\n",
    "                                     messages_received,\n",
    "                                     users_received\n",
    "\n",
    "                        FROM\n",
    "                            (SELECT user_id, \n",
    "                                   time::DATE event_date,\n",
    "                                   age,\n",
    "                                   os,\n",
    "                                   gender,\n",
    "                                   COUNT(reciever_id) messages_sent,\n",
    "                                   COUNT(DISTINCT reciever_id) users_sent\n",
    "                            FROM simulator_20230520.message_actions\n",
    "                            WHERE time::DATE = yesterday()\n",
    "                            GROUP BY user_id, time::DATE, age, os, gender) t1\n",
    "\n",
    "                            FULL OUTER JOIN\n",
    "\n",
    "                            (SELECT reciever_id,\n",
    "                                   time::DATE event_date,\n",
    "                                   age,\n",
    "                                   os,\n",
    "                                   gender,\n",
    "                                   COUNT(user_id) messages_received,\n",
    "                                   COUNT(DISTINCT user_id) users_received\n",
    "                            FROM simulator_20230520.message_actions\n",
    "                            WHERE time::DATE = yesterday()\n",
    "                            GROUP BY reciever_id, time::DATE, age, os, gender) t2\n",
    "\n",
    "                            ON t1.user_id = t2.reciever_id\"\"\"\n",
    "\n",
    "#создание таблицы в БД\n",
    "\n",
    "\n",
    "# Дефолтные параметры, которые прокидываются в таски\n",
    "default_args = {\n",
    "    'owner': 'i.vashkovets',\n",
    "    'depends_on_past': False,\n",
    "    'retries': 2,\n",
    "    'retry_delay': timedelta(minutes=5),\n",
    "    'start_date': datetime(2023, 6, 11),\n",
    "}\n",
    "\n",
    "# Интервал запуска DAG\n",
    "schedule_interval = '0 5 * * *'\n",
    "\n",
    "#dag\n",
    "@dag(default_args=default_args, schedule_interval=schedule_interval, catchup=False, tags=['i-vashkovets-19'])\n",
    "def etl_dag_to_new_table_v():\n",
    "    #Данные из базы feed_actions\n",
    "    @task\n",
    "    def extract_feed(feed_query, connection):\n",
    "        feed = ph.read_clickhouse(feed_query, connection=connection)\n",
    "        return feed\n",
    "    #Данные из базы message_actions\n",
    "    @task\n",
    "    def extract_message(messanger_query, connection):\n",
    "        messanger = ph.read_clickhouse(messanger_query, connection=connection)\n",
    "        return messanger\n",
    "    #Объединение таблиц\n",
    "    @task\n",
    "    def transform_merge(feed_table, messanger_table):\n",
    "        final_table = feed_table.merge(messanger_table, how='inner')\n",
    "        return final_table\n",
    "    #срезы\n",
    "    #пол\n",
    "    @task\n",
    "    def gender_slice(df_final): \n",
    "        df_final_gender = df_final.groupby(['gender', 'event_date'])['likes', 'views', 'messages_sent', 'users_sent', 'messages_received', 'users_received'].sum().reset_index()\n",
    "        df_final_gender.rename(columns={'gender': 'dimension_value'}, inplace=True)\n",
    "        df_final_gender['dimension'] = 'gender'\n",
    "        return df_final_gender[columns_names]\n",
    "    #ос\n",
    "    @task\n",
    "    def os_slice(df_final):\n",
    "        df_final_os = df_final.groupby(['os', 'event_date'])['likes', 'views', 'messages_sent', 'users_sent', 'messages_received', 'users_received'].sum().reset_index()\n",
    "        df_final_os.rename(columns={'os': 'dimension_value'}, inplace=True)\n",
    "        df_final_os['dimension'] = 'os'\n",
    "        return df_final_os[columns_names]\n",
    "    #возраст\n",
    "    @task\n",
    "    def age_slice(df_final):\n",
    "        df_final_age = df_final.groupby(['age', 'event_date'])['likes', 'views', 'messages_sent', 'users_sent', 'messages_received', 'users_received'].sum().reset_index()\n",
    "        df_final_age.rename(columns={'age': 'dimension_value'}, inplace=True)\n",
    "        df_final_age['dimension'] = 'age'\n",
    "        return df_final_age[columns_names]\n",
    "    # Функция объединения срезов\n",
    "    @task\n",
    "    def sliced_final_table(gender_final, os_final, age_final):\n",
    "        return pd.concat([gender_final, os_final, age_final]).reset_index(drop=True)\n",
    "     # Функция записи данных в новую таблицу в ClickHouse\n",
    "    @task\n",
    "    def load(sliced_final):\n",
    "        query_out = \"\"\"CREATE TABLE IF NOT EXISTS test.i_vashkovets_19\n",
    "                    (event_date Date,\n",
    "                    dimension String,\n",
    "                    dimension_value String,\n",
    "                    views UInt64,\n",
    "                    likes UInt64,\n",
    "                    messages_sent UInt64,\n",
    "                    users_sent UInt64,\n",
    "                    messages_received UInt64,\n",
    "                    users_received UInt64\n",
    "                    )\n",
    "                    ENGINE = MergeTree()\n",
    "                    ORDER BY event_date\"\"\"\n",
    "        ph.execute(query=query_out, connection=connection_out)\n",
    "        ph.to_clickhouse(sliced_final, 'i_vashkovets_19', index = False, connection=connection_out)\n",
    "        \n",
    "    #связи\n",
    "    feed_table = extract_feed(feed_query, connection)\n",
    "    messanger_table = extract_message(messanger_query, connection)\n",
    "    df_final = transform_merge (feed_table, messanger_table)\n",
    "    gender_final = gender_slice(df_final)\n",
    "    os_final = os_slice(df_final)\n",
    "    age_final = age_slice(df_final)\n",
    "    sliced_final = sliced_final_table(gender_final, os_final, age_final)\n",
    "    upload = load(sliced_final)\n",
    "    \n",
    "etl_dag_to_new_table_v = etl_dag_to_new_table_v()"
   ]
  },
  {
   "cell_type": "markdown",
   "metadata": {},
   "source": [
    "## Результат выполнения скрипта"
   ]
  },
  {
   "attachments": {
    "%D0%91%D0%B5%D0%B7%D1%8B%D0%BC%D1%8F%D0%BD%D0%BD%D1%8B%D0%B9.png": {
     "image/png": "[encoded data removed]"
    }
   },
   "cell_type": "markdown",
   "metadata": {},
   "source": [
    "![%D0%91%D0%B5%D0%B7%D1%8B%D0%BC%D1%8F%D0%BD%D0%BD%D1%8B%D0%B9.png](attachment:%D0%91%D0%B5%D0%B7%D1%8B%D0%BC%D1%8F%D0%BD%D0%BD%D1%8B%D0%B9.png)"
   ]
  },
  {
   "cell_type": "markdown",
   "metadata": {},
   "source": [
    "## Общий вывод"
   ]
  },
  {
   "cell_type": "markdown",
   "metadata": {},
   "source": [
    "В результате выполнения задачи был автоматизирован процесс получения данных за предыдущий день из базы данных Clickhouse, преобразован средствами Python и записан в новую таблицу в Clickhouse. Для автоматического запуска скрипта использован планировщик Airflow."
   ]
  },
  {
   "cell_type": "code",
   "execution_count": null,
   "metadata": {},
   "outputs": [],
   "source": []
  }
 ],
 "metadata": {
  "kernelspec": {
   "display_name": "Python 3",
   "language": "python",
   "name": "python3"
  },
  "language_info": {
   "codemirror_mode": {
    "name": "ipython",
    "version": 3
   },
   "file_extension": ".py",
   "mimetype": "text/x-python",
   "name": "python",
   "nbconvert_exporter": "python",
   "pygments_lexer": "ipython3",
   "version": "3.7.0"
  }
 },
 "nbformat": 4,
 "nbformat_minor": 2
}
