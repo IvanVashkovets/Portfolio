{
 "cells": [
  {
   "cell_type": "markdown",
   "metadata": {},
   "source": [
    "# Оценка результатов AB тестирования"
   ]
  },
  {
   "cell_type": "markdown",
   "metadata": {},
   "source": [
    "Используя данные интернет-магазина, произвести оценку результатов A/B-тестирования. Предоставлены данные интернет-магазина, содержащие информацию о покупках пользователей в период с 2019-08-01 по 2019-08-31. Необходимо сравнить группы по метрикам - количество заказов на пользователя и величине среднего чека."
   ]
  },
  {
   "cell_type": "markdown",
   "metadata": {},
   "source": [
    "## Цели исследования "
   ]
  },
  {
   "cell_type": "markdown",
   "metadata": {},
   "source": [
    "Принять решение по результатам теста из следующих вариантов:\n",
    "\n",
    "1. Остановить тест, зафиксировать победу одной из групп;\n",
    "2. Остановить тест, зафиксировать отсутствие различий между группами;\n",
    "3. Продолжить тест."
   ]
  },
  {
   "cell_type": "markdown",
   "metadata": {},
   "source": [
    "### Изучение и предобработка данных"
   ]
  },
  {
   "cell_type": "code",
   "execution_count": 1,
   "metadata": {},
   "outputs": [],
   "source": [
    "#импорт библиотек\n",
    "import pandas as pd\n",
    "import numpy as np\n",
    "from datetime import datetime, timedelta\n",
    "import seaborn as sns\n",
    "from matplotlib import pyplot as plt \n",
    "import math as mth\n",
    "from scipy import stats as st\n",
    "import re\n",
    "import datetime as dt\n",
    "\n",
    "sns.set()"
   ]
  },
  {
   "cell_type": "code",
   "execution_count": 2,
   "metadata": {},
   "outputs": [],
   "source": [
    "#чтение датасетов\n",
    "orders, visitors = (\n",
    "    pd.read_csv(r'C:\\Users\\User\\My Jupyter Projects\\ABtest\\orders.csv'), #заказы\n",
    "    pd.read_csv(r'C:\\Users\\User\\My Jupyter Projects\\ABtest\\visitors.csv')  #пользователи\n",
    ")"
   ]
  },
  {
   "cell_type": "code",
   "execution_count": 3,
   "metadata": {
    "scrolled": true
   },
   "outputs": [
    {
     "name": "stdout",
     "output_type": "stream",
     "text": [
      "<class 'pandas.core.frame.DataFrame'>\n",
      "RangeIndex: 1197 entries, 0 to 1196\n",
      "Data columns (total 5 columns):\n",
      " #   Column         Non-Null Count  Dtype \n",
      "---  ------         --------------  ----- \n",
      " 0   transactionId  1197 non-null   int64 \n",
      " 1   visitorId      1197 non-null   int64 \n",
      " 2   date           1197 non-null   object\n",
      " 3   revenue        1197 non-null   int64 \n",
      " 4   group          1197 non-null   object\n",
      "dtypes: int64(3), object(2)\n",
      "memory usage: 46.9+ KB\n"
     ]
    },
    {
     "data": {
      "text/plain": [
       "None"
      ]
     },
     "metadata": {},
     "output_type": "display_data"
    },
    {
     "data": {
      "text/html": [
       "<div>\n",
       "<style scoped>\n",
       "    .dataframe tbody tr th:only-of-type {\n",
       "        vertical-align: middle;\n",
       "    }\n",
       "\n",
       "    .dataframe tbody tr th {\n",
       "        vertical-align: top;\n",
       "    }\n",
       "\n",
       "    .dataframe thead th {\n",
       "        text-align: right;\n",
       "    }\n",
       "</style>\n",
       "<table border=\"1\" class=\"dataframe\">\n",
       "  <thead>\n",
       "    <tr style=\"text-align: right;\">\n",
       "      <th></th>\n",
       "      <th>transactionId</th>\n",
       "      <th>visitorId</th>\n",
       "      <th>date</th>\n",
       "      <th>revenue</th>\n",
       "      <th>group</th>\n",
       "    </tr>\n",
       "  </thead>\n",
       "  <tbody>\n",
       "    <tr>\n",
       "      <th>0</th>\n",
       "      <td>3667963787</td>\n",
       "      <td>3312258926</td>\n",
       "      <td>2019-08-15</td>\n",
       "      <td>1650</td>\n",
       "      <td>B</td>\n",
       "    </tr>\n",
       "    <tr>\n",
       "      <th>1</th>\n",
       "      <td>2804400009</td>\n",
       "      <td>3642806036</td>\n",
       "      <td>2019-08-15</td>\n",
       "      <td>730</td>\n",
       "      <td>B</td>\n",
       "    </tr>\n",
       "    <tr>\n",
       "      <th>2</th>\n",
       "      <td>2961555356</td>\n",
       "      <td>4069496402</td>\n",
       "      <td>2019-08-15</td>\n",
       "      <td>400</td>\n",
       "      <td>A</td>\n",
       "    </tr>\n",
       "    <tr>\n",
       "      <th>3</th>\n",
       "      <td>3797467345</td>\n",
       "      <td>1196621759</td>\n",
       "      <td>2019-08-15</td>\n",
       "      <td>9759</td>\n",
       "      <td>B</td>\n",
       "    </tr>\n",
       "    <tr>\n",
       "      <th>4</th>\n",
       "      <td>2282983706</td>\n",
       "      <td>2322279887</td>\n",
       "      <td>2019-08-15</td>\n",
       "      <td>2308</td>\n",
       "      <td>B</td>\n",
       "    </tr>\n",
       "  </tbody>\n",
       "</table>\n",
       "</div>"
      ],
      "text/plain": [
       "   transactionId   visitorId        date  revenue group\n",
       "0     3667963787  3312258926  2019-08-15     1650     B\n",
       "1     2804400009  3642806036  2019-08-15      730     B\n",
       "2     2961555356  4069496402  2019-08-15      400     A\n",
       "3     3797467345  1196621759  2019-08-15     9759     B\n",
       "4     2282983706  2322279887  2019-08-15     2308     B"
      ]
     },
     "metadata": {},
     "output_type": "display_data"
    },
    {
     "data": {
      "text/plain": [
       "0"
      ]
     },
     "metadata": {},
     "output_type": "display_data"
    },
    {
     "name": "stdout",
     "output_type": "stream",
     "text": [
      "<class 'pandas.core.frame.DataFrame'>\n",
      "RangeIndex: 62 entries, 0 to 61\n",
      "Data columns (total 3 columns):\n",
      " #   Column    Non-Null Count  Dtype \n",
      "---  ------    --------------  ----- \n",
      " 0   date      62 non-null     object\n",
      " 1   group     62 non-null     object\n",
      " 2   visitors  62 non-null     int64 \n",
      "dtypes: int64(1), object(2)\n",
      "memory usage: 1.6+ KB\n"
     ]
    },
    {
     "data": {
      "text/plain": [
       "None"
      ]
     },
     "metadata": {},
     "output_type": "display_data"
    },
    {
     "data": {
      "text/html": [
       "<div>\n",
       "<style scoped>\n",
       "    .dataframe tbody tr th:only-of-type {\n",
       "        vertical-align: middle;\n",
       "    }\n",
       "\n",
       "    .dataframe tbody tr th {\n",
       "        vertical-align: top;\n",
       "    }\n",
       "\n",
       "    .dataframe thead th {\n",
       "        text-align: right;\n",
       "    }\n",
       "</style>\n",
       "<table border=\"1\" class=\"dataframe\">\n",
       "  <thead>\n",
       "    <tr style=\"text-align: right;\">\n",
       "      <th></th>\n",
       "      <th>date</th>\n",
       "      <th>group</th>\n",
       "      <th>visitors</th>\n",
       "    </tr>\n",
       "  </thead>\n",
       "  <tbody>\n",
       "    <tr>\n",
       "      <th>0</th>\n",
       "      <td>2019-08-01</td>\n",
       "      <td>A</td>\n",
       "      <td>719</td>\n",
       "    </tr>\n",
       "    <tr>\n",
       "      <th>1</th>\n",
       "      <td>2019-08-02</td>\n",
       "      <td>A</td>\n",
       "      <td>619</td>\n",
       "    </tr>\n",
       "    <tr>\n",
       "      <th>2</th>\n",
       "      <td>2019-08-03</td>\n",
       "      <td>A</td>\n",
       "      <td>507</td>\n",
       "    </tr>\n",
       "    <tr>\n",
       "      <th>3</th>\n",
       "      <td>2019-08-04</td>\n",
       "      <td>A</td>\n",
       "      <td>717</td>\n",
       "    </tr>\n",
       "    <tr>\n",
       "      <th>4</th>\n",
       "      <td>2019-08-05</td>\n",
       "      <td>A</td>\n",
       "      <td>756</td>\n",
       "    </tr>\n",
       "  </tbody>\n",
       "</table>\n",
       "</div>"
      ],
      "text/plain": [
       "         date group  visitors\n",
       "0  2019-08-01     A       719\n",
       "1  2019-08-02     A       619\n",
       "2  2019-08-03     A       507\n",
       "3  2019-08-04     A       717\n",
       "4  2019-08-05     A       756"
      ]
     },
     "metadata": {},
     "output_type": "display_data"
    },
    {
     "data": {
      "text/plain": [
       "0"
      ]
     },
     "metadata": {},
     "output_type": "display_data"
    }
   ],
   "source": [
    "for i in [orders, visitors]:\n",
    "    display(i.info())\n",
    "    display(i.head(5))\n",
    "    display(i.duplicated().sum())"
   ]
  },
  {
   "cell_type": "code",
   "execution_count": 4,
   "metadata": {},
   "outputs": [],
   "source": [
    "#функция для стилистического приведение столбцов\n",
    "def to_snake(name):\n",
    "    return re.sub(r'(?<!^)(?=[A-Z])', '_', name).lower()"
   ]
  },
  {
   "cell_type": "code",
   "execution_count": 5,
   "metadata": {},
   "outputs": [],
   "source": [
    "#стилистическое приведение столбцов\n",
    "orders.columns = [to_snake(x) for x in orders.columns.values]"
   ]
  },
  {
   "cell_type": "code",
   "execution_count": 6,
   "metadata": {},
   "outputs": [
    {
     "data": {
      "text/plain": [
       "Index(['transaction_id', 'visitor_id', 'date', 'revenue', 'group'], dtype='object')"
      ]
     },
     "execution_count": 6,
     "metadata": {},
     "output_type": "execute_result"
    }
   ],
   "source": [
    "#чек\n",
    "orders.columns"
   ]
  },
  {
   "cell_type": "code",
   "execution_count": 7,
   "metadata": {},
   "outputs": [],
   "source": [
    "#преобразуем даты в объект datetime для таблицы orders\n",
    "orders['date'] = orders['date'].map(\n",
    "    lambda x: dt.datetime.strptime(x, '%Y-%m-%d')\n",
    ")"
   ]
  },
  {
   "cell_type": "code",
   "execution_count": 8,
   "metadata": {},
   "outputs": [],
   "source": [
    "#преобразуем даты в объект datetime для таблицы visitors\n",
    "visitors['date'] = visitors['date'].map(\n",
    "    lambda x: dt.datetime.strptime(x, '%Y-%m-%d')\n",
    ")\n"
   ]
  },
  {
   "cell_type": "code",
   "execution_count": 9,
   "metadata": {
    "scrolled": true
   },
   "outputs": [
    {
     "name": "stdout",
     "output_type": "stream",
     "text": [
      "<class 'pandas.core.frame.DataFrame'>\n",
      "RangeIndex: 1197 entries, 0 to 1196\n",
      "Data columns (total 5 columns):\n",
      " #   Column          Non-Null Count  Dtype         \n",
      "---  ------          --------------  -----         \n",
      " 0   transaction_id  1197 non-null   int64         \n",
      " 1   visitor_id      1197 non-null   int64         \n",
      " 2   date            1197 non-null   datetime64[ns]\n",
      " 3   revenue         1197 non-null   int64         \n",
      " 4   group           1197 non-null   object        \n",
      "dtypes: datetime64[ns](1), int64(3), object(1)\n",
      "memory usage: 46.9+ KB\n"
     ]
    },
    {
     "data": {
      "text/plain": [
       "None"
      ]
     },
     "metadata": {},
     "output_type": "display_data"
    },
    {
     "name": "stdout",
     "output_type": "stream",
     "text": [
      "<class 'pandas.core.frame.DataFrame'>\n",
      "RangeIndex: 62 entries, 0 to 61\n",
      "Data columns (total 3 columns):\n",
      " #   Column    Non-Null Count  Dtype         \n",
      "---  ------    --------------  -----         \n",
      " 0   date      62 non-null     datetime64[ns]\n",
      " 1   group     62 non-null     object        \n",
      " 2   visitors  62 non-null     int64         \n",
      "dtypes: datetime64[ns](1), int64(1), object(1)\n",
      "memory usage: 1.6+ KB\n"
     ]
    },
    {
     "data": {
      "text/plain": [
       "None"
      ]
     },
     "metadata": {},
     "output_type": "display_data"
    }
   ],
   "source": [
    "#чек\n",
    "for i in [orders, visitors]:\n",
    "    display(i.info())"
   ]
  },
  {
   "cell_type": "markdown",
   "metadata": {},
   "source": [
    "Пропусков нет, столбцы приведены к snake_case, даты преобразованы в объект datetime."
   ]
  },
  {
   "cell_type": "markdown",
   "metadata": {},
   "source": [
    "### Проверка корректности групп "
   ]
  },
  {
   "cell_type": "code",
   "execution_count": 10,
   "metadata": {},
   "outputs": [
    {
     "data": {
      "text/html": [
       "<div>\n",
       "<style scoped>\n",
       "    .dataframe tbody tr th:only-of-type {\n",
       "        vertical-align: middle;\n",
       "    }\n",
       "\n",
       "    .dataframe tbody tr th {\n",
       "        vertical-align: top;\n",
       "    }\n",
       "\n",
       "    .dataframe thead th {\n",
       "        text-align: right;\n",
       "    }\n",
       "</style>\n",
       "<table border=\"1\" class=\"dataframe\">\n",
       "  <thead>\n",
       "    <tr style=\"text-align: right;\">\n",
       "      <th></th>\n",
       "      <th>min</th>\n",
       "      <th>max</th>\n",
       "      <th>group_name</th>\n",
       "    </tr>\n",
       "  </thead>\n",
       "  <tbody>\n",
       "    <tr>\n",
       "      <th>visitors</th>\n",
       "      <td>2019-08-01</td>\n",
       "      <td>2019-08-31</td>\n",
       "      <td>[B, A]</td>\n",
       "    </tr>\n",
       "    <tr>\n",
       "      <th>orders</th>\n",
       "      <td>2019-08-01</td>\n",
       "      <td>2019-08-31</td>\n",
       "      <td>[A, B]</td>\n",
       "    </tr>\n",
       "  </tbody>\n",
       "</table>\n",
       "</div>"
      ],
      "text/plain": [
       "                min        max group_name\n",
       "visitors 2019-08-01 2019-08-31     [B, A]\n",
       "orders   2019-08-01 2019-08-31     [A, B]"
      ]
     },
     "execution_count": 10,
     "metadata": {},
     "output_type": "execute_result"
    }
   ],
   "source": [
    "#проверка корректности дат и литер в группах\n",
    "temp = pd.DataFrame({'min': [visitors.date.min(), orders.date.min()], 'max': [visitors.date.max(), orders.date.max()], \\\n",
    "                     'group_name': [orders.group.unique(), visitors.group.unique()]})\n",
    "temp.index = ['visitors', 'orders']\n",
    "temp"
   ]
  },
  {
   "cell_type": "markdown",
   "metadata": {},
   "source": [
    "Временные промежутки, литеры обозначений групп в датасетах visitors и orders - корректены."
   ]
  },
  {
   "cell_type": "code",
   "execution_count": 11,
   "metadata": {},
   "outputs": [
    {
     "data": {
      "text/plain": [
       "group    58\n",
       "dtype: int64"
      ]
     },
     "execution_count": 11,
     "metadata": {},
     "output_type": "execute_result"
    }
   ],
   "source": [
    "#проверка пользователей на принадлежность двум группам\n",
    "d_users = orders.groupby('visitor_id').agg({'group':'nunique'})\n",
    "d_users = d_users[d_users['group'] > 1]\n",
    "d_users.count()"
   ]
  },
  {
   "cell_type": "markdown",
   "metadata": {},
   "source": [
    "58 пользователей имеют принадлежность к группам A и B одновременно. Для изоляции групп и получении более достоверных результатов, этих пользователей необходимо удалить."
   ]
  },
  {
   "cell_type": "code",
   "execution_count": 12,
   "metadata": {},
   "outputs": [],
   "source": [
    "#удаление пользователей принадлежащих двум группам\n",
    "orders = orders.query('visitor_id not in @d_users.index')"
   ]
  },
  {
   "cell_type": "code",
   "execution_count": 13,
   "metadata": {},
   "outputs": [
    {
     "data": {
      "text/plain": [
       "group    0\n",
       "dtype: int64"
      ]
     },
     "execution_count": 13,
     "metadata": {},
     "output_type": "execute_result"
    }
   ],
   "source": [
    "#чек\n",
    "test = orders.groupby('visitor_id').agg({'group':'nunique'})\n",
    "test = test[test['group'] > 1]\n",
    "test.count()"
   ]
  },
  {
   "cell_type": "markdown",
   "metadata": {},
   "source": [
    "Группы пользователей частично изолированы, потому как нельзя удалить пользователей, принадлежащим обеим группам из таблицы visitors"
   ]
  },
  {
   "cell_type": "code",
   "execution_count": 14,
   "metadata": {},
   "outputs": [
    {
     "data": {
      "text/html": [
       "<div>\n",
       "<style scoped>\n",
       "    .dataframe tbody tr th:only-of-type {\n",
       "        vertical-align: middle;\n",
       "    }\n",
       "\n",
       "    .dataframe tbody tr th {\n",
       "        vertical-align: top;\n",
       "    }\n",
       "\n",
       "    .dataframe thead th {\n",
       "        text-align: right;\n",
       "    }\n",
       "</style>\n",
       "<table border=\"1\" class=\"dataframe\">\n",
       "  <thead>\n",
       "    <tr style=\"text-align: right;\">\n",
       "      <th></th>\n",
       "      <th>A</th>\n",
       "      <th>B</th>\n",
       "    </tr>\n",
       "  </thead>\n",
       "  <tbody>\n",
       "    <tr>\n",
       "      <th>visitors</th>\n",
       "      <td>18736</td>\n",
       "      <td>18916</td>\n",
       "    </tr>\n",
       "    <tr>\n",
       "      <th>orders</th>\n",
       "      <td>468</td>\n",
       "      <td>548</td>\n",
       "    </tr>\n",
       "  </tbody>\n",
       "</table>\n",
       "</div>"
      ],
      "text/plain": [
       "              A      B\n",
       "visitors  18736  18916\n",
       "orders      468    548"
      ]
     },
     "execution_count": 14,
     "metadata": {},
     "output_type": "execute_result"
    }
   ],
   "source": [
    "#количество посетителей и количество покупателей по группам\n",
    "temp2 = pd.DataFrame(\n",
    "    {'A': [visitors[visitors['group']=='A']['visitors'].sum(), orders[orders['group']=='A']['visitor_id'].count()],  \n",
    "     'B': [visitors[visitors['group']=='B']['visitors'].sum(), orders[orders['group']=='B']['visitor_id'].count()]}\n",
    ")\n",
    "temp2.index = ['visitors', 'orders']\n",
    "temp2"
   ]
  },
  {
   "cell_type": "markdown",
   "metadata": {},
   "source": [
    "Группы пользователей не равны."
   ]
  },
  {
   "cell_type": "markdown",
   "metadata": {},
   "source": [
    "### Построение графика кумулятивной выручки по группам"
   ]
  },
  {
   "cell_type": "code",
   "execution_count": 15,
   "metadata": {},
   "outputs": [
    {
     "data": {
      "text/html": [
       "<div>\n",
       "<style scoped>\n",
       "    .dataframe tbody tr th:only-of-type {\n",
       "        vertical-align: middle;\n",
       "    }\n",
       "\n",
       "    .dataframe tbody tr th {\n",
       "        vertical-align: top;\n",
       "    }\n",
       "\n",
       "    .dataframe thead th {\n",
       "        text-align: right;\n",
       "    }\n",
       "</style>\n",
       "<table border=\"1\" class=\"dataframe\">\n",
       "  <thead>\n",
       "    <tr style=\"text-align: right;\">\n",
       "      <th></th>\n",
       "      <th>transaction_id</th>\n",
       "      <th>visitor_id</th>\n",
       "      <th>date</th>\n",
       "      <th>revenue</th>\n",
       "      <th>group</th>\n",
       "    </tr>\n",
       "  </thead>\n",
       "  <tbody>\n",
       "    <tr>\n",
       "      <th>0</th>\n",
       "      <td>3667963787</td>\n",
       "      <td>3312258926</td>\n",
       "      <td>2019-08-15</td>\n",
       "      <td>1650</td>\n",
       "      <td>B</td>\n",
       "    </tr>\n",
       "  </tbody>\n",
       "</table>\n",
       "</div>"
      ],
      "text/plain": [
       "   transaction_id  visitor_id       date  revenue group\n",
       "0      3667963787  3312258926 2019-08-15     1650     B"
      ]
     },
     "execution_count": 15,
     "metadata": {},
     "output_type": "execute_result"
    }
   ],
   "source": [
    "orders.head(1)"
   ]
  },
  {
   "cell_type": "code",
   "execution_count": 16,
   "metadata": {},
   "outputs": [
    {
     "data": {
      "text/html": [
       "<div>\n",
       "<style scoped>\n",
       "    .dataframe tbody tr th:only-of-type {\n",
       "        vertical-align: middle;\n",
       "    }\n",
       "\n",
       "    .dataframe tbody tr th {\n",
       "        vertical-align: top;\n",
       "    }\n",
       "\n",
       "    .dataframe thead th {\n",
       "        text-align: right;\n",
       "    }\n",
       "</style>\n",
       "<table border=\"1\" class=\"dataframe\">\n",
       "  <thead>\n",
       "    <tr style=\"text-align: right;\">\n",
       "      <th></th>\n",
       "      <th></th>\n",
       "      <th>transaction_id</th>\n",
       "      <th>visitor_id</th>\n",
       "      <th>revenue</th>\n",
       "    </tr>\n",
       "    <tr>\n",
       "      <th>date</th>\n",
       "      <th>group</th>\n",
       "      <th></th>\n",
       "      <th></th>\n",
       "      <th></th>\n",
       "    </tr>\n",
       "  </thead>\n",
       "  <tbody>\n",
       "    <tr>\n",
       "      <th rowspan=\"2\" valign=\"top\">2019-08-01</th>\n",
       "      <th>A</th>\n",
       "      <td>23</td>\n",
       "      <td>19</td>\n",
       "      <td>142779</td>\n",
       "    </tr>\n",
       "    <tr>\n",
       "      <th>B</th>\n",
       "      <td>17</td>\n",
       "      <td>17</td>\n",
       "      <td>59758</td>\n",
       "    </tr>\n",
       "  </tbody>\n",
       "</table>\n",
       "</div>"
      ],
      "text/plain": [
       "                  transaction_id  visitor_id  revenue\n",
       "date       group                                     \n",
       "2019-08-01 A                  23          19   142779\n",
       "           B                  17          17    59758"
      ]
     },
     "execution_count": 16,
     "metadata": {},
     "output_type": "execute_result"
    }
   ],
   "source": [
    "#сгруппируем заказы\n",
    "orders_grooped = orders.groupby(['date', 'group']).agg({'transaction_id':'nunique', 'visitor_id':'nunique', 'revenue':'sum'})\n",
    "#чек\n",
    "orders_grooped.head(2)"
   ]
  },
  {
   "cell_type": "code",
   "execution_count": 17,
   "metadata": {},
   "outputs": [
    {
     "data": {
      "text/html": [
       "<div>\n",
       "<style scoped>\n",
       "    .dataframe tbody tr th:only-of-type {\n",
       "        vertical-align: middle;\n",
       "    }\n",
       "\n",
       "    .dataframe tbody tr th {\n",
       "        vertical-align: top;\n",
       "    }\n",
       "\n",
       "    .dataframe thead th {\n",
       "        text-align: right;\n",
       "    }\n",
       "</style>\n",
       "<table border=\"1\" class=\"dataframe\">\n",
       "  <thead>\n",
       "    <tr style=\"text-align: right;\">\n",
       "      <th></th>\n",
       "      <th>date</th>\n",
       "      <th>group</th>\n",
       "      <th>visitors</th>\n",
       "    </tr>\n",
       "  </thead>\n",
       "  <tbody>\n",
       "    <tr>\n",
       "      <th>0</th>\n",
       "      <td>2019-08-01</td>\n",
       "      <td>A</td>\n",
       "      <td>719</td>\n",
       "    </tr>\n",
       "  </tbody>\n",
       "</table>\n",
       "</div>"
      ],
      "text/plain": [
       "        date group  visitors\n",
       "0 2019-08-01     A       719"
      ]
     },
     "execution_count": 17,
     "metadata": {},
     "output_type": "execute_result"
    }
   ],
   "source": [
    "visitors.head(1)"
   ]
  },
  {
   "cell_type": "code",
   "execution_count": 18,
   "metadata": {},
   "outputs": [
    {
     "data": {
      "text/html": [
       "<div>\n",
       "<style scoped>\n",
       "    .dataframe tbody tr th:only-of-type {\n",
       "        vertical-align: middle;\n",
       "    }\n",
       "\n",
       "    .dataframe tbody tr th {\n",
       "        vertical-align: top;\n",
       "    }\n",
       "\n",
       "    .dataframe thead th {\n",
       "        text-align: right;\n",
       "    }\n",
       "</style>\n",
       "<table border=\"1\" class=\"dataframe\">\n",
       "  <thead>\n",
       "    <tr style=\"text-align: right;\">\n",
       "      <th></th>\n",
       "      <th></th>\n",
       "      <th>visitors</th>\n",
       "    </tr>\n",
       "    <tr>\n",
       "      <th>date</th>\n",
       "      <th>group</th>\n",
       "      <th></th>\n",
       "    </tr>\n",
       "  </thead>\n",
       "  <tbody>\n",
       "    <tr>\n",
       "      <th rowspan=\"2\" valign=\"top\">2019-08-01</th>\n",
       "      <th>A</th>\n",
       "      <td>719</td>\n",
       "    </tr>\n",
       "    <tr>\n",
       "      <th>B</th>\n",
       "      <td>713</td>\n",
       "    </tr>\n",
       "  </tbody>\n",
       "</table>\n",
       "</div>"
      ],
      "text/plain": [
       "                  visitors\n",
       "date       group          \n",
       "2019-08-01 A           719\n",
       "           B           713"
      ]
     },
     "execution_count": 18,
     "metadata": {},
     "output_type": "execute_result"
    }
   ],
   "source": [
    "#сгруппируем посетителей\n",
    "visitors_grooped = visitors.groupby(['date', 'group']).agg({'visitors':'sum'})\n",
    "#чек\n",
    "visitors_grooped.head(2)"
   ]
  },
  {
   "cell_type": "code",
   "execution_count": 19,
   "metadata": {},
   "outputs": [
    {
     "data": {
      "text/html": [
       "<div>\n",
       "<style scoped>\n",
       "    .dataframe tbody tr th:only-of-type {\n",
       "        vertical-align: middle;\n",
       "    }\n",
       "\n",
       "    .dataframe tbody tr th {\n",
       "        vertical-align: top;\n",
       "    }\n",
       "\n",
       "    .dataframe thead th {\n",
       "        text-align: right;\n",
       "    }\n",
       "</style>\n",
       "<table border=\"1\" class=\"dataframe\">\n",
       "  <thead>\n",
       "    <tr style=\"text-align: right;\">\n",
       "      <th></th>\n",
       "      <th></th>\n",
       "      <th>transaction_id</th>\n",
       "      <th>visitor_id</th>\n",
       "      <th>revenue</th>\n",
       "      <th>visitors</th>\n",
       "    </tr>\n",
       "    <tr>\n",
       "      <th>date</th>\n",
       "      <th>group</th>\n",
       "      <th></th>\n",
       "      <th></th>\n",
       "      <th></th>\n",
       "      <th></th>\n",
       "    </tr>\n",
       "  </thead>\n",
       "  <tbody>\n",
       "    <tr>\n",
       "      <th rowspan=\"2\" valign=\"top\">2019-08-01</th>\n",
       "      <th>A</th>\n",
       "      <td>23</td>\n",
       "      <td>19</td>\n",
       "      <td>142779</td>\n",
       "      <td>719</td>\n",
       "    </tr>\n",
       "    <tr>\n",
       "      <th>B</th>\n",
       "      <td>17</td>\n",
       "      <td>17</td>\n",
       "      <td>59758</td>\n",
       "      <td>713</td>\n",
       "    </tr>\n",
       "  </tbody>\n",
       "</table>\n",
       "</div>"
      ],
      "text/plain": [
       "                  transaction_id  visitor_id  revenue  visitors\n",
       "date       group                                               \n",
       "2019-08-01 A                  23          19   142779       719\n",
       "           B                  17          17    59758       713"
      ]
     },
     "execution_count": 19,
     "metadata": {},
     "output_type": "execute_result"
    }
   ],
   "source": [
    "#объединим таблицы\n",
    "data_grouped = orders_grooped.merge(visitors_grooped, left_index=True, right_index=True)\n",
    "#чек\n",
    "data_grouped.head(2)"
   ]
  },
  {
   "cell_type": "code",
   "execution_count": 20,
   "metadata": {},
   "outputs": [
    {
     "data": {
      "text/html": [
       "<div>\n",
       "<style scoped>\n",
       "    .dataframe tbody tr th:only-of-type {\n",
       "        vertical-align: middle;\n",
       "    }\n",
       "\n",
       "    .dataframe tbody tr th {\n",
       "        vertical-align: top;\n",
       "    }\n",
       "\n",
       "    .dataframe thead th {\n",
       "        text-align: right;\n",
       "    }\n",
       "</style>\n",
       "<table border=\"1\" class=\"dataframe\">\n",
       "  <thead>\n",
       "    <tr style=\"text-align: right;\">\n",
       "      <th></th>\n",
       "      <th>date</th>\n",
       "      <th>group</th>\n",
       "      <th>orders</th>\n",
       "      <th>buyers</th>\n",
       "      <th>revenue</th>\n",
       "      <th>visitors</th>\n",
       "    </tr>\n",
       "  </thead>\n",
       "  <tbody>\n",
       "    <tr>\n",
       "      <th>0</th>\n",
       "      <td>2019-08-01</td>\n",
       "      <td>A</td>\n",
       "      <td>23</td>\n",
       "      <td>19</td>\n",
       "      <td>142779</td>\n",
       "      <td>719</td>\n",
       "    </tr>\n",
       "    <tr>\n",
       "      <th>1</th>\n",
       "      <td>2019-08-01</td>\n",
       "      <td>B</td>\n",
       "      <td>17</td>\n",
       "      <td>17</td>\n",
       "      <td>59758</td>\n",
       "      <td>713</td>\n",
       "    </tr>\n",
       "    <tr>\n",
       "      <th>2</th>\n",
       "      <td>2019-08-02</td>\n",
       "      <td>A</td>\n",
       "      <td>42</td>\n",
       "      <td>37</td>\n",
       "      <td>234381</td>\n",
       "      <td>1338</td>\n",
       "    </tr>\n",
       "    <tr>\n",
       "      <th>3</th>\n",
       "      <td>2019-08-02</td>\n",
       "      <td>B</td>\n",
       "      <td>40</td>\n",
       "      <td>39</td>\n",
       "      <td>221801</td>\n",
       "      <td>1294</td>\n",
       "    </tr>\n",
       "    <tr>\n",
       "      <th>4</th>\n",
       "      <td>2019-08-03</td>\n",
       "      <td>A</td>\n",
       "      <td>66</td>\n",
       "      <td>61</td>\n",
       "      <td>346854</td>\n",
       "      <td>1845</td>\n",
       "    </tr>\n",
       "  </tbody>\n",
       "</table>\n",
       "</div>"
      ],
      "text/plain": [
       "        date group  orders  buyers  revenue  visitors\n",
       "0 2019-08-01     A      23      19   142779       719\n",
       "1 2019-08-01     B      17      17    59758       713\n",
       "2 2019-08-02     A      42      37   234381      1338\n",
       "3 2019-08-02     B      40      39   221801      1294\n",
       "4 2019-08-03     A      66      61   346854      1845"
      ]
     },
     "execution_count": 20,
     "metadata": {},
     "output_type": "execute_result"
    }
   ],
   "source": [
    "#расчет кумулятивных значений\n",
    "cumulative_data =(\n",
    "    data_grouped.groupby('group')[['transaction_id','visitor_id','revenue', 'visitors']]).cumsum().reset_index()\n",
    "#переименуем столбцы\n",
    "cumulative_data.columns = ['date', 'group', 'orders', 'buyers', 'revenue', 'visitors']\n",
    "#чек\n",
    "cumulative_data.head(5)"
   ]
  },
  {
   "cell_type": "code",
   "execution_count": 21,
   "metadata": {},
   "outputs": [
    {
     "data": {
      "text/html": [
       "<div>\n",
       "<style scoped>\n",
       "    .dataframe tbody tr th:only-of-type {\n",
       "        vertical-align: middle;\n",
       "    }\n",
       "\n",
       "    .dataframe tbody tr th {\n",
       "        vertical-align: top;\n",
       "    }\n",
       "\n",
       "    .dataframe thead th {\n",
       "        text-align: right;\n",
       "    }\n",
       "</style>\n",
       "<table border=\"1\" class=\"dataframe\">\n",
       "  <thead>\n",
       "    <tr style=\"text-align: right;\">\n",
       "      <th></th>\n",
       "      <th>index</th>\n",
       "      <th>date</th>\n",
       "      <th>group</th>\n",
       "      <th>orders</th>\n",
       "      <th>buyers</th>\n",
       "      <th>revenue</th>\n",
       "      <th>visitors</th>\n",
       "    </tr>\n",
       "  </thead>\n",
       "  <tbody>\n",
       "    <tr>\n",
       "      <th>0</th>\n",
       "      <td>0</td>\n",
       "      <td>2019-08-01</td>\n",
       "      <td>A</td>\n",
       "      <td>23</td>\n",
       "      <td>19</td>\n",
       "      <td>142779</td>\n",
       "      <td>719</td>\n",
       "    </tr>\n",
       "    <tr>\n",
       "      <th>1</th>\n",
       "      <td>2</td>\n",
       "      <td>2019-08-02</td>\n",
       "      <td>A</td>\n",
       "      <td>42</td>\n",
       "      <td>37</td>\n",
       "      <td>234381</td>\n",
       "      <td>1338</td>\n",
       "    </tr>\n",
       "    <tr>\n",
       "      <th>2</th>\n",
       "      <td>4</td>\n",
       "      <td>2019-08-03</td>\n",
       "      <td>A</td>\n",
       "      <td>66</td>\n",
       "      <td>61</td>\n",
       "      <td>346854</td>\n",
       "      <td>1845</td>\n",
       "    </tr>\n",
       "  </tbody>\n",
       "</table>\n",
       "</div>"
      ],
      "text/plain": [
       "   index       date group  orders  buyers  revenue  visitors\n",
       "0      0 2019-08-01     A      23      19   142779       719\n",
       "1      2 2019-08-02     A      42      37   234381      1338\n",
       "2      4 2019-08-03     A      66      61   346854      1845"
      ]
     },
     "execution_count": 21,
     "metadata": {},
     "output_type": "execute_result"
    }
   ],
   "source": [
    "#разделение по группам (A)\n",
    "cumulative_data_A = cumulative_data[cumulative_data['group'] == 'A'].reset_index()\n",
    "#чек\n",
    "cumulative_data_A.head(3)"
   ]
  },
  {
   "cell_type": "code",
   "execution_count": 22,
   "metadata": {},
   "outputs": [
    {
     "data": {
      "text/html": [
       "<div>\n",
       "<style scoped>\n",
       "    .dataframe tbody tr th:only-of-type {\n",
       "        vertical-align: middle;\n",
       "    }\n",
       "\n",
       "    .dataframe tbody tr th {\n",
       "        vertical-align: top;\n",
       "    }\n",
       "\n",
       "    .dataframe thead th {\n",
       "        text-align: right;\n",
       "    }\n",
       "</style>\n",
       "<table border=\"1\" class=\"dataframe\">\n",
       "  <thead>\n",
       "    <tr style=\"text-align: right;\">\n",
       "      <th></th>\n",
       "      <th>index</th>\n",
       "      <th>date</th>\n",
       "      <th>group</th>\n",
       "      <th>orders</th>\n",
       "      <th>buyers</th>\n",
       "      <th>revenue</th>\n",
       "      <th>visitors</th>\n",
       "    </tr>\n",
       "  </thead>\n",
       "  <tbody>\n",
       "    <tr>\n",
       "      <th>0</th>\n",
       "      <td>1</td>\n",
       "      <td>2019-08-01</td>\n",
       "      <td>B</td>\n",
       "      <td>17</td>\n",
       "      <td>17</td>\n",
       "      <td>59758</td>\n",
       "      <td>713</td>\n",
       "    </tr>\n",
       "    <tr>\n",
       "      <th>1</th>\n",
       "      <td>3</td>\n",
       "      <td>2019-08-02</td>\n",
       "      <td>B</td>\n",
       "      <td>40</td>\n",
       "      <td>39</td>\n",
       "      <td>221801</td>\n",
       "      <td>1294</td>\n",
       "    </tr>\n",
       "    <tr>\n",
       "      <th>2</th>\n",
       "      <td>5</td>\n",
       "      <td>2019-08-03</td>\n",
       "      <td>B</td>\n",
       "      <td>54</td>\n",
       "      <td>53</td>\n",
       "      <td>288850</td>\n",
       "      <td>1803</td>\n",
       "    </tr>\n",
       "  </tbody>\n",
       "</table>\n",
       "</div>"
      ],
      "text/plain": [
       "   index       date group  orders  buyers  revenue  visitors\n",
       "0      1 2019-08-01     B      17      17    59758       713\n",
       "1      3 2019-08-02     B      40      39   221801      1294\n",
       "2      5 2019-08-03     B      54      53   288850      1803"
      ]
     },
     "execution_count": 22,
     "metadata": {},
     "output_type": "execute_result"
    }
   ],
   "source": [
    "#разделение по группам (B)\n",
    "cumulative_data_B = cumulative_data[cumulative_data['group'] == 'B'].reset_index()\n",
    "#чек\n",
    "cumulative_data_B.head(3)"
   ]
  },
  {
   "cell_type": "code",
   "execution_count": 23,
   "metadata": {},
   "outputs": [
    {
     "data": {
      "image/png": "[encoded data removed]",
      "text/plain": [
       "<Figure size 1296x576 with 1 Axes>"
      ]
     },
     "metadata": {
      "needs_background": "light"
     },
     "output_type": "display_data"
    }
   ],
   "source": [
    "#задание размеров\n",
    "plt.figure(figsize=(18,8))\n",
    "#задание заголовка\n",
    "plt.title('График кумулятивной выручки по группам')\n",
    "# построение графика выручки группы А\n",
    "plt.plot(cumulative_data_A['date'], cumulative_data_A['revenue'], label='A')\n",
    "# построение графика выручки группы B\n",
    "plt.plot(cumulative_data_B['date'], cumulative_data_B['revenue'], label='B')\n",
    "#задание подписи\n",
    "plt.xlabel('Дата')\n",
    "plt.ylabel('Выручка')\n",
    "#сетка\n",
    "plt.grid(True)\n",
    "#легенда\n",
    "plt.legend()\n",
    "plt.show()"
   ]
  },
  {
   "cell_type": "markdown",
   "metadata": {},
   "source": [
    "####  Выводы"
   ]
  },
  {
   "cell_type": "markdown",
   "metadata": {},
   "source": [
    "В целом, группа В показывает лучшие показатели выручки, относительно группы А. \n",
    "\n",
    "Выручка группы А равномерно растет на протяжении всего теста. Выручка группы В показывает равномерный рост до момента 2019-08-18. В этой точке наблюдается большой скачок, что может быть вызвано рядом причин, такими как:\n",
    "\n",
    "- удачно запущенной промо-акцией, что в свою очередь привело к увеличению числа заказов;\n",
    "- увеличению 'среднего чека';\n",
    "- аномальными заказами.\n",
    "\n",
    "После скачка графика, в группе В наблюдается стабильный рост показателя. "
   ]
  },
  {
   "cell_type": "markdown",
   "metadata": {},
   "source": [
    "### Построение графика кумулятивного среднего чека по группам"
   ]
  },
  {
   "cell_type": "code",
   "execution_count": 24,
   "metadata": {},
   "outputs": [
    {
     "data": {
      "image/png": "[encoded data removed]",
      "text/plain": [
       "<Figure size 1296x576 with 1 Axes>"
      ]
     },
     "metadata": {
      "needs_background": "light"
     },
     "output_type": "display_data"
    }
   ],
   "source": [
    "#задание размеров\n",
    "plt.figure(figsize=(18,8))\n",
    "#задание заголовка\n",
    "plt.title('График кумулятивного среднего чека по группам')\n",
    "# построение графика выручки группы А\n",
    "plt.plot(cumulative_data_A['date'], cumulative_data_A['revenue'] / cumulative_data_A['buyers'], label='A')\n",
    "# построение графика выручки группы B\n",
    "plt.plot(cumulative_data_B['date'], cumulative_data_B['revenue'] / cumulative_data_B['buyers'], label='B')\n",
    "#задание подписи\n",
    "plt.xlabel('Дата')\n",
    "plt.ylabel('Средняя стоимость заказа')\n",
    "#сетка\n",
    "plt.grid(True)\n",
    "#легенда\n",
    "plt.legend();"
   ]
  },
  {
   "cell_type": "markdown",
   "metadata": {},
   "source": [
    "#### Выводы"
   ]
  },
  {
   "cell_type": "markdown",
   "metadata": {},
   "source": [
    "До середины теста показатели кумулятивного среднего чека для обеих групп колебались. Однако, как и на графике кумулятивной выручки, наблюдается скачок группы B на моменте 2019-08-18, далее график демонстрирует снижение показателя. Учитывая, что вырос и средний чек и выручка, можно судить, что на резкий скачок повлиял один или несколько аномально высоких заказа. "
   ]
  },
  {
   "cell_type": "markdown",
   "metadata": {},
   "source": [
    "### Построение графика относительного изменения кумулятивного среднего чека группы B к группе A"
   ]
  },
  {
   "cell_type": "code",
   "execution_count": 25,
   "metadata": {},
   "outputs": [
    {
     "data": {
      "image/png": "[encoded data removed]",
      "text/plain": [
       "<Figure size 1296x576 with 1 Axes>"
      ]
     },
     "metadata": {
      "needs_background": "light"
     },
     "output_type": "display_data"
    }
   ],
   "source": [
    "#задание размеров\n",
    "plt.figure(figsize=(18,8))\n",
    "#задание заголовка\n",
    "plt.title('График относительного изменения кумулятивного среднего чека группы В к группе А')\n",
    "# построение отношения средних чеков\n",
    "plt.plot(cumulative_data_A['date'], ((cumulative_data_B['revenue'] / cumulative_data_B['buyers']) / \\\n",
    "                                     (cumulative_data_A['revenue'] / cumulative_data_A['buyers'])-1))\n",
    "#задание подписи\n",
    "plt.xlabel('Дата')\n",
    "plt.ylabel('Изменение среднего чека')\n",
    "#сетка\n",
    "plt.grid(True)\n",
    "#добавление оси\n",
    "plt.axhline(y=0, color='black', linestyle='--');"
   ]
  },
  {
   "cell_type": "markdown",
   "metadata": {},
   "source": [
    "#### Выводы"
   ]
  },
  {
   "cell_type": "markdown",
   "metadata": {},
   "source": [
    "К середине теста, отношение среднего чека группы B к группе A, показывало отрицательную динамику. Далее график показал резкий скачок, очевидно из-за аномальных заказов, после чего наметилось снижение."
   ]
  },
  {
   "cell_type": "markdown",
   "metadata": {},
   "source": [
    "### Построение графика кумулятивного среднего количества заказов на посетителя по группам"
   ]
  },
  {
   "cell_type": "code",
   "execution_count": 26,
   "metadata": {},
   "outputs": [
    {
     "data": {
      "text/html": [
       "<div>\n",
       "<style scoped>\n",
       "    .dataframe tbody tr th:only-of-type {\n",
       "        vertical-align: middle;\n",
       "    }\n",
       "\n",
       "    .dataframe tbody tr th {\n",
       "        vertical-align: top;\n",
       "    }\n",
       "\n",
       "    .dataframe thead th {\n",
       "        text-align: right;\n",
       "    }\n",
       "</style>\n",
       "<table border=\"1\" class=\"dataframe\">\n",
       "  <thead>\n",
       "    <tr style=\"text-align: right;\">\n",
       "      <th></th>\n",
       "      <th>index</th>\n",
       "      <th>date</th>\n",
       "      <th>group</th>\n",
       "      <th>orders</th>\n",
       "      <th>buyers</th>\n",
       "      <th>revenue</th>\n",
       "      <th>visitors</th>\n",
       "    </tr>\n",
       "  </thead>\n",
       "  <tbody>\n",
       "    <tr>\n",
       "      <th>0</th>\n",
       "      <td>0</td>\n",
       "      <td>2019-08-01</td>\n",
       "      <td>A</td>\n",
       "      <td>23</td>\n",
       "      <td>19</td>\n",
       "      <td>142779</td>\n",
       "      <td>719</td>\n",
       "    </tr>\n",
       "  </tbody>\n",
       "</table>\n",
       "</div>"
      ],
      "text/plain": [
       "   index       date group  orders  buyers  revenue  visitors\n",
       "0      0 2019-08-01     A      23      19   142779       719"
      ]
     },
     "execution_count": 26,
     "metadata": {},
     "output_type": "execute_result"
    }
   ],
   "source": [
    "cumulative_data_A.head(1)"
   ]
  },
  {
   "cell_type": "code",
   "execution_count": 27,
   "metadata": {},
   "outputs": [
    {
     "data": {
      "text/html": [
       "<div>\n",
       "<style scoped>\n",
       "    .dataframe tbody tr th:only-of-type {\n",
       "        vertical-align: middle;\n",
       "    }\n",
       "\n",
       "    .dataframe tbody tr th {\n",
       "        vertical-align: top;\n",
       "    }\n",
       "\n",
       "    .dataframe thead th {\n",
       "        text-align: right;\n",
       "    }\n",
       "</style>\n",
       "<table border=\"1\" class=\"dataframe\">\n",
       "  <thead>\n",
       "    <tr style=\"text-align: right;\">\n",
       "      <th></th>\n",
       "      <th>index</th>\n",
       "      <th>date</th>\n",
       "      <th>group</th>\n",
       "      <th>orders</th>\n",
       "      <th>buyers</th>\n",
       "      <th>revenue</th>\n",
       "      <th>visitors</th>\n",
       "      <th>avg_ord</th>\n",
       "    </tr>\n",
       "  </thead>\n",
       "  <tbody>\n",
       "    <tr>\n",
       "      <th>0</th>\n",
       "      <td>0</td>\n",
       "      <td>2019-08-01</td>\n",
       "      <td>A</td>\n",
       "      <td>23</td>\n",
       "      <td>19</td>\n",
       "      <td>142779</td>\n",
       "      <td>719</td>\n",
       "      <td>3.198887</td>\n",
       "    </tr>\n",
       "    <tr>\n",
       "      <th>1</th>\n",
       "      <td>2</td>\n",
       "      <td>2019-08-02</td>\n",
       "      <td>A</td>\n",
       "      <td>42</td>\n",
       "      <td>37</td>\n",
       "      <td>234381</td>\n",
       "      <td>1338</td>\n",
       "      <td>3.139013</td>\n",
       "    </tr>\n",
       "    <tr>\n",
       "      <th>2</th>\n",
       "      <td>4</td>\n",
       "      <td>2019-08-03</td>\n",
       "      <td>A</td>\n",
       "      <td>66</td>\n",
       "      <td>61</td>\n",
       "      <td>346854</td>\n",
       "      <td>1845</td>\n",
       "      <td>3.577236</td>\n",
       "    </tr>\n",
       "    <tr>\n",
       "      <th>3</th>\n",
       "      <td>6</td>\n",
       "      <td>2019-08-04</td>\n",
       "      <td>A</td>\n",
       "      <td>77</td>\n",
       "      <td>72</td>\n",
       "      <td>388030</td>\n",
       "      <td>2562</td>\n",
       "      <td>3.005464</td>\n",
       "    </tr>\n",
       "    <tr>\n",
       "      <th>4</th>\n",
       "      <td>8</td>\n",
       "      <td>2019-08-05</td>\n",
       "      <td>A</td>\n",
       "      <td>99</td>\n",
       "      <td>94</td>\n",
       "      <td>474413</td>\n",
       "      <td>3318</td>\n",
       "      <td>2.983725</td>\n",
       "    </tr>\n",
       "  </tbody>\n",
       "</table>\n",
       "</div>"
      ],
      "text/plain": [
       "   index       date group  orders  buyers  revenue  visitors   avg_ord\n",
       "0      0 2019-08-01     A      23      19   142779       719  3.198887\n",
       "1      2 2019-08-02     A      42      37   234381      1338  3.139013\n",
       "2      4 2019-08-03     A      66      61   346854      1845  3.577236\n",
       "3      6 2019-08-04     A      77      72   388030      2562  3.005464\n",
       "4      8 2019-08-05     A      99      94   474413      3318  2.983725"
      ]
     },
     "execution_count": 27,
     "metadata": {},
     "output_type": "execute_result"
    }
   ],
   "source": [
    "#добавление слотбца отношения заказов к посетителям для группы А\n",
    "cumulative_data_A['avg_ord'] = (cumulative_data_A.orders / cumulative_data_A.visitors)*100\n",
    "#чек\n",
    "cumulative_data_A.head(5)"
   ]
  },
  {
   "cell_type": "code",
   "execution_count": 28,
   "metadata": {},
   "outputs": [
    {
     "data": {
      "text/html": [
       "<div>\n",
       "<style scoped>\n",
       "    .dataframe tbody tr th:only-of-type {\n",
       "        vertical-align: middle;\n",
       "    }\n",
       "\n",
       "    .dataframe tbody tr th {\n",
       "        vertical-align: top;\n",
       "    }\n",
       "\n",
       "    .dataframe thead th {\n",
       "        text-align: right;\n",
       "    }\n",
       "</style>\n",
       "<table border=\"1\" class=\"dataframe\">\n",
       "  <thead>\n",
       "    <tr style=\"text-align: right;\">\n",
       "      <th></th>\n",
       "      <th>index</th>\n",
       "      <th>date</th>\n",
       "      <th>group</th>\n",
       "      <th>orders</th>\n",
       "      <th>buyers</th>\n",
       "      <th>revenue</th>\n",
       "      <th>visitors</th>\n",
       "      <th>avg_ord</th>\n",
       "    </tr>\n",
       "  </thead>\n",
       "  <tbody>\n",
       "    <tr>\n",
       "      <th>0</th>\n",
       "      <td>1</td>\n",
       "      <td>2019-08-01</td>\n",
       "      <td>B</td>\n",
       "      <td>17</td>\n",
       "      <td>17</td>\n",
       "      <td>59758</td>\n",
       "      <td>713</td>\n",
       "      <td>2.384292</td>\n",
       "    </tr>\n",
       "    <tr>\n",
       "      <th>1</th>\n",
       "      <td>3</td>\n",
       "      <td>2019-08-02</td>\n",
       "      <td>B</td>\n",
       "      <td>40</td>\n",
       "      <td>39</td>\n",
       "      <td>221801</td>\n",
       "      <td>1294</td>\n",
       "      <td>3.091190</td>\n",
       "    </tr>\n",
       "    <tr>\n",
       "      <th>2</th>\n",
       "      <td>5</td>\n",
       "      <td>2019-08-03</td>\n",
       "      <td>B</td>\n",
       "      <td>54</td>\n",
       "      <td>53</td>\n",
       "      <td>288850</td>\n",
       "      <td>1803</td>\n",
       "      <td>2.995008</td>\n",
       "    </tr>\n",
       "    <tr>\n",
       "      <th>3</th>\n",
       "      <td>7</td>\n",
       "      <td>2019-08-04</td>\n",
       "      <td>B</td>\n",
       "      <td>68</td>\n",
       "      <td>66</td>\n",
       "      <td>385740</td>\n",
       "      <td>2573</td>\n",
       "      <td>2.642829</td>\n",
       "    </tr>\n",
       "    <tr>\n",
       "      <th>4</th>\n",
       "      <td>9</td>\n",
       "      <td>2019-08-05</td>\n",
       "      <td>B</td>\n",
       "      <td>89</td>\n",
       "      <td>87</td>\n",
       "      <td>475648</td>\n",
       "      <td>3280</td>\n",
       "      <td>2.713415</td>\n",
       "    </tr>\n",
       "  </tbody>\n",
       "</table>\n",
       "</div>"
      ],
      "text/plain": [
       "   index       date group  orders  buyers  revenue  visitors   avg_ord\n",
       "0      1 2019-08-01     B      17      17    59758       713  2.384292\n",
       "1      3 2019-08-02     B      40      39   221801      1294  3.091190\n",
       "2      5 2019-08-03     B      54      53   288850      1803  2.995008\n",
       "3      7 2019-08-04     B      68      66   385740      2573  2.642829\n",
       "4      9 2019-08-05     B      89      87   475648      3280  2.713415"
      ]
     },
     "execution_count": 28,
     "metadata": {},
     "output_type": "execute_result"
    }
   ],
   "source": [
    "#добавление слотбца отношения заказов к посетителям для группы B\n",
    "cumulative_data_B['avg_ord'] = (cumulative_data_B.orders / cumulative_data_B.visitors)*100\n",
    "#чек\n",
    "cumulative_data_B.head(5)"
   ]
  },
  {
   "cell_type": "code",
   "execution_count": 29,
   "metadata": {},
   "outputs": [
    {
     "data": {
      "image/png": "[encoded data removed]",
      "text/plain": [
       "<Figure size 1296x576 with 1 Axes>"
      ]
     },
     "metadata": {
      "needs_background": "light"
     },
     "output_type": "display_data"
    }
   ],
   "source": [
    "#построение графика\n",
    "#задание размеров\n",
    "plt.figure(figsize=(18,8))\n",
    "#задание заголовка\n",
    "plt.title('График кумулятивного среднего количества заказов на посетителя по группам')\n",
    "# построение графика выручки группы А\n",
    "plt.plot(cumulative_data_A['date'], cumulative_data_A['avg_ord'], label='A')\n",
    "# построение графика выручки группы B\n",
    "plt.plot(cumulative_data_B['date'], cumulative_data_B['avg_ord'], label='B')\n",
    "#задание подписи\n",
    "plt.xlabel('Дата')\n",
    "plt.ylabel('Заказы к посетителям, %')\n",
    "#сетка\n",
    "plt.grid(True)\n",
    "#легенда\n",
    "plt.legend();"
   ]
  },
  {
   "cell_type": "markdown",
   "metadata": {},
   "source": [
    "#### Выводы"
   ]
  },
  {
   "cell_type": "markdown",
   "metadata": {},
   "source": [
    "Практически на протяжении всего теста значения в группе B выше. Это может быть обусловлено увеличением числа заказов в группе B. Группа A, напротив, продемонстрировав скачок вначале теста, но уже после 3го дня, начала резкое снижение показателя. "
   ]
  },
  {
   "cell_type": "markdown",
   "metadata": {},
   "source": [
    "### Построение графика относительного изменения кумулятивного среднего количества заказов на посетителя группы B к группе A"
   ]
  },
  {
   "cell_type": "code",
   "execution_count": 30,
   "metadata": {},
   "outputs": [
    {
     "data": {
      "image/png": "[encoded data removed]",
      "text/plain": [
       "<Figure size 1296x576 with 1 Axes>"
      ]
     },
     "metadata": {
      "needs_background": "light"
     },
     "output_type": "display_data"
    }
   ],
   "source": [
    "#задание размеров\n",
    "plt.figure(figsize=(18,8))\n",
    "#задание заголовка\n",
    "plt.title('График относительного изменения кумулятивного среднего количества заказов на поситителя группы В к группе А')\n",
    "# построение отношения кумулятивного среднего количества заказов на посетителя группы B к группе A\n",
    "plt.plot(cumulative_data_A['date'], (cumulative_data_B['avg_ord'] / cumulative_data_A['avg_ord'] - 1))\n",
    "#задание подписи\n",
    "plt.xlabel('Дата')\n",
    "plt.ylabel('Изменение, %')\n",
    "#сетка\n",
    "plt.grid(True)\n",
    "#добавление оси\n",
    "plt.axhline(y=0, color='black', linestyle='--');"
   ]
  },
  {
   "cell_type": "markdown",
   "metadata": {},
   "source": [
    "#### Выводы"
   ]
  },
  {
   "cell_type": "markdown",
   "metadata": {},
   "source": [
    "Практически с самого начала, показатель группы B - заметно выше, порядка 15%. "
   ]
  },
  {
   "cell_type": "markdown",
   "metadata": {},
   "source": [
    "### Построение точечного графика количества заказов по пользователям"
   ]
  },
  {
   "cell_type": "code",
   "execution_count": 31,
   "metadata": {},
   "outputs": [
    {
     "data": {
      "text/html": [
       "<div>\n",
       "<style scoped>\n",
       "    .dataframe tbody tr th:only-of-type {\n",
       "        vertical-align: middle;\n",
       "    }\n",
       "\n",
       "    .dataframe tbody tr th {\n",
       "        vertical-align: top;\n",
       "    }\n",
       "\n",
       "    .dataframe thead th {\n",
       "        text-align: right;\n",
       "    }\n",
       "</style>\n",
       "<table border=\"1\" class=\"dataframe\">\n",
       "  <thead>\n",
       "    <tr style=\"text-align: right;\">\n",
       "      <th></th>\n",
       "      <th>transaction_id</th>\n",
       "      <th>visitor_id</th>\n",
       "      <th>date</th>\n",
       "      <th>revenue</th>\n",
       "      <th>group</th>\n",
       "    </tr>\n",
       "  </thead>\n",
       "  <tbody>\n",
       "    <tr>\n",
       "      <th>0</th>\n",
       "      <td>3667963787</td>\n",
       "      <td>3312258926</td>\n",
       "      <td>2019-08-15</td>\n",
       "      <td>1650</td>\n",
       "      <td>B</td>\n",
       "    </tr>\n",
       "  </tbody>\n",
       "</table>\n",
       "</div>"
      ],
      "text/plain": [
       "   transaction_id  visitor_id       date  revenue group\n",
       "0      3667963787  3312258926 2019-08-15     1650     B"
      ]
     },
     "execution_count": 31,
     "metadata": {},
     "output_type": "execute_result"
    }
   ],
   "source": [
    "orders.head(1)"
   ]
  },
  {
   "cell_type": "code",
   "execution_count": 32,
   "metadata": {},
   "outputs": [
    {
     "data": {
      "text/html": [
       "<div>\n",
       "<style scoped>\n",
       "    .dataframe tbody tr th:only-of-type {\n",
       "        vertical-align: middle;\n",
       "    }\n",
       "\n",
       "    .dataframe tbody tr th {\n",
       "        vertical-align: top;\n",
       "    }\n",
       "\n",
       "    .dataframe thead th {\n",
       "        text-align: right;\n",
       "    }\n",
       "</style>\n",
       "<table border=\"1\" class=\"dataframe\">\n",
       "  <thead>\n",
       "    <tr style=\"text-align: right;\">\n",
       "      <th></th>\n",
       "      <th>customer</th>\n",
       "      <th>orders</th>\n",
       "    </tr>\n",
       "  </thead>\n",
       "  <tbody>\n",
       "    <tr>\n",
       "      <th>908</th>\n",
       "      <td>3967698036</td>\n",
       "      <td>3</td>\n",
       "    </tr>\n",
       "    <tr>\n",
       "      <th>55</th>\n",
       "      <td>249864742</td>\n",
       "      <td>3</td>\n",
       "    </tr>\n",
       "    <tr>\n",
       "      <th>478</th>\n",
       "      <td>2108163459</td>\n",
       "      <td>3</td>\n",
       "    </tr>\n",
       "  </tbody>\n",
       "</table>\n",
       "</div>"
      ],
      "text/plain": [
       "       customer  orders\n",
       "908  3967698036       3\n",
       "55    249864742       3\n",
       "478  2108163459       3"
      ]
     },
     "execution_count": 32,
     "metadata": {},
     "output_type": "execute_result"
    }
   ],
   "source": [
    "#группировка количества заказов на пользователя\n",
    "customers_grouped = orders.groupby('visitor_id').agg({'transaction_id':'nunique'}).reset_index()\n",
    "#переименование столбцов\n",
    "customers_grouped.columns = ['customer', 'orders']\n",
    "#чек\n",
    "customers_grouped.sort_values(by='orders', ascending=False).head(3)"
   ]
  },
  {
   "cell_type": "code",
   "execution_count": 33,
   "metadata": {},
   "outputs": [
    {
     "data": {
      "image/png": "[encoded data removed]",
      "text/plain": [
       "<Figure size 1296x576 with 1 Axes>"
      ]
     },
     "metadata": {
      "needs_background": "light"
     },
     "output_type": "display_data"
    }
   ],
   "source": [
    "#задание размера\n",
    "plt.figure(figsize=(18,8))\n",
    "#задание заголовка\n",
    "plt.title('График количества заказов по пользователям')\n",
    "#пар-ры графика\n",
    "x_values = pd.Series(range(0, len(customers_grouped)))\n",
    "plt.scatter(x_values, customers_grouped['orders'])\n",
    "#задание подписи\n",
    "plt.ylabel('Количество заказов')\n",
    "plt.xlabel('Количество пользователей')\n",
    "#сетка\n",
    "plt.grid(True)"
   ]
  },
  {
   "cell_type": "markdown",
   "metadata": {},
   "source": [
    "#### Выводы"
   ]
  },
  {
   "cell_type": "markdown",
   "metadata": {},
   "source": [
    "Наибольшее число пользователей совершили 1 заказ. Возможно значение в 3 заказа - является аномальным."
   ]
  },
  {
   "cell_type": "markdown",
   "metadata": {},
   "source": [
    "### Расчет 95-й и 99-й перцентилей количества заказов на пользователя"
   ]
  },
  {
   "cell_type": "code",
   "execution_count": 34,
   "metadata": {},
   "outputs": [
    {
     "data": {
      "text/plain": [
       "array([1., 2.])"
      ]
     },
     "execution_count": 34,
     "metadata": {},
     "output_type": "execute_result"
    }
   ],
   "source": [
    "#расчет 95го и 99го перцентиля\n",
    "np.percentile(customers_grouped.orders, [95, 99])"
   ]
  },
  {
   "cell_type": "markdown",
   "metadata": {},
   "source": [
    "#### Выводы"
   ]
  },
  {
   "cell_type": "markdown",
   "metadata": {},
   "source": [
    "Расчет показывает, что среди покупателей 95% совершают 1 заказ, 99% - 2 заказа. Следовательно, 3 заказа можно считать аномальным."
   ]
  },
  {
   "cell_type": "markdown",
   "metadata": {},
   "source": [
    "### Построение точечного графика стоимостей заказов"
   ]
  },
  {
   "cell_type": "code",
   "execution_count": 35,
   "metadata": {},
   "outputs": [
    {
     "data": {
      "image/png": "[encoded data removed]",
      "text/plain": [
       "<Figure size 1296x576 with 1 Axes>"
      ]
     },
     "metadata": {
      "needs_background": "light"
     },
     "output_type": "display_data"
    }
   ],
   "source": [
    "#задание размера\n",
    "plt.figure(figsize=(18,8))\n",
    "#задание заголовка\n",
    "plt.title('График стоимости заказов')\n",
    "#пар-ры графика\n",
    "x_values = pd.Series(range(0,len(orders['revenue'])))\n",
    "plt.scatter(x_values, orders['revenue'], alpha=0.7)\n",
    "#задание подписей\n",
    "plt.xlabel('Кол-во пользователей')\n",
    "plt.ylabel('Стоимость заказов')\n",
    "#сетка\n",
    "plt.grid(True)\n",
    "#форматирование оси \"y\"\n",
    "plt.ticklabel_format(axis='y', style='plain');"
   ]
  },
  {
   "cell_type": "markdown",
   "metadata": {},
   "source": [
    "На графике явно видны 2 аномальных значения. Необходимо исключить эти значения для получения более однородной картины."
   ]
  },
  {
   "cell_type": "code",
   "execution_count": 36,
   "metadata": {},
   "outputs": [
    {
     "data": {
      "text/html": [
       "<div>\n",
       "<style scoped>\n",
       "    .dataframe tbody tr th:only-of-type {\n",
       "        vertical-align: middle;\n",
       "    }\n",
       "\n",
       "    .dataframe tbody tr th {\n",
       "        vertical-align: top;\n",
       "    }\n",
       "\n",
       "    .dataframe thead th {\n",
       "        text-align: right;\n",
       "    }\n",
       "</style>\n",
       "<table border=\"1\" class=\"dataframe\">\n",
       "  <thead>\n",
       "    <tr style=\"text-align: right;\">\n",
       "      <th></th>\n",
       "      <th>transaction_id</th>\n",
       "      <th>visitor_id</th>\n",
       "      <th>date</th>\n",
       "      <th>revenue</th>\n",
       "      <th>group</th>\n",
       "    </tr>\n",
       "  </thead>\n",
       "  <tbody>\n",
       "    <tr>\n",
       "      <th>425</th>\n",
       "      <td>590470918</td>\n",
       "      <td>1920142716</td>\n",
       "      <td>2019-08-19</td>\n",
       "      <td>1294500</td>\n",
       "      <td>B</td>\n",
       "    </tr>\n",
       "    <tr>\n",
       "      <th>1196</th>\n",
       "      <td>3936777065</td>\n",
       "      <td>2108080724</td>\n",
       "      <td>2019-08-15</td>\n",
       "      <td>202740</td>\n",
       "      <td>B</td>\n",
       "    </tr>\n",
       "  </tbody>\n",
       "</table>\n",
       "</div>"
      ],
      "text/plain": [
       "      transaction_id  visitor_id       date  revenue group\n",
       "425        590470918  1920142716 2019-08-19  1294500     B\n",
       "1196      3936777065  2108080724 2019-08-15   202740     B"
      ]
     },
     "execution_count": 36,
     "metadata": {},
     "output_type": "execute_result"
    }
   ],
   "source": [
    "#чек\n",
    "orders[orders['revenue']> 200000]"
   ]
  },
  {
   "cell_type": "code",
   "execution_count": 37,
   "metadata": {},
   "outputs": [],
   "source": [
    "#исключение аномальных значений\n",
    "re_orders = orders[orders['revenue'] < 200000]"
   ]
  },
  {
   "cell_type": "code",
   "execution_count": 38,
   "metadata": {},
   "outputs": [
    {
     "data": {
      "image/png": "[encoded data removed]",
      "text/plain": [
       "<Figure size 1296x576 with 1 Axes>"
      ]
     },
     "metadata": {
      "needs_background": "light"
     },
     "output_type": "display_data"
    }
   ],
   "source": [
    "#задание размера\n",
    "plt.figure(figsize=(18,8))\n",
    "#задание заголовка\n",
    "plt.title('График стоимости заказов')\n",
    "#пар-ры графика\n",
    "x_values = pd.Series(range(0,len(re_orders['revenue'])))\n",
    "plt.scatter(x_values, re_orders['revenue'], alpha=0.7)\n",
    "#задание подписей\n",
    "plt.xlabel('Кол-во пользователей')\n",
    "plt.ylabel('Стоимость заказов')\n",
    "#сетка\n",
    "plt.grid(True)\n",
    "#форматирование оси \"y\"\n",
    "plt.ticklabel_format(axis='y', style='plain');"
   ]
  },
  {
   "cell_type": "markdown",
   "metadata": {},
   "source": [
    "### Расчет 95-й и 99-й перцентилей стоимости заказов"
   ]
  },
  {
   "cell_type": "code",
   "execution_count": 39,
   "metadata": {},
   "outputs": [
    {
     "data": {
      "text/plain": [
       "array([26785., 53904.])"
      ]
     },
     "execution_count": 39,
     "metadata": {},
     "output_type": "execute_result"
    }
   ],
   "source": [
    "#расчет 95го и 99го перцентиля\n",
    "np.percentile(orders.revenue, [95, 99])"
   ]
  },
  {
   "cell_type": "markdown",
   "metadata": {},
   "source": [
    "#### Выводы"
   ]
  },
  {
   "cell_type": "markdown",
   "metadata": {},
   "source": [
    "Расчёт перцентелей говорит, что выбросами можно считать заказы, превышающие стоимость в 53904."
   ]
  },
  {
   "cell_type": "markdown",
   "metadata": {},
   "source": [
    "### Расчёт статистической значимости различий в среднем количестве заказов на посетителя между группами по «сырым» данным"
   ]
  },
  {
   "cell_type": "markdown",
   "metadata": {},
   "source": [
    "Для расчета статистической значимости будет использован непараметрический тест Уилкоксона-Манна-Уитни."
   ]
  },
  {
   "cell_type": "code",
   "execution_count": 40,
   "metadata": {
    "scrolled": true
   },
   "outputs": [
    {
     "data": {
      "text/html": [
       "<div>\n",
       "<style scoped>\n",
       "    .dataframe tbody tr th:only-of-type {\n",
       "        vertical-align: middle;\n",
       "    }\n",
       "\n",
       "    .dataframe tbody tr th {\n",
       "        vertical-align: top;\n",
       "    }\n",
       "\n",
       "    .dataframe thead th {\n",
       "        text-align: right;\n",
       "    }\n",
       "</style>\n",
       "<table border=\"1\" class=\"dataframe\">\n",
       "  <thead>\n",
       "    <tr style=\"text-align: right;\">\n",
       "      <th></th>\n",
       "      <th>customer</th>\n",
       "      <th>order</th>\n",
       "    </tr>\n",
       "  </thead>\n",
       "  <tbody>\n",
       "    <tr>\n",
       "      <th>0</th>\n",
       "      <td>11685486</td>\n",
       "      <td>1</td>\n",
       "    </tr>\n",
       "    <tr>\n",
       "      <th>1</th>\n",
       "      <td>54447517</td>\n",
       "      <td>1</td>\n",
       "    </tr>\n",
       "    <tr>\n",
       "      <th>2</th>\n",
       "      <td>66685450</td>\n",
       "      <td>1</td>\n",
       "    </tr>\n",
       "  </tbody>\n",
       "</table>\n",
       "</div>"
      ],
      "text/plain": [
       "   customer  order\n",
       "0  11685486      1\n",
       "1  54447517      1\n",
       "2  66685450      1"
      ]
     },
     "execution_count": 40,
     "metadata": {},
     "output_type": "execute_result"
    }
   ],
   "source": [
    "#разделение клиентов по группам \n",
    "#группа A\n",
    "orders_visitor_a = orders.query('group == \"A\"').groupby('visitor_id').agg({'transaction_id':'nunique'}).reset_index()\n",
    "orders_visitor_a.columns = ['customer','order']\n",
    "orders_visitor_a.head(3)"
   ]
  },
  {
   "cell_type": "code",
   "execution_count": 41,
   "metadata": {},
   "outputs": [
    {
     "data": {
      "text/html": [
       "<div>\n",
       "<style scoped>\n",
       "    .dataframe tbody tr th:only-of-type {\n",
       "        vertical-align: middle;\n",
       "    }\n",
       "\n",
       "    .dataframe tbody tr th {\n",
       "        vertical-align: top;\n",
       "    }\n",
       "\n",
       "    .dataframe thead th {\n",
       "        text-align: right;\n",
       "    }\n",
       "</style>\n",
       "<table border=\"1\" class=\"dataframe\">\n",
       "  <thead>\n",
       "    <tr style=\"text-align: right;\">\n",
       "      <th></th>\n",
       "      <th>customer</th>\n",
       "      <th>order</th>\n",
       "    </tr>\n",
       "  </thead>\n",
       "  <tbody>\n",
       "    <tr>\n",
       "      <th>0</th>\n",
       "      <td>5114589</td>\n",
       "      <td>1</td>\n",
       "    </tr>\n",
       "    <tr>\n",
       "      <th>1</th>\n",
       "      <td>6958315</td>\n",
       "      <td>1</td>\n",
       "    </tr>\n",
       "    <tr>\n",
       "      <th>2</th>\n",
       "      <td>39475350</td>\n",
       "      <td>1</td>\n",
       "    </tr>\n",
       "  </tbody>\n",
       "</table>\n",
       "</div>"
      ],
      "text/plain": [
       "   customer  order\n",
       "0   5114589      1\n",
       "1   6958315      1\n",
       "2  39475350      1"
      ]
     },
     "execution_count": 41,
     "metadata": {},
     "output_type": "execute_result"
    }
   ],
   "source": [
    "#группа B\n",
    "orders_visitor_b = orders.query('group == \"B\"').groupby('visitor_id').agg({'transaction_id':'nunique'}).reset_index()\n",
    "orders_visitor_b.columns = ['customer','order']\n",
    "orders_visitor_b.head(3)"
   ]
  },
  {
   "cell_type": "code",
   "execution_count": 42,
   "metadata": {},
   "outputs": [
    {
     "data": {
      "text/html": [
       "<div>\n",
       "<style scoped>\n",
       "    .dataframe tbody tr th:only-of-type {\n",
       "        vertical-align: middle;\n",
       "    }\n",
       "\n",
       "    .dataframe tbody tr th {\n",
       "        vertical-align: top;\n",
       "    }\n",
       "\n",
       "    .dataframe thead th {\n",
       "        text-align: right;\n",
       "    }\n",
       "</style>\n",
       "<table border=\"1\" class=\"dataframe\">\n",
       "  <thead>\n",
       "    <tr style=\"text-align: right;\">\n",
       "      <th></th>\n",
       "      <th>0</th>\n",
       "    </tr>\n",
       "  </thead>\n",
       "  <tbody>\n",
       "    <tr>\n",
       "      <th>0</th>\n",
       "      <td>1.0</td>\n",
       "    </tr>\n",
       "    <tr>\n",
       "      <th>1</th>\n",
       "      <td>1.0</td>\n",
       "    </tr>\n",
       "    <tr>\n",
       "      <th>2</th>\n",
       "      <td>1.0</td>\n",
       "    </tr>\n",
       "  </tbody>\n",
       "</table>\n",
       "</div>"
      ],
      "text/plain": [
       "     0\n",
       "0  1.0\n",
       "1  1.0\n",
       "2  1.0"
      ]
     },
     "execution_count": 42,
     "metadata": {},
     "output_type": "execute_result"
    }
   ],
   "source": [
    "#добавление к числу заказов для группы A списка равной по длине числу послетителей, замена NaN на 0\n",
    "sample_raw_a = (\n",
    "    (orders_visitor_a['order'] + \n",
    "    pd.Series(0,range(visitors.query('group==\"A\"')['visitors'].sum()))).fillna(0))\n",
    "sample_raw_a.to_frame().head(3)"
   ]
  },
  {
   "cell_type": "code",
   "execution_count": 43,
   "metadata": {},
   "outputs": [
    {
     "data": {
      "text/html": [
       "<div>\n",
       "<style scoped>\n",
       "    .dataframe tbody tr th:only-of-type {\n",
       "        vertical-align: middle;\n",
       "    }\n",
       "\n",
       "    .dataframe tbody tr th {\n",
       "        vertical-align: top;\n",
       "    }\n",
       "\n",
       "    .dataframe thead th {\n",
       "        text-align: right;\n",
       "    }\n",
       "</style>\n",
       "<table border=\"1\" class=\"dataframe\">\n",
       "  <thead>\n",
       "    <tr style=\"text-align: right;\">\n",
       "      <th></th>\n",
       "      <th>0</th>\n",
       "    </tr>\n",
       "  </thead>\n",
       "  <tbody>\n",
       "    <tr>\n",
       "      <th>0</th>\n",
       "      <td>1.0</td>\n",
       "    </tr>\n",
       "    <tr>\n",
       "      <th>1</th>\n",
       "      <td>1.0</td>\n",
       "    </tr>\n",
       "    <tr>\n",
       "      <th>2</th>\n",
       "      <td>1.0</td>\n",
       "    </tr>\n",
       "  </tbody>\n",
       "</table>\n",
       "</div>"
      ],
      "text/plain": [
       "     0\n",
       "0  1.0\n",
       "1  1.0\n",
       "2  1.0"
      ]
     },
     "execution_count": 43,
     "metadata": {},
     "output_type": "execute_result"
    }
   ],
   "source": [
    "#добавление к числу заказов для группы B списка равной по длине числу послетителей, замена NaN на 0\n",
    "sample_raw_b = (\n",
    "    (orders_visitor_b['order'] + \n",
    "    pd.Series(0,range(visitors.query('group==\"B\"')['visitors'].sum()))).fillna(0))\n",
    "sample_raw_b.to_frame().head(3)"
   ]
  },
  {
   "cell_type": "markdown",
   "metadata": {},
   "source": [
    "Расчёт статистической значимости предполагает формулировку нулевой и альтернативной гипотез:\n",
    "\n",
    "H0 - Нет статистически значимых различий среднего количества заказов на пользователя между группами A и B.\n",
    "\n",
    "H1 -  Есть статистически значимые различия среднего количества заказов на пользователя между группами A и B.\n",
    "\n",
    "Уровень значимости - 5%."
   ]
  },
  {
   "cell_type": "code",
   "execution_count": 44,
   "metadata": {},
   "outputs": [
    {
     "name": "stdout",
     "output_type": "stream",
     "text": [
      "Минимальный уровень значимости по сырым данным: 0.006, нулевая гипотеза отвергнута\n",
      "Относительный прирост среднего количества заказов на пользователя группы B к группе A: 15.98%\n"
     ]
    }
   ],
   "source": [
    "#задание уровня значимости\n",
    "alpha=0.05\n",
    "\n",
    "#проведение теста\n",
    "p_value = st.mannwhitneyu(sample_raw_a, sample_raw_b)[1]\n",
    "\n",
    "#анализ результатов\n",
    "if p_value < alpha:\n",
    "    print(\n",
    "        'Минимальный уровень значимости по сырым данным: {:.3f}, нулевая гипотеза отвергнута'\n",
    "        .format(p_value)\n",
    "    )\n",
    "    print(\n",
    "        'Относительный прирост среднего количества заказов на пользователя группы B к группе A: {:.2%}'\n",
    "        .format(sample_raw_b.mean() / sample_raw_a.mean() - 1)\n",
    "    )\n",
    "else:\n",
    "    print(\n",
    "        'Минимальный уровень значимости по сырым данным:: {:.3f}, нулевая гипотеза не может быть отвергнута'\n",
    "        .format(p_value)\n",
    "    )\n",
    "    print(\n",
    "        'Относительный прирост среднего количества заказов на пользователя группы B к группе A: {:.2%}'\n",
    "        .format(sample_raw_b.mean() / sample_raw_a.mean() - 1)\n",
    "    )"
   ]
  },
  {
   "cell_type": "markdown",
   "metadata": {},
   "source": [
    "#### Выводы"
   ]
  },
  {
   "cell_type": "markdown",
   "metadata": {},
   "source": [
    "Количество заказов распределено в группах неравномерно. Прирост группы B к группе A составил 15.98%."
   ]
  },
  {
   "cell_type": "markdown",
   "metadata": {},
   "source": [
    "### Расчет статистической значимости различий в среднем чеке заказа между группами по «сырым» данным"
   ]
  },
  {
   "cell_type": "markdown",
   "metadata": {},
   "source": [
    "Формулировка гипотез:\n",
    "\n",
    "H0 - Нет статистически значимых различий в среднем чеке между группами.\n",
    "\n",
    "H1 - Есть статистически значимые различия в среднем чеке между группами."
   ]
  },
  {
   "cell_type": "code",
   "execution_count": 45,
   "metadata": {},
   "outputs": [
    {
     "name": "stdout",
     "output_type": "stream",
     "text": [
      "Минимальный уровень значимости при оценке отфильтрованных данных: 0.415, нулевая гипотеза не может быть отвергнута\n",
      "Относительный прирост среднего чека заказа группы B к группе A: 28.66%\n"
     ]
    }
   ],
   "source": [
    "#проведение теста\n",
    "p_value = st.mannwhitneyu(orders[orders['group'] =='A']['revenue'], orders[orders['group'] =='B']['revenue'])[1]\n",
    "\n",
    "#анализ результатов\n",
    "if p_value < alpha:\n",
    "    print(\n",
    "        'Минимальный уровень значимости при оценке отфильтрованных данных: {:.3f}, нулевая гипотеза отвергнута'\n",
    "        .format(p_value)\n",
    "    )\n",
    "    print(\n",
    "        'Относительный прирост среднего чека заказа группы B к группе A: {:.2%}'\n",
    "        .format(orders[orders['group'] =='B']['revenue'].mean() / orders[orders['group'] =='A']['revenue'].mean() - 1)\n",
    "    )\n",
    "else:\n",
    "    print(\n",
    "        'Минимальный уровень значимости при оценке отфильтрованных данных: {:.3f}, нулевая гипотеза не может быть отвергнута'\n",
    "        .format(p_value)\n",
    "    )\n",
    "    print(\n",
    "        'Относительный прирост среднего чека заказа группы B к группе A: {:.2%}'\n",
    "        .format(orders[orders['group'] =='B']['revenue'].mean() / orders[orders['group'] =='A']['revenue'].mean() - 1)\n",
    "    )"
   ]
  },
  {
   "cell_type": "markdown",
   "metadata": {},
   "source": [
    "#### Выводы"
   ]
  },
  {
   "cell_type": "markdown",
   "metadata": {},
   "source": [
    "Статистически значимые различия в свреднем чеке между группами отсутствуют."
   ]
  },
  {
   "cell_type": "markdown",
   "metadata": {},
   "source": [
    "### Расчёт статистической значимости различий в среднем количестве заказов на посетителя между группами по очищенным данным"
   ]
  },
  {
   "cell_type": "markdown",
   "metadata": {},
   "source": [
    "В пункте 2.9.1 было определено количество заказов - 3 - как аномальное. "
   ]
  },
  {
   "cell_type": "code",
   "execution_count": 46,
   "metadata": {},
   "outputs": [
    {
     "data": {
      "text/html": [
       "<div>\n",
       "<style scoped>\n",
       "    .dataframe tbody tr th:only-of-type {\n",
       "        vertical-align: middle;\n",
       "    }\n",
       "\n",
       "    .dataframe tbody tr th {\n",
       "        vertical-align: top;\n",
       "    }\n",
       "\n",
       "    .dataframe thead th {\n",
       "        text-align: right;\n",
       "    }\n",
       "</style>\n",
       "<table border=\"1\" class=\"dataframe\">\n",
       "  <thead>\n",
       "    <tr style=\"text-align: right;\">\n",
       "      <th></th>\n",
       "      <th>0</th>\n",
       "    </tr>\n",
       "  </thead>\n",
       "  <tbody>\n",
       "    <tr>\n",
       "      <th>0</th>\n",
       "      <td>1.0</td>\n",
       "    </tr>\n",
       "    <tr>\n",
       "      <th>1</th>\n",
       "      <td>1.0</td>\n",
       "    </tr>\n",
       "    <tr>\n",
       "      <th>2</th>\n",
       "      <td>1.0</td>\n",
       "    </tr>\n",
       "  </tbody>\n",
       "</table>\n",
       "</div>"
      ],
      "text/plain": [
       "     0\n",
       "0  1.0\n",
       "1  1.0\n",
       "2  1.0"
      ]
     },
     "execution_count": 46,
     "metadata": {},
     "output_type": "execute_result"
    }
   ],
   "source": [
    "#выборка с заказами меньше 3 для группы А\n",
    "sample_filtered_a = (\n",
    "    (orders_visitor_a.query('order < 3')['order'] + \n",
    "    pd.Series(0,range(visitors.query('group==\"A\"')['visitors'].sum()))).fillna(0))\n",
    "sample_filtered_a.to_frame().head(3)"
   ]
  },
  {
   "cell_type": "code",
   "execution_count": 47,
   "metadata": {},
   "outputs": [
    {
     "data": {
      "text/plain": [
       "array([1., 2., 0.])"
      ]
     },
     "execution_count": 47,
     "metadata": {},
     "output_type": "execute_result"
    }
   ],
   "source": [
    "#чек\n",
    "sample_filtered_a.unique()"
   ]
  },
  {
   "cell_type": "code",
   "execution_count": 48,
   "metadata": {},
   "outputs": [
    {
     "data": {
      "text/html": [
       "<div>\n",
       "<style scoped>\n",
       "    .dataframe tbody tr th:only-of-type {\n",
       "        vertical-align: middle;\n",
       "    }\n",
       "\n",
       "    .dataframe tbody tr th {\n",
       "        vertical-align: top;\n",
       "    }\n",
       "\n",
       "    .dataframe thead th {\n",
       "        text-align: right;\n",
       "    }\n",
       "</style>\n",
       "<table border=\"1\" class=\"dataframe\">\n",
       "  <thead>\n",
       "    <tr style=\"text-align: right;\">\n",
       "      <th></th>\n",
       "      <th>0</th>\n",
       "    </tr>\n",
       "  </thead>\n",
       "  <tbody>\n",
       "    <tr>\n",
       "      <th>0</th>\n",
       "      <td>1.0</td>\n",
       "    </tr>\n",
       "    <tr>\n",
       "      <th>1</th>\n",
       "      <td>1.0</td>\n",
       "    </tr>\n",
       "    <tr>\n",
       "      <th>2</th>\n",
       "      <td>1.0</td>\n",
       "    </tr>\n",
       "  </tbody>\n",
       "</table>\n",
       "</div>"
      ],
      "text/plain": [
       "     0\n",
       "0  1.0\n",
       "1  1.0\n",
       "2  1.0"
      ]
     },
     "execution_count": 48,
     "metadata": {},
     "output_type": "execute_result"
    }
   ],
   "source": [
    "#выборка с заказами меньше 3 для группы B\n",
    "sample_filtered_b = (\n",
    "    (orders_visitor_b.query('order < 3')['order'] + \n",
    "    pd.Series(0,range(visitors.query('group==\"B\"')['visitors'].sum()))).fillna(0))\n",
    "sample_filtered_b.to_frame().head(3)"
   ]
  },
  {
   "cell_type": "code",
   "execution_count": 49,
   "metadata": {},
   "outputs": [
    {
     "data": {
      "text/plain": [
       "array([1., 0., 2.])"
      ]
     },
     "execution_count": 49,
     "metadata": {},
     "output_type": "execute_result"
    }
   ],
   "source": [
    "#чек\n",
    "sample_filtered_b.unique()"
   ]
  },
  {
   "cell_type": "markdown",
   "metadata": {},
   "source": [
    "Cформированные ранее гипотезы:\n",
    "\n",
    "H0 - Нет статистически значимых различий среднего количества заказов на пользователя между группами A и B.\n",
    "\n",
    "H1 - Есть статистически значимые различия среднего количества заказов на пользователя между группами A и B.\n",
    "\n",
    "Уровень значимости - 5%."
   ]
  },
  {
   "cell_type": "code",
   "execution_count": 50,
   "metadata": {},
   "outputs": [
    {
     "name": "stdout",
     "output_type": "stream",
     "text": [
      "Минимальный уровень значимости по сырым данным: 0.004, нулевая гипотеза отвергнута\n",
      "Относительный прирост среднего количества заказов на пользователя группы B к группе A: 18.51%\n"
     ]
    }
   ],
   "source": [
    "#задание уровня значимости\n",
    "alpha=0.05\n",
    "\n",
    "#проведение теста\n",
    "p_value = st.mannwhitneyu(sample_filtered_a, sample_filtered_b)[1]\n",
    "\n",
    "#анализ результатов\n",
    "if p_value < alpha:\n",
    "    print(\n",
    "        'Минимальный уровень значимости по сырым данным: {:.3f}, нулевая гипотеза отвергнута'\n",
    "        .format(p_value)\n",
    "    )\n",
    "    print(\n",
    "        'Относительный прирост среднего количества заказов на пользователя группы B к группе A: {:.2%}'\n",
    "        .format(sample_filtered_b.mean() / sample_filtered_a.mean() - 1)\n",
    "    )\n",
    "else:\n",
    "    print(\n",
    "        'Минимальный уровень значимости по сырым данным:: {:.3f}, нулевая гипотеза не может быть отвергнута'\n",
    "        .format(p_value)\n",
    "    )\n",
    "    print(\n",
    "        'Относительный прирост среднего количества заказов на пользователя группы B к группе A: {:.2%}'\n",
    "        .format(sample_filtered_b.mean() / sample_filtered_a.mean() - 1)\n",
    "    )"
   ]
  },
  {
   "cell_type": "markdown",
   "metadata": {},
   "source": [
    "#### Выводы"
   ]
  },
  {
   "cell_type": "markdown",
   "metadata": {},
   "source": [
    "После фильтрации данных, нулевая гипотеза также отвергнута, относительный прирост увеличился с 15.98% до 18.51%, т.е. группа B показала прирост среднего количества заказов на 18.51%."
   ]
  },
  {
   "cell_type": "markdown",
   "metadata": {},
   "source": [
    "### Расчет статистической значимости различий в среднем чеке заказа между группами по «очищенным» данным"
   ]
  },
  {
   "cell_type": "markdown",
   "metadata": {},
   "source": [
    "В п. 2.11.1 определено, что граница аномальных заказов составляет 53904.\n",
    "\n",
    "Формулировка гипотез:\n",
    "\n",
    "H0 - Нет статистически значимых различий в среднем чеке между группами.\n",
    "\n",
    "H1 - Есть статистически значимые различия в среднем чеке между группами."
   ]
  },
  {
   "cell_type": "code",
   "execution_count": 51,
   "metadata": {},
   "outputs": [
    {
     "name": "stdout",
     "output_type": "stream",
     "text": [
      "Минимальный уровень значимости при оценке отфильтрованных данных: 0.477, нулевая гипотеза не может быть отвергнута\n",
      "Относительный прирост среднего чека заказа группы B к группе A: -1.39%\n"
     ]
    }
   ],
   "source": [
    "#проведение теста\n",
    "p_value = st.mannwhitneyu(orders.query('group == \"A\" and revenue < 53904')['revenue'], orders.query('group == \"B\" and revenue < 53904')['revenue'])[1]\n",
    "\n",
    "#анализ результатов\n",
    "if p_value < alpha:\n",
    "    print(\n",
    "        'Минимальный уровень значимости при оценке отфильтрованных данных: {:.3f}, нулевая гипотеза отвергнута'\n",
    "        .format(p_value)\n",
    "    )\n",
    "    print(\n",
    "        'Относительный прирост среднего чека заказа группы B к группе A: {:.2%}'\n",
    "        .format(orders.query('group == \"B\" and revenue < 53904')['revenue'].mean() / orders.query('group == \"A\" and revenue < 53904')['revenue'].mean() - 1)\n",
    "    )\n",
    "else:\n",
    "    print(\n",
    "        'Минимальный уровень значимости при оценке отфильтрованных данных: {:.3f}, нулевая гипотеза не может быть отвергнута'\n",
    "        .format(p_value)\n",
    "    )\n",
    "    print(\n",
    "        'Относительный прирост среднего чека заказа группы B к группе A: {:.2%}'\n",
    "        .format(orders.query('group == \"B\" and revenue < 53904')['revenue'].mean() / orders.query('group == \"A\" and revenue < 53904')['revenue'].mean() - 1)\n",
    "    )"
   ]
  },
  {
   "cell_type": "markdown",
   "metadata": {},
   "source": [
    "#### Выводы"
   ]
  },
  {
   "cell_type": "markdown",
   "metadata": {},
   "source": [
    "Статистически значимые различия в свреднем чеке между группами отсутствуют. "
   ]
  },
  {
   "cell_type": "markdown",
   "metadata": {},
   "source": [
    "## Общий вывод"
   ]
  },
  {
   "cell_type": "markdown",
   "metadata": {},
   "source": [
    "По результатам исследования получены следующие данные:\n",
    "\n",
    "\n",
    "Число заказов по очищенным данным в группе B увеличилось относительно группы A на 18.51% при отсутствии ститистически значимой разницы в показателе среднего чека, следовательно можно сделать вывод, что группа B является победителем. \n",
    "\n",
    "Тест следует остановить.\n",
    "\n",
    "Вызывает вопросы наличие одних и тех же пользователей в двух группах. Следовательно, пользователи в группах не изолированы, что ставит под сомнение валидность результатов исследования. "
   ]
  }
 ],
 "metadata": {
  "ExecuteTimeLog": [
   {
    "duration": 1806,
    "start_time": "2023-01-29T18:17:41.604Z"
   },
   {
    "duration": 114,
    "start_time": "2023-01-29T18:19:02.346Z"
   },
   {
    "duration": 16,
    "start_time": "2023-01-29T18:19:09.956Z"
   },
   {
    "duration": 32,
    "start_time": "2023-01-29T18:19:19.874Z"
   },
   {
    "duration": 39,
    "start_time": "2023-01-29T18:19:34.899Z"
   },
   {
    "duration": 42,
    "start_time": "2023-01-29T18:19:49.400Z"
   },
   {
    "duration": 31,
    "start_time": "2023-01-29T18:20:36.559Z"
   },
   {
    "duration": 58,
    "start_time": "2023-01-29T18:21:10.891Z"
   },
   {
    "duration": 126,
    "start_time": "2023-01-29T18:21:56.494Z"
   },
   {
    "duration": 62,
    "start_time": "2023-01-29T18:22:19.820Z"
   },
   {
    "duration": 32,
    "start_time": "2023-01-29T18:22:43.157Z"
   },
   {
    "duration": 23,
    "start_time": "2023-01-29T18:22:54.498Z"
   },
   {
    "duration": 9,
    "start_time": "2023-01-29T18:55:49.705Z"
   },
   {
    "duration": 10,
    "start_time": "2023-01-29T18:56:04.341Z"
   },
   {
    "duration": 3,
    "start_time": "2023-01-29T18:56:57.457Z"
   },
   {
    "duration": 23,
    "start_time": "2023-01-29T18:56:58.590Z"
   },
   {
    "duration": 9,
    "start_time": "2023-01-29T18:57:00.102Z"
   },
   {
    "duration": 10,
    "start_time": "2023-01-29T18:58:40.427Z"
   },
   {
    "duration": 19,
    "start_time": "2023-01-29T18:59:29.287Z"
   },
   {
    "duration": 19,
    "start_time": "2023-01-29T18:59:42.484Z"
   },
   {
    "duration": 15,
    "start_time": "2023-01-29T18:59:58.265Z"
   },
   {
    "duration": 21,
    "start_time": "2023-01-29T19:00:02.371Z"
   },
   {
    "duration": 19,
    "start_time": "2023-01-29T19:00:32.433Z"
   },
   {
    "duration": 20,
    "start_time": "2023-01-29T19:03:12.839Z"
   },
   {
    "duration": 3,
    "start_time": "2023-01-29T19:51:26.000Z"
   },
   {
    "duration": 4,
    "start_time": "2023-01-29T19:51:36.113Z"
   },
   {
    "duration": 4,
    "start_time": "2023-01-29T19:52:14.396Z"
   },
   {
    "duration": 4,
    "start_time": "2023-01-29T19:52:57.696Z"
   },
   {
    "duration": 6,
    "start_time": "2023-01-29T20:00:55.474Z"
   },
   {
    "duration": 11,
    "start_time": "2023-01-29T20:01:00.795Z"
   },
   {
    "duration": 6,
    "start_time": "2023-01-29T20:02:10.315Z"
   },
   {
    "duration": 12,
    "start_time": "2023-01-29T20:02:55.970Z"
   },
   {
    "duration": 11,
    "start_time": "2023-01-29T20:04:22.716Z"
   },
   {
    "duration": 320,
    "start_time": "2023-01-29T20:10:17.605Z"
   },
   {
    "duration": 224,
    "start_time": "2023-01-29T20:10:56.640Z"
   },
   {
    "duration": 20,
    "start_time": "2023-01-29T20:11:22.856Z"
   },
   {
    "duration": 307,
    "start_time": "2023-01-29T20:11:32.212Z"
   },
   {
    "duration": 361,
    "start_time": "2023-01-29T20:11:51.089Z"
   },
   {
    "duration": 320,
    "start_time": "2023-01-29T20:11:56.565Z"
   },
   {
    "duration": 335,
    "start_time": "2023-01-29T20:12:05.096Z"
   },
   {
    "duration": 308,
    "start_time": "2023-01-29T20:12:13.286Z"
   },
   {
    "duration": 311,
    "start_time": "2023-01-29T20:13:17.632Z"
   },
   {
    "duration": 403,
    "start_time": "2023-01-29T20:13:25.728Z"
   },
   {
    "duration": 1294,
    "start_time": "2023-01-29T20:14:27.154Z"
   },
   {
    "duration": 12,
    "start_time": "2023-01-29T20:14:43.682Z"
   },
   {
    "duration": 7,
    "start_time": "2023-01-29T20:16:43.057Z"
   },
   {
    "duration": 6,
    "start_time": "2023-01-29T20:16:59.771Z"
   },
   {
    "duration": 5,
    "start_time": "2023-01-29T20:17:09.045Z"
   },
   {
    "duration": 13,
    "start_time": "2023-01-29T20:17:24.560Z"
   },
   {
    "duration": 6,
    "start_time": "2023-01-29T20:17:29.736Z"
   },
   {
    "duration": 5,
    "start_time": "2023-01-29T20:17:39.025Z"
   },
   {
    "duration": 4,
    "start_time": "2023-01-29T20:17:42.515Z"
   },
   {
    "duration": 4,
    "start_time": "2023-01-29T20:17:47.004Z"
   },
   {
    "duration": 18,
    "start_time": "2023-01-29T20:17:57.693Z"
   },
   {
    "duration": 313,
    "start_time": "2023-01-29T20:18:04.176Z"
   },
   {
    "duration": 17,
    "start_time": "2023-01-29T20:20:47.802Z"
   },
   {
    "duration": 18,
    "start_time": "2023-01-29T20:20:52.396Z"
   },
   {
    "duration": 302,
    "start_time": "2023-01-29T20:20:57.664Z"
   },
   {
    "duration": 10,
    "start_time": "2023-01-29T20:22:32.770Z"
   },
   {
    "duration": 6,
    "start_time": "2023-01-29T20:22:58.731Z"
   },
   {
    "duration": 9,
    "start_time": "2023-01-29T20:27:36.025Z"
   },
   {
    "duration": 4,
    "start_time": "2023-01-29T20:27:40.698Z"
   },
   {
    "duration": 9,
    "start_time": "2023-01-29T20:27:44.152Z"
   },
   {
    "duration": 4,
    "start_time": "2023-01-29T20:27:53.472Z"
   },
   {
    "duration": 17,
    "start_time": "2023-01-29T20:28:10.140Z"
   },
   {
    "duration": 16,
    "start_time": "2023-01-29T20:28:31.289Z"
   },
   {
    "duration": 312,
    "start_time": "2023-01-29T20:28:43.548Z"
   },
   {
    "duration": 4,
    "start_time": "2023-01-29T20:31:38.650Z"
   },
   {
    "duration": 11,
    "start_time": "2023-01-29T20:31:44.078Z"
   },
   {
    "duration": 211,
    "start_time": "2023-01-29T20:32:25.177Z"
   },
   {
    "duration": 9,
    "start_time": "2023-01-29T20:33:13.766Z"
   },
   {
    "duration": 219,
    "start_time": "2023-01-29T20:33:24.991Z"
   },
   {
    "duration": 307,
    "start_time": "2023-01-29T20:33:55.196Z"
   },
   {
    "duration": 309,
    "start_time": "2023-01-29T20:34:07.134Z"
   },
   {
    "duration": 383,
    "start_time": "2023-01-29T20:34:18.949Z"
   },
   {
    "duration": 7,
    "start_time": "2023-01-29T20:36:50.009Z"
   },
   {
    "duration": 16,
    "start_time": "2023-01-29T20:36:52.488Z"
   },
   {
    "duration": 211,
    "start_time": "2023-01-29T20:37:19.376Z"
   },
   {
    "duration": 210,
    "start_time": "2023-01-29T20:38:18.263Z"
   },
   {
    "duration": 233,
    "start_time": "2023-01-29T20:39:20.641Z"
   },
   {
    "duration": 220,
    "start_time": "2023-01-29T20:40:07.605Z"
   },
   {
    "duration": 12,
    "start_time": "2023-01-29T20:40:15.174Z"
   },
   {
    "duration": 5,
    "start_time": "2023-01-29T20:40:32.064Z"
   },
   {
    "duration": 18,
    "start_time": "2023-01-29T20:40:33.210Z"
   },
   {
    "duration": 212,
    "start_time": "2023-01-29T20:40:35.578Z"
   },
   {
    "duration": 246,
    "start_time": "2023-01-29T20:40:40.373Z"
   },
   {
    "duration": 246,
    "start_time": "2023-01-29T20:40:50.038Z"
   },
   {
    "duration": 5,
    "start_time": "2023-01-29T20:40:52.388Z"
   },
   {
    "duration": 13,
    "start_time": "2023-01-29T20:40:53.147Z"
   },
   {
    "duration": 5,
    "start_time": "2023-01-29T20:40:58.011Z"
   },
   {
    "duration": 11,
    "start_time": "2023-01-29T20:40:58.673Z"
   },
   {
    "duration": 3,
    "start_time": "2023-01-29T20:41:05.368Z"
   },
   {
    "duration": 24,
    "start_time": "2023-01-29T20:41:05.921Z"
   },
   {
    "duration": 28,
    "start_time": "2023-01-29T20:41:06.402Z"
   },
   {
    "duration": 6,
    "start_time": "2023-01-29T20:41:07.889Z"
   },
   {
    "duration": 11,
    "start_time": "2023-01-29T20:41:10.037Z"
   },
   {
    "duration": 15,
    "start_time": "2023-01-29T20:41:10.683Z"
   },
   {
    "duration": 226,
    "start_time": "2023-01-29T20:41:20.794Z"
   },
   {
    "duration": 16,
    "start_time": "2023-01-29T20:42:11.617Z"
   },
   {
    "duration": 3,
    "start_time": "2023-01-29T20:42:17.118Z"
   },
   {
    "duration": 23,
    "start_time": "2023-01-29T20:42:17.605Z"
   },
   {
    "duration": 21,
    "start_time": "2023-01-29T20:42:18.072Z"
   },
   {
    "duration": 5,
    "start_time": "2023-01-29T20:42:19.414Z"
   },
   {
    "duration": 5,
    "start_time": "2023-01-29T20:42:23.350Z"
   },
   {
    "duration": 10,
    "start_time": "2023-01-29T20:42:34.584Z"
   },
   {
    "duration": 218,
    "start_time": "2023-01-29T20:44:26.808Z"
   },
   {
    "duration": 15,
    "start_time": "2023-01-29T20:45:34.216Z"
   },
   {
    "duration": 10,
    "start_time": "2023-01-29T20:46:18.317Z"
   },
   {
    "duration": 18,
    "start_time": "2023-01-29T20:46:22.579Z"
   },
   {
    "duration": 10,
    "start_time": "2023-01-29T20:46:53.127Z"
   },
   {
    "duration": 297,
    "start_time": "2023-01-29T20:48:49.979Z"
   },
   {
    "duration": 185,
    "start_time": "2023-01-29T20:49:49.232Z"
   },
   {
    "duration": 3,
    "start_time": "2023-01-29T20:50:11.820Z"
   },
   {
    "duration": 24,
    "start_time": "2023-01-29T20:50:12.360Z"
   },
   {
    "duration": 21,
    "start_time": "2023-01-29T20:50:12.810Z"
   },
   {
    "duration": 6,
    "start_time": "2023-01-29T20:50:14.148Z"
   },
   {
    "duration": 8,
    "start_time": "2023-01-29T20:50:17.277Z"
   },
   {
    "duration": 18,
    "start_time": "2023-01-29T20:50:17.782Z"
   },
   {
    "duration": 179,
    "start_time": "2023-01-29T20:50:18.633Z"
   },
   {
    "duration": 12,
    "start_time": "2023-01-29T20:55:24.474Z"
   },
   {
    "duration": 4,
    "start_time": "2023-01-29T20:55:34.539Z"
   },
   {
    "duration": 18,
    "start_time": "2023-01-29T20:55:56.276Z"
   },
   {
    "duration": 230,
    "start_time": "2023-01-29T20:56:22.088Z"
   },
   {
    "duration": 1192,
    "start_time": "2023-01-29T20:56:48.122Z"
   },
   {
    "duration": 172,
    "start_time": "2023-01-29T20:56:54.951Z"
   },
   {
    "duration": 199,
    "start_time": "2023-01-29T20:59:25.658Z"
   },
   {
    "duration": 148,
    "start_time": "2023-01-29T21:08:10.064Z"
   },
   {
    "duration": 1366,
    "start_time": "2023-01-30T06:34:34.125Z"
   },
   {
    "duration": 72,
    "start_time": "2023-01-30T06:34:35.493Z"
   },
   {
    "duration": 23,
    "start_time": "2023-01-30T06:34:35.566Z"
   },
   {
    "duration": 4,
    "start_time": "2023-01-30T06:34:35.591Z"
   },
   {
    "duration": 11,
    "start_time": "2023-01-30T06:34:35.597Z"
   },
   {
    "duration": 13,
    "start_time": "2023-01-30T06:34:35.609Z"
   },
   {
    "duration": 216,
    "start_time": "2023-01-30T06:34:35.624Z"
   },
   {
    "duration": 5,
    "start_time": "2023-01-30T06:34:35.841Z"
   },
   {
    "duration": 21,
    "start_time": "2023-01-30T06:34:35.847Z"
   },
   {
    "duration": 174,
    "start_time": "2023-01-30T06:34:35.870Z"
   },
   {
    "duration": 131,
    "start_time": "2023-01-30T06:34:36.046Z"
   },
   {
    "duration": 54,
    "start_time": "2023-01-30T06:43:35.201Z"
   },
   {
    "duration": 1174,
    "start_time": "2023-01-30T06:51:14.437Z"
   },
   {
    "duration": 27,
    "start_time": "2023-01-30T06:51:15.614Z"
   },
   {
    "duration": 34,
    "start_time": "2023-01-30T06:51:15.643Z"
   },
   {
    "duration": 7,
    "start_time": "2023-01-30T06:51:15.679Z"
   },
   {
    "duration": 17,
    "start_time": "2023-01-30T06:51:15.688Z"
   },
   {
    "duration": 14,
    "start_time": "2023-01-30T06:51:15.707Z"
   },
   {
    "duration": 256,
    "start_time": "2023-01-30T06:51:15.723Z"
   },
   {
    "duration": 4,
    "start_time": "2023-01-30T06:51:15.984Z"
   },
   {
    "duration": 44,
    "start_time": "2023-01-30T06:51:15.990Z"
   },
   {
    "duration": 193,
    "start_time": "2023-01-30T06:51:16.035Z"
   },
   {
    "duration": 54,
    "start_time": "2023-01-30T06:51:16.230Z"
   },
   {
    "duration": 26,
    "start_time": "2023-01-30T07:02:59.570Z"
   },
   {
    "duration": 18,
    "start_time": "2023-01-30T07:03:37.466Z"
   },
   {
    "duration": 35,
    "start_time": "2023-01-30T07:03:54.888Z"
   },
   {
    "duration": 130,
    "start_time": "2023-01-30T07:04:26.322Z"
   },
   {
    "duration": 31,
    "start_time": "2023-01-30T07:04:42.808Z"
   },
   {
    "duration": 46,
    "start_time": "2023-01-30T07:04:59.823Z"
   },
   {
    "duration": 6,
    "start_time": "2023-01-30T07:12:29.853Z"
   },
   {
    "duration": 5,
    "start_time": "2023-01-30T07:13:46.115Z"
   },
   {
    "duration": 326,
    "start_time": "2023-01-30T07:20:20.223Z"
   },
   {
    "duration": 331,
    "start_time": "2023-01-30T07:21:00.695Z"
   },
   {
    "duration": 293,
    "start_time": "2023-01-30T07:22:34.612Z"
   },
   {
    "duration": 6,
    "start_time": "2023-01-30T07:24:27.240Z"
   },
   {
    "duration": 76,
    "start_time": "2023-01-30T07:24:33.878Z"
   },
   {
    "duration": 11,
    "start_time": "2023-01-30T07:25:09.728Z"
   },
   {
    "duration": 3,
    "start_time": "2023-01-30T07:27:17.665Z"
   },
   {
    "duration": 5,
    "start_time": "2023-01-30T07:27:24.072Z"
   },
   {
    "duration": 3,
    "start_time": "2023-01-30T07:27:28.802Z"
   },
   {
    "duration": 5,
    "start_time": "2023-01-30T07:27:29.376Z"
   },
   {
    "duration": 6,
    "start_time": "2023-01-30T07:29:15.766Z"
   },
   {
    "duration": 5,
    "start_time": "2023-01-30T07:29:31.197Z"
   },
   {
    "duration": 13,
    "start_time": "2023-01-30T07:29:35.421Z"
   },
   {
    "duration": 6,
    "start_time": "2023-01-30T07:29:41.928Z"
   },
   {
    "duration": 5,
    "start_time": "2023-01-30T07:29:46.898Z"
   },
   {
    "duration": 14,
    "start_time": "2023-01-30T07:30:43.995Z"
   },
   {
    "duration": 329,
    "start_time": "2023-01-30T07:31:12.082Z"
   },
   {
    "duration": 4,
    "start_time": "2023-01-30T08:22:59.785Z"
   },
   {
    "duration": 3,
    "start_time": "2023-01-30T08:23:08.651Z"
   },
   {
    "duration": 4,
    "start_time": "2023-01-30T08:23:32.930Z"
   },
   {
    "duration": 10,
    "start_time": "2023-01-30T08:25:53.096Z"
   },
   {
    "duration": 11,
    "start_time": "2023-01-30T08:26:13.278Z"
   },
   {
    "duration": 14,
    "start_time": "2023-01-30T08:26:29.221Z"
   },
   {
    "duration": 13,
    "start_time": "2023-01-30T08:28:30.703Z"
   },
   {
    "duration": 4,
    "start_time": "2023-01-30T08:29:54.179Z"
   },
   {
    "duration": 4,
    "start_time": "2023-01-30T08:30:06.224Z"
   },
   {
    "duration": 4,
    "start_time": "2023-01-30T08:30:50.920Z"
   },
   {
    "duration": 382,
    "start_time": "2023-01-30T08:39:51.939Z"
   },
   {
    "duration": 3,
    "start_time": "2023-01-30T08:42:33.530Z"
   },
   {
    "duration": 323,
    "start_time": "2023-01-30T08:42:40.467Z"
   },
   {
    "duration": 13,
    "start_time": "2023-01-30T08:43:16.128Z"
   },
   {
    "duration": 5,
    "start_time": "2023-01-30T08:43:21.288Z"
   },
   {
    "duration": 21,
    "start_time": "2023-01-30T08:43:35.005Z"
   },
   {
    "duration": 3,
    "start_time": "2023-01-30T12:10:26.340Z"
   },
   {
    "duration": 4,
    "start_time": "2023-01-30T12:10:27.542Z"
   },
   {
    "duration": 13,
    "start_time": "2023-01-30T12:10:28.117Z"
   },
   {
    "duration": 5,
    "start_time": "2023-01-30T12:11:44.403Z"
   },
   {
    "duration": 14,
    "start_time": "2023-01-30T12:11:44.860Z"
   },
   {
    "duration": 4,
    "start_time": "2023-01-30T12:13:42.880Z"
   },
   {
    "duration": 13,
    "start_time": "2023-01-30T12:13:44.316Z"
   },
   {
    "duration": 6,
    "start_time": "2023-01-30T12:13:52.917Z"
   },
   {
    "duration": 13,
    "start_time": "2023-01-30T12:13:55.654Z"
   },
   {
    "duration": 5,
    "start_time": "2023-01-30T12:14:08.133Z"
   },
   {
    "duration": 13,
    "start_time": "2023-01-30T12:14:08.635Z"
   },
   {
    "duration": 4,
    "start_time": "2023-01-30T13:55:53.499Z"
   },
   {
    "duration": 6,
    "start_time": "2023-01-30T13:56:11.627Z"
   },
   {
    "duration": 6,
    "start_time": "2023-01-30T13:56:33.609Z"
   },
   {
    "duration": 91,
    "start_time": "2023-01-30T13:56:50.671Z"
   },
   {
    "duration": 7,
    "start_time": "2023-01-30T13:56:57.572Z"
   },
   {
    "duration": 16,
    "start_time": "2023-01-30T13:57:30.769Z"
   },
   {
    "duration": 9,
    "start_time": "2023-01-30T13:58:03.976Z"
   },
   {
    "duration": 10,
    "start_time": "2023-01-30T13:59:36.139Z"
   },
   {
    "duration": 15,
    "start_time": "2023-01-30T13:59:39.561Z"
   },
   {
    "duration": 11,
    "start_time": "2023-01-30T13:59:43.129Z"
   },
   {
    "duration": 13,
    "start_time": "2023-01-30T14:00:19.789Z"
   },
   {
    "duration": 11,
    "start_time": "2023-01-30T14:00:23.860Z"
   },
   {
    "duration": 7,
    "start_time": "2023-01-30T14:16:18.826Z"
   },
   {
    "duration": 8,
    "start_time": "2023-01-30T14:17:21.407Z"
   },
   {
    "duration": 10,
    "start_time": "2023-01-30T14:18:03.400Z"
   },
   {
    "duration": 59,
    "start_time": "2023-01-30T16:39:07.915Z"
   },
   {
    "duration": 1493,
    "start_time": "2023-01-30T16:39:21.197Z"
   },
   {
    "duration": 62,
    "start_time": "2023-01-30T16:39:22.692Z"
   },
   {
    "duration": 21,
    "start_time": "2023-01-30T16:39:22.756Z"
   },
   {
    "duration": 5,
    "start_time": "2023-01-30T16:39:22.778Z"
   },
   {
    "duration": 4,
    "start_time": "2023-01-30T16:39:22.786Z"
   },
   {
    "duration": 10,
    "start_time": "2023-01-30T16:39:22.792Z"
   },
   {
    "duration": 21,
    "start_time": "2023-01-30T16:39:22.804Z"
   },
   {
    "duration": 176,
    "start_time": "2023-01-30T16:39:22.827Z"
   },
   {
    "duration": 4,
    "start_time": "2023-01-30T16:39:23.005Z"
   },
   {
    "duration": 17,
    "start_time": "2023-01-30T16:39:23.010Z"
   },
   {
    "duration": 198,
    "start_time": "2023-01-30T16:39:23.029Z"
   },
   {
    "duration": 147,
    "start_time": "2023-01-30T16:39:23.228Z"
   },
   {
    "duration": 34,
    "start_time": "2023-01-30T16:39:23.377Z"
   },
   {
    "duration": 3,
    "start_time": "2023-01-30T16:39:23.413Z"
   },
   {
    "duration": 16,
    "start_time": "2023-01-30T16:39:23.418Z"
   },
   {
    "duration": 28,
    "start_time": "2023-01-30T16:39:23.436Z"
   },
   {
    "duration": 19,
    "start_time": "2023-01-30T16:39:23.466Z"
   },
   {
    "duration": 11,
    "start_time": "2023-01-30T16:39:23.487Z"
   },
   {
    "duration": 24,
    "start_time": "2023-01-30T16:39:23.499Z"
   },
   {
    "duration": 4,
    "start_time": "2023-01-30T16:39:23.525Z"
   },
   {
    "duration": 6,
    "start_time": "2023-01-30T16:39:33.328Z"
   },
   {
    "duration": 10,
    "start_time": "2023-01-30T16:39:42.123Z"
   },
   {
    "duration": 14,
    "start_time": "2023-01-30T16:40:05.117Z"
   },
   {
    "duration": 4,
    "start_time": "2023-01-30T16:46:08.706Z"
   },
   {
    "duration": 6,
    "start_time": "2023-01-30T16:46:32.515Z"
   },
   {
    "duration": 118,
    "start_time": "2023-01-30T16:48:29.315Z"
   },
   {
    "duration": 12,
    "start_time": "2023-01-30T16:48:47.146Z"
   },
   {
    "duration": 8,
    "start_time": "2023-01-30T16:49:33.401Z"
   },
   {
    "duration": 11,
    "start_time": "2023-01-30T16:49:57.857Z"
   },
   {
    "duration": 6,
    "start_time": "2023-01-30T16:52:04.670Z"
   },
   {
    "duration": 8,
    "start_time": "2023-01-30T16:52:10.975Z"
   },
   {
    "duration": 14,
    "start_time": "2023-01-30T16:54:18.871Z"
   },
   {
    "duration": 11,
    "start_time": "2023-01-30T16:54:37.726Z"
   },
   {
    "duration": 9,
    "start_time": "2023-01-30T16:54:46.943Z"
   },
   {
    "duration": 4,
    "start_time": "2023-01-30T16:55:08.269Z"
   },
   {
    "duration": 8,
    "start_time": "2023-01-30T16:55:13.815Z"
   },
   {
    "duration": 13,
    "start_time": "2023-01-30T16:55:24.543Z"
   },
   {
    "duration": 4,
    "start_time": "2023-01-30T16:55:32.561Z"
   },
   {
    "duration": 13,
    "start_time": "2023-01-30T16:56:40.461Z"
   },
   {
    "duration": 3,
    "start_time": "2023-01-30T16:56:53.312Z"
   },
   {
    "duration": 23,
    "start_time": "2023-01-30T16:56:53.767Z"
   },
   {
    "duration": 24,
    "start_time": "2023-01-30T16:56:54.229Z"
   },
   {
    "duration": 5,
    "start_time": "2023-01-30T16:56:55.206Z"
   },
   {
    "duration": 3,
    "start_time": "2023-01-30T16:56:56.458Z"
   },
   {
    "duration": 5,
    "start_time": "2023-01-30T16:56:56.840Z"
   },
   {
    "duration": 12,
    "start_time": "2023-01-30T16:56:57.174Z"
   },
   {
    "duration": 164,
    "start_time": "2023-01-30T16:56:57.555Z"
   },
   {
    "duration": 4,
    "start_time": "2023-01-30T16:56:58.712Z"
   },
   {
    "duration": 15,
    "start_time": "2023-01-30T16:56:59.071Z"
   },
   {
    "duration": 162,
    "start_time": "2023-01-30T16:56:59.486Z"
   },
   {
    "duration": 51,
    "start_time": "2023-01-30T16:57:03.236Z"
   },
   {
    "duration": 46,
    "start_time": "2023-01-30T16:57:04.096Z"
   },
   {
    "duration": 4,
    "start_time": "2023-01-30T16:57:04.586Z"
   },
   {
    "duration": 4,
    "start_time": "2023-01-30T16:57:05.148Z"
   },
   {
    "duration": 4,
    "start_time": "2023-01-30T16:57:05.789Z"
   },
   {
    "duration": 13,
    "start_time": "2023-01-30T16:57:06.321Z"
   },
   {
    "duration": 6,
    "start_time": "2023-01-30T16:57:06.912Z"
   },
   {
    "duration": 21,
    "start_time": "2023-01-30T16:57:07.705Z"
   },
   {
    "duration": 12,
    "start_time": "2023-01-30T16:57:10.945Z"
   },
   {
    "duration": 5,
    "start_time": "2023-01-30T16:58:05.693Z"
   },
   {
    "duration": 12,
    "start_time": "2023-01-30T16:58:13.447Z"
   },
   {
    "duration": 11,
    "start_time": "2023-01-30T16:59:19.727Z"
   },
   {
    "duration": 1113,
    "start_time": "2023-01-30T17:06:16.215Z"
   },
   {
    "duration": 2,
    "start_time": "2023-01-30T17:06:17.330Z"
   },
   {
    "duration": 40,
    "start_time": "2023-01-30T17:06:17.334Z"
   },
   {
    "duration": 23,
    "start_time": "2023-01-30T17:06:17.376Z"
   },
   {
    "duration": 4,
    "start_time": "2023-01-30T17:06:17.401Z"
   },
   {
    "duration": 7,
    "start_time": "2023-01-30T17:06:17.406Z"
   },
   {
    "duration": 13,
    "start_time": "2023-01-30T17:06:17.414Z"
   },
   {
    "duration": 182,
    "start_time": "2023-01-30T17:06:17.429Z"
   },
   {
    "duration": 4,
    "start_time": "2023-01-30T17:06:17.612Z"
   },
   {
    "duration": 14,
    "start_time": "2023-01-30T17:06:17.619Z"
   },
   {
    "duration": 162,
    "start_time": "2023-01-30T17:06:17.635Z"
   },
   {
    "duration": 44,
    "start_time": "2023-01-30T17:06:17.799Z"
   },
   {
    "duration": 29,
    "start_time": "2023-01-30T17:06:17.845Z"
   },
   {
    "duration": 2,
    "start_time": "2023-01-30T17:06:17.876Z"
   },
   {
    "duration": 5,
    "start_time": "2023-01-30T17:06:17.880Z"
   },
   {
    "duration": 5,
    "start_time": "2023-01-30T17:06:17.887Z"
   },
   {
    "duration": 13,
    "start_time": "2023-01-30T17:06:17.893Z"
   },
   {
    "duration": 6,
    "start_time": "2023-01-30T17:06:17.907Z"
   },
   {
    "duration": 19,
    "start_time": "2023-01-30T17:06:17.915Z"
   },
   {
    "duration": 10,
    "start_time": "2023-01-30T17:06:17.935Z"
   },
   {
    "duration": 3,
    "start_time": "2023-01-30T17:08:51.233Z"
   },
   {
    "duration": 7,
    "start_time": "2023-01-30T17:38:47.318Z"
   },
   {
    "duration": 15,
    "start_time": "2023-01-30T17:38:54.188Z"
   },
   {
    "duration": 12,
    "start_time": "2023-01-30T17:39:11.798Z"
   },
   {
    "duration": 159,
    "start_time": "2023-01-30T18:43:55.540Z"
   },
   {
    "duration": 70,
    "start_time": "2023-01-30T18:44:08.006Z"
   },
   {
    "duration": 10,
    "start_time": "2023-01-30T18:44:14.903Z"
   },
   {
    "duration": 137,
    "start_time": "2023-01-30T18:44:26.306Z"
   },
   {
    "duration": 11,
    "start_time": "2023-01-30T18:44:30.276Z"
   },
   {
    "duration": 6,
    "start_time": "2023-01-30T18:45:12.182Z"
   },
   {
    "duration": 15,
    "start_time": "2023-01-30T18:45:24.336Z"
   },
   {
    "duration": 6,
    "start_time": "2023-01-30T18:46:51.755Z"
   },
   {
    "duration": 9,
    "start_time": "2023-01-30T18:46:57.020Z"
   },
   {
    "duration": 14,
    "start_time": "2023-01-30T18:49:20.782Z"
   },
   {
    "duration": 13,
    "start_time": "2023-01-30T18:49:30.232Z"
   },
   {
    "duration": 5,
    "start_time": "2023-01-30T18:49:40.014Z"
   },
   {
    "duration": 5,
    "start_time": "2023-01-30T18:50:25.651Z"
   },
   {
    "duration": 15,
    "start_time": "2023-01-30T18:50:26.368Z"
   },
   {
    "duration": 7,
    "start_time": "2023-01-30T18:53:41.286Z"
   },
   {
    "duration": 8,
    "start_time": "2023-01-30T18:53:55.034Z"
   },
   {
    "duration": 10,
    "start_time": "2023-01-30T18:54:26.143Z"
   },
   {
    "duration": 9,
    "start_time": "2023-01-30T18:54:39.623Z"
   },
   {
    "duration": 5,
    "start_time": "2023-01-30T20:30:21.205Z"
   },
   {
    "duration": 5,
    "start_time": "2023-01-30T20:31:20.186Z"
   },
   {
    "duration": 10,
    "start_time": "2023-01-30T20:31:26.265Z"
   },
   {
    "duration": 8,
    "start_time": "2023-01-30T20:32:11.360Z"
   },
   {
    "duration": 5,
    "start_time": "2023-01-30T20:32:29.254Z"
   },
   {
    "duration": 10,
    "start_time": "2023-01-30T20:34:38.615Z"
   },
   {
    "duration": 21,
    "start_time": "2023-01-30T20:35:35.544Z"
   },
   {
    "duration": 7,
    "start_time": "2023-01-30T20:36:09.813Z"
   },
   {
    "duration": 14,
    "start_time": "2023-01-30T20:36:15.191Z"
   },
   {
    "duration": 6,
    "start_time": "2023-01-30T20:46:09.679Z"
   },
   {
    "duration": 10,
    "start_time": "2023-01-30T20:46:25.777Z"
   },
   {
    "duration": 12,
    "start_time": "2023-01-30T20:46:45.934Z"
   },
   {
    "duration": 74,
    "start_time": "2023-01-30T20:47:18.455Z"
   },
   {
    "duration": 10,
    "start_time": "2023-01-30T20:47:44.801Z"
   },
   {
    "duration": 9,
    "start_time": "2023-01-30T20:47:49.762Z"
   },
   {
    "duration": 7,
    "start_time": "2023-01-30T20:48:46.987Z"
   },
   {
    "duration": 9,
    "start_time": "2023-01-30T20:48:57.412Z"
   },
   {
    "duration": 7,
    "start_time": "2023-01-30T20:51:03.969Z"
   },
   {
    "duration": 6,
    "start_time": "2023-01-30T20:51:17.127Z"
   },
   {
    "duration": 5,
    "start_time": "2023-01-30T20:51:23.511Z"
   },
   {
    "duration": 5,
    "start_time": "2023-01-30T20:51:26.148Z"
   },
   {
    "duration": 6,
    "start_time": "2023-01-30T20:57:48.795Z"
   },
   {
    "duration": 3,
    "start_time": "2023-01-30T20:58:04.489Z"
   },
   {
    "duration": 6,
    "start_time": "2023-01-30T20:58:22.848Z"
   },
   {
    "duration": 11,
    "start_time": "2023-01-30T20:59:14.023Z"
   },
   {
    "duration": 4,
    "start_time": "2023-01-30T20:59:20.957Z"
   },
   {
    "duration": 7,
    "start_time": "2023-01-30T20:59:57.653Z"
   },
   {
    "duration": 10,
    "start_time": "2023-01-30T21:00:57.490Z"
   },
   {
    "duration": 4,
    "start_time": "2023-01-30T21:01:20.860Z"
   },
   {
    "duration": 5,
    "start_time": "2023-01-30T21:01:24.979Z"
   },
   {
    "duration": 4,
    "start_time": "2023-01-30T21:01:26.109Z"
   },
   {
    "duration": 14,
    "start_time": "2023-01-30T21:03:30.683Z"
   },
   {
    "duration": 10,
    "start_time": "2023-01-30T21:03:53.843Z"
   },
   {
    "duration": 1161,
    "start_time": "2023-01-30T21:05:29.715Z"
   },
   {
    "duration": 3,
    "start_time": "2023-01-30T21:06:13.274Z"
   },
   {
    "duration": 5,
    "start_time": "2023-01-30T21:06:21.226Z"
   },
   {
    "duration": 5,
    "start_time": "2023-01-30T21:06:32.341Z"
   },
   {
    "duration": 5,
    "start_time": "2023-01-30T21:06:44.923Z"
   },
   {
    "duration": 71,
    "start_time": "2023-01-31T09:08:33.777Z"
   },
   {
    "duration": 1394,
    "start_time": "2023-01-31T09:08:44.505Z"
   },
   {
    "duration": 3,
    "start_time": "2023-01-31T09:08:45.903Z"
   },
   {
    "duration": 66,
    "start_time": "2023-01-31T09:08:45.907Z"
   },
   {
    "duration": 33,
    "start_time": "2023-01-31T09:08:45.975Z"
   },
   {
    "duration": 9,
    "start_time": "2023-01-31T09:08:46.011Z"
   },
   {
    "duration": 32,
    "start_time": "2023-01-31T09:08:46.022Z"
   },
   {
    "duration": 24,
    "start_time": "2023-01-31T09:08:46.056Z"
   },
   {
    "duration": 213,
    "start_time": "2023-01-31T09:08:46.082Z"
   },
   {
    "duration": 5,
    "start_time": "2023-01-31T09:08:46.298Z"
   },
   {
    "duration": 37,
    "start_time": "2023-01-31T09:08:46.305Z"
   },
   {
    "duration": 195,
    "start_time": "2023-01-31T09:08:46.344Z"
   },
   {
    "duration": 114,
    "start_time": "2023-01-31T09:08:46.541Z"
   },
   {
    "duration": 34,
    "start_time": "2023-01-31T09:08:46.657Z"
   },
   {
    "duration": 27,
    "start_time": "2023-01-31T09:08:46.693Z"
   },
   {
    "duration": 38,
    "start_time": "2023-01-31T09:08:46.721Z"
   },
   {
    "duration": 30,
    "start_time": "2023-01-31T09:08:46.760Z"
   },
   {
    "duration": 63,
    "start_time": "2023-01-31T09:08:46.791Z"
   },
   {
    "duration": 40,
    "start_time": "2023-01-31T09:08:46.856Z"
   },
   {
    "duration": 54,
    "start_time": "2023-01-31T09:08:46.898Z"
   },
   {
    "duration": 17,
    "start_time": "2023-01-31T09:08:46.954Z"
   },
   {
    "duration": 29,
    "start_time": "2023-01-31T09:08:46.973Z"
   },
   {
    "duration": 40,
    "start_time": "2023-01-31T09:08:47.004Z"
   },
   {
    "duration": 59,
    "start_time": "2023-01-31T09:08:47.046Z"
   },
   {
    "duration": 73,
    "start_time": "2023-01-31T09:08:47.107Z"
   },
   {
    "duration": 189,
    "start_time": "2023-01-31T09:08:54.129Z"
   },
   {
    "duration": 184,
    "start_time": "2023-01-31T09:09:07.179Z"
   },
   {
    "duration": 5,
    "start_time": "2023-01-31T09:10:50.368Z"
   },
   {
    "duration": 5,
    "start_time": "2023-01-31T09:11:01.368Z"
   },
   {
    "duration": 108,
    "start_time": "2023-01-31T09:12:08.057Z"
   },
   {
    "duration": 7,
    "start_time": "2023-01-31T09:12:14.801Z"
   },
   {
    "duration": 11,
    "start_time": "2023-01-31T10:38:42.280Z"
   },
   {
    "duration": 8,
    "start_time": "2023-01-31T10:38:50.820Z"
   },
   {
    "duration": 7,
    "start_time": "2023-01-31T12:38:01.544Z"
   },
   {
    "duration": 6,
    "start_time": "2023-01-31T13:31:08.937Z"
   },
   {
    "duration": 13,
    "start_time": "2023-01-31T13:31:16.514Z"
   },
   {
    "duration": 28,
    "start_time": "2023-01-31T13:34:16.461Z"
   },
   {
    "duration": 29,
    "start_time": "2023-01-31T13:35:11.222Z"
   },
   {
    "duration": 203,
    "start_time": "2023-01-31T13:37:16.513Z"
   },
   {
    "duration": 17,
    "start_time": "2023-01-31T13:47:55.743Z"
   },
   {
    "duration": 8,
    "start_time": "2023-01-31T13:48:42.031Z"
   },
   {
    "duration": 8,
    "start_time": "2023-01-31T13:48:46.072Z"
   },
   {
    "duration": 15,
    "start_time": "2023-01-31T13:49:03.609Z"
   },
   {
    "duration": 14,
    "start_time": "2023-01-31T13:49:11.133Z"
   },
   {
    "duration": 13,
    "start_time": "2023-01-31T13:49:15.857Z"
   },
   {
    "duration": 7,
    "start_time": "2023-01-31T13:50:58.522Z"
   },
   {
    "duration": 6,
    "start_time": "2023-01-31T15:02:30.421Z"
   },
   {
    "duration": 11,
    "start_time": "2023-01-31T15:02:54.311Z"
   },
   {
    "duration": 9,
    "start_time": "2023-01-31T15:03:06.844Z"
   },
   {
    "duration": 1161,
    "start_time": "2023-01-31T15:03:19.796Z"
   },
   {
    "duration": 2,
    "start_time": "2023-01-31T15:03:20.959Z"
   },
   {
    "duration": 68,
    "start_time": "2023-01-31T15:03:20.963Z"
   },
   {
    "duration": 83,
    "start_time": "2023-01-31T15:03:21.033Z"
   },
   {
    "duration": 52,
    "start_time": "2023-01-31T15:03:21.118Z"
   },
   {
    "duration": 45,
    "start_time": "2023-01-31T15:03:21.171Z"
   },
   {
    "duration": 1534,
    "start_time": "2023-01-31T15:03:21.218Z"
   },
   {
    "duration": 196,
    "start_time": "2023-01-31T15:03:22.754Z"
   },
   {
    "duration": 5,
    "start_time": "2023-01-31T15:03:22.952Z"
   },
   {
    "duration": 17,
    "start_time": "2023-01-31T15:03:22.961Z"
   },
   {
    "duration": 192,
    "start_time": "2023-01-31T15:03:22.979Z"
   },
   {
    "duration": 48,
    "start_time": "2023-01-31T15:03:23.172Z"
   },
   {
    "duration": 41,
    "start_time": "2023-01-31T15:03:23.222Z"
   },
   {
    "duration": 3,
    "start_time": "2023-01-31T15:03:23.265Z"
   },
   {
    "duration": 12,
    "start_time": "2023-01-31T15:03:23.270Z"
   },
   {
    "duration": 20,
    "start_time": "2023-01-31T15:03:23.284Z"
   },
   {
    "duration": 14,
    "start_time": "2023-01-31T15:03:23.305Z"
   },
   {
    "duration": 12,
    "start_time": "2023-01-31T15:03:23.321Z"
   },
   {
    "duration": 28,
    "start_time": "2023-01-31T15:03:23.335Z"
   },
   {
    "duration": 11,
    "start_time": "2023-01-31T15:03:23.365Z"
   },
   {
    "duration": 27,
    "start_time": "2023-01-31T15:03:23.378Z"
   },
   {
    "duration": 6,
    "start_time": "2023-01-31T15:03:23.406Z"
   },
   {
    "duration": 19,
    "start_time": "2023-01-31T15:03:23.414Z"
   },
   {
    "duration": 12,
    "start_time": "2023-01-31T15:03:23.435Z"
   },
   {
    "duration": 24,
    "start_time": "2023-01-31T15:03:23.449Z"
   },
   {
    "duration": 8,
    "start_time": "2023-01-31T15:03:23.474Z"
   },
   {
    "duration": 14,
    "start_time": "2023-01-31T15:03:23.484Z"
   },
   {
    "duration": 7,
    "start_time": "2023-01-31T15:03:27.113Z"
   },
   {
    "duration": 14,
    "start_time": "2023-01-31T15:03:36.003Z"
   },
   {
    "duration": 6,
    "start_time": "2023-01-31T15:09:28.997Z"
   },
   {
    "duration": 18,
    "start_time": "2023-01-31T15:09:44.888Z"
   },
   {
    "duration": 10,
    "start_time": "2023-01-31T15:10:50.269Z"
   },
   {
    "duration": 72,
    "start_time": "2023-01-31T16:28:35.301Z"
   },
   {
    "duration": 103,
    "start_time": "2023-01-31T16:28:52.187Z"
   },
   {
    "duration": 5,
    "start_time": "2023-01-31T16:29:06.022Z"
   },
   {
    "duration": 19,
    "start_time": "2023-01-31T16:29:13.956Z"
   },
   {
    "duration": 13,
    "start_time": "2023-01-31T16:29:36.894Z"
   },
   {
    "duration": 11,
    "start_time": "2023-01-31T16:30:07.548Z"
   },
   {
    "duration": 21,
    "start_time": "2023-01-31T16:30:57.292Z"
   },
   {
    "duration": 26,
    "start_time": "2023-01-31T16:31:29.356Z"
   },
   {
    "duration": 20,
    "start_time": "2023-01-31T16:32:57.150Z"
   },
   {
    "duration": 27,
    "start_time": "2023-01-31T16:34:10.529Z"
   },
   {
    "duration": 14,
    "start_time": "2023-01-31T17:40:35.403Z"
   },
   {
    "duration": 4,
    "start_time": "2023-01-31T17:40:55.972Z"
   },
   {
    "duration": 23,
    "start_time": "2023-01-31T17:41:04.572Z"
   },
   {
    "duration": 24,
    "start_time": "2023-01-31T17:41:23.190Z"
   },
   {
    "duration": 12,
    "start_time": "2023-01-31T17:41:42.428Z"
   },
   {
    "duration": 12,
    "start_time": "2023-01-31T17:42:11.268Z"
   },
   {
    "duration": 247,
    "start_time": "2023-01-31T17:44:15.078Z"
   },
   {
    "duration": 147,
    "start_time": "2023-01-31T17:44:18.722Z"
   },
   {
    "duration": 210,
    "start_time": "2023-01-31T17:45:26.301Z"
   },
   {
    "duration": 187,
    "start_time": "2023-01-31T17:45:37.001Z"
   },
   {
    "duration": 268,
    "start_time": "2023-01-31T17:46:34.041Z"
   },
   {
    "duration": 238,
    "start_time": "2023-01-31T17:46:43.923Z"
   },
   {
    "duration": 302,
    "start_time": "2023-01-31T17:46:51.635Z"
   },
   {
    "duration": 19,
    "start_time": "2023-01-31T17:50:34.984Z"
   },
   {
    "duration": 12,
    "start_time": "2023-01-31T17:51:04.638Z"
   },
   {
    "duration": 13,
    "start_time": "2023-01-31T17:51:09.575Z"
   },
   {
    "duration": 220,
    "start_time": "2023-01-31T17:51:18.564Z"
   },
   {
    "duration": 235,
    "start_time": "2023-01-31T17:51:57.798Z"
   },
   {
    "duration": 228,
    "start_time": "2023-01-31T17:52:03.526Z"
   },
   {
    "duration": 1226,
    "start_time": "2023-01-31T17:58:57.897Z"
   },
   {
    "duration": 3,
    "start_time": "2023-01-31T17:58:59.125Z"
   },
   {
    "duration": 54,
    "start_time": "2023-01-31T17:58:59.129Z"
   },
   {
    "duration": 23,
    "start_time": "2023-01-31T17:58:59.186Z"
   },
   {
    "duration": 5,
    "start_time": "2023-01-31T17:58:59.211Z"
   },
   {
    "duration": 22,
    "start_time": "2023-01-31T17:58:59.218Z"
   },
   {
    "duration": 39,
    "start_time": "2023-01-31T17:58:59.243Z"
   },
   {
    "duration": 226,
    "start_time": "2023-01-31T17:58:59.284Z"
   },
   {
    "duration": 5,
    "start_time": "2023-01-31T17:58:59.512Z"
   },
   {
    "duration": 16,
    "start_time": "2023-01-31T17:58:59.520Z"
   },
   {
    "duration": 195,
    "start_time": "2023-01-31T17:58:59.537Z"
   },
   {
    "duration": 65,
    "start_time": "2023-01-31T17:58:59.734Z"
   },
   {
    "duration": 39,
    "start_time": "2023-01-31T17:58:59.801Z"
   },
   {
    "duration": 3,
    "start_time": "2023-01-31T17:58:59.842Z"
   },
   {
    "duration": 7,
    "start_time": "2023-01-31T17:58:59.847Z"
   },
   {
    "duration": 12,
    "start_time": "2023-01-31T17:58:59.855Z"
   },
   {
    "duration": 40,
    "start_time": "2023-01-31T17:58:59.869Z"
   },
   {
    "duration": 11,
    "start_time": "2023-01-31T17:58:59.911Z"
   },
   {
    "duration": 29,
    "start_time": "2023-01-31T17:58:59.923Z"
   },
   {
    "duration": 12,
    "start_time": "2023-01-31T17:58:59.953Z"
   },
   {
    "duration": 39,
    "start_time": "2023-01-31T17:58:59.967Z"
   },
   {
    "duration": 2,
    "start_time": "2023-01-31T17:59:00.008Z"
   },
   {
    "duration": 17,
    "start_time": "2023-01-31T17:59:00.012Z"
   },
   {
    "duration": 28,
    "start_time": "2023-01-31T17:59:00.031Z"
   },
   {
    "duration": 37,
    "start_time": "2023-01-31T17:59:00.061Z"
   },
   {
    "duration": 14,
    "start_time": "2023-01-31T17:59:00.100Z"
   },
   {
    "duration": 36,
    "start_time": "2023-01-31T17:59:00.115Z"
   },
   {
    "duration": 33,
    "start_time": "2023-01-31T17:59:00.154Z"
   },
   {
    "duration": 45,
    "start_time": "2023-01-31T17:59:00.189Z"
   },
   {
    "duration": 32,
    "start_time": "2023-01-31T17:59:00.236Z"
   },
   {
    "duration": 47,
    "start_time": "2023-01-31T17:59:00.271Z"
   },
   {
    "duration": 366,
    "start_time": "2023-01-31T17:59:00.320Z"
   },
   {
    "duration": 2,
    "start_time": "2023-01-31T17:59:00.688Z"
   },
   {
    "duration": 1277,
    "start_time": "2023-01-31T17:59:46.285Z"
   },
   {
    "duration": 2,
    "start_time": "2023-01-31T17:59:47.565Z"
   },
   {
    "duration": 29,
    "start_time": "2023-01-31T17:59:47.569Z"
   },
   {
    "duration": 27,
    "start_time": "2023-01-31T17:59:47.600Z"
   },
   {
    "duration": 5,
    "start_time": "2023-01-31T17:59:47.630Z"
   },
   {
    "duration": 10,
    "start_time": "2023-01-31T17:59:47.637Z"
   },
   {
    "duration": 16,
    "start_time": "2023-01-31T17:59:47.649Z"
   },
   {
    "duration": 227,
    "start_time": "2023-01-31T17:59:47.667Z"
   },
   {
    "duration": 9,
    "start_time": "2023-01-31T17:59:47.896Z"
   },
   {
    "duration": 21,
    "start_time": "2023-01-31T17:59:47.906Z"
   },
   {
    "duration": 192,
    "start_time": "2023-01-31T17:59:47.929Z"
   },
   {
    "duration": 40,
    "start_time": "2023-01-31T17:59:48.123Z"
   },
   {
    "duration": 41,
    "start_time": "2023-01-31T17:59:48.165Z"
   },
   {
    "duration": 5,
    "start_time": "2023-01-31T17:59:48.211Z"
   },
   {
    "duration": 9,
    "start_time": "2023-01-31T17:59:48.217Z"
   },
   {
    "duration": 11,
    "start_time": "2023-01-31T17:59:48.228Z"
   },
   {
    "duration": 16,
    "start_time": "2023-01-31T17:59:48.241Z"
   },
   {
    "duration": 9,
    "start_time": "2023-01-31T17:59:48.258Z"
   },
   {
    "duration": 37,
    "start_time": "2023-01-31T17:59:48.269Z"
   },
   {
    "duration": 12,
    "start_time": "2023-01-31T17:59:48.308Z"
   },
   {
    "duration": 15,
    "start_time": "2023-01-31T17:59:48.322Z"
   },
   {
    "duration": 14,
    "start_time": "2023-01-31T17:59:48.339Z"
   },
   {
    "duration": 8,
    "start_time": "2023-01-31T17:59:48.355Z"
   },
   {
    "duration": 27,
    "start_time": "2023-01-31T17:59:48.364Z"
   },
   {
    "duration": 22,
    "start_time": "2023-01-31T17:59:48.393Z"
   },
   {
    "duration": 8,
    "start_time": "2023-01-31T17:59:48.416Z"
   },
   {
    "duration": 17,
    "start_time": "2023-01-31T17:59:48.425Z"
   },
   {
    "duration": 16,
    "start_time": "2023-01-31T17:59:48.443Z"
   },
   {
    "duration": 22,
    "start_time": "2023-01-31T17:59:48.460Z"
   },
   {
    "duration": 26,
    "start_time": "2023-01-31T17:59:48.484Z"
   },
   {
    "duration": 12,
    "start_time": "2023-01-31T17:59:48.513Z"
   },
   {
    "duration": 320,
    "start_time": "2023-01-31T17:59:48.527Z"
   },
   {
    "duration": 3,
    "start_time": "2023-01-31T17:59:48.849Z"
   },
   {
    "duration": 16,
    "start_time": "2023-01-31T18:01:01.582Z"
   },
   {
    "duration": 23,
    "start_time": "2023-01-31T18:01:07.011Z"
   },
   {
    "duration": 19,
    "start_time": "2023-01-31T18:01:47.086Z"
   },
   {
    "duration": 17,
    "start_time": "2023-01-31T18:02:14.577Z"
   },
   {
    "duration": 1200,
    "start_time": "2023-01-31T18:02:47.450Z"
   },
   {
    "duration": 3,
    "start_time": "2023-01-31T18:02:48.652Z"
   },
   {
    "duration": 43,
    "start_time": "2023-01-31T18:02:48.656Z"
   },
   {
    "duration": 23,
    "start_time": "2023-01-31T18:02:48.701Z"
   },
   {
    "duration": 5,
    "start_time": "2023-01-31T18:02:48.726Z"
   },
   {
    "duration": 8,
    "start_time": "2023-01-31T18:02:48.732Z"
   },
   {
    "duration": 15,
    "start_time": "2023-01-31T18:02:48.741Z"
   },
   {
    "duration": 219,
    "start_time": "2023-01-31T18:02:48.758Z"
   },
   {
    "duration": 4,
    "start_time": "2023-01-31T18:02:48.979Z"
   },
   {
    "duration": 23,
    "start_time": "2023-01-31T18:02:48.986Z"
   },
   {
    "duration": 182,
    "start_time": "2023-01-31T18:02:49.011Z"
   },
   {
    "duration": 42,
    "start_time": "2023-01-31T18:02:49.194Z"
   },
   {
    "duration": 39,
    "start_time": "2023-01-31T18:02:49.238Z"
   },
   {
    "duration": 3,
    "start_time": "2023-01-31T18:02:49.279Z"
   },
   {
    "duration": 18,
    "start_time": "2023-01-31T18:02:49.284Z"
   },
   {
    "duration": 33,
    "start_time": "2023-01-31T18:02:49.304Z"
   },
   {
    "duration": 19,
    "start_time": "2023-01-31T18:02:49.339Z"
   },
   {
    "duration": 17,
    "start_time": "2023-01-31T18:02:49.360Z"
   },
   {
    "duration": 38,
    "start_time": "2023-01-31T18:02:49.379Z"
   },
   {
    "duration": 15,
    "start_time": "2023-01-31T18:02:49.419Z"
   },
   {
    "duration": 11,
    "start_time": "2023-01-31T18:02:49.436Z"
   },
   {
    "duration": 7,
    "start_time": "2023-01-31T18:02:49.449Z"
   },
   {
    "duration": 16,
    "start_time": "2023-01-31T18:02:49.457Z"
   },
   {
    "duration": 9,
    "start_time": "2023-01-31T18:02:49.503Z"
   },
   {
    "duration": 22,
    "start_time": "2023-01-31T18:02:49.514Z"
   },
   {
    "duration": 8,
    "start_time": "2023-01-31T18:02:49.537Z"
   },
   {
    "duration": 17,
    "start_time": "2023-01-31T18:02:49.547Z"
   },
   {
    "duration": 15,
    "start_time": "2023-01-31T18:02:49.567Z"
   },
   {
    "duration": 17,
    "start_time": "2023-01-31T18:02:49.604Z"
   },
   {
    "duration": 17,
    "start_time": "2023-01-31T18:02:49.623Z"
   },
   {
    "duration": 16,
    "start_time": "2023-01-31T18:02:49.642Z"
   },
   {
    "duration": 344,
    "start_time": "2023-01-31T18:02:49.660Z"
   },
   {
    "duration": 3,
    "start_time": "2023-01-31T18:02:50.006Z"
   },
   {
    "duration": 220,
    "start_time": "2023-01-31T18:02:57.159Z"
   },
   {
    "duration": 235,
    "start_time": "2023-01-31T18:03:02.741Z"
   },
   {
    "duration": 267,
    "start_time": "2023-01-31T18:03:43.380Z"
   },
   {
    "duration": 226,
    "start_time": "2023-01-31T18:03:53.690Z"
   },
   {
    "duration": 229,
    "start_time": "2023-01-31T18:04:10.746Z"
   },
   {
    "duration": 17,
    "start_time": "2023-01-31T18:07:10.592Z"
   },
   {
    "duration": 130,
    "start_time": "2023-01-31T18:07:42.545Z"
   },
   {
    "duration": 18,
    "start_time": "2023-01-31T18:07:48.244Z"
   },
   {
    "duration": 17,
    "start_time": "2023-01-31T18:09:25.730Z"
   },
   {
    "duration": 22,
    "start_time": "2023-01-31T18:10:14.285Z"
   },
   {
    "duration": 1209,
    "start_time": "2023-01-31T18:17:19.461Z"
   },
   {
    "duration": 3,
    "start_time": "2023-01-31T18:17:20.672Z"
   },
   {
    "duration": 27,
    "start_time": "2023-01-31T18:17:20.677Z"
   },
   {
    "duration": 33,
    "start_time": "2023-01-31T18:17:20.706Z"
   },
   {
    "duration": 7,
    "start_time": "2023-01-31T18:17:20.742Z"
   },
   {
    "duration": 18,
    "start_time": "2023-01-31T18:17:20.752Z"
   },
   {
    "duration": 37,
    "start_time": "2023-01-31T18:17:20.773Z"
   },
   {
    "duration": 206,
    "start_time": "2023-01-31T18:17:20.812Z"
   },
   {
    "duration": 5,
    "start_time": "2023-01-31T18:17:21.021Z"
   },
   {
    "duration": 21,
    "start_time": "2023-01-31T18:17:21.029Z"
   },
   {
    "duration": 203,
    "start_time": "2023-01-31T18:17:21.052Z"
   },
   {
    "duration": 40,
    "start_time": "2023-01-31T18:17:21.257Z"
   },
   {
    "duration": 38,
    "start_time": "2023-01-31T18:17:21.299Z"
   },
   {
    "duration": 4,
    "start_time": "2023-01-31T18:17:21.338Z"
   },
   {
    "duration": 8,
    "start_time": "2023-01-31T18:17:21.344Z"
   },
   {
    "duration": 7,
    "start_time": "2023-01-31T18:17:21.354Z"
   },
   {
    "duration": 57,
    "start_time": "2023-01-31T18:17:21.362Z"
   },
   {
    "duration": 14,
    "start_time": "2023-01-31T18:17:21.421Z"
   },
   {
    "duration": 33,
    "start_time": "2023-01-31T18:17:21.437Z"
   },
   {
    "duration": 32,
    "start_time": "2023-01-31T18:17:21.473Z"
   },
   {
    "duration": 11,
    "start_time": "2023-01-31T18:17:21.507Z"
   },
   {
    "duration": 10,
    "start_time": "2023-01-31T18:17:21.521Z"
   },
   {
    "duration": 13,
    "start_time": "2023-01-31T18:17:21.533Z"
   },
   {
    "duration": 9,
    "start_time": "2023-01-31T18:17:21.548Z"
   },
   {
    "duration": 52,
    "start_time": "2023-01-31T18:17:21.560Z"
   },
   {
    "duration": 8,
    "start_time": "2023-01-31T18:17:21.614Z"
   },
   {
    "duration": 33,
    "start_time": "2023-01-31T18:17:21.624Z"
   },
   {
    "duration": 25,
    "start_time": "2023-01-31T18:17:21.660Z"
   },
   {
    "duration": 28,
    "start_time": "2023-01-31T18:17:21.686Z"
   },
   {
    "duration": 18,
    "start_time": "2023-01-31T18:17:21.717Z"
   },
   {
    "duration": 27,
    "start_time": "2023-01-31T18:17:21.737Z"
   },
   {
    "duration": 20,
    "start_time": "2023-01-31T18:17:21.766Z"
   },
   {
    "duration": 310,
    "start_time": "2023-01-31T18:17:21.788Z"
   },
   {
    "duration": 72,
    "start_time": "2023-01-31T18:17:57.351Z"
   },
   {
    "duration": 113,
    "start_time": "2023-01-31T18:18:03.283Z"
   },
   {
    "duration": 21,
    "start_time": "2023-01-31T18:18:26.777Z"
   },
   {
    "duration": 5,
    "start_time": "2023-01-31T18:29:25.740Z"
   },
   {
    "duration": 7,
    "start_time": "2023-01-31T18:29:55.421Z"
   },
   {
    "duration": 10,
    "start_time": "2023-01-31T18:37:55.959Z"
   },
   {
    "duration": 11,
    "start_time": "2023-01-31T18:38:02.032Z"
   },
   {
    "duration": 15,
    "start_time": "2023-01-31T18:38:22.461Z"
   },
   {
    "duration": 1290,
    "start_time": "2023-01-31T18:39:14.864Z"
   },
   {
    "duration": 4,
    "start_time": "2023-01-31T18:39:16.156Z"
   },
   {
    "duration": 36,
    "start_time": "2023-01-31T18:39:16.161Z"
   },
   {
    "duration": 34,
    "start_time": "2023-01-31T18:39:16.200Z"
   },
   {
    "duration": 16,
    "start_time": "2023-01-31T18:39:16.237Z"
   },
   {
    "duration": 43,
    "start_time": "2023-01-31T18:39:16.254Z"
   },
   {
    "duration": 45,
    "start_time": "2023-01-31T18:39:16.298Z"
   },
   {
    "duration": 279,
    "start_time": "2023-01-31T18:39:16.345Z"
   },
   {
    "duration": 5,
    "start_time": "2023-01-31T18:39:16.626Z"
   },
   {
    "duration": 36,
    "start_time": "2023-01-31T18:39:16.634Z"
   },
   {
    "duration": 209,
    "start_time": "2023-01-31T18:39:16.672Z"
   },
   {
    "duration": 40,
    "start_time": "2023-01-31T18:39:16.883Z"
   },
   {
    "duration": 36,
    "start_time": "2023-01-31T18:39:16.924Z"
   },
   {
    "duration": 3,
    "start_time": "2023-01-31T18:39:16.962Z"
   },
   {
    "duration": 25,
    "start_time": "2023-01-31T18:39:16.967Z"
   },
   {
    "duration": 33,
    "start_time": "2023-01-31T18:39:16.993Z"
   },
   {
    "duration": 120,
    "start_time": "2023-01-31T18:39:17.028Z"
   },
   {
    "duration": 81,
    "start_time": "2023-01-31T18:39:17.150Z"
   },
   {
    "duration": 60,
    "start_time": "2023-01-31T18:39:17.232Z"
   },
   {
    "duration": 20,
    "start_time": "2023-01-31T18:39:17.294Z"
   },
   {
    "duration": 39,
    "start_time": "2023-01-31T18:39:17.315Z"
   },
   {
    "duration": 15,
    "start_time": "2023-01-31T18:39:17.356Z"
   },
   {
    "duration": 52,
    "start_time": "2023-01-31T18:39:17.373Z"
   },
   {
    "duration": 29,
    "start_time": "2023-01-31T18:39:17.427Z"
   },
   {
    "duration": 53,
    "start_time": "2023-01-31T18:39:17.458Z"
   },
   {
    "duration": 38,
    "start_time": "2023-01-31T18:39:17.512Z"
   },
   {
    "duration": 47,
    "start_time": "2023-01-31T18:39:17.552Z"
   },
   {
    "duration": 31,
    "start_time": "2023-01-31T18:39:17.601Z"
   },
   {
    "duration": 41,
    "start_time": "2023-01-31T18:39:17.634Z"
   },
   {
    "duration": 24,
    "start_time": "2023-01-31T18:39:17.676Z"
   },
   {
    "duration": 44,
    "start_time": "2023-01-31T18:39:17.702Z"
   },
   {
    "duration": 23,
    "start_time": "2023-01-31T18:39:17.748Z"
   },
   {
    "duration": 336,
    "start_time": "2023-01-31T18:39:17.772Z"
   },
   {
    "duration": 235,
    "start_time": "2023-01-31T20:17:48.519Z"
   },
   {
    "duration": 79,
    "start_time": "2023-01-31T20:40:28.390Z"
   },
   {
    "duration": 84,
    "start_time": "2023-01-31T20:40:58.087Z"
   },
   {
    "duration": 261,
    "start_time": "2023-01-31T20:41:11.888Z"
   },
   {
    "duration": 346,
    "start_time": "2023-01-31T20:41:45.664Z"
   },
   {
    "duration": 68,
    "start_time": "2023-01-31T20:42:45.261Z"
   },
   {
    "duration": 387,
    "start_time": "2023-01-31T20:42:53.756Z"
   },
   {
    "duration": 344,
    "start_time": "2023-01-31T20:43:17.203Z"
   },
   {
    "duration": 433,
    "start_time": "2023-01-31T20:43:46.957Z"
   },
   {
    "duration": 378,
    "start_time": "2023-01-31T20:44:13.794Z"
   },
   {
    "duration": 321,
    "start_time": "2023-01-31T20:44:58.033Z"
   },
   {
    "duration": 170,
    "start_time": "2023-01-31T20:51:04.258Z"
   },
   {
    "duration": 13,
    "start_time": "2023-01-31T20:51:39.461Z"
   },
   {
    "duration": 24,
    "start_time": "2023-01-31T20:51:52.094Z"
   },
   {
    "duration": 28,
    "start_time": "2023-01-31T20:52:09.999Z"
   },
   {
    "duration": 8,
    "start_time": "2023-01-31T20:52:18.220Z"
   },
   {
    "duration": 8,
    "start_time": "2023-01-31T20:52:31.869Z"
   },
   {
    "duration": 8,
    "start_time": "2023-01-31T20:53:05.338Z"
   },
   {
    "duration": 8,
    "start_time": "2023-01-31T20:53:20.451Z"
   },
   {
    "duration": 6,
    "start_time": "2023-01-31T20:54:35.037Z"
   },
   {
    "duration": 6,
    "start_time": "2023-01-31T20:54:41.676Z"
   },
   {
    "duration": 8,
    "start_time": "2023-01-31T20:54:55.221Z"
   },
   {
    "duration": 14,
    "start_time": "2023-01-31T20:55:51.880Z"
   },
   {
    "duration": 9,
    "start_time": "2023-01-31T20:56:10.069Z"
   },
   {
    "duration": 6,
    "start_time": "2023-01-31T20:56:20.293Z"
   },
   {
    "duration": 8,
    "start_time": "2023-01-31T20:56:29.632Z"
   },
   {
    "duration": 6,
    "start_time": "2023-01-31T20:58:25.517Z"
   },
   {
    "duration": 6,
    "start_time": "2023-01-31T21:00:46.134Z"
   },
   {
    "duration": 7,
    "start_time": "2023-01-31T21:01:00.151Z"
   },
   {
    "duration": 16,
    "start_time": "2023-01-31T21:04:14.273Z"
   },
   {
    "duration": 84,
    "start_time": "2023-01-31T21:07:04.737Z"
   },
   {
    "duration": 99,
    "start_time": "2023-01-31T21:07:24.964Z"
   },
   {
    "duration": 91,
    "start_time": "2023-01-31T21:07:30.672Z"
   },
   {
    "duration": 15,
    "start_time": "2023-01-31T21:07:39.602Z"
   },
   {
    "duration": 20,
    "start_time": "2023-01-31T21:08:09.208Z"
   },
   {
    "duration": 205,
    "start_time": "2023-01-31T21:15:51.618Z"
   },
   {
    "duration": 26,
    "start_time": "2023-01-31T21:18:19.622Z"
   },
   {
    "duration": 16,
    "start_time": "2023-01-31T21:18:35.428Z"
   },
   {
    "duration": 18,
    "start_time": "2023-01-31T21:19:02.839Z"
   },
   {
    "duration": 18,
    "start_time": "2023-01-31T21:19:12.321Z"
   },
   {
    "duration": 394,
    "start_time": "2023-01-31T21:21:03.832Z"
   },
   {
    "duration": 18,
    "start_time": "2023-01-31T21:21:23.053Z"
   },
   {
    "duration": 10,
    "start_time": "2023-01-31T21:26:17.741Z"
   },
   {
    "duration": 10,
    "start_time": "2023-01-31T21:26:28.986Z"
   },
   {
    "duration": 18,
    "start_time": "2023-01-31T21:26:44.796Z"
   },
   {
    "duration": 5,
    "start_time": "2023-01-31T21:26:50.766Z"
   },
   {
    "duration": 100,
    "start_time": "2023-01-31T21:28:59.401Z"
   },
   {
    "duration": 1386,
    "start_time": "2023-01-31T21:29:03.197Z"
   },
   {
    "duration": 10,
    "start_time": "2023-01-31T21:29:26.137Z"
   },
   {
    "duration": 9,
    "start_time": "2023-01-31T21:30:01.553Z"
   },
   {
    "duration": 14,
    "start_time": "2023-01-31T21:36:45.367Z"
   },
   {
    "duration": 14,
    "start_time": "2023-01-31T21:36:57.367Z"
   },
   {
    "duration": 11,
    "start_time": "2023-01-31T21:37:24.413Z"
   },
   {
    "duration": 181,
    "start_time": "2023-01-31T21:37:38.250Z"
   },
   {
    "duration": 138,
    "start_time": "2023-01-31T21:37:55.567Z"
   },
   {
    "duration": 12,
    "start_time": "2023-01-31T21:38:04.055Z"
   },
   {
    "duration": 117,
    "start_time": "2023-01-31T21:38:13.050Z"
   },
   {
    "duration": 9,
    "start_time": "2023-01-31T21:39:40.239Z"
   },
   {
    "duration": 143,
    "start_time": "2023-01-31T21:40:06.326Z"
   },
   {
    "duration": 132,
    "start_time": "2023-01-31T21:40:41.958Z"
   },
   {
    "duration": 134,
    "start_time": "2023-01-31T21:40:47.546Z"
   },
   {
    "duration": 148,
    "start_time": "2023-01-31T21:40:58.052Z"
   },
   {
    "duration": 8,
    "start_time": "2023-01-31T22:26:30.041Z"
   },
   {
    "duration": 9,
    "start_time": "2023-01-31T22:26:34.811Z"
   },
   {
    "duration": 9,
    "start_time": "2023-01-31T22:26:47.733Z"
   },
   {
    "duration": 9,
    "start_time": "2023-01-31T22:27:27.155Z"
   },
   {
    "duration": 4,
    "start_time": "2023-01-31T22:30:18.111Z"
   },
   {
    "duration": 15,
    "start_time": "2023-01-31T22:30:38.853Z"
   },
   {
    "duration": 11,
    "start_time": "2023-01-31T22:31:36.580Z"
   },
   {
    "duration": 12,
    "start_time": "2023-01-31T22:32:15.378Z"
   },
   {
    "duration": 333,
    "start_time": "2023-01-31T22:35:10.946Z"
   },
   {
    "duration": 194,
    "start_time": "2023-01-31T22:35:27.987Z"
   },
   {
    "duration": 191,
    "start_time": "2023-01-31T22:35:55.842Z"
   },
   {
    "duration": 216,
    "start_time": "2023-01-31T22:36:21.189Z"
   },
   {
    "duration": 184,
    "start_time": "2023-01-31T22:36:33.927Z"
   },
   {
    "duration": 200,
    "start_time": "2023-01-31T22:36:42.776Z"
   },
   {
    "duration": 225,
    "start_time": "2023-01-31T22:36:53.421Z"
   },
   {
    "duration": 248,
    "start_time": "2023-01-31T22:38:36.755Z"
   },
   {
    "duration": 278,
    "start_time": "2023-01-31T22:38:54.077Z"
   },
   {
    "duration": 11,
    "start_time": "2023-01-31T22:39:10.027Z"
   },
   {
    "duration": 13,
    "start_time": "2023-01-31T22:39:22.917Z"
   },
   {
    "duration": 214,
    "start_time": "2023-01-31T22:39:38.234Z"
   },
   {
    "duration": 240,
    "start_time": "2023-01-31T22:41:27.087Z"
   },
   {
    "duration": 75,
    "start_time": "2023-01-31T22:49:32.734Z"
   },
   {
    "duration": 320,
    "start_time": "2023-01-31T22:49:42.969Z"
   },
   {
    "duration": 437,
    "start_time": "2023-01-31T22:50:40.669Z"
   },
   {
    "duration": 323,
    "start_time": "2023-01-31T22:51:10.897Z"
   },
   {
    "duration": 1262,
    "start_time": "2023-02-01T06:21:34.693Z"
   },
   {
    "duration": 3,
    "start_time": "2023-02-01T06:21:35.957Z"
   },
   {
    "duration": 101,
    "start_time": "2023-02-01T06:21:35.961Z"
   },
   {
    "duration": 23,
    "start_time": "2023-02-01T06:21:36.063Z"
   },
   {
    "duration": 4,
    "start_time": "2023-02-01T06:21:36.088Z"
   },
   {
    "duration": 7,
    "start_time": "2023-02-01T06:21:36.093Z"
   },
   {
    "duration": 12,
    "start_time": "2023-02-01T06:21:36.101Z"
   },
   {
    "duration": 222,
    "start_time": "2023-02-01T06:21:36.114Z"
   },
   {
    "duration": 12,
    "start_time": "2023-02-01T06:21:36.338Z"
   },
   {
    "duration": 14,
    "start_time": "2023-02-01T06:21:36.352Z"
   },
   {
    "duration": 166,
    "start_time": "2023-02-01T06:21:36.367Z"
   },
   {
    "duration": 161,
    "start_time": "2023-02-01T06:21:36.535Z"
   },
   {
    "duration": 33,
    "start_time": "2023-02-01T06:21:36.698Z"
   },
   {
    "duration": 3,
    "start_time": "2023-02-01T06:21:36.733Z"
   },
   {
    "duration": 13,
    "start_time": "2023-02-01T06:21:36.737Z"
   },
   {
    "duration": 8,
    "start_time": "2023-02-01T06:21:36.751Z"
   },
   {
    "duration": 14,
    "start_time": "2023-02-01T06:21:36.760Z"
   },
   {
    "duration": 7,
    "start_time": "2023-02-01T06:21:36.776Z"
   },
   {
    "duration": 25,
    "start_time": "2023-02-01T06:21:36.785Z"
   },
   {
    "duration": 11,
    "start_time": "2023-02-01T06:21:36.811Z"
   },
   {
    "duration": 31,
    "start_time": "2023-02-01T06:21:36.823Z"
   },
   {
    "duration": 5,
    "start_time": "2023-02-01T06:21:36.856Z"
   },
   {
    "duration": 14,
    "start_time": "2023-02-01T06:21:36.862Z"
   },
   {
    "duration": 10,
    "start_time": "2023-02-01T06:21:36.878Z"
   },
   {
    "duration": 7,
    "start_time": "2023-02-01T06:21:36.890Z"
   },
   {
    "duration": 18,
    "start_time": "2023-02-01T06:21:36.899Z"
   },
   {
    "duration": 6,
    "start_time": "2023-02-01T06:21:36.918Z"
   },
   {
    "duration": 10,
    "start_time": "2023-02-01T06:21:36.948Z"
   },
   {
    "duration": 11,
    "start_time": "2023-02-01T06:21:36.959Z"
   },
   {
    "duration": 16,
    "start_time": "2023-02-01T06:21:36.972Z"
   },
   {
    "duration": 13,
    "start_time": "2023-02-01T06:21:36.989Z"
   },
   {
    "duration": 9,
    "start_time": "2023-02-01T06:21:37.003Z"
   },
   {
    "duration": 311,
    "start_time": "2023-02-01T06:21:37.014Z"
   },
   {
    "duration": 245,
    "start_time": "2023-02-01T06:21:37.326Z"
   },
   {
    "duration": 380,
    "start_time": "2023-02-01T06:21:37.573Z"
   },
   {
    "duration": 8,
    "start_time": "2023-02-01T06:21:37.955Z"
   },
   {
    "duration": 14,
    "start_time": "2023-02-01T06:21:37.965Z"
   },
   {
    "duration": 19,
    "start_time": "2023-02-01T06:21:37.980Z"
   },
   {
    "duration": 234,
    "start_time": "2023-02-01T06:21:38.000Z"
   },
   {
    "duration": 324,
    "start_time": "2023-02-01T06:21:38.235Z"
   },
   {
    "duration": 8,
    "start_time": "2023-02-01T09:10:46.307Z"
   },
   {
    "duration": 10,
    "start_time": "2023-02-01T09:12:06.916Z"
   },
   {
    "duration": 8,
    "start_time": "2023-02-01T09:12:49.573Z"
   },
   {
    "duration": 13,
    "start_time": "2023-02-01T09:13:32.970Z"
   },
   {
    "duration": 11,
    "start_time": "2023-02-01T09:13:45.342Z"
   },
   {
    "duration": 8,
    "start_time": "2023-02-01T09:16:44.561Z"
   },
   {
    "duration": 13,
    "start_time": "2023-02-01T09:16:51.817Z"
   },
   {
    "duration": 17,
    "start_time": "2023-02-01T09:18:47.886Z"
   },
   {
    "duration": 10,
    "start_time": "2023-02-01T09:18:52.032Z"
   },
   {
    "duration": 56,
    "start_time": "2023-02-01T09:20:51.190Z"
   },
   {
    "duration": 11,
    "start_time": "2023-02-01T09:20:58.179Z"
   },
   {
    "duration": 1227,
    "start_time": "2023-02-01T11:04:36.586Z"
   },
   {
    "duration": 3,
    "start_time": "2023-02-01T11:04:37.815Z"
   },
   {
    "duration": 34,
    "start_time": "2023-02-01T11:04:37.820Z"
   },
   {
    "duration": 33,
    "start_time": "2023-02-01T11:04:37.856Z"
   },
   {
    "duration": 5,
    "start_time": "2023-02-01T11:04:37.892Z"
   },
   {
    "duration": 15,
    "start_time": "2023-02-01T11:04:37.899Z"
   },
   {
    "duration": 34,
    "start_time": "2023-02-01T11:04:37.916Z"
   },
   {
    "duration": 209,
    "start_time": "2023-02-01T11:04:37.952Z"
   },
   {
    "duration": 5,
    "start_time": "2023-02-01T11:04:38.164Z"
   },
   {
    "duration": 15,
    "start_time": "2023-02-01T11:04:38.171Z"
   },
   {
    "duration": 186,
    "start_time": "2023-02-01T11:04:38.188Z"
   },
   {
    "duration": 51,
    "start_time": "2023-02-01T11:04:38.375Z"
   },
   {
    "duration": 35,
    "start_time": "2023-02-01T11:04:38.428Z"
   },
   {
    "duration": 3,
    "start_time": "2023-02-01T11:04:38.467Z"
   },
   {
    "duration": 8,
    "start_time": "2023-02-01T11:04:38.472Z"
   },
   {
    "duration": 9,
    "start_time": "2023-02-01T11:04:38.481Z"
   },
   {
    "duration": 14,
    "start_time": "2023-02-01T11:04:38.492Z"
   },
   {
    "duration": 8,
    "start_time": "2023-02-01T11:04:38.507Z"
   },
   {
    "duration": 46,
    "start_time": "2023-02-01T11:04:38.517Z"
   },
   {
    "duration": 11,
    "start_time": "2023-02-01T11:04:38.565Z"
   },
   {
    "duration": 12,
    "start_time": "2023-02-01T11:04:38.578Z"
   },
   {
    "duration": 25,
    "start_time": "2023-02-01T11:04:38.592Z"
   },
   {
    "duration": 11,
    "start_time": "2023-02-01T11:04:38.619Z"
   },
   {
    "duration": 23,
    "start_time": "2023-02-01T11:04:38.631Z"
   },
   {
    "duration": 8,
    "start_time": "2023-02-01T11:04:38.656Z"
   },
   {
    "duration": 16,
    "start_time": "2023-02-01T11:04:38.665Z"
   },
   {
    "duration": 6,
    "start_time": "2023-02-01T11:04:38.683Z"
   },
   {
    "duration": 12,
    "start_time": "2023-02-01T11:04:38.691Z"
   },
   {
    "duration": 11,
    "start_time": "2023-02-01T11:04:38.705Z"
   },
   {
    "duration": 39,
    "start_time": "2023-02-01T11:04:38.717Z"
   },
   {
    "duration": 15,
    "start_time": "2023-02-01T11:04:38.758Z"
   },
   {
    "duration": 20,
    "start_time": "2023-02-01T11:04:38.775Z"
   },
   {
    "duration": 302,
    "start_time": "2023-02-01T11:04:38.797Z"
   },
   {
    "duration": 250,
    "start_time": "2023-02-01T11:04:39.101Z"
   },
   {
    "duration": 338,
    "start_time": "2023-02-01T11:04:39.353Z"
   },
   {
    "duration": 9,
    "start_time": "2023-02-01T11:04:39.692Z"
   },
   {
    "duration": 14,
    "start_time": "2023-02-01T11:04:39.702Z"
   },
   {
    "duration": 33,
    "start_time": "2023-02-01T11:04:39.718Z"
   },
   {
    "duration": 245,
    "start_time": "2023-02-01T11:04:39.753Z"
   },
   {
    "duration": 319,
    "start_time": "2023-02-01T11:04:40.000Z"
   },
   {
    "duration": 9,
    "start_time": "2023-02-01T11:04:40.324Z"
   },
   {
    "duration": 20,
    "start_time": "2023-02-01T11:04:40.335Z"
   },
   {
    "duration": 111,
    "start_time": "2023-02-01T11:31:58.842Z"
   },
   {
    "duration": 9,
    "start_time": "2023-02-01T11:32:06.219Z"
   },
   {
    "duration": 165,
    "start_time": "2023-02-01T11:34:22.407Z"
   },
   {
    "duration": 248,
    "start_time": "2023-02-01T11:37:20.911Z"
   },
   {
    "duration": 10,
    "start_time": "2023-02-01T12:34:33.308Z"
   },
   {
    "duration": 6,
    "start_time": "2023-02-01T12:35:04.407Z"
   },
   {
    "duration": 6,
    "start_time": "2023-02-01T12:35:13.425Z"
   },
   {
    "duration": 6,
    "start_time": "2023-02-01T12:36:17.528Z"
   },
   {
    "duration": 45,
    "start_time": "2023-02-01T13:48:55.689Z"
   },
   {
    "duration": 1488,
    "start_time": "2023-02-01T13:49:13.192Z"
   },
   {
    "duration": 3,
    "start_time": "2023-02-01T13:49:14.682Z"
   },
   {
    "duration": 90,
    "start_time": "2023-02-01T13:49:14.686Z"
   },
   {
    "duration": 22,
    "start_time": "2023-02-01T13:49:14.777Z"
   },
   {
    "duration": 36,
    "start_time": "2023-02-01T13:49:14.801Z"
   },
   {
    "duration": 18,
    "start_time": "2023-02-01T13:49:14.838Z"
   },
   {
    "duration": 33,
    "start_time": "2023-02-01T13:49:14.857Z"
   },
   {
    "duration": 220,
    "start_time": "2023-02-01T13:49:14.891Z"
   },
   {
    "duration": 4,
    "start_time": "2023-02-01T13:49:15.113Z"
   },
   {
    "duration": 50,
    "start_time": "2023-02-01T13:49:15.119Z"
   },
   {
    "duration": 190,
    "start_time": "2023-02-01T13:49:15.171Z"
   },
   {
    "duration": 114,
    "start_time": "2023-02-01T13:49:15.363Z"
   },
   {
    "duration": 32,
    "start_time": "2023-02-01T13:49:15.478Z"
   },
   {
    "duration": 6,
    "start_time": "2023-02-01T13:49:15.513Z"
   },
   {
    "duration": 33,
    "start_time": "2023-02-01T13:49:15.520Z"
   },
   {
    "duration": 47,
    "start_time": "2023-02-01T13:49:15.554Z"
   },
   {
    "duration": 41,
    "start_time": "2023-02-01T13:49:15.603Z"
   },
   {
    "duration": 32,
    "start_time": "2023-02-01T13:49:15.646Z"
   },
   {
    "duration": 53,
    "start_time": "2023-02-01T13:49:15.680Z"
   },
   {
    "duration": 38,
    "start_time": "2023-02-01T13:49:15.734Z"
   },
   {
    "duration": 37,
    "start_time": "2023-02-01T13:49:15.773Z"
   },
   {
    "duration": 37,
    "start_time": "2023-02-01T13:49:15.812Z"
   },
   {
    "duration": 60,
    "start_time": "2023-02-01T13:49:15.851Z"
   },
   {
    "duration": 56,
    "start_time": "2023-02-01T13:49:15.912Z"
   },
   {
    "duration": 61,
    "start_time": "2023-02-01T13:49:15.969Z"
   },
   {
    "duration": 32,
    "start_time": "2023-02-01T13:49:16.031Z"
   },
   {
    "duration": 41,
    "start_time": "2023-02-01T13:49:16.065Z"
   },
   {
    "duration": 41,
    "start_time": "2023-02-01T13:49:16.108Z"
   },
   {
    "duration": 29,
    "start_time": "2023-02-01T13:49:16.150Z"
   },
   {
    "duration": 50,
    "start_time": "2023-02-01T13:49:16.181Z"
   },
   {
    "duration": 47,
    "start_time": "2023-02-01T13:49:16.233Z"
   },
   {
    "duration": 51,
    "start_time": "2023-02-01T13:49:16.282Z"
   },
   {
    "duration": 328,
    "start_time": "2023-02-01T13:49:16.334Z"
   },
   {
    "duration": 235,
    "start_time": "2023-02-01T13:49:16.663Z"
   },
   {
    "duration": 356,
    "start_time": "2023-02-01T13:49:16.900Z"
   },
   {
    "duration": 8,
    "start_time": "2023-02-01T13:49:17.258Z"
   },
   {
    "duration": 27,
    "start_time": "2023-02-01T13:49:17.267Z"
   },
   {
    "duration": 25,
    "start_time": "2023-02-01T13:49:17.296Z"
   },
   {
    "duration": 253,
    "start_time": "2023-02-01T13:49:17.323Z"
   },
   {
    "duration": 330,
    "start_time": "2023-02-01T13:49:17.578Z"
   },
   {
    "duration": 7,
    "start_time": "2023-02-01T13:49:17.911Z"
   },
   {
    "duration": 48,
    "start_time": "2023-02-01T13:49:17.920Z"
   },
   {
    "duration": 216,
    "start_time": "2023-02-01T13:49:17.970Z"
   },
   {
    "duration": 6,
    "start_time": "2023-02-01T13:49:18.188Z"
   },
   {
    "duration": 285,
    "start_time": "2023-02-01T13:49:18.195Z"
   },
   {
    "duration": 171,
    "start_time": "2023-02-01T13:49:25.194Z"
   },
   {
    "duration": 183,
    "start_time": "2023-02-01T13:49:33.070Z"
   },
   {
    "duration": 176,
    "start_time": "2023-02-01T13:50:09.386Z"
   },
   {
    "duration": 175,
    "start_time": "2023-02-01T13:53:41.189Z"
   },
   {
    "duration": 192,
    "start_time": "2023-02-01T13:56:03.515Z"
   },
   {
    "duration": 6,
    "start_time": "2023-02-01T14:22:49.338Z"
   },
   {
    "duration": 104,
    "start_time": "2023-02-01T14:23:25.137Z"
   },
   {
    "duration": 18,
    "start_time": "2023-02-01T14:23:43.476Z"
   },
   {
    "duration": 9,
    "start_time": "2023-02-01T14:24:19.640Z"
   },
   {
    "duration": 4,
    "start_time": "2023-02-01T14:27:23.440Z"
   },
   {
    "duration": 193,
    "start_time": "2023-02-01T14:27:57.912Z"
   },
   {
    "duration": 5,
    "start_time": "2023-02-01T14:31:34.475Z"
   },
   {
    "duration": 5,
    "start_time": "2023-02-01T14:31:57.991Z"
   },
   {
    "duration": 101,
    "start_time": "2023-02-01T17:35:41.510Z"
   },
   {
    "duration": 5,
    "start_time": "2023-02-01T17:35:56.713Z"
   },
   {
    "duration": 14,
    "start_time": "2023-02-01T17:43:31.541Z"
   },
   {
    "duration": 17,
    "start_time": "2023-02-01T17:43:45.437Z"
   },
   {
    "duration": 9,
    "start_time": "2023-02-01T17:45:03.731Z"
   },
   {
    "duration": 10,
    "start_time": "2023-02-01T17:46:21.628Z"
   },
   {
    "duration": 11,
    "start_time": "2023-02-01T17:47:01.716Z"
   },
   {
    "duration": 10,
    "start_time": "2023-02-01T17:47:02.420Z"
   },
   {
    "duration": 20,
    "start_time": "2023-02-01T17:47:34.394Z"
   },
   {
    "duration": 13,
    "start_time": "2023-02-01T17:48:15.722Z"
   },
   {
    "duration": 95,
    "start_time": "2023-02-01T17:59:34.180Z"
   },
   {
    "duration": 8,
    "start_time": "2023-02-01T18:02:19.456Z"
   },
   {
    "duration": 11,
    "start_time": "2023-02-01T18:02:26.020Z"
   },
   {
    "duration": 11,
    "start_time": "2023-02-01T18:06:49.933Z"
   },
   {
    "duration": 8,
    "start_time": "2023-02-01T18:08:45.878Z"
   },
   {
    "duration": 11,
    "start_time": "2023-02-01T18:09:11.138Z"
   },
   {
    "duration": 10,
    "start_time": "2023-02-01T18:09:13.725Z"
   },
   {
    "duration": 9,
    "start_time": "2023-02-01T18:09:22.511Z"
   },
   {
    "duration": 4,
    "start_time": "2023-02-01T18:09:34.526Z"
   },
   {
    "duration": 11,
    "start_time": "2023-02-01T18:55:11.639Z"
   },
   {
    "duration": 10,
    "start_time": "2023-02-01T18:56:46.754Z"
   },
   {
    "duration": 6,
    "start_time": "2023-02-01T19:02:26.117Z"
   },
   {
    "duration": 5,
    "start_time": "2023-02-01T19:03:18.896Z"
   },
   {
    "duration": 8,
    "start_time": "2023-02-01T19:04:56.207Z"
   },
   {
    "duration": 5,
    "start_time": "2023-02-01T19:05:02.004Z"
   },
   {
    "duration": 9,
    "start_time": "2023-02-01T19:05:02.801Z"
   },
   {
    "duration": 9,
    "start_time": "2023-02-01T19:05:25.228Z"
   },
   {
    "duration": 7,
    "start_time": "2023-02-01T19:22:57.963Z"
   },
   {
    "duration": 14,
    "start_time": "2023-02-01T19:32:22.111Z"
   },
   {
    "duration": 1685,
    "start_time": "2023-02-06T15:09:57.738Z"
   },
   {
    "duration": 8,
    "start_time": "2023-02-06T15:09:59.436Z"
   },
   {
    "duration": 122,
    "start_time": "2023-02-06T15:09:59.451Z"
   },
   {
    "duration": 30,
    "start_time": "2023-02-06T15:09:59.575Z"
   },
   {
    "duration": 15,
    "start_time": "2023-02-06T15:09:59.607Z"
   },
   {
    "duration": 52,
    "start_time": "2023-02-06T15:09:59.623Z"
   },
   {
    "duration": 12,
    "start_time": "2023-02-06T15:09:59.677Z"
   },
   {
    "duration": 241,
    "start_time": "2023-02-06T15:09:59.691Z"
   },
   {
    "duration": 5,
    "start_time": "2023-02-06T15:09:59.939Z"
   },
   {
    "duration": 34,
    "start_time": "2023-02-06T15:09:59.945Z"
   },
   {
    "duration": 204,
    "start_time": "2023-02-06T15:09:59.981Z"
   },
   {
    "duration": 185,
    "start_time": "2023-02-06T15:10:00.186Z"
   },
   {
    "duration": 42,
    "start_time": "2023-02-06T15:10:00.372Z"
   },
   {
    "duration": 20,
    "start_time": "2023-02-06T15:10:00.417Z"
   },
   {
    "duration": 77,
    "start_time": "2023-02-06T15:10:00.438Z"
   },
   {
    "duration": 60,
    "start_time": "2023-02-06T15:10:00.519Z"
   },
   {
    "duration": 76,
    "start_time": "2023-02-06T15:10:00.581Z"
   },
   {
    "duration": 35,
    "start_time": "2023-02-06T15:10:00.659Z"
   },
   {
    "duration": 103,
    "start_time": "2023-02-06T15:10:00.696Z"
   },
   {
    "duration": 86,
    "start_time": "2023-02-06T15:10:00.801Z"
   },
   {
    "duration": 86,
    "start_time": "2023-02-06T15:10:00.891Z"
   },
   {
    "duration": 36,
    "start_time": "2023-02-06T15:10:00.980Z"
   },
   {
    "duration": 87,
    "start_time": "2023-02-06T15:10:01.018Z"
   },
   {
    "duration": 71,
    "start_time": "2023-02-06T15:10:01.107Z"
   },
   {
    "duration": 19,
    "start_time": "2023-02-06T15:10:01.179Z"
   },
   {
    "duration": 67,
    "start_time": "2023-02-06T15:10:01.200Z"
   },
   {
    "duration": 9,
    "start_time": "2023-02-06T15:10:01.269Z"
   },
   {
    "duration": 60,
    "start_time": "2023-02-06T15:10:01.280Z"
   },
   {
    "duration": 45,
    "start_time": "2023-02-06T15:10:01.342Z"
   },
   {
    "duration": 84,
    "start_time": "2023-02-06T15:10:01.389Z"
   },
   {
    "duration": 23,
    "start_time": "2023-02-06T15:10:01.475Z"
   },
   {
    "duration": 81,
    "start_time": "2023-02-06T15:10:01.499Z"
   },
   {
    "duration": 438,
    "start_time": "2023-02-06T15:10:01.582Z"
   },
   {
    "duration": 301,
    "start_time": "2023-02-06T15:10:02.022Z"
   },
   {
    "duration": 382,
    "start_time": "2023-02-06T15:10:02.324Z"
   },
   {
    "duration": 9,
    "start_time": "2023-02-06T15:10:02.708Z"
   },
   {
    "duration": 69,
    "start_time": "2023-02-06T15:10:02.719Z"
   },
   {
    "duration": 21,
    "start_time": "2023-02-06T15:10:02.789Z"
   },
   {
    "duration": 409,
    "start_time": "2023-02-06T15:10:02.812Z"
   },
   {
    "duration": 375,
    "start_time": "2023-02-06T15:10:03.222Z"
   },
   {
    "duration": 9,
    "start_time": "2023-02-06T15:10:03.600Z"
   },
   {
    "duration": 48,
    "start_time": "2023-02-06T15:10:03.620Z"
   },
   {
    "duration": 223,
    "start_time": "2023-02-06T15:10:03.670Z"
   },
   {
    "duration": 5,
    "start_time": "2023-02-06T15:10:03.895Z"
   },
   {
    "duration": 264,
    "start_time": "2023-02-06T15:10:03.902Z"
   },
   {
    "duration": 13,
    "start_time": "2023-02-06T15:10:04.168Z"
   },
   {
    "duration": 5,
    "start_time": "2023-02-06T15:10:04.183Z"
   },
   {
    "duration": 290,
    "start_time": "2023-02-06T15:10:04.190Z"
   },
   {
    "duration": 6,
    "start_time": "2023-02-06T15:10:04.482Z"
   },
   {
    "duration": 15,
    "start_time": "2023-02-06T15:10:04.490Z"
   },
   {
    "duration": 47,
    "start_time": "2023-02-06T15:10:04.506Z"
   },
   {
    "duration": 23,
    "start_time": "2023-02-06T15:10:04.555Z"
   },
   {
    "duration": 5,
    "start_time": "2023-02-06T15:10:04.580Z"
   },
   {
    "duration": 12,
    "start_time": "2023-02-06T15:10:04.587Z"
   },
   {
    "duration": 13,
    "start_time": "2023-02-06T15:10:04.602Z"
   },
   {
    "duration": 6,
    "start_time": "2023-02-06T17:25:59.009Z"
   },
   {
    "duration": 1366,
    "start_time": "2023-02-06T19:03:44.242Z"
   },
   {
    "duration": 3,
    "start_time": "2023-02-06T19:03:45.610Z"
   },
   {
    "duration": 71,
    "start_time": "2023-02-06T19:03:45.615Z"
   },
   {
    "duration": 25,
    "start_time": "2023-02-06T19:03:45.688Z"
   },
   {
    "duration": 5,
    "start_time": "2023-02-06T19:03:45.715Z"
   },
   {
    "duration": 8,
    "start_time": "2023-02-06T19:03:45.722Z"
   },
   {
    "duration": 12,
    "start_time": "2023-02-06T19:03:45.732Z"
   },
   {
    "duration": 198,
    "start_time": "2023-02-06T19:03:45.746Z"
   },
   {
    "duration": 5,
    "start_time": "2023-02-06T19:03:45.945Z"
   },
   {
    "duration": 17,
    "start_time": "2023-02-06T19:03:45.952Z"
   },
   {
    "duration": 201,
    "start_time": "2023-02-06T19:03:45.972Z"
   },
   {
    "duration": 133,
    "start_time": "2023-02-06T19:03:46.175Z"
   },
   {
    "duration": 41,
    "start_time": "2023-02-06T19:03:46.311Z"
   },
   {
    "duration": 4,
    "start_time": "2023-02-06T19:03:46.356Z"
   },
   {
    "duration": 16,
    "start_time": "2023-02-06T19:03:46.362Z"
   },
   {
    "duration": 9,
    "start_time": "2023-02-06T19:03:46.380Z"
   },
   {
    "duration": 16,
    "start_time": "2023-02-06T19:03:46.391Z"
   },
   {
    "duration": 23,
    "start_time": "2023-02-06T19:03:46.408Z"
   },
   {
    "duration": 32,
    "start_time": "2023-02-06T19:03:46.433Z"
   },
   {
    "duration": 16,
    "start_time": "2023-02-06T19:03:46.467Z"
   },
   {
    "duration": 12,
    "start_time": "2023-02-06T19:03:46.485Z"
   },
   {
    "duration": 28,
    "start_time": "2023-02-06T19:03:46.499Z"
   },
   {
    "duration": 23,
    "start_time": "2023-02-06T19:03:46.529Z"
   },
   {
    "duration": 11,
    "start_time": "2023-02-06T19:03:46.554Z"
   },
   {
    "duration": 16,
    "start_time": "2023-02-06T19:03:46.567Z"
   },
   {
    "duration": 22,
    "start_time": "2023-02-06T19:03:46.585Z"
   },
   {
    "duration": 6,
    "start_time": "2023-02-06T19:03:46.609Z"
   },
   {
    "duration": 22,
    "start_time": "2023-02-06T19:03:46.616Z"
   },
   {
    "duration": 19,
    "start_time": "2023-02-06T19:03:46.640Z"
   },
   {
    "duration": 17,
    "start_time": "2023-02-06T19:03:46.662Z"
   },
   {
    "duration": 14,
    "start_time": "2023-02-06T19:03:46.681Z"
   },
   {
    "duration": 41,
    "start_time": "2023-02-06T19:03:46.697Z"
   },
   {
    "duration": 303,
    "start_time": "2023-02-06T19:03:46.740Z"
   },
   {
    "duration": 276,
    "start_time": "2023-02-06T19:03:47.045Z"
   },
   {
    "duration": 366,
    "start_time": "2023-02-06T19:03:47.323Z"
   },
   {
    "duration": 8,
    "start_time": "2023-02-06T19:03:47.691Z"
   },
   {
    "duration": 26,
    "start_time": "2023-02-06T19:03:47.701Z"
   },
   {
    "duration": 13,
    "start_time": "2023-02-06T19:03:47.729Z"
   },
   {
    "duration": 249,
    "start_time": "2023-02-06T19:03:47.744Z"
   },
   {
    "duration": 334,
    "start_time": "2023-02-06T19:03:47.995Z"
   },
   {
    "duration": 7,
    "start_time": "2023-02-06T19:03:48.333Z"
   },
   {
    "duration": 14,
    "start_time": "2023-02-06T19:03:48.342Z"
   },
   {
    "duration": 197,
    "start_time": "2023-02-06T19:03:48.357Z"
   },
   {
    "duration": 5,
    "start_time": "2023-02-06T19:03:48.556Z"
   },
   {
    "duration": 268,
    "start_time": "2023-02-06T19:03:48.562Z"
   },
   {
    "duration": 10,
    "start_time": "2023-02-06T19:03:48.831Z"
   },
   {
    "duration": 8,
    "start_time": "2023-02-06T19:03:48.842Z"
   },
   {
    "duration": 212,
    "start_time": "2023-02-06T19:03:48.851Z"
   },
   {
    "duration": 5,
    "start_time": "2023-02-06T19:03:49.065Z"
   },
   {
    "duration": 16,
    "start_time": "2023-02-06T19:03:49.071Z"
   },
   {
    "duration": 12,
    "start_time": "2023-02-06T19:03:49.088Z"
   },
   {
    "duration": 9,
    "start_time": "2023-02-06T19:03:49.102Z"
   },
   {
    "duration": 15,
    "start_time": "2023-02-06T19:03:49.113Z"
   },
   {
    "duration": 18,
    "start_time": "2023-02-06T19:03:49.130Z"
   },
   {
    "duration": 7,
    "start_time": "2023-02-06T19:03:49.150Z"
   },
   {
    "duration": 13,
    "start_time": "2023-02-06T23:17:00.538Z"
   },
   {
    "duration": 10,
    "start_time": "2023-02-06T23:45:32.275Z"
   },
   {
    "duration": 11,
    "start_time": "2023-02-06T23:45:45.783Z"
   },
   {
    "duration": 13,
    "start_time": "2023-02-06T23:49:06.356Z"
   },
   {
    "duration": 96,
    "start_time": "2023-02-07T00:00:29.788Z"
   },
   {
    "duration": 29,
    "start_time": "2023-02-07T00:01:19.078Z"
   },
   {
    "duration": 22,
    "start_time": "2023-02-07T00:01:58.558Z"
   },
   {
    "duration": 12,
    "start_time": "2023-02-07T00:12:17.239Z"
   },
   {
    "duration": 5,
    "start_time": "2023-02-07T00:12:39.924Z"
   },
   {
    "duration": 12,
    "start_time": "2023-02-07T00:14:15.915Z"
   },
   {
    "duration": 4,
    "start_time": "2023-02-07T00:14:25.331Z"
   },
   {
    "duration": 21,
    "start_time": "2023-02-07T00:17:52.803Z"
   },
   {
    "duration": 17,
    "start_time": "2023-02-07T00:44:19.664Z"
   },
   {
    "duration": 10,
    "start_time": "2023-02-07T00:56:57.470Z"
   },
   {
    "duration": 31,
    "start_time": "2023-02-07T00:58:41.829Z"
   },
   {
    "duration": 7,
    "start_time": "2023-02-07T00:59:18.145Z"
   },
   {
    "duration": 51,
    "start_time": "2023-02-07T19:41:43.759Z"
   },
   {
    "duration": 1378,
    "start_time": "2023-02-07T19:41:54.073Z"
   },
   {
    "duration": 3,
    "start_time": "2023-02-07T19:41:55.453Z"
   },
   {
    "duration": 93,
    "start_time": "2023-02-07T19:41:55.457Z"
   },
   {
    "duration": 24,
    "start_time": "2023-02-07T19:41:55.552Z"
   },
   {
    "duration": 4,
    "start_time": "2023-02-07T19:41:55.579Z"
   },
   {
    "duration": 17,
    "start_time": "2023-02-07T19:41:55.584Z"
   },
   {
    "duration": 14,
    "start_time": "2023-02-07T19:41:55.603Z"
   },
   {
    "duration": 188,
    "start_time": "2023-02-07T19:41:55.618Z"
   },
   {
    "duration": 4,
    "start_time": "2023-02-07T19:41:55.808Z"
   },
   {
    "duration": 15,
    "start_time": "2023-02-07T19:41:55.814Z"
   },
   {
    "duration": 170,
    "start_time": "2023-02-07T19:41:55.831Z"
   },
   {
    "duration": 128,
    "start_time": "2023-02-07T19:41:56.002Z"
   },
   {
    "duration": 33,
    "start_time": "2023-02-07T19:41:56.132Z"
   },
   {
    "duration": 3,
    "start_time": "2023-02-07T19:41:56.166Z"
   },
   {
    "duration": 37,
    "start_time": "2023-02-07T19:41:56.171Z"
   },
   {
    "duration": 8,
    "start_time": "2023-02-07T19:41:56.210Z"
   },
   {
    "duration": 19,
    "start_time": "2023-02-07T19:41:56.220Z"
   },
   {
    "duration": 11,
    "start_time": "2023-02-07T19:41:56.241Z"
   },
   {
    "duration": 25,
    "start_time": "2023-02-07T19:41:56.253Z"
   },
   {
    "duration": 16,
    "start_time": "2023-02-07T19:41:56.280Z"
   },
   {
    "duration": 18,
    "start_time": "2023-02-07T19:41:56.298Z"
   },
   {
    "duration": 6,
    "start_time": "2023-02-07T19:41:56.318Z"
   },
   {
    "duration": 19,
    "start_time": "2023-02-07T19:41:56.326Z"
   },
   {
    "duration": 15,
    "start_time": "2023-02-07T19:41:56.347Z"
   },
   {
    "duration": 22,
    "start_time": "2023-02-07T19:41:56.364Z"
   },
   {
    "duration": 18,
    "start_time": "2023-02-07T19:41:56.388Z"
   },
   {
    "duration": 7,
    "start_time": "2023-02-07T19:41:56.408Z"
   },
   {
    "duration": 19,
    "start_time": "2023-02-07T19:41:56.418Z"
   },
   {
    "duration": 17,
    "start_time": "2023-02-07T19:41:56.439Z"
   },
   {
    "duration": 21,
    "start_time": "2023-02-07T19:41:56.458Z"
   },
   {
    "duration": 24,
    "start_time": "2023-02-07T19:41:56.481Z"
   },
   {
    "duration": 10,
    "start_time": "2023-02-07T19:41:56.507Z"
   },
   {
    "duration": 310,
    "start_time": "2023-02-07T19:41:56.519Z"
   },
   {
    "duration": 244,
    "start_time": "2023-02-07T19:41:56.831Z"
   },
   {
    "duration": 370,
    "start_time": "2023-02-07T19:41:57.077Z"
   },
   {
    "duration": 8,
    "start_time": "2023-02-07T19:41:57.449Z"
   },
   {
    "duration": 14,
    "start_time": "2023-02-07T19:41:57.459Z"
   },
   {
    "duration": 25,
    "start_time": "2023-02-07T19:41:57.474Z"
   },
   {
    "duration": 223,
    "start_time": "2023-02-07T19:41:57.501Z"
   },
   {
    "duration": 297,
    "start_time": "2023-02-07T19:41:57.725Z"
   },
   {
    "duration": 9,
    "start_time": "2023-02-07T19:41:58.023Z"
   },
   {
    "duration": 15,
    "start_time": "2023-02-07T19:41:58.034Z"
   },
   {
    "duration": 294,
    "start_time": "2023-02-07T19:41:58.050Z"
   },
   {
    "duration": 56,
    "start_time": "2023-02-07T19:41:58.346Z"
   },
   {
    "duration": 526,
    "start_time": "2023-02-07T19:41:58.403Z"
   },
   {
    "duration": 9,
    "start_time": "2023-02-07T19:41:58.931Z"
   },
   {
    "duration": 58,
    "start_time": "2023-02-07T19:41:58.941Z"
   },
   {
    "duration": 456,
    "start_time": "2023-02-07T19:41:59.001Z"
   },
   {
    "duration": 40,
    "start_time": "2023-02-07T19:41:59.459Z"
   },
   {
    "duration": 12,
    "start_time": "2023-02-07T19:41:59.501Z"
   },
   {
    "duration": 12,
    "start_time": "2023-02-07T19:41:59.515Z"
   },
   {
    "duration": 12,
    "start_time": "2023-02-07T19:41:59.529Z"
   },
   {
    "duration": 66,
    "start_time": "2023-02-07T19:41:59.543Z"
   },
   {
    "duration": 22,
    "start_time": "2023-02-07T19:41:59.611Z"
   },
   {
    "duration": 70,
    "start_time": "2023-02-07T19:41:59.635Z"
   },
   {
    "duration": 5,
    "start_time": "2023-02-07T19:41:59.706Z"
   },
   {
    "duration": 16,
    "start_time": "2023-02-07T19:41:59.712Z"
   },
   {
    "duration": 5,
    "start_time": "2023-02-07T19:41:59.729Z"
   },
   {
    "duration": 75,
    "start_time": "2023-02-07T19:41:59.736Z"
   },
   {
    "duration": 19,
    "start_time": "2023-02-07T19:41:59.812Z"
   },
   {
    "duration": 249,
    "start_time": "2023-02-07T19:42:44.290Z"
   },
   {
    "duration": 310,
    "start_time": "2023-02-07T19:43:32.422Z"
   },
   {
    "duration": 82,
    "start_time": "2023-02-07T19:44:03.572Z"
   },
   {
    "duration": 258,
    "start_time": "2023-02-07T19:44:14.092Z"
   },
   {
    "duration": 299,
    "start_time": "2023-02-07T19:45:10.954Z"
   },
   {
    "duration": 221,
    "start_time": "2023-02-07T19:45:48.189Z"
   },
   {
    "duration": 182,
    "start_time": "2023-02-07T19:46:18.864Z"
   },
   {
    "duration": 186,
    "start_time": "2023-02-07T21:13:17.313Z"
   },
   {
    "duration": 15,
    "start_time": "2023-02-07T21:19:37.443Z"
   },
   {
    "duration": 1111,
    "start_time": "2023-02-07T21:20:56.909Z"
   },
   {
    "duration": 3,
    "start_time": "2023-02-07T21:20:58.022Z"
   },
   {
    "duration": 32,
    "start_time": "2023-02-07T21:20:58.027Z"
   },
   {
    "duration": 26,
    "start_time": "2023-02-07T21:20:58.061Z"
   },
   {
    "duration": 4,
    "start_time": "2023-02-07T21:20:58.090Z"
   },
   {
    "duration": 9,
    "start_time": "2023-02-07T21:20:58.098Z"
   },
   {
    "duration": 14,
    "start_time": "2023-02-07T21:20:58.109Z"
   },
   {
    "duration": 197,
    "start_time": "2023-02-07T21:20:58.125Z"
   },
   {
    "duration": 6,
    "start_time": "2023-02-07T21:20:58.324Z"
   },
   {
    "duration": 21,
    "start_time": "2023-02-07T21:20:58.331Z"
   },
   {
    "duration": 175,
    "start_time": "2023-02-07T21:20:58.354Z"
   },
   {
    "duration": 44,
    "start_time": "2023-02-07T21:20:58.531Z"
   },
   {
    "duration": 32,
    "start_time": "2023-02-07T21:20:58.577Z"
   },
   {
    "duration": 3,
    "start_time": "2023-02-07T21:20:58.612Z"
   },
   {
    "duration": 11,
    "start_time": "2023-02-07T21:20:58.616Z"
   },
   {
    "duration": 16,
    "start_time": "2023-02-07T21:20:58.628Z"
   },
   {
    "duration": 18,
    "start_time": "2023-02-07T21:20:58.646Z"
   },
   {
    "duration": 8,
    "start_time": "2023-02-07T21:20:58.666Z"
   },
   {
    "duration": 26,
    "start_time": "2023-02-07T21:20:58.675Z"
   },
   {
    "duration": 11,
    "start_time": "2023-02-07T21:20:58.703Z"
   },
   {
    "duration": 10,
    "start_time": "2023-02-07T21:20:58.716Z"
   },
   {
    "duration": 21,
    "start_time": "2023-02-07T21:20:58.728Z"
   },
   {
    "duration": 11,
    "start_time": "2023-02-07T21:20:58.750Z"
   },
   {
    "duration": 14,
    "start_time": "2023-02-07T21:20:58.763Z"
   },
   {
    "duration": 23,
    "start_time": "2023-02-07T21:20:58.778Z"
   },
   {
    "duration": 34,
    "start_time": "2023-02-07T21:20:58.802Z"
   },
   {
    "duration": 11,
    "start_time": "2023-02-07T21:20:58.837Z"
   },
   {
    "duration": 18,
    "start_time": "2023-02-07T21:20:58.850Z"
   },
   {
    "duration": 11,
    "start_time": "2023-02-07T21:20:58.870Z"
   },
   {
    "duration": 22,
    "start_time": "2023-02-07T21:20:58.883Z"
   },
   {
    "duration": 21,
    "start_time": "2023-02-07T21:20:58.907Z"
   },
   {
    "duration": 15,
    "start_time": "2023-02-07T21:20:58.930Z"
   },
   {
    "duration": 331,
    "start_time": "2023-02-07T21:20:58.946Z"
   },
   {
    "duration": 265,
    "start_time": "2023-02-07T21:20:59.278Z"
   },
   {
    "duration": 302,
    "start_time": "2023-02-07T21:20:59.545Z"
   },
   {
    "duration": 8,
    "start_time": "2023-02-07T21:20:59.849Z"
   },
   {
    "duration": 13,
    "start_time": "2023-02-07T21:20:59.859Z"
   },
   {
    "duration": 25,
    "start_time": "2023-02-07T21:20:59.874Z"
   },
   {
    "duration": 249,
    "start_time": "2023-02-07T21:20:59.900Z"
   },
   {
    "duration": 323,
    "start_time": "2023-02-07T21:21:00.151Z"
   },
   {
    "duration": 9,
    "start_time": "2023-02-07T21:21:00.478Z"
   },
   {
    "duration": 32,
    "start_time": "2023-02-07T21:21:00.499Z"
   },
   {
    "duration": 206,
    "start_time": "2023-02-07T21:21:00.532Z"
   },
   {
    "duration": 5,
    "start_time": "2023-02-07T21:21:00.739Z"
   },
   {
    "duration": 304,
    "start_time": "2023-02-07T21:21:00.746Z"
   },
   {
    "duration": 12,
    "start_time": "2023-02-07T21:21:01.052Z"
   },
   {
    "duration": 49,
    "start_time": "2023-02-07T21:21:01.065Z"
   },
   {
    "duration": 225,
    "start_time": "2023-02-07T21:21:01.116Z"
   },
   {
    "duration": 5,
    "start_time": "2023-02-07T21:21:01.343Z"
   },
   {
    "duration": 29,
    "start_time": "2023-02-07T21:21:01.349Z"
   },
   {
    "duration": 46,
    "start_time": "2023-02-07T21:21:01.380Z"
   },
   {
    "duration": 22,
    "start_time": "2023-02-07T21:21:01.427Z"
   },
   {
    "duration": 32,
    "start_time": "2023-02-07T21:21:01.451Z"
   },
   {
    "duration": 44,
    "start_time": "2023-02-07T21:21:01.485Z"
   },
   {
    "duration": 40,
    "start_time": "2023-02-07T21:21:01.531Z"
   },
   {
    "duration": 42,
    "start_time": "2023-02-07T21:21:01.573Z"
   },
   {
    "duration": 18,
    "start_time": "2023-02-07T21:21:01.617Z"
   },
   {
    "duration": 22,
    "start_time": "2023-02-07T21:21:01.637Z"
   },
   {
    "duration": 19,
    "start_time": "2023-02-07T21:21:01.660Z"
   },
   {
    "duration": 58,
    "start_time": "2023-02-07T21:21:01.680Z"
   },
   {
    "duration": 55,
    "start_time": "2023-02-07T21:21:01.740Z"
   },
   {
    "duration": 15,
    "start_time": "2023-02-07T21:24:15.042Z"
   },
   {
    "duration": 1168,
    "start_time": "2023-02-08T20:51:28.292Z"
   },
   {
    "duration": 2,
    "start_time": "2023-02-08T20:51:29.462Z"
   },
   {
    "duration": 27,
    "start_time": "2023-02-08T20:51:29.465Z"
   },
   {
    "duration": 22,
    "start_time": "2023-02-08T20:51:29.494Z"
   },
   {
    "duration": 4,
    "start_time": "2023-02-08T20:51:29.518Z"
   },
   {
    "duration": 5,
    "start_time": "2023-02-08T20:51:29.527Z"
   },
   {
    "duration": 12,
    "start_time": "2023-02-08T20:51:29.533Z"
   },
   {
    "duration": 186,
    "start_time": "2023-02-08T20:51:29.547Z"
   },
   {
    "duration": 4,
    "start_time": "2023-02-08T20:51:29.734Z"
   },
   {
    "duration": 12,
    "start_time": "2023-02-08T20:51:29.741Z"
   },
   {
    "duration": 170,
    "start_time": "2023-02-08T20:51:29.755Z"
   },
   {
    "duration": 43,
    "start_time": "2023-02-08T20:51:29.927Z"
   },
   {
    "duration": 31,
    "start_time": "2023-02-08T20:51:29.971Z"
   },
   {
    "duration": 2,
    "start_time": "2023-02-08T20:51:30.004Z"
   },
   {
    "duration": 26,
    "start_time": "2023-02-08T20:51:30.008Z"
   },
   {
    "duration": 7,
    "start_time": "2023-02-08T20:51:30.036Z"
   },
   {
    "duration": 14,
    "start_time": "2023-02-08T20:51:30.044Z"
   },
   {
    "duration": 10,
    "start_time": "2023-02-08T20:51:30.060Z"
   },
   {
    "duration": 21,
    "start_time": "2023-02-08T20:51:30.072Z"
   },
   {
    "duration": 10,
    "start_time": "2023-02-08T20:51:30.094Z"
   },
   {
    "duration": 23,
    "start_time": "2023-02-08T20:51:30.106Z"
   },
   {
    "duration": 5,
    "start_time": "2023-02-08T20:51:30.131Z"
   },
   {
    "duration": 25,
    "start_time": "2023-02-08T20:51:30.137Z"
   },
   {
    "duration": 12,
    "start_time": "2023-02-08T20:51:30.163Z"
   },
   {
    "duration": 21,
    "start_time": "2023-02-08T20:51:30.176Z"
   },
   {
    "duration": 37,
    "start_time": "2023-02-08T20:51:30.198Z"
   },
   {
    "duration": 10,
    "start_time": "2023-02-08T20:51:30.237Z"
   },
   {
    "duration": 29,
    "start_time": "2023-02-08T20:51:30.250Z"
   },
   {
    "duration": 34,
    "start_time": "2023-02-08T20:51:30.281Z"
   },
   {
    "duration": 32,
    "start_time": "2023-02-08T20:51:30.318Z"
   },
   {
    "duration": 39,
    "start_time": "2023-02-08T20:51:30.353Z"
   },
   {
    "duration": 42,
    "start_time": "2023-02-08T20:51:30.394Z"
   },
   {
    "duration": 380,
    "start_time": "2023-02-08T20:51:30.438Z"
   },
   {
    "duration": 254,
    "start_time": "2023-02-08T20:51:30.820Z"
   },
   {
    "duration": 305,
    "start_time": "2023-02-08T20:51:31.077Z"
   },
   {
    "duration": 9,
    "start_time": "2023-02-08T20:51:31.384Z"
   },
   {
    "duration": 24,
    "start_time": "2023-02-08T20:51:31.395Z"
   },
   {
    "duration": 10,
    "start_time": "2023-02-08T20:51:31.426Z"
   },
   {
    "duration": 274,
    "start_time": "2023-02-08T20:51:31.438Z"
   },
   {
    "duration": 357,
    "start_time": "2023-02-08T20:51:31.714Z"
   },
   {
    "duration": 7,
    "start_time": "2023-02-08T20:51:32.073Z"
   },
   {
    "duration": 16,
    "start_time": "2023-02-08T20:51:32.082Z"
   },
   {
    "duration": 189,
    "start_time": "2023-02-08T20:51:32.099Z"
   },
   {
    "duration": 4,
    "start_time": "2023-02-08T20:51:32.290Z"
   },
   {
    "duration": 258,
    "start_time": "2023-02-08T20:51:32.296Z"
   },
   {
    "duration": 9,
    "start_time": "2023-02-08T20:51:32.555Z"
   },
   {
    "duration": 17,
    "start_time": "2023-02-08T20:51:32.565Z"
   },
   {
    "duration": 195,
    "start_time": "2023-02-08T20:51:32.584Z"
   },
   {
    "duration": 5,
    "start_time": "2023-02-08T20:51:32.780Z"
   },
   {
    "duration": 15,
    "start_time": "2023-02-08T20:51:32.787Z"
   },
   {
    "duration": 28,
    "start_time": "2023-02-08T20:51:32.803Z"
   },
   {
    "duration": 10,
    "start_time": "2023-02-08T20:51:32.832Z"
   },
   {
    "duration": 10,
    "start_time": "2023-02-08T20:51:32.844Z"
   },
   {
    "duration": 21,
    "start_time": "2023-02-08T20:51:32.855Z"
   },
   {
    "duration": 15,
    "start_time": "2023-02-08T20:51:32.877Z"
   },
   {
    "duration": 36,
    "start_time": "2023-02-08T20:51:32.893Z"
   },
   {
    "duration": 10,
    "start_time": "2023-02-08T20:51:32.931Z"
   },
   {
    "duration": 14,
    "start_time": "2023-02-08T20:51:32.942Z"
   },
   {
    "duration": 4,
    "start_time": "2023-02-08T20:51:32.957Z"
   },
   {
    "duration": 26,
    "start_time": "2023-02-08T20:51:32.962Z"
   },
   {
    "duration": 42,
    "start_time": "2023-02-08T20:51:32.990Z"
   },
   {
    "duration": 1491,
    "start_time": "2023-02-09T06:15:08.295Z"
   },
   {
    "duration": 3,
    "start_time": "2023-02-09T06:15:09.788Z"
   },
   {
    "duration": 116,
    "start_time": "2023-02-09T06:15:09.793Z"
   },
   {
    "duration": 28,
    "start_time": "2023-02-09T06:15:09.912Z"
   },
   {
    "duration": 44,
    "start_time": "2023-02-09T06:15:09.942Z"
   },
   {
    "duration": 23,
    "start_time": "2023-02-09T06:15:09.988Z"
   },
   {
    "duration": 56,
    "start_time": "2023-02-09T06:15:10.014Z"
   },
   {
    "duration": 250,
    "start_time": "2023-02-09T06:15:10.072Z"
   },
   {
    "duration": 5,
    "start_time": "2023-02-09T06:15:10.324Z"
   },
   {
    "duration": 52,
    "start_time": "2023-02-09T06:15:10.331Z"
   },
   {
    "duration": 204,
    "start_time": "2023-02-09T06:15:10.385Z"
   },
   {
    "duration": 182,
    "start_time": "2023-02-09T06:15:10.591Z"
   },
   {
    "duration": 37,
    "start_time": "2023-02-09T06:15:10.775Z"
   },
   {
    "duration": 7,
    "start_time": "2023-02-09T06:15:10.813Z"
   },
   {
    "duration": 81,
    "start_time": "2023-02-09T06:15:10.822Z"
   },
   {
    "duration": 25,
    "start_time": "2023-02-09T06:15:10.904Z"
   },
   {
    "duration": 45,
    "start_time": "2023-02-09T06:15:10.931Z"
   },
   {
    "duration": 29,
    "start_time": "2023-02-09T06:15:10.978Z"
   },
   {
    "duration": 52,
    "start_time": "2023-02-09T06:15:11.010Z"
   },
   {
    "duration": 33,
    "start_time": "2023-02-09T06:15:11.065Z"
   },
   {
    "duration": 64,
    "start_time": "2023-02-09T06:15:11.100Z"
   },
   {
    "duration": 12,
    "start_time": "2023-02-09T06:15:11.167Z"
   },
   {
    "duration": 29,
    "start_time": "2023-02-09T06:15:11.181Z"
   },
   {
    "duration": 26,
    "start_time": "2023-02-09T06:15:11.212Z"
   },
   {
    "duration": 51,
    "start_time": "2023-02-09T06:15:11.240Z"
   },
   {
    "duration": 30,
    "start_time": "2023-02-09T06:15:11.293Z"
   },
   {
    "duration": 7,
    "start_time": "2023-02-09T06:15:11.325Z"
   },
   {
    "duration": 36,
    "start_time": "2023-02-09T06:15:11.336Z"
   },
   {
    "duration": 24,
    "start_time": "2023-02-09T06:15:11.374Z"
   },
   {
    "duration": 69,
    "start_time": "2023-02-09T06:15:11.399Z"
   },
   {
    "duration": 38,
    "start_time": "2023-02-09T06:15:11.471Z"
   },
   {
    "duration": 15,
    "start_time": "2023-02-09T06:15:11.511Z"
   },
   {
    "duration": 388,
    "start_time": "2023-02-09T06:15:11.529Z"
   },
   {
    "duration": 321,
    "start_time": "2023-02-09T06:15:11.919Z"
   },
   {
    "duration": 500,
    "start_time": "2023-02-09T06:15:12.242Z"
   },
   {
    "duration": 14,
    "start_time": "2023-02-09T06:15:12.744Z"
   },
   {
    "duration": 32,
    "start_time": "2023-02-09T06:15:12.760Z"
   },
   {
    "duration": 41,
    "start_time": "2023-02-09T06:15:12.838Z"
   },
   {
    "duration": 707,
    "start_time": "2023-02-09T06:15:12.881Z"
   },
   {
    "duration": 749,
    "start_time": "2023-02-09T06:15:13.590Z"
   },
   {
    "duration": 12,
    "start_time": "2023-02-09T06:15:14.342Z"
   },
   {
    "duration": 29,
    "start_time": "2023-02-09T06:15:14.357Z"
   },
   {
    "duration": 588,
    "start_time": "2023-02-09T06:15:14.388Z"
   },
   {
    "duration": 6,
    "start_time": "2023-02-09T06:15:14.979Z"
   },
   {
    "duration": 448,
    "start_time": "2023-02-09T06:15:15.037Z"
   },
   {
    "duration": 10,
    "start_time": "2023-02-09T06:15:15.487Z"
   },
   {
    "duration": 30,
    "start_time": "2023-02-09T06:15:15.499Z"
   },
   {
    "duration": 329,
    "start_time": "2023-02-09T06:15:15.531Z"
   },
   {
    "duration": 7,
    "start_time": "2023-02-09T06:15:15.862Z"
   },
   {
    "duration": 66,
    "start_time": "2023-02-09T06:15:15.870Z"
   },
   {
    "duration": 51,
    "start_time": "2023-02-09T06:15:15.939Z"
   },
   {
    "duration": 48,
    "start_time": "2023-02-09T06:15:15.991Z"
   },
   {
    "duration": 40,
    "start_time": "2023-02-09T06:15:16.041Z"
   },
   {
    "duration": 42,
    "start_time": "2023-02-09T06:15:16.084Z"
   },
   {
    "duration": 16,
    "start_time": "2023-02-09T06:15:16.128Z"
   },
   {
    "duration": 57,
    "start_time": "2023-02-09T06:15:16.146Z"
   },
   {
    "duration": 12,
    "start_time": "2023-02-09T06:15:16.205Z"
   },
   {
    "duration": 31,
    "start_time": "2023-02-09T06:15:16.219Z"
   },
   {
    "duration": 19,
    "start_time": "2023-02-09T06:15:16.252Z"
   },
   {
    "duration": 36,
    "start_time": "2023-02-09T06:15:16.273Z"
   },
   {
    "duration": 26,
    "start_time": "2023-02-09T06:15:16.311Z"
   }
  ],
  "kernelspec": {
   "display_name": "Python 3",
   "language": "python",
   "name": "python3"
  },
  "language_info": {
   "codemirror_mode": {
    "name": "ipython",
    "version": 3
   },
   "file_extension": ".py",
   "mimetype": "text/x-python",
   "name": "python",
   "nbconvert_exporter": "python",
   "pygments_lexer": "ipython3",
   "version": "3.7.0"
  },
  "toc": {
   "base_numbering": 1,
   "nav_menu": {},
   "number_sections": true,
   "sideBar": true,
   "skip_h1_title": true,
   "title_cell": "Table of Contents",
   "title_sidebar": "Contents",
   "toc_cell": false,
   "toc_position": {
    "height": "calc(100% - 180px)",
    "left": "10px",
    "top": "150px",
    "width": "340.188px"
   },
   "toc_section_display": true,
   "toc_window_display": true
  }
 },
 "nbformat": 4,
 "nbformat_minor": 2
}
