{
 "cells": [
  {
   "cell_type": "markdown",
   "metadata": {},
   "source": [
    "# Исследование продаж видеоигр\n",
    "\n",
    "Из открытых источников доступны исторические данные о продажах игр, оценки пользователей и экспертов, жанры и платформы."
   ]
  },
  {
   "cell_type": "markdown",
   "metadata": {},
   "source": [
    "## Цели проекта"
   ]
  },
  {
   "cell_type": "markdown",
   "metadata": {},
   "source": [
    "Главная цель проекта - установление закономерностей, определяющих успешность видеоигры."
   ]
  },
  {
   "cell_type": "markdown",
   "metadata": {},
   "source": [
    "## Перечень столбцов"
   ]
  },
  {
   "cell_type": "markdown",
   "metadata": {},
   "source": [
    "- Name — название игры\n",
    "- Platform — платформа\n",
    "- Year_of_Release — год выпуска\n",
    "- Genre — жанр игры\n",
    "- NA_sales — продажи в Северной Америке (миллионы проданных копий)\n",
    "- EU_sales — продажи в Европе (миллионы проданных копий)\n",
    "- JP_sales — продажи в Японии (миллионы проданных копий)\n",
    "- Other_sales — продажи в других странах (миллионы проданных копий)\n",
    "- Critic_Score — оценка критиков (максимум 100)\n",
    "- User_Score — оценка пользователей (максимум 10)\n",
    "- Rating — рейтинг от организации ESRB (англ. Entertainment Software Rating Board). Эта ассоциация определяет рейтинг компьютерных игр и присваивает им подходящую возрастную категорию."
   ]
  },
  {
   "cell_type": "markdown",
   "metadata": {},
   "source": [
    "### Извучение данных"
   ]
  },
  {
   "cell_type": "code",
   "execution_count": 1,
   "metadata": {},
   "outputs": [],
   "source": [
    "#блок загрузки библиотек\n",
    "import pandas as pd \n",
    "import matplotlib.pyplot as plt\n",
    "import numpy as np\n",
    "import seaborn as sns\n",
    "import matplotlib\n",
    "from scipy import stats as st\n",
    "\n",
    "%matplotlib inline\n",
    "matplotlib.rcParams['figure.figsize'] = (12,8)\n",
    "\n",
    "sns.set()"
   ]
  },
  {
   "cell_type": "code",
   "execution_count": 3,
   "metadata": {},
   "outputs": [],
   "source": [
    "#датасет\n",
    "data = pd.read_csv(r'C:\\Users\\User\\My Jupyter Projects\\UPLOAD\\Изучение закономерностей определяющих успешность игр\\games.csv')"
   ]
  },
  {
   "cell_type": "code",
   "execution_count": 4,
   "metadata": {},
   "outputs": [
    {
     "data": {
      "text/html": [
       "<div>\n",
       "<style scoped>\n",
       "    .dataframe tbody tr th:only-of-type {\n",
       "        vertical-align: middle;\n",
       "    }\n",
       "\n",
       "    .dataframe tbody tr th {\n",
       "        vertical-align: top;\n",
       "    }\n",
       "\n",
       "    .dataframe thead th {\n",
       "        text-align: right;\n",
       "    }\n",
       "</style>\n",
       "<table border=\"1\" class=\"dataframe\">\n",
       "  <thead>\n",
       "    <tr style=\"text-align: right;\">\n",
       "      <th></th>\n",
       "      <th>Name</th>\n",
       "      <th>Platform</th>\n",
       "      <th>Year_of_Release</th>\n",
       "      <th>Genre</th>\n",
       "      <th>NA_sales</th>\n",
       "      <th>EU_sales</th>\n",
       "      <th>JP_sales</th>\n",
       "      <th>Other_sales</th>\n",
       "      <th>Critic_Score</th>\n",
       "      <th>User_Score</th>\n",
       "      <th>Rating</th>\n",
       "    </tr>\n",
       "  </thead>\n",
       "  <tbody>\n",
       "    <tr>\n",
       "      <th>0</th>\n",
       "      <td>Wii Sports</td>\n",
       "      <td>Wii</td>\n",
       "      <td>2006.0</td>\n",
       "      <td>Sports</td>\n",
       "      <td>41.36</td>\n",
       "      <td>28.96</td>\n",
       "      <td>3.77</td>\n",
       "      <td>8.45</td>\n",
       "      <td>76.0</td>\n",
       "      <td>8</td>\n",
       "      <td>E</td>\n",
       "    </tr>\n",
       "    <tr>\n",
       "      <th>1</th>\n",
       "      <td>Super Mario Bros.</td>\n",
       "      <td>NES</td>\n",
       "      <td>1985.0</td>\n",
       "      <td>Platform</td>\n",
       "      <td>29.08</td>\n",
       "      <td>3.58</td>\n",
       "      <td>6.81</td>\n",
       "      <td>0.77</td>\n",
       "      <td>NaN</td>\n",
       "      <td>NaN</td>\n",
       "      <td>NaN</td>\n",
       "    </tr>\n",
       "    <tr>\n",
       "      <th>2</th>\n",
       "      <td>Mario Kart Wii</td>\n",
       "      <td>Wii</td>\n",
       "      <td>2008.0</td>\n",
       "      <td>Racing</td>\n",
       "      <td>15.68</td>\n",
       "      <td>12.76</td>\n",
       "      <td>3.79</td>\n",
       "      <td>3.29</td>\n",
       "      <td>82.0</td>\n",
       "      <td>8.3</td>\n",
       "      <td>E</td>\n",
       "    </tr>\n",
       "    <tr>\n",
       "      <th>3</th>\n",
       "      <td>Wii Sports Resort</td>\n",
       "      <td>Wii</td>\n",
       "      <td>2009.0</td>\n",
       "      <td>Sports</td>\n",
       "      <td>15.61</td>\n",
       "      <td>10.93</td>\n",
       "      <td>3.28</td>\n",
       "      <td>2.95</td>\n",
       "      <td>80.0</td>\n",
       "      <td>8</td>\n",
       "      <td>E</td>\n",
       "    </tr>\n",
       "    <tr>\n",
       "      <th>4</th>\n",
       "      <td>Pokemon Red/Pokemon Blue</td>\n",
       "      <td>GB</td>\n",
       "      <td>1996.0</td>\n",
       "      <td>Role-Playing</td>\n",
       "      <td>11.27</td>\n",
       "      <td>8.89</td>\n",
       "      <td>10.22</td>\n",
       "      <td>1.00</td>\n",
       "      <td>NaN</td>\n",
       "      <td>NaN</td>\n",
       "      <td>NaN</td>\n",
       "    </tr>\n",
       "  </tbody>\n",
       "</table>\n",
       "</div>"
      ],
      "text/plain": [
       "                       Name Platform  Year_of_Release         Genre  NA_sales  \\\n",
       "0                Wii Sports      Wii           2006.0        Sports     41.36   \n",
       "1         Super Mario Bros.      NES           1985.0      Platform     29.08   \n",
       "2            Mario Kart Wii      Wii           2008.0        Racing     15.68   \n",
       "3         Wii Sports Resort      Wii           2009.0        Sports     15.61   \n",
       "4  Pokemon Red/Pokemon Blue       GB           1996.0  Role-Playing     11.27   \n",
       "\n",
       "   EU_sales  JP_sales  Other_sales  Critic_Score User_Score Rating  \n",
       "0     28.96      3.77         8.45          76.0          8      E  \n",
       "1      3.58      6.81         0.77           NaN        NaN    NaN  \n",
       "2     12.76      3.79         3.29          82.0        8.3      E  \n",
       "3     10.93      3.28         2.95          80.0          8      E  \n",
       "4      8.89     10.22         1.00           NaN        NaN    NaN  "
      ]
     },
     "execution_count": 4,
     "metadata": {},
     "output_type": "execute_result"
    }
   ],
   "source": [
    "#5 строк\n",
    "data.head()"
   ]
  },
  {
   "cell_type": "code",
   "execution_count": 5,
   "metadata": {
    "scrolled": false
   },
   "outputs": [
    {
     "name": "stdout",
     "output_type": "stream",
     "text": [
      "<class 'pandas.core.frame.DataFrame'>\n",
      "RangeIndex: 16715 entries, 0 to 16714\n",
      "Data columns (total 11 columns):\n",
      " #   Column           Non-Null Count  Dtype  \n",
      "---  ------           --------------  -----  \n",
      " 0   Name             16713 non-null  object \n",
      " 1   Platform         16715 non-null  object \n",
      " 2   Year_of_Release  16446 non-null  float64\n",
      " 3   Genre            16713 non-null  object \n",
      " 4   NA_sales         16715 non-null  float64\n",
      " 5   EU_sales         16715 non-null  float64\n",
      " 6   JP_sales         16715 non-null  float64\n",
      " 7   Other_sales      16715 non-null  float64\n",
      " 8   Critic_Score     8137 non-null   float64\n",
      " 9   User_Score       10014 non-null  object \n",
      " 10  Rating           9949 non-null   object \n",
      "dtypes: float64(6), object(5)\n",
      "memory usage: 1.4+ MB\n"
     ]
    }
   ],
   "source": [
    "#общая информация\n",
    "data.info()"
   ]
  },
  {
   "cell_type": "markdown",
   "metadata": {},
   "source": [
    "    \n",
    "Импортированы все необходимые бибилиотеки. Таблица выгружена и присвоена переменной data. \n",
    "Изучив типы данных, согласно таблице выше, можно заключить, что необходимо изменить тип данных в следующих столбцах: \n",
    "- \"Year_of_Release\" на int\n",
    "- \"User_Score\" на float\n",
    "\n",
    "В данных есть пропуски. Проведем их анализ ниже."
   ]
  },
  {
   "cell_type": "markdown",
   "metadata": {},
   "source": [
    "### Предобработка данных"
   ]
  },
  {
   "cell_type": "markdown",
   "metadata": {},
   "source": [
    "- TO DO:\n",
    "\n",
    "\n",
    "    - Заменить названия столбцов (привести к нижнему регистру);\n",
    "    - Преобразовать данные в нужные тип \\ обработать пропуски при необходимости;\n",
    "    - Посчитать суммарные продажи во всех регионах и записать их в отдельный столбец."
   ]
  },
  {
   "cell_type": "markdown",
   "metadata": {},
   "source": [
    "#### Замена названий столбцов"
   ]
  },
  {
   "cell_type": "code",
   "execution_count": 6,
   "metadata": {},
   "outputs": [],
   "source": [
    "#приведение к нижнему регистру названий столбцов\n",
    "new_col = []\n",
    "for i in data.columns:\n",
    "    new_col.append(i.lower())\n",
    "data.columns = new_col"
   ]
  },
  {
   "cell_type": "code",
   "execution_count": 7,
   "metadata": {},
   "outputs": [
    {
     "data": {
      "text/plain": [
       "Index(['name', 'platform', 'year_of_release', 'genre', 'na_sales', 'eu_sales',\n",
       "       'jp_sales', 'other_sales', 'critic_score', 'user_score', 'rating'],\n",
       "      dtype='object')"
      ]
     },
     "execution_count": 7,
     "metadata": {},
     "output_type": "execute_result"
    }
   ],
   "source": [
    "data.columns"
   ]
  },
  {
   "cell_type": "markdown",
   "metadata": {},
   "source": [
    "#### Преобразование данных к нужным типам \\ обработка пропусков"
   ]
  },
  {
   "cell_type": "code",
   "execution_count": 8,
   "metadata": {},
   "outputs": [
    {
     "data": {
      "text/html": [
       "<div>\n",
       "<style scoped>\n",
       "    .dataframe tbody tr th:only-of-type {\n",
       "        vertical-align: middle;\n",
       "    }\n",
       "\n",
       "    .dataframe tbody tr th {\n",
       "        vertical-align: top;\n",
       "    }\n",
       "\n",
       "    .dataframe thead th {\n",
       "        text-align: right;\n",
       "    }\n",
       "</style>\n",
       "<table border=\"1\" class=\"dataframe\">\n",
       "  <thead>\n",
       "    <tr style=\"text-align: right;\">\n",
       "      <th></th>\n",
       "      <th>0</th>\n",
       "    </tr>\n",
       "  </thead>\n",
       "  <tbody>\n",
       "    <tr>\n",
       "      <th>name</th>\n",
       "      <td>2</td>\n",
       "    </tr>\n",
       "    <tr>\n",
       "      <th>platform</th>\n",
       "      <td>0</td>\n",
       "    </tr>\n",
       "    <tr>\n",
       "      <th>year_of_release</th>\n",
       "      <td>269</td>\n",
       "    </tr>\n",
       "    <tr>\n",
       "      <th>genre</th>\n",
       "      <td>2</td>\n",
       "    </tr>\n",
       "    <tr>\n",
       "      <th>na_sales</th>\n",
       "      <td>0</td>\n",
       "    </tr>\n",
       "    <tr>\n",
       "      <th>eu_sales</th>\n",
       "      <td>0</td>\n",
       "    </tr>\n",
       "    <tr>\n",
       "      <th>jp_sales</th>\n",
       "      <td>0</td>\n",
       "    </tr>\n",
       "    <tr>\n",
       "      <th>other_sales</th>\n",
       "      <td>0</td>\n",
       "    </tr>\n",
       "    <tr>\n",
       "      <th>critic_score</th>\n",
       "      <td>8578</td>\n",
       "    </tr>\n",
       "    <tr>\n",
       "      <th>user_score</th>\n",
       "      <td>6701</td>\n",
       "    </tr>\n",
       "    <tr>\n",
       "      <th>rating</th>\n",
       "      <td>6766</td>\n",
       "    </tr>\n",
       "  </tbody>\n",
       "</table>\n",
       "</div>"
      ],
      "text/plain": [
       "                    0\n",
       "name                2\n",
       "platform            0\n",
       "year_of_release   269\n",
       "genre               2\n",
       "na_sales            0\n",
       "eu_sales            0\n",
       "jp_sales            0\n",
       "other_sales         0\n",
       "critic_score     8578\n",
       "user_score       6701\n",
       "rating           6766"
      ]
     },
     "execution_count": 8,
     "metadata": {},
     "output_type": "execute_result"
    }
   ],
   "source": [
    "#количество пропусков\n",
    "pd.isnull(data).sum().to_frame()"
   ]
  },
  {
   "cell_type": "code",
   "execution_count": 9,
   "metadata": {},
   "outputs": [
    {
     "data": {
      "text/html": [
       "<style  type=\"text/css\" >\n",
       "#T_273abbf0_1641_11ee_88c4_701ce7250f48row0_col0,#T_273abbf0_1641_11ee_88c4_701ce7250f48row1_col0,#T_273abbf0_1641_11ee_88c4_701ce7250f48row3_col0,#T_273abbf0_1641_11ee_88c4_701ce7250f48row4_col0,#T_273abbf0_1641_11ee_88c4_701ce7250f48row5_col0,#T_273abbf0_1641_11ee_88c4_701ce7250f48row6_col0,#T_273abbf0_1641_11ee_88c4_701ce7250f48row7_col0{\n",
       "            background-color:  #3b4cc0;\n",
       "            color:  #f1f1f1;\n",
       "        }#T_273abbf0_1641_11ee_88c4_701ce7250f48row2_col0{\n",
       "            background-color:  #4358cb;\n",
       "            color:  #f1f1f1;\n",
       "        }#T_273abbf0_1641_11ee_88c4_701ce7250f48row8_col0{\n",
       "            background-color:  #b40426;\n",
       "            color:  #f1f1f1;\n",
       "        }#T_273abbf0_1641_11ee_88c4_701ce7250f48row9_col0{\n",
       "            background-color:  #f08b6e;\n",
       "            color:  #000000;\n",
       "        }#T_273abbf0_1641_11ee_88c4_701ce7250f48row10_col0{\n",
       "            background-color:  #ef886b;\n",
       "            color:  #000000;\n",
       "        }</style><table id=\"T_273abbf0_1641_11ee_88c4_701ce7250f48\" ><thead>    <tr>        <th class=\"blank level0\" ></th>        <th class=\"col_heading level0 col0\" >0</th>    </tr></thead><tbody>\n",
       "                <tr>\n",
       "                        <th id=\"T_273abbf0_1641_11ee_88c4_701ce7250f48level0_row0\" class=\"row_heading level0 row0\" >name</th>\n",
       "                        <td id=\"T_273abbf0_1641_11ee_88c4_701ce7250f48row0_col0\" class=\"data row0 col0\" >0.000000</td>\n",
       "            </tr>\n",
       "            <tr>\n",
       "                        <th id=\"T_273abbf0_1641_11ee_88c4_701ce7250f48level0_row1\" class=\"row_heading level0 row1\" >platform</th>\n",
       "                        <td id=\"T_273abbf0_1641_11ee_88c4_701ce7250f48row1_col0\" class=\"data row1 col0\" >0.000000</td>\n",
       "            </tr>\n",
       "            <tr>\n",
       "                        <th id=\"T_273abbf0_1641_11ee_88c4_701ce7250f48level0_row2\" class=\"row_heading level0 row2\" >year_of_release</th>\n",
       "                        <td id=\"T_273abbf0_1641_11ee_88c4_701ce7250f48row2_col0\" class=\"data row2 col0\" >1.600000</td>\n",
       "            </tr>\n",
       "            <tr>\n",
       "                        <th id=\"T_273abbf0_1641_11ee_88c4_701ce7250f48level0_row3\" class=\"row_heading level0 row3\" >genre</th>\n",
       "                        <td id=\"T_273abbf0_1641_11ee_88c4_701ce7250f48row3_col0\" class=\"data row3 col0\" >0.000000</td>\n",
       "            </tr>\n",
       "            <tr>\n",
       "                        <th id=\"T_273abbf0_1641_11ee_88c4_701ce7250f48level0_row4\" class=\"row_heading level0 row4\" >na_sales</th>\n",
       "                        <td id=\"T_273abbf0_1641_11ee_88c4_701ce7250f48row4_col0\" class=\"data row4 col0\" >0.000000</td>\n",
       "            </tr>\n",
       "            <tr>\n",
       "                        <th id=\"T_273abbf0_1641_11ee_88c4_701ce7250f48level0_row5\" class=\"row_heading level0 row5\" >eu_sales</th>\n",
       "                        <td id=\"T_273abbf0_1641_11ee_88c4_701ce7250f48row5_col0\" class=\"data row5 col0\" >0.000000</td>\n",
       "            </tr>\n",
       "            <tr>\n",
       "                        <th id=\"T_273abbf0_1641_11ee_88c4_701ce7250f48level0_row6\" class=\"row_heading level0 row6\" >jp_sales</th>\n",
       "                        <td id=\"T_273abbf0_1641_11ee_88c4_701ce7250f48row6_col0\" class=\"data row6 col0\" >0.000000</td>\n",
       "            </tr>\n",
       "            <tr>\n",
       "                        <th id=\"T_273abbf0_1641_11ee_88c4_701ce7250f48level0_row7\" class=\"row_heading level0 row7\" >other_sales</th>\n",
       "                        <td id=\"T_273abbf0_1641_11ee_88c4_701ce7250f48row7_col0\" class=\"data row7 col0\" >0.000000</td>\n",
       "            </tr>\n",
       "            <tr>\n",
       "                        <th id=\"T_273abbf0_1641_11ee_88c4_701ce7250f48level0_row8\" class=\"row_heading level0 row8\" >critic_score</th>\n",
       "                        <td id=\"T_273abbf0_1641_11ee_88c4_701ce7250f48row8_col0\" class=\"data row8 col0\" >51.300000</td>\n",
       "            </tr>\n",
       "            <tr>\n",
       "                        <th id=\"T_273abbf0_1641_11ee_88c4_701ce7250f48level0_row9\" class=\"row_heading level0 row9\" >user_score</th>\n",
       "                        <td id=\"T_273abbf0_1641_11ee_88c4_701ce7250f48row9_col0\" class=\"data row9 col0\" >40.100000</td>\n",
       "            </tr>\n",
       "            <tr>\n",
       "                        <th id=\"T_273abbf0_1641_11ee_88c4_701ce7250f48level0_row10\" class=\"row_heading level0 row10\" >rating</th>\n",
       "                        <td id=\"T_273abbf0_1641_11ee_88c4_701ce7250f48row10_col0\" class=\"data row10 col0\" >40.500000</td>\n",
       "            </tr>\n",
       "    </tbody></table>"
      ],
      "text/plain": [
       "<pandas.io.formats.style.Styler at 0x19af0940>"
      ]
     },
     "execution_count": 9,
     "metadata": {},
     "output_type": "execute_result"
    }
   ],
   "source": [
    "#доля пропускав\n",
    "pd.DataFrame(round(data.isna().mean()*100,1)).style.background_gradient('coolwarm')"
   ]
  },
  {
   "cell_type": "markdown",
   "metadata": {},
   "source": [
    "##### name"
   ]
  },
  {
   "cell_type": "code",
   "execution_count": 10,
   "metadata": {},
   "outputs": [
    {
     "data": {
      "text/html": [
       "<div>\n",
       "<style scoped>\n",
       "    .dataframe tbody tr th:only-of-type {\n",
       "        vertical-align: middle;\n",
       "    }\n",
       "\n",
       "    .dataframe tbody tr th {\n",
       "        vertical-align: top;\n",
       "    }\n",
       "\n",
       "    .dataframe thead th {\n",
       "        text-align: right;\n",
       "    }\n",
       "</style>\n",
       "<table border=\"1\" class=\"dataframe\">\n",
       "  <thead>\n",
       "    <tr style=\"text-align: right;\">\n",
       "      <th></th>\n",
       "      <th>name</th>\n",
       "      <th>platform</th>\n",
       "      <th>year_of_release</th>\n",
       "      <th>genre</th>\n",
       "      <th>na_sales</th>\n",
       "      <th>eu_sales</th>\n",
       "      <th>jp_sales</th>\n",
       "      <th>other_sales</th>\n",
       "      <th>critic_score</th>\n",
       "      <th>user_score</th>\n",
       "      <th>rating</th>\n",
       "    </tr>\n",
       "  </thead>\n",
       "  <tbody>\n",
       "    <tr>\n",
       "      <th>659</th>\n",
       "      <td>NaN</td>\n",
       "      <td>GEN</td>\n",
       "      <td>1993.0</td>\n",
       "      <td>NaN</td>\n",
       "      <td>1.78</td>\n",
       "      <td>0.53</td>\n",
       "      <td>0.00</td>\n",
       "      <td>0.08</td>\n",
       "      <td>NaN</td>\n",
       "      <td>NaN</td>\n",
       "      <td>NaN</td>\n",
       "    </tr>\n",
       "    <tr>\n",
       "      <th>14244</th>\n",
       "      <td>NaN</td>\n",
       "      <td>GEN</td>\n",
       "      <td>1993.0</td>\n",
       "      <td>NaN</td>\n",
       "      <td>0.00</td>\n",
       "      <td>0.00</td>\n",
       "      <td>0.03</td>\n",
       "      <td>0.00</td>\n",
       "      <td>NaN</td>\n",
       "      <td>NaN</td>\n",
       "      <td>NaN</td>\n",
       "    </tr>\n",
       "  </tbody>\n",
       "</table>\n",
       "</div>"
      ],
      "text/plain": [
       "      name platform  year_of_release genre  na_sales  eu_sales  jp_sales  \\\n",
       "659    NaN      GEN           1993.0   NaN      1.78      0.53      0.00   \n",
       "14244  NaN      GEN           1993.0   NaN      0.00      0.00      0.03   \n",
       "\n",
       "       other_sales  critic_score user_score rating  \n",
       "659           0.08           NaN        NaN    NaN  \n",
       "14244         0.00           NaN        NaN    NaN  "
      ]
     },
     "execution_count": 10,
     "metadata": {},
     "output_type": "execute_result"
    }
   ],
   "source": [
    "#строки с 2мя пропусками в 'name'\n",
    "data[data.name.isna()]"
   ]
  },
  {
   "cell_type": "code",
   "execution_count": 11,
   "metadata": {},
   "outputs": [],
   "source": [
    "#удаление 2х строк без названия и жанра\n",
    "data.drop(data[data.name.isna()].index, inplace=True)"
   ]
  },
  {
   "cell_type": "markdown",
   "metadata": {},
   "source": [
    "Столбец \"name\" отвечает за название продукта, \"genre\" - за жанр. Восстановить пропуски в этих ячейках не представляется возможным, потому как нет данных согласно которым это можно сделать. Наиболее верное решение в этом случае - удаление строк. Вероятно, пропуски возникли по причине некорректного внесения данных."
   ]
  },
  {
   "cell_type": "markdown",
   "metadata": {},
   "source": [
    "##### release date"
   ]
  },
  {
   "cell_type": "code",
   "execution_count": 12,
   "metadata": {},
   "outputs": [],
   "source": [
    "#удаление строк с неизвестной датой релиза\n",
    "data.drop(data[data.year_of_release.isna()].index, inplace=True)"
   ]
  },
  {
   "cell_type": "code",
   "execution_count": 13,
   "metadata": {},
   "outputs": [],
   "source": [
    "#приведем тип float к типу int\n",
    "data.year_of_release = data.year_of_release.astype('int')"
   ]
  },
  {
   "cell_type": "markdown",
   "metadata": {},
   "source": [
    "##### rating"
   ]
  },
  {
   "cell_type": "markdown",
   "metadata": {},
   "source": [
    "Далее обратимся к уникальным значениям столбцов:"
   ]
  },
  {
   "cell_type": "code",
   "execution_count": 14,
   "metadata": {},
   "outputs": [
    {
     "data": {
      "text/plain": [
       "array(['E', nan, 'M', 'T', 'E10+', 'K-A', 'AO', 'EC', 'RP'], dtype=object)"
      ]
     },
     "metadata": {},
     "output_type": "display_data"
    }
   ],
   "source": [
    "#уникальные значения рейтинга\n",
    "display(data.rating.unique())"
   ]
  },
  {
   "cell_type": "markdown",
   "metadata": {},
   "source": [
    "\n",
    "Согласно Entertainment Software Association, рейтинги имеют следующие буквенные обозначения:\n",
    "- «EC» («Early childhood») — «Для детей младшего возраста»\n",
    "- «E» («Everyone») — «Для всех»\n",
    "- «E10+» («Everyone 10 and older») — «Для всех от 10 лет и старше»\n",
    "- «T» («Teen») — «Подросткам»\n",
    "- «M» («Mature») — «Для взрослых»\n",
    "- «AO» («Adults Only 18+») — «Только для взрослых»\n",
    "- «RP» («Rating Pending») — «Рейтинг ожидается» (продукт был отправлен в ESRB и ожидает присвоения рейтинга).\n",
    "\n",
    "Также среди уникальных значений присутствует аббревиатура 'K-A' (\"Kids to Adults\"). Позже эта категория получила для обозначения литеру \"E\". Соответственно приведем строки с 'K-A' в ячейках к \"E\"."
   ]
  },
  {
   "cell_type": "code",
   "execution_count": 15,
   "metadata": {},
   "outputs": [],
   "source": [
    "#замена обозначения 'K-A' на 'E'\n",
    "data.loc[data.rating == 'K-A', 'rating'] = 'E'"
   ]
  },
  {
   "cell_type": "markdown",
   "metadata": {},
   "source": [
    "Значения NaN в столбце 'rating' оставим без изменений. Удаление их нецелесообразно, в связи с количеством. Замена не представляется возможной."
   ]
  },
  {
   "cell_type": "markdown",
   "metadata": {},
   "source": [
    "##### critic_score"
   ]
  },
  {
   "cell_type": "code",
   "execution_count": 16,
   "metadata": {},
   "outputs": [
    {
     "data": {
      "text/plain": [
       "array([76., nan, 82., 80., 89., 58., 87., 91., 61., 97., 95., 77., 88.,\n",
       "       83., 94., 93., 85., 86., 98., 96., 90., 84., 73., 74., 78., 92.,\n",
       "       71., 72., 68., 62., 49., 67., 81., 66., 56., 79., 70., 59., 64.,\n",
       "       75., 60., 63., 69., 50., 25., 42., 44., 55., 48., 57., 29., 47.,\n",
       "       65., 54., 20., 53., 37., 38., 33., 52., 30., 32., 43., 45., 51.,\n",
       "       40., 46., 39., 34., 41., 36., 31., 27., 35., 26., 19., 28., 23.,\n",
       "       24., 21., 17., 13.])"
      ]
     },
     "metadata": {},
     "output_type": "display_data"
    }
   ],
   "source": [
    "#уникальные значения для оценок критиков\n",
    "display(data.critic_score.unique())"
   ]
  },
  {
   "cell_type": "markdown",
   "metadata": {},
   "source": [
    "Восстановить оценки критиков, там где они отсутствуют не представляется возможным. Вероятно, производители тех игр, в ячейках \"critic_score\" которых - \"NaN\", не сотрудничают с Entertainment Software Association."
   ]
  },
  {
   "cell_type": "markdown",
   "metadata": {},
   "source": [
    "##### user_score"
   ]
  },
  {
   "cell_type": "code",
   "execution_count": 17,
   "metadata": {},
   "outputs": [
    {
     "data": {
      "text/plain": [
       "array(['8', nan, '8.3', '8.5', '6.6', '8.4', '8.6', '7.7', '6.3', '7.4',\n",
       "       '8.2', '9', '7.9', '8.1', '8.7', '7.1', '3.4', '5.3', '4.8', '3.2',\n",
       "       '8.9', '6.4', '7.8', '7.5', '2.6', '7.2', '9.2', '7', '7.3', '4.3',\n",
       "       '7.6', '5.7', '5', '9.1', '6.5', 'tbd', '8.8', '6.9', '9.4', '6.8',\n",
       "       '6.1', '6.7', '5.4', '4', '4.9', '4.5', '9.3', '6.2', '4.2', '6',\n",
       "       '3.7', '4.1', '5.8', '5.6', '5.5', '4.4', '4.6', '5.9', '3.9',\n",
       "       '3.1', '2.9', '5.2', '3.3', '4.7', '5.1', '3.5', '2.5', '1.9', '3',\n",
       "       '2.7', '2.2', '2', '9.5', '2.1', '3.6', '2.8', '1.8', '3.8', '0',\n",
       "       '1.6', '9.6', '2.4', '1.7', '1.1', '0.3', '1.5', '0.7', '1.2',\n",
       "       '2.3', '0.5', '1.3', '0.2', '0.6', '1.4', '0.9', '1', '9.7'],\n",
       "      dtype=object)"
      ]
     },
     "execution_count": 17,
     "metadata": {},
     "output_type": "execute_result"
    }
   ],
   "source": [
    "#уникальные значения для оценок пользователей\n",
    "data.user_score.unique()"
   ]
  },
  {
   "cell_type": "markdown",
   "metadata": {},
   "source": [
    "В перечне уникальных значений, присутствует значение 'tbd' (to be determined), т.е. рейтинг ожидается. Для приведения столбца, необходимо исключить строковые значения, поэтому изменим содержание таких ячеек на NaN."
   ]
  },
  {
   "cell_type": "code",
   "execution_count": 18,
   "metadata": {},
   "outputs": [],
   "source": [
    "#используем функцию для замены 'tbd' на NaN\n",
    "def change_tbd(w_value, cor_value):\n",
    "    data.user_score = data.user_score.replace(w_value, cor_value)\n",
    "change_tbd('tbd', np.NaN)"
   ]
  },
  {
   "cell_type": "code",
   "execution_count": 19,
   "metadata": {
    "scrolled": true
   },
   "outputs": [
    {
     "data": {
      "text/plain": [
       "array(['8', nan, '8.3', '8.5', '6.6', '8.4', '8.6', '7.7', '6.3', '7.4',\n",
       "       '8.2', '9', '7.9', '8.1', '8.7', '7.1', '3.4', '5.3', '4.8', '3.2',\n",
       "       '8.9', '6.4', '7.8', '7.5', '2.6', '7.2', '9.2', '7', '7.3', '4.3',\n",
       "       '7.6', '5.7', '5', '9.1', '6.5', '8.8', '6.9', '9.4', '6.8', '6.1',\n",
       "       '6.7', '5.4', '4', '4.9', '4.5', '9.3', '6.2', '4.2', '6', '3.7',\n",
       "       '4.1', '5.8', '5.6', '5.5', '4.4', '4.6', '5.9', '3.9', '3.1',\n",
       "       '2.9', '5.2', '3.3', '4.7', '5.1', '3.5', '2.5', '1.9', '3', '2.7',\n",
       "       '2.2', '2', '9.5', '2.1', '3.6', '2.8', '1.8', '3.8', '0', '1.6',\n",
       "       '9.6', '2.4', '1.7', '1.1', '0.3', '1.5', '0.7', '1.2', '2.3',\n",
       "       '0.5', '1.3', '0.2', '0.6', '1.4', '0.9', '1', '9.7'], dtype=object)"
      ]
     },
     "execution_count": 19,
     "metadata": {},
     "output_type": "execute_result"
    }
   ],
   "source": [
    "#чек\n",
    "data.user_score.unique()"
   ]
  },
  {
   "cell_type": "markdown",
   "metadata": {},
   "source": [
    "Значения NaN остаются без изменений. Удаление нецелесообразно, по причине количества. Причиной же отсутствия рейтинга может быть то, что игры со значениями NaN не оценивались."
   ]
  },
  {
   "cell_type": "code",
   "execution_count": 20,
   "metadata": {},
   "outputs": [],
   "source": [
    "#приведем тип user_score к float\n",
    "data.user_score = data.user_score.astype('float')"
   ]
  },
  {
   "cell_type": "code",
   "execution_count": 21,
   "metadata": {},
   "outputs": [
    {
     "name": "stdout",
     "output_type": "stream",
     "text": [
      "<class 'pandas.core.frame.DataFrame'>\n",
      "Int64Index: 16444 entries, 0 to 16714\n",
      "Data columns (total 11 columns):\n",
      " #   Column           Non-Null Count  Dtype  \n",
      "---  ------           --------------  -----  \n",
      " 0   name             16444 non-null  object \n",
      " 1   platform         16444 non-null  object \n",
      " 2   year_of_release  16444 non-null  int32  \n",
      " 3   genre            16444 non-null  object \n",
      " 4   na_sales         16444 non-null  float64\n",
      " 5   eu_sales         16444 non-null  float64\n",
      " 6   jp_sales         16444 non-null  float64\n",
      " 7   other_sales      16444 non-null  float64\n",
      " 8   critic_score     7983 non-null   float64\n",
      " 9   user_score       7463 non-null   float64\n",
      " 10  rating           9768 non-null   object \n",
      "dtypes: float64(6), int32(1), object(4)\n",
      "memory usage: 1.4+ MB\n"
     ]
    }
   ],
   "source": [
    "#чек\n",
    "data.info()"
   ]
  },
  {
   "cell_type": "markdown",
   "metadata": {},
   "source": [
    "#### Подсчет суммарных продаж во всех регионах"
   ]
  },
  {
   "cell_type": "code",
   "execution_count": 22,
   "metadata": {},
   "outputs": [],
   "source": [
    "#созние нового столбца с суммарным количеством продаж\n",
    "data['sum_sales'] = data[['na_sales', 'eu_sales', 'jp_sales', 'other_sales']].sum(axis=1)"
   ]
  },
  {
   "cell_type": "code",
   "execution_count": 23,
   "metadata": {
    "scrolled": true
   },
   "outputs": [
    {
     "data": {
      "text/html": [
       "<div>\n",
       "<style scoped>\n",
       "    .dataframe tbody tr th:only-of-type {\n",
       "        vertical-align: middle;\n",
       "    }\n",
       "\n",
       "    .dataframe tbody tr th {\n",
       "        vertical-align: top;\n",
       "    }\n",
       "\n",
       "    .dataframe thead th {\n",
       "        text-align: right;\n",
       "    }\n",
       "</style>\n",
       "<table border=\"1\" class=\"dataframe\">\n",
       "  <thead>\n",
       "    <tr style=\"text-align: right;\">\n",
       "      <th></th>\n",
       "      <th>name</th>\n",
       "      <th>platform</th>\n",
       "      <th>year_of_release</th>\n",
       "      <th>genre</th>\n",
       "      <th>na_sales</th>\n",
       "      <th>eu_sales</th>\n",
       "      <th>jp_sales</th>\n",
       "      <th>other_sales</th>\n",
       "      <th>critic_score</th>\n",
       "      <th>user_score</th>\n",
       "      <th>rating</th>\n",
       "      <th>sum_sales</th>\n",
       "    </tr>\n",
       "  </thead>\n",
       "  <tbody>\n",
       "    <tr>\n",
       "      <th>0</th>\n",
       "      <td>Wii Sports</td>\n",
       "      <td>Wii</td>\n",
       "      <td>2006</td>\n",
       "      <td>Sports</td>\n",
       "      <td>41.36</td>\n",
       "      <td>28.96</td>\n",
       "      <td>3.77</td>\n",
       "      <td>8.45</td>\n",
       "      <td>76.0</td>\n",
       "      <td>8.0</td>\n",
       "      <td>E</td>\n",
       "      <td>82.54</td>\n",
       "    </tr>\n",
       "    <tr>\n",
       "      <th>1</th>\n",
       "      <td>Super Mario Bros.</td>\n",
       "      <td>NES</td>\n",
       "      <td>1985</td>\n",
       "      <td>Platform</td>\n",
       "      <td>29.08</td>\n",
       "      <td>3.58</td>\n",
       "      <td>6.81</td>\n",
       "      <td>0.77</td>\n",
       "      <td>NaN</td>\n",
       "      <td>NaN</td>\n",
       "      <td>NaN</td>\n",
       "      <td>40.24</td>\n",
       "    </tr>\n",
       "    <tr>\n",
       "      <th>2</th>\n",
       "      <td>Mario Kart Wii</td>\n",
       "      <td>Wii</td>\n",
       "      <td>2008</td>\n",
       "      <td>Racing</td>\n",
       "      <td>15.68</td>\n",
       "      <td>12.76</td>\n",
       "      <td>3.79</td>\n",
       "      <td>3.29</td>\n",
       "      <td>82.0</td>\n",
       "      <td>8.3</td>\n",
       "      <td>E</td>\n",
       "      <td>35.52</td>\n",
       "    </tr>\n",
       "    <tr>\n",
       "      <th>3</th>\n",
       "      <td>Wii Sports Resort</td>\n",
       "      <td>Wii</td>\n",
       "      <td>2009</td>\n",
       "      <td>Sports</td>\n",
       "      <td>15.61</td>\n",
       "      <td>10.93</td>\n",
       "      <td>3.28</td>\n",
       "      <td>2.95</td>\n",
       "      <td>80.0</td>\n",
       "      <td>8.0</td>\n",
       "      <td>E</td>\n",
       "      <td>32.77</td>\n",
       "    </tr>\n",
       "    <tr>\n",
       "      <th>4</th>\n",
       "      <td>Pokemon Red/Pokemon Blue</td>\n",
       "      <td>GB</td>\n",
       "      <td>1996</td>\n",
       "      <td>Role-Playing</td>\n",
       "      <td>11.27</td>\n",
       "      <td>8.89</td>\n",
       "      <td>10.22</td>\n",
       "      <td>1.00</td>\n",
       "      <td>NaN</td>\n",
       "      <td>NaN</td>\n",
       "      <td>NaN</td>\n",
       "      <td>31.38</td>\n",
       "    </tr>\n",
       "    <tr>\n",
       "      <th>...</th>\n",
       "      <td>...</td>\n",
       "      <td>...</td>\n",
       "      <td>...</td>\n",
       "      <td>...</td>\n",
       "      <td>...</td>\n",
       "      <td>...</td>\n",
       "      <td>...</td>\n",
       "      <td>...</td>\n",
       "      <td>...</td>\n",
       "      <td>...</td>\n",
       "      <td>...</td>\n",
       "      <td>...</td>\n",
       "    </tr>\n",
       "    <tr>\n",
       "      <th>16710</th>\n",
       "      <td>Samurai Warriors: Sanada Maru</td>\n",
       "      <td>PS3</td>\n",
       "      <td>2016</td>\n",
       "      <td>Action</td>\n",
       "      <td>0.00</td>\n",
       "      <td>0.00</td>\n",
       "      <td>0.01</td>\n",
       "      <td>0.00</td>\n",
       "      <td>NaN</td>\n",
       "      <td>NaN</td>\n",
       "      <td>NaN</td>\n",
       "      <td>0.01</td>\n",
       "    </tr>\n",
       "    <tr>\n",
       "      <th>16711</th>\n",
       "      <td>LMA Manager 2007</td>\n",
       "      <td>X360</td>\n",
       "      <td>2006</td>\n",
       "      <td>Sports</td>\n",
       "      <td>0.00</td>\n",
       "      <td>0.01</td>\n",
       "      <td>0.00</td>\n",
       "      <td>0.00</td>\n",
       "      <td>NaN</td>\n",
       "      <td>NaN</td>\n",
       "      <td>NaN</td>\n",
       "      <td>0.01</td>\n",
       "    </tr>\n",
       "    <tr>\n",
       "      <th>16712</th>\n",
       "      <td>Haitaka no Psychedelica</td>\n",
       "      <td>PSV</td>\n",
       "      <td>2016</td>\n",
       "      <td>Adventure</td>\n",
       "      <td>0.00</td>\n",
       "      <td>0.00</td>\n",
       "      <td>0.01</td>\n",
       "      <td>0.00</td>\n",
       "      <td>NaN</td>\n",
       "      <td>NaN</td>\n",
       "      <td>NaN</td>\n",
       "      <td>0.01</td>\n",
       "    </tr>\n",
       "    <tr>\n",
       "      <th>16713</th>\n",
       "      <td>Spirits &amp; Spells</td>\n",
       "      <td>GBA</td>\n",
       "      <td>2003</td>\n",
       "      <td>Platform</td>\n",
       "      <td>0.01</td>\n",
       "      <td>0.00</td>\n",
       "      <td>0.00</td>\n",
       "      <td>0.00</td>\n",
       "      <td>NaN</td>\n",
       "      <td>NaN</td>\n",
       "      <td>NaN</td>\n",
       "      <td>0.01</td>\n",
       "    </tr>\n",
       "    <tr>\n",
       "      <th>16714</th>\n",
       "      <td>Winning Post 8 2016</td>\n",
       "      <td>PSV</td>\n",
       "      <td>2016</td>\n",
       "      <td>Simulation</td>\n",
       "      <td>0.00</td>\n",
       "      <td>0.00</td>\n",
       "      <td>0.01</td>\n",
       "      <td>0.00</td>\n",
       "      <td>NaN</td>\n",
       "      <td>NaN</td>\n",
       "      <td>NaN</td>\n",
       "      <td>0.01</td>\n",
       "    </tr>\n",
       "  </tbody>\n",
       "</table>\n",
       "<p>16444 rows × 12 columns</p>\n",
       "</div>"
      ],
      "text/plain": [
       "                                name platform  year_of_release         genre  \\\n",
       "0                         Wii Sports      Wii             2006        Sports   \n",
       "1                  Super Mario Bros.      NES             1985      Platform   \n",
       "2                     Mario Kart Wii      Wii             2008        Racing   \n",
       "3                  Wii Sports Resort      Wii             2009        Sports   \n",
       "4           Pokemon Red/Pokemon Blue       GB             1996  Role-Playing   \n",
       "...                              ...      ...              ...           ...   \n",
       "16710  Samurai Warriors: Sanada Maru      PS3             2016        Action   \n",
       "16711               LMA Manager 2007     X360             2006        Sports   \n",
       "16712        Haitaka no Psychedelica      PSV             2016     Adventure   \n",
       "16713               Spirits & Spells      GBA             2003      Platform   \n",
       "16714            Winning Post 8 2016      PSV             2016    Simulation   \n",
       "\n",
       "       na_sales  eu_sales  jp_sales  other_sales  critic_score  user_score  \\\n",
       "0         41.36     28.96      3.77         8.45          76.0         8.0   \n",
       "1         29.08      3.58      6.81         0.77           NaN         NaN   \n",
       "2         15.68     12.76      3.79         3.29          82.0         8.3   \n",
       "3         15.61     10.93      3.28         2.95          80.0         8.0   \n",
       "4         11.27      8.89     10.22         1.00           NaN         NaN   \n",
       "...         ...       ...       ...          ...           ...         ...   \n",
       "16710      0.00      0.00      0.01         0.00           NaN         NaN   \n",
       "16711      0.00      0.01      0.00         0.00           NaN         NaN   \n",
       "16712      0.00      0.00      0.01         0.00           NaN         NaN   \n",
       "16713      0.01      0.00      0.00         0.00           NaN         NaN   \n",
       "16714      0.00      0.00      0.01         0.00           NaN         NaN   \n",
       "\n",
       "      rating  sum_sales  \n",
       "0          E      82.54  \n",
       "1        NaN      40.24  \n",
       "2          E      35.52  \n",
       "3          E      32.77  \n",
       "4        NaN      31.38  \n",
       "...      ...        ...  \n",
       "16710    NaN       0.01  \n",
       "16711    NaN       0.01  \n",
       "16712    NaN       0.01  \n",
       "16713    NaN       0.01  \n",
       "16714    NaN       0.01  \n",
       "\n",
       "[16444 rows x 12 columns]"
      ]
     },
     "execution_count": 23,
     "metadata": {},
     "output_type": "execute_result"
    }
   ],
   "source": [
    "#чек\n",
    "data"
   ]
  },
  {
   "cell_type": "markdown",
   "metadata": {},
   "source": [
    "#### Проверка явных дубликатов"
   ]
  },
  {
   "cell_type": "code",
   "execution_count": 24,
   "metadata": {},
   "outputs": [
    {
     "data": {
      "text/plain": [
       "0"
      ]
     },
     "execution_count": 24,
     "metadata": {},
     "output_type": "execute_result"
    }
   ],
   "source": [
    "#дубликаты\n",
    "data.duplicated().sum()"
   ]
  },
  {
   "cell_type": "markdown",
   "metadata": {},
   "source": [
    "\n",
    "На стадии предобработки необходимо подготовить данные к дальнейшему анализу. Были удалены пропуски в столбцах \"name\" и \"release date\". Общее количество удаленных строк 271 из 16715. В столбце user_score произведена замена значений tbd на nan, для того чтобы привести столбец к типу float. Также к типу int был приведен столбец с датой релиза. Явные дубликаты в данных отсутствуют.\n"
   ]
  },
  {
   "cell_type": "markdown",
   "metadata": {},
   "source": [
    "### Исследовательский анализ данных"
   ]
  },
  {
   "cell_type": "markdown",
   "metadata": {},
   "source": [
    "- TO DO:\n",
    "\n",
    "\n",
    "    - Посмотреть, сколько игр выпускалось в разные годы;\n",
    "    - Обзор платформ с наибольшими суммарными продажами;\n",
    "    - Взять данные за соответствующий актуальный период /выбрать несколько потенциально прибыльных платформ;\n",
    "    - Построить график «ящик с усами» по глобальным продажам игр в разбивке по платформам;\n",
    "    - Посмотреть, как влияют на продажи внутри одной популярной платформы отзывы пользователей и критиков;\n",
    "    - Посмотреть на общее распределение игр по жанрам."
   ]
  },
  {
   "cell_type": "markdown",
   "metadata": {},
   "source": [
    "#### Количество выпускаемых игр"
   ]
  },
  {
   "cell_type": "code",
   "execution_count": 25,
   "metadata": {
    "scrolled": false
   },
   "outputs": [
    {
     "data": {
      "image/png": "[encoded data removed]",
      "text/plain": [
       "<Figure size 1080x360 with 1 Axes>"
      ]
     },
     "metadata": {},
     "output_type": "display_data"
    }
   ],
   "source": [
    "#количество выпускаемых игр по годам\n",
    "ax = data.groupby('year_of_release')['name'].count().plot(grid=True, figsize=(15,5))\n",
    "ax.set_title('Количество выпускаемых игр по годам')\n",
    "ax.set_xlabel('Дата')\n",
    "ax.set_ylabel('Количество записей')\n",
    "plt.show()"
   ]
  },
  {
   "cell_type": "markdown",
   "metadata": {},
   "source": [
    "В 90е годы объемы продаж игр показывали большие темпы роста, вплоть до 2008 года. Начиная с 2008 года началось существенное падение объема продаж. Вероятно, это может быть связано с тем фактом, что в 2008 году появился App Store. Рынок мобильных игр начал стремительно развиваться, переключив тем самым внимание аудитории. В 2013 падение замедлилось, 2 гиганта индустрии объявили о выходе 2х новых консолей - PS4 и Xbox One. "
   ]
  },
  {
   "cell_type": "markdown",
   "metadata": {},
   "source": [
    "#### Обзор платформ с наибольшими суммарными продажами"
   ]
  },
  {
   "cell_type": "code",
   "execution_count": 26,
   "metadata": {
    "scrolled": false
   },
   "outputs": [
    {
     "data": {
      "image/png": "[encoded data removed]",
      "text/plain": [
       "<Figure size 864x576 with 1 Axes>"
      ]
     },
     "metadata": {},
     "output_type": "display_data"
    }
   ],
   "source": [
    "#объем продаж за всё время (топ 10 платформ)\n",
    "ax = data.groupby('platform')['sum_sales'].sum().sort_values(ascending=False).head(10).plot(y='last_price', kind='bar', grid=True)\n",
    "ax.set_title('Наибольшие суммарные продажи')\n",
    "ax.set_xlabel('Платформа')\n",
    "ax.set_ylabel('Объем продаж')\n",
    "plt.show()"
   ]
  },
  {
   "cell_type": "markdown",
   "metadata": {},
   "source": [
    "Основываясь на распределении показателей, наибольшее число продаж демонстрируют Sony и Microsoft c их продуктами Play Station 2,3 и Xbox 360."
   ]
  },
  {
   "cell_type": "code",
   "execution_count": 27,
   "metadata": {},
   "outputs": [
    {
     "data": {
      "text/plain": [
       "7.67741935483871"
      ]
     },
     "execution_count": 27,
     "metadata": {},
     "output_type": "execute_result"
    }
   ],
   "source": [
    "#среднее время жизни по всем платформам\n",
    "data.groupby('platform').year_of_release.nunique().sort_values(ascending=False).mean()"
   ]
  },
  {
   "cell_type": "markdown",
   "metadata": {},
   "source": [
    "Среднее время жизни платформ - 7,6 лет. Лидеры рынка Sony - анонсируют и выпускают новые консоли раз в 6-7 лет начиная от PS2, заканчивая PS-4."
   ]
  },
  {
   "cell_type": "markdown",
   "metadata": {},
   "source": [
    "#### Актуальный период"
   ]
  },
  {
   "cell_type": "markdown",
   "metadata": {},
   "source": [
    "Актуальным периодом можно считать такой период, который позволит построить прогноз на 2017 год. Наиболее важное событие в определении этого периода - появляение 2х новых консолей - PS4 и Xbox One. Рассмотрим на диаграмме данные начиная с 2014 года, потому как релиз консолей пришелся на ноябрь 2013го."
   ]
  },
  {
   "cell_type": "code",
   "execution_count": 28,
   "metadata": {},
   "outputs": [],
   "source": [
    "#срез данных 2014 - 2016 гг.\n",
    "data_temp = data.query('2014 <= year_of_release <= 2016')"
   ]
  },
  {
   "cell_type": "code",
   "execution_count": 29,
   "metadata": {},
   "outputs": [
    {
     "data": {
      "image/png": "[encoded data removed]",
      "text/plain": [
       "<Figure size 864x576 with 1 Axes>"
      ]
     },
     "metadata": {},
     "output_type": "display_data"
    }
   ],
   "source": [
    "ax = data_temp.groupby('platform')['sum_sales'].sum().sort_values(ascending=False).head().plot(y='last_price', kind='bar', grid=True)\n",
    "ax.set_title('Наибольшие суммарные продажи')\n",
    "ax.set_xlabel('Платформа')\n",
    "ax.set_ylabel('Объем продаж')\n",
    "plt.show()"
   ]
  },
  {
   "cell_type": "markdown",
   "metadata": {},
   "source": [
    "Столбчатая диаграмма показыват, что за актуальный период лидерство в объемах у PS4, следом Xbox One и замыкает тройку - консоль от Nintendo -  3DS."
   ]
  },
  {
   "cell_type": "code",
   "execution_count": 30,
   "metadata": {},
   "outputs": [
    {
     "data": {
      "image/png": "[encoded data removed]",
      "text/plain": [
       "<Figure size 1080x360 with 1 Axes>"
      ]
     },
     "metadata": {},
     "output_type": "display_data"
    }
   ],
   "source": [
    "#визуальное отображение 15-16 года\n",
    "ax = data_temp.pivot_table(index='year_of_release', columns='platform', values='sum_sales', aggfunc='sum') \\\n",
    "    .plot(grid=True, figsize=(15,5))     \n",
    "ax.set_title('Динамика продаж по платформам')\n",
    "ax.set_xlabel('Дата')\n",
    "ax.set_ylabel('Продажи')\n",
    "plt.show()"
   ]
  },
  {
   "cell_type": "markdown",
   "metadata": {},
   "source": [
    "до 2015 года PS4 и Xbox One демонстрировали рост объемов продаж, остальные консоли, включая Nintendo - 3DS - устойчивое снижение показателей.\n",
    "    \n",
    "После 2015 - лидеры рынка также показали спад."
   ]
  },
  {
   "cell_type": "code",
   "execution_count": 31,
   "metadata": {},
   "outputs": [
    {
     "data": {
      "text/html": [
       "<div>\n",
       "<style scoped>\n",
       "    .dataframe tbody tr th:only-of-type {\n",
       "        vertical-align: middle;\n",
       "    }\n",
       "\n",
       "    .dataframe tbody tr th {\n",
       "        vertical-align: top;\n",
       "    }\n",
       "\n",
       "    .dataframe thead th {\n",
       "        text-align: right;\n",
       "    }\n",
       "</style>\n",
       "<table border=\"1\" class=\"dataframe\">\n",
       "  <thead>\n",
       "    <tr style=\"text-align: right;\">\n",
       "      <th></th>\n",
       "      <th>sum_sales</th>\n",
       "    </tr>\n",
       "    <tr>\n",
       "      <th>platform</th>\n",
       "      <th></th>\n",
       "    </tr>\n",
       "  </thead>\n",
       "  <tbody>\n",
       "    <tr>\n",
       "      <th>PS4</th>\n",
       "      <td>188.15</td>\n",
       "    </tr>\n",
       "    <tr>\n",
       "      <th>XOne</th>\n",
       "      <td>86.29</td>\n",
       "    </tr>\n",
       "    <tr>\n",
       "      <th>3DS</th>\n",
       "      <td>42.92</td>\n",
       "    </tr>\n",
       "    <tr>\n",
       "      <th>WiiU</th>\n",
       "      <td>20.95</td>\n",
       "    </tr>\n",
       "    <tr>\n",
       "      <th>PS3</th>\n",
       "      <td>20.42</td>\n",
       "    </tr>\n",
       "  </tbody>\n",
       "</table>\n",
       "</div>"
      ],
      "text/plain": [
       "          sum_sales\n",
       "platform           \n",
       "PS4          188.15\n",
       "XOne          86.29\n",
       "3DS           42.92\n",
       "WiiU          20.95\n",
       "PS3           20.42"
      ]
     },
     "execution_count": 31,
     "metadata": {},
     "output_type": "execute_result"
    }
   ],
   "source": [
    "#платформы с наибольшими суммарными продажами за 2015-16 г.\n",
    "data.query('2015 <= year_of_release <= 2016').groupby('platform')['sum_sales'] \\\n",
    "    .sum().sort_values(ascending=False) \\\n",
    "    .head().to_frame()"
   ]
  },
  {
   "cell_type": "markdown",
   "metadata": {},
   "source": [
    "Выделяем 3х потенциальных лидеров продаж:\n",
    "\n",
    "- PS4\t\n",
    "- XOne\t\n",
    "- 3DS"
   ]
  },
  {
   "cell_type": "markdown",
   "metadata": {},
   "source": [
    "#### Ящик с усами по глобальным продажам для лидеров продаж"
   ]
  },
  {
   "cell_type": "code",
   "execution_count": 32,
   "metadata": {},
   "outputs": [],
   "source": [
    "#срез платформ и лет\n",
    "temp = data.query('platform == [\"PS4\", \"XOne\", \"3DS\"] and year_of_release > 2014')"
   ]
  },
  {
   "cell_type": "code",
   "execution_count": 33,
   "metadata": {
    "scrolled": false
   },
   "outputs": [
    {
     "data": {
      "image/png": "[encoded data removed]",
      "text/plain": [
       "<Figure size 864x576 with 1 Axes>"
      ]
     },
     "metadata": {},
     "output_type": "display_data"
    }
   ],
   "source": [
    "temp.boxplot(column='sum_sales', by='platform');"
   ]
  },
  {
   "cell_type": "code",
   "execution_count": 34,
   "metadata": {},
   "outputs": [
    {
     "data": {
      "text/html": [
       "<div>\n",
       "<style scoped>\n",
       "    .dataframe tbody tr th:only-of-type {\n",
       "        vertical-align: middle;\n",
       "    }\n",
       "\n",
       "    .dataframe tbody tr th {\n",
       "        vertical-align: top;\n",
       "    }\n",
       "\n",
       "    .dataframe thead th {\n",
       "        text-align: right;\n",
       "    }\n",
       "</style>\n",
       "<table border=\"1\" class=\"dataframe\">\n",
       "  <thead>\n",
       "    <tr style=\"text-align: right;\">\n",
       "      <th></th>\n",
       "      <th>count</th>\n",
       "      <th>mean</th>\n",
       "      <th>std</th>\n",
       "      <th>min</th>\n",
       "      <th>25%</th>\n",
       "      <th>50%</th>\n",
       "      <th>75%</th>\n",
       "      <th>max</th>\n",
       "    </tr>\n",
       "    <tr>\n",
       "      <th>platform</th>\n",
       "      <th></th>\n",
       "      <th></th>\n",
       "      <th></th>\n",
       "      <th></th>\n",
       "      <th></th>\n",
       "      <th></th>\n",
       "      <th></th>\n",
       "      <th></th>\n",
       "    </tr>\n",
       "  </thead>\n",
       "  <tbody>\n",
       "    <tr>\n",
       "      <th>3DS</th>\n",
       "      <td>132.0</td>\n",
       "      <td>0.325152</td>\n",
       "      <td>0.798620</td>\n",
       "      <td>0.01</td>\n",
       "      <td>0.030</td>\n",
       "      <td>0.09</td>\n",
       "      <td>0.2325</td>\n",
       "      <td>7.14</td>\n",
       "    </tr>\n",
       "    <tr>\n",
       "      <th>PS4</th>\n",
       "      <td>301.0</td>\n",
       "      <td>0.625083</td>\n",
       "      <td>1.457063</td>\n",
       "      <td>0.01</td>\n",
       "      <td>0.050</td>\n",
       "      <td>0.12</td>\n",
       "      <td>0.4200</td>\n",
       "      <td>14.63</td>\n",
       "    </tr>\n",
       "    <tr>\n",
       "      <th>XOne</th>\n",
       "      <td>167.0</td>\n",
       "      <td>0.516707</td>\n",
       "      <td>0.965940</td>\n",
       "      <td>0.01</td>\n",
       "      <td>0.035</td>\n",
       "      <td>0.13</td>\n",
       "      <td>0.5550</td>\n",
       "      <td>7.39</td>\n",
       "    </tr>\n",
       "  </tbody>\n",
       "</table>\n",
       "</div>"
      ],
      "text/plain": [
       "          count      mean       std   min    25%   50%     75%    max\n",
       "platform                                                             \n",
       "3DS       132.0  0.325152  0.798620  0.01  0.030  0.09  0.2325   7.14\n",
       "PS4       301.0  0.625083  1.457063  0.01  0.050  0.12  0.4200  14.63\n",
       "XOne      167.0  0.516707  0.965940  0.01  0.035  0.13  0.5550   7.39"
      ]
     },
     "execution_count": 34,
     "metadata": {},
     "output_type": "execute_result"
    }
   ],
   "source": [
    "temp.groupby('platform')['sum_sales'].describe()"
   ]
  },
  {
   "cell_type": "markdown",
   "metadata": {},
   "source": [
    "На диаграммах присутствуют выбросы, что вполне допустимо, т.к. ряд игр могут иметь огромные показатели продаж. На платформе PS4, вышло больше игр, значительно превышающих средние показатели, чем на двух других."
   ]
  },
  {
   "cell_type": "markdown",
   "metadata": {},
   "source": [
    "#### Влияние отзывов на продажи"
   ]
  },
  {
   "cell_type": "markdown",
   "metadata": {},
   "source": [
    "Ранее выявлено, что наиболее популярной платформой за рассматриваемый актуальный период - является Play Station 4 от Sony. Рассмотрим влияние отзывов пользователей и критиков на показатели."
   ]
  },
  {
   "cell_type": "code",
   "execution_count": 35,
   "metadata": {},
   "outputs": [],
   "source": [
    "#объявим переменную, куда положим все данные по PS 4 за актуальный период\n",
    "data_ps4 = temp[temp.platform == 'PS4']"
   ]
  },
  {
   "cell_type": "markdown",
   "metadata": {},
   "source": [
    "пользователи"
   ]
  },
  {
   "cell_type": "code",
   "execution_count": 36,
   "metadata": {},
   "outputs": [
    {
     "data": {
      "text/plain": [
       "-0.0597384571263821"
      ]
     },
     "execution_count": 36,
     "metadata": {},
     "output_type": "execute_result"
    }
   ],
   "source": [
    "#коэффициен корреляции оценок пользователей к общим продажам\n",
    "data_ps4.user_score.corr(data_ps4.sum_sales)"
   ]
  },
  {
   "cell_type": "code",
   "execution_count": 37,
   "metadata": {},
   "outputs": [
    {
     "data": {
      "image/png": "[encoded data removed]",
      "text/plain": [
       "<Figure size 1080x432 with 1 Axes>"
      ]
     },
     "metadata": {},
     "output_type": "display_data"
    }
   ],
   "source": [
    "#диаграмма рассеяния\n",
    "ax = data_ps4.plot(x='user_score', y='sum_sales', kind='scatter', alpha=0.5, figsize=(15,6), grid=True) \n",
    "ax.set_title('Диаграмма рассеяния (пользователи)')\n",
    "ax.set_xlabel('Оценка пользователей')\n",
    "ax.set_ylabel('Объем продаж')\n",
    "plt.show()"
   ]
  },
  {
   "cell_type": "markdown",
   "metadata": {},
   "source": [
    "критики"
   ]
  },
  {
   "cell_type": "code",
   "execution_count": 38,
   "metadata": {},
   "outputs": [
    {
     "data": {
      "text/plain": [
       "0.39284855551305986"
      ]
     },
     "execution_count": 38,
     "metadata": {},
     "output_type": "execute_result"
    }
   ],
   "source": [
    "#коэффициен корреляции оценок критиков к общим продажам\n",
    "data_ps4.critic_score.corr(data_ps4.sum_sales)"
   ]
  },
  {
   "cell_type": "code",
   "execution_count": 39,
   "metadata": {},
   "outputs": [
    {
     "data": {
      "image/png": "[encoded data removed]",
      "text/plain": [
       "<Figure size 1080x432 with 1 Axes>"
      ]
     },
     "metadata": {},
     "output_type": "display_data"
    }
   ],
   "source": [
    "#диаграмма рассеяния\n",
    "ax = data_ps4.plot(x='critic_score', y='sum_sales', kind='scatter', alpha=0.5, figsize=(15,6), grid=True)\n",
    "ax.set_title('Диаграмма рассеяния (критики)')\n",
    "ax.set_xlabel('Оценка критиков')\n",
    "ax.set_ylabel('Объем продаж')\n",
    "plt.show()"
   ]
  },
  {
   "cell_type": "markdown",
   "metadata": {},
   "source": [
    "##### Промежуточный вывод"
   ]
  },
  {
   "cell_type": "markdown",
   "metadata": {},
   "source": [
    "В исследовании зависимости оценок пользователей к сумме продаж - слабо отрицательная корреляция. В зависимости оценок критиков - умеренно положительная положительная. Следовательно, покупатели охотнее прислушиваются к критикам, чем к покупателям.    "
   ]
  },
  {
   "cell_type": "markdown",
   "metadata": {},
   "source": [
    "#### Соотношение выводов с другими платформами"
   ]
  },
  {
   "cell_type": "markdown",
   "metadata": {},
   "source": [
    "Xbox ONE"
   ]
  },
  {
   "cell_type": "code",
   "execution_count": 40,
   "metadata": {},
   "outputs": [],
   "source": [
    "#объявим переменную, куда положим все данные по Xbox One за актуальный период\n",
    "data_xbox = temp[temp.platform == 'XOne']"
   ]
  },
  {
   "cell_type": "code",
   "execution_count": 41,
   "metadata": {},
   "outputs": [
    {
     "data": {
      "text/plain": [
       "-0.04146733387366271"
      ]
     },
     "execution_count": 41,
     "metadata": {},
     "output_type": "execute_result"
    }
   ],
   "source": [
    "#коэффициен корреляции оценок пользователей к общим продажам\n",
    "data_xbox.user_score.corr(data_xbox.sum_sales)"
   ]
  },
  {
   "cell_type": "code",
   "execution_count": 42,
   "metadata": {},
   "outputs": [
    {
     "data": {
      "text/plain": [
       "0.43088874582136805"
      ]
     },
     "execution_count": 42,
     "metadata": {},
     "output_type": "execute_result"
    }
   ],
   "source": [
    "#коэффициен корреляции оценок критиков к общим продажам\n",
    "data_xbox.critic_score.corr(data_xbox.sum_sales)"
   ]
  },
  {
   "cell_type": "markdown",
   "metadata": {},
   "source": [
    "Nintendo 3DS"
   ]
  },
  {
   "cell_type": "code",
   "execution_count": 43,
   "metadata": {},
   "outputs": [],
   "source": [
    "# объявим переменную, куда положим все данные по Nintendo 3DS за актуальный период\n",
    "data_nint = temp[temp.platform == '3DS']"
   ]
  },
  {
   "cell_type": "code",
   "execution_count": 44,
   "metadata": {},
   "outputs": [
    {
     "data": {
      "text/plain": [
       "0.19879627008102982"
      ]
     },
     "execution_count": 44,
     "metadata": {},
     "output_type": "execute_result"
    }
   ],
   "source": [
    "#коэффициен корреляции оценок пользователей к общим продажам\n",
    "data_nint.user_score.corr(data_nint.sum_sales)"
   ]
  },
  {
   "cell_type": "code",
   "execution_count": 45,
   "metadata": {},
   "outputs": [
    {
     "data": {
      "text/plain": [
       "0.17757455046092874"
      ]
     },
     "execution_count": 45,
     "metadata": {},
     "output_type": "execute_result"
    }
   ],
   "source": [
    "#коэффициен корреляции оценок критиков к общим продажам\n",
    "data_nint.critic_score.corr(data_nint.sum_sales)"
   ]
  },
  {
   "cell_type": "markdown",
   "metadata": {},
   "source": [
    "Выполнено исследование для платформ, входящих в ТОП 3 актуального периода. Для Xbox - также верно утверждение, что покупатели охотнее прислушиваются к мнению критиков, нежели к оценкам покупателей. В случае с Nintendo 3DS значения примерно равны: связь оценок пользователей и критиков имеет довольно слабую корреляцию к общим продажам."
   ]
  },
  {
   "cell_type": "markdown",
   "metadata": {},
   "source": [
    "Оценим коэффициент корреляции по 4м наиболее популярным платформам за всё время: PS2, X360, PS3, Wii"
   ]
  },
  {
   "cell_type": "code",
   "execution_count": 46,
   "metadata": {},
   "outputs": [],
   "source": [
    "#список наиболее популярных платформ \n",
    "top_all_the_time = ['PS2','X360','PS3','Wii']"
   ]
  },
  {
   "cell_type": "code",
   "execution_count": 47,
   "metadata": {},
   "outputs": [],
   "source": [
    "#функция возвращающая расчет корреляции\n",
    "def other_platform_matrix(name_of_platform):\n",
    "    platform = data[data['platform']==name_of_platform]   \n",
    "    correl = platform['user_score'].corr(platform['sum_sales'])\n",
    "    critic_correl = platform['critic_score'].corr(platform['sum_sales'])\n",
    "    if 0.3 >= critic_correl >= 0.1:\n",
    "        print('Корреляция между отзывами критиков и игровой платформой ', name_of_platform.upper(), ': Слабая', critic_correl)\n",
    "    if 0.5 >= critic_correl >= 0.3:\n",
    "        print('Корреляция между отзывами критиков и игровой платформой ', name_of_platform.upper(), ': Умеренная', critic_correl)\n",
    "    if 0.7 >= critic_correl >= 0.5:\n",
    "        print('Корреляция между отзывами критиков и игровой платформой ', name_of_platform.upper(), ': Высокая', critic_correl)\n",
    "    if 0.9 >= critic_correl >= 0.7:\n",
    "        print('Корреляция между отзывами критиков и игровой платформой ', name_of_platform.upper(), ': Весьма высокая', critic_correl)\n",
    "    if 1 >= critic_correl >= 0.9:\n",
    "        print('Корреляция между отзывами критиков и игровой платформой ', name_of_platform.upper(), ': Сильная', critic_correl)\n",
    "    \n",
    "    if 0.3 >= correl >= 0.1:\n",
    "        print('Корреляция между отзывами пользователей и продажами ', name_of_platform.upper(), ': Слабая', correl)\n",
    "    if 0.5 >= correl >= 0.3:\n",
    "        print('Корреляция между отзывами пользователей и продажами ', name_of_platform.upper(), ': Умеренная', correl)\n",
    "    if 0.7 >= correl >= 0.5:\n",
    "        print('Корреляция между отзывами пользователей и продажами ', name_of_platform.upper(), ': Высокая', correl)\n",
    "    if 0.9 >= correl >= 0.7:\n",
    "        print('Корреляция между отзывами пользователей и продажами ', name_of_platform.upper(), ': Весьма высокая', correl)\n",
    "    if 1 >= correl >= 0.9:\n",
    "        print('Корреляция между отзывами пользователей и продажами ', name_of_platform.upper(), ': Сильная', correl)\n",
    "    print('\\n')\n",
    "\n",
    "    "
   ]
  },
  {
   "cell_type": "code",
   "execution_count": 48,
   "metadata": {},
   "outputs": [
    {
     "name": "stdout",
     "output_type": "stream",
     "text": [
      "Корреляция между отзывами критиков и игровой платформой  PS2 : Умеренная 0.3925364754450901\n",
      "Корреляция между отзывами пользователей и продажами  PS2 : Слабая 0.1750550277038374\n",
      "\n",
      "\n",
      "Корреляция между отзывами критиков и игровой платформой  X360 : Умеренная 0.3928658925400702\n",
      "Корреляция между отзывами пользователей и продажами  X360 : Слабая 0.11418661214018043\n",
      "\n",
      "\n",
      "Корреляция между отзывами критиков и игровой платформой  PS3 : Умеренная 0.4327589578997139\n",
      "Корреляция между отзывами пользователей и продажами  PS3 : Слабая 0.12841562938563025\n",
      "\n",
      "\n",
      "Корреляция между отзывами критиков и игровой платформой  WII : Слабая 0.17790728577594922\n",
      "Корреляция между отзывами пользователей и продажами  WII : Слабая 0.11283121360773787\n",
      "\n",
      "\n"
     ]
    }
   ],
   "source": [
    "#цикл, запускающий расчет по ТОП4\n",
    "for platform in top_all_the_time:\n",
    "    other_platform_matrix(platform)"
   ]
  },
  {
   "cell_type": "markdown",
   "metadata": {},
   "source": [
    "##### Промежуточный вывод"
   ]
  },
  {
   "cell_type": "markdown",
   "metadata": {},
   "source": [
    " Тенденция сохранилась. Пользовательские оценки не влияют на объем продаж, напротив оценки критиков имеют умеренную корреляцию с объемами продаж."
   ]
  },
  {
   "cell_type": "markdown",
   "metadata": {},
   "source": [
    "#### Общее распределение игр по жанрам"
   ]
  },
  {
   "cell_type": "markdown",
   "metadata": {},
   "source": [
    "за весь период"
   ]
  },
  {
   "cell_type": "code",
   "execution_count": 49,
   "metadata": {},
   "outputs": [
    {
     "data": {
      "text/html": [
       "<div>\n",
       "<style scoped>\n",
       "    .dataframe tbody tr th:only-of-type {\n",
       "        vertical-align: middle;\n",
       "    }\n",
       "\n",
       "    .dataframe tbody tr th {\n",
       "        vertical-align: top;\n",
       "    }\n",
       "\n",
       "    .dataframe thead th {\n",
       "        text-align: right;\n",
       "    }\n",
       "</style>\n",
       "<table border=\"1\" class=\"dataframe\">\n",
       "  <thead>\n",
       "    <tr style=\"text-align: right;\">\n",
       "      <th></th>\n",
       "      <th>genre</th>\n",
       "      <th>sum_sales</th>\n",
       "    </tr>\n",
       "  </thead>\n",
       "  <tbody>\n",
       "    <tr>\n",
       "      <th>0</th>\n",
       "      <td>Platform</td>\n",
       "      <td>0.27</td>\n",
       "    </tr>\n",
       "    <tr>\n",
       "      <th>1</th>\n",
       "      <td>Shooter</td>\n",
       "      <td>0.24</td>\n",
       "    </tr>\n",
       "    <tr>\n",
       "      <th>2</th>\n",
       "      <td>Sports</td>\n",
       "      <td>0.22</td>\n",
       "    </tr>\n",
       "    <tr>\n",
       "      <th>3</th>\n",
       "      <td>Fighting</td>\n",
       "      <td>0.21</td>\n",
       "    </tr>\n",
       "    <tr>\n",
       "      <th>4</th>\n",
       "      <td>Action</td>\n",
       "      <td>0.19</td>\n",
       "    </tr>\n",
       "    <tr>\n",
       "      <th>5</th>\n",
       "      <td>Racing</td>\n",
       "      <td>0.19</td>\n",
       "    </tr>\n",
       "    <tr>\n",
       "      <th>6</th>\n",
       "      <td>Role-Playing</td>\n",
       "      <td>0.18</td>\n",
       "    </tr>\n",
       "    <tr>\n",
       "      <th>7</th>\n",
       "      <td>Misc</td>\n",
       "      <td>0.16</td>\n",
       "    </tr>\n",
       "    <tr>\n",
       "      <th>8</th>\n",
       "      <td>Simulation</td>\n",
       "      <td>0.15</td>\n",
       "    </tr>\n",
       "    <tr>\n",
       "      <th>9</th>\n",
       "      <td>Puzzle</td>\n",
       "      <td>0.10</td>\n",
       "    </tr>\n",
       "    <tr>\n",
       "      <th>10</th>\n",
       "      <td>Strategy</td>\n",
       "      <td>0.10</td>\n",
       "    </tr>\n",
       "    <tr>\n",
       "      <th>11</th>\n",
       "      <td>Adventure</td>\n",
       "      <td>0.05</td>\n",
       "    </tr>\n",
       "  </tbody>\n",
       "</table>\n",
       "</div>"
      ],
      "text/plain": [
       "           genre  sum_sales\n",
       "0       Platform       0.27\n",
       "1        Shooter       0.24\n",
       "2         Sports       0.22\n",
       "3       Fighting       0.21\n",
       "4         Action       0.19\n",
       "5         Racing       0.19\n",
       "6   Role-Playing       0.18\n",
       "7           Misc       0.16\n",
       "8     Simulation       0.15\n",
       "9         Puzzle       0.10\n",
       "10      Strategy       0.10\n",
       "11     Adventure       0.05"
      ]
     },
     "execution_count": 49,
     "metadata": {},
     "output_type": "execute_result"
    }
   ],
   "source": [
    "#объявление переменнок, где будет лежать сводная таблица по жанрам\n",
    "genres_test = data.pivot_table(index='genre', values='sum_sales', aggfunc='median').sort_values(by='sum_sales', ascending=False)\n",
    "#индексы\n",
    "genres_test = genres_test.reset_index().rename_axis(None, axis=1)\n",
    "genres_test"
   ]
  },
  {
   "cell_type": "code",
   "execution_count": 50,
   "metadata": {},
   "outputs": [
    {
     "data": {
      "image/png": "[encoded data removed]",
      "text/plain": [
       "<Figure size 864x432 with 1 Axes>"
      ]
     },
     "metadata": {},
     "output_type": "display_data"
    }
   ],
   "source": [
    "plt.figure(figsize=(12,6))\n",
    "sns.barplot(data=genres_test, x=\"genre\", y=\"sum_sales\")\n",
    "sns.set()\n",
    "plt.title('Распределение игр по жанрам')\n",
    "plt.xlabel('Жанры игр',fontsize=12)\n",
    "plt.ylabel('Продажи',fontsize=12)\n",
    "plt.grid(True)\n",
    "plt.show()"
   ]
  },
  {
   "cell_type": "markdown",
   "metadata": {},
   "source": [
    "за актуальный период"
   ]
  },
  {
   "cell_type": "code",
   "execution_count": 51,
   "metadata": {},
   "outputs": [
    {
     "data": {
      "text/html": [
       "<div>\n",
       "<style scoped>\n",
       "    .dataframe tbody tr th:only-of-type {\n",
       "        vertical-align: middle;\n",
       "    }\n",
       "\n",
       "    .dataframe tbody tr th {\n",
       "        vertical-align: top;\n",
       "    }\n",
       "\n",
       "    .dataframe thead th {\n",
       "        text-align: right;\n",
       "    }\n",
       "</style>\n",
       "<table border=\"1\" class=\"dataframe\">\n",
       "  <thead>\n",
       "    <tr style=\"text-align: right;\">\n",
       "      <th></th>\n",
       "      <th>genre</th>\n",
       "      <th>sum_sales</th>\n",
       "    </tr>\n",
       "  </thead>\n",
       "  <tbody>\n",
       "    <tr>\n",
       "      <th>0</th>\n",
       "      <td>Shooter</td>\n",
       "      <td>0.515</td>\n",
       "    </tr>\n",
       "    <tr>\n",
       "      <th>1</th>\n",
       "      <td>Sports</td>\n",
       "      <td>0.180</td>\n",
       "    </tr>\n",
       "    <tr>\n",
       "      <th>2</th>\n",
       "      <td>Platform</td>\n",
       "      <td>0.140</td>\n",
       "    </tr>\n",
       "    <tr>\n",
       "      <th>3</th>\n",
       "      <td>Fighting</td>\n",
       "      <td>0.125</td>\n",
       "    </tr>\n",
       "    <tr>\n",
       "      <th>4</th>\n",
       "      <td>Role-Playing</td>\n",
       "      <td>0.110</td>\n",
       "    </tr>\n",
       "    <tr>\n",
       "      <th>5</th>\n",
       "      <td>Simulation</td>\n",
       "      <td>0.100</td>\n",
       "    </tr>\n",
       "    <tr>\n",
       "      <th>6</th>\n",
       "      <td>Action</td>\n",
       "      <td>0.090</td>\n",
       "    </tr>\n",
       "    <tr>\n",
       "      <th>7</th>\n",
       "      <td>Misc</td>\n",
       "      <td>0.090</td>\n",
       "    </tr>\n",
       "    <tr>\n",
       "      <th>8</th>\n",
       "      <td>Racing</td>\n",
       "      <td>0.090</td>\n",
       "    </tr>\n",
       "    <tr>\n",
       "      <th>9</th>\n",
       "      <td>Strategy</td>\n",
       "      <td>0.060</td>\n",
       "    </tr>\n",
       "    <tr>\n",
       "      <th>10</th>\n",
       "      <td>Puzzle</td>\n",
       "      <td>0.045</td>\n",
       "    </tr>\n",
       "    <tr>\n",
       "      <th>11</th>\n",
       "      <td>Adventure</td>\n",
       "      <td>0.030</td>\n",
       "    </tr>\n",
       "  </tbody>\n",
       "</table>\n",
       "</div>"
      ],
      "text/plain": [
       "           genre  sum_sales\n",
       "0        Shooter      0.515\n",
       "1         Sports      0.180\n",
       "2       Platform      0.140\n",
       "3       Fighting      0.125\n",
       "4   Role-Playing      0.110\n",
       "5     Simulation      0.100\n",
       "6         Action      0.090\n",
       "7           Misc      0.090\n",
       "8         Racing      0.090\n",
       "9       Strategy      0.060\n",
       "10        Puzzle      0.045\n",
       "11     Adventure      0.030"
      ]
     },
     "execution_count": 51,
     "metadata": {},
     "output_type": "execute_result"
    }
   ],
   "source": [
    "#объявление переменнок, где будет лежать сводная таблица по жанрам\n",
    "genres_test2 = data_temp.pivot_table(index='genre', values='sum_sales', aggfunc='median').sort_values(by='sum_sales', ascending=False)\n",
    "#индексы\n",
    "genres_test2 = genres_test2.reset_index().rename_axis(None, axis=1)\n",
    "genres_test2"
   ]
  },
  {
   "cell_type": "code",
   "execution_count": 52,
   "metadata": {},
   "outputs": [
    {
     "data": {
      "image/png": "[encoded data removed]",
      "text/plain": [
       "<Figure size 1008x432 with 1 Axes>"
      ]
     },
     "metadata": {},
     "output_type": "display_data"
    }
   ],
   "source": [
    "plt.figure(figsize=(14,6))\n",
    "sns.barplot(data=genres_test2, x=\"genre\", y=\"sum_sales\")\n",
    "plt.title('Распределение жаров')\n",
    "plt.xlabel('Жанры игр',fontsize=12)\n",
    "plt.ylabel('Продажи',fontsize=12)\n",
    "plt.grid(True)\n",
    "plt.show()"
   ]
  },
  {
   "cell_type": "markdown",
   "metadata": {},
   "source": [
    "#### Вывод по исследовательскому анализу данных"
   ]
  },
  {
   "cell_type": "markdown",
   "metadata": {},
   "source": [
    "Вплоть до 2008 года, индустрия показывала большой рост объемов продаж, но начиная с 2008 года, всвязи с появлением и  последующим развитием рынка мобильной разработки, объемы продаж игр начали снижаться.\n",
    "    \n",
    "В 2013 2 гиганта индустрии объявили о выходе 2х новых консолей - PS4 и Xbox One, которые за 2015-16 годы показали наибольший объем продаж.\n",
    "    \n",
    "    \n",
    "До 2013 продукты Sony и Microsoft также занимали лидирующие позиции. Nintendo - 3DS ненадолго захватила инициативу, но после 2008 года, объемы продаж игр для этой консоли пошли на спад.\n",
    "\n",
    "    \n",
    "Среднее время жизни платформ - 7,6 лет. Лидеры рынка Sony - анонсируют и выпускают новые консоли раз в 6-7 лет.\n",
    "\n",
    "    \n",
    "Наблюдается взаимосвязь между пользовательскими оценками, оценками критиков и суммарными продажами. Пользовательские оценки показывают слабый коэффициен корреляции, в то время как оценки критиков - умеренные, из чего можно заключить, что оценки критиков - имеют большее воздействие на конечного покупателя продукта.\n",
    "\n",
    "    \n",
    "Исследование распределения прибыльности согласно жанру, показало следующие результаты:\n",
    "\n",
    "По всему набору данных ТОП5:\n",
    "\n",
    "- Platform\n",
    "- Shooter \n",
    "- Sports\n",
    "- Fighting\n",
    "- Action\n",
    "\n",
    "По выборке актуального периода:\n",
    "\n",
    "- Shooter\n",
    "- Sports\n",
    "- Platform\n",
    "- Fighting\n",
    "- Role-Playing\n",
    "   "
   ]
  },
  {
   "cell_type": "markdown",
   "metadata": {},
   "source": [
    "### Портрет пользователя каждого региона"
   ]
  },
  {
   "cell_type": "markdown",
   "metadata": {},
   "source": [
    "- TO DO: Определить для каждого региона (NA, EU, JP)\n",
    "\n",
    "\n",
    "    - Самые популярные платформы (топ-5);\n",
    "    - Самые популярные жанры (топ-5);\n",
    "    - Влияние рейтинга ESRB на продажи в отдельных регионах;"
   ]
  },
  {
   "cell_type": "markdown",
   "metadata": {},
   "source": [
    "#### Портрет пользователя NA"
   ]
  },
  {
   "cell_type": "code",
   "execution_count": 53,
   "metadata": {},
   "outputs": [],
   "source": [
    "#функция для визуализации\n",
    "def plot_histogram(data, group_by, column, title, xlabel, ylabel):\n",
    "    ax = data.groupby(group_by)[column].sum().sort_values(ascending=False).head().to_frame() \\\n",
    "                                       .plot(y=column, kind='bar', grid=True, figsize=(15,5)) \n",
    "    ax.set_title(title)\n",
    "    plt.xlabel(xlabel)\n",
    "    plt.ylabel(ylabel)\n",
    "    plt.grid(True)\n",
    "    plt.show()"
   ]
  },
  {
   "cell_type": "code",
   "execution_count": 54,
   "metadata": {},
   "outputs": [
    {
     "data": {
      "image/png": "[encoded data removed]",
      "text/plain": [
       "<Figure size 1080x360 with 1 Axes>"
      ]
     },
     "metadata": {},
     "output_type": "display_data"
    }
   ],
   "source": [
    "#ТОП 5 платформ за актуальный период\n",
    "plot_histogram(data_temp, 'platform', 'na_sales', 'Наибольшие продажи по платформам в северной америке за актуальный период',\n",
    "               'Платформа', 'Продажи')"
   ]
  },
  {
   "cell_type": "code",
   "execution_count": 55,
   "metadata": {},
   "outputs": [
    {
     "data": {
      "text/plain": [
       "0.34714496937266764"
      ]
     },
     "execution_count": 55,
     "metadata": {},
     "output_type": "execute_result"
    }
   ],
   "source": [
    "#доля PS4 к общему числу продаж в северной америке\n",
    "na = data_temp.query('platform == \"PS4\"')\n",
    "na['na_sales'].sum() / data_temp['na_sales'].sum()"
   ]
  },
  {
   "cell_type": "code",
   "execution_count": 56,
   "metadata": {},
   "outputs": [
    {
     "data": {
      "text/plain": [
       "0.28610152784622966"
      ]
     },
     "execution_count": 56,
     "metadata": {},
     "output_type": "execute_result"
    }
   ],
   "source": [
    "#доля XOne к общему числу продаж в северной америке\n",
    "na = data_temp.query('platform == \"XOne\"')\n",
    "na['na_sales'].sum() / data_temp['na_sales'].sum()"
   ]
  },
  {
   "cell_type": "markdown",
   "metadata": {},
   "source": [
    " Наиболее популярными платформами за актуальный период в северной америке, 2014-2016 гг, являются платформы PS4 с долей 34.7% от общих продаж, и Xbox One - с 28.6%."
   ]
  },
  {
   "cell_type": "code",
   "execution_count": 57,
   "metadata": {},
   "outputs": [
    {
     "data": {
      "image/png": "[encoded data removed]",
      "text/plain": [
       "<Figure size 1080x360 with 1 Axes>"
      ]
     },
     "metadata": {},
     "output_type": "display_data"
    }
   ],
   "source": [
    "#ТОП 5 жанров за актуальный период\n",
    "plot_histogram(data_temp, 'genre', 'na_sales', 'Наиболее популярные жанры в северной америке за актуальный период',\n",
    "               'Жанр', 'Продажи')"
   ]
  },
  {
   "cell_type": "code",
   "execution_count": 58,
   "metadata": {},
   "outputs": [
    {
     "data": {
      "image/png": "[encoded data removed]",
      "text/plain": [
       "<Figure size 1080x360 with 1 Axes>"
      ]
     },
     "metadata": {},
     "output_type": "display_data"
    }
   ],
   "source": [
    "#распределение рейтингов\n",
    "plot_histogram(data_temp, 'rating', 'na_sales', 'Наиболее популярные рейтинги в северной америке за актуальный период',\n",
    "               'Рейтинг', 'Продажи')"
   ]
  },
  {
   "cell_type": "markdown",
   "metadata": {},
   "source": [
    " - ВЫВОД по актуальному периоду в Северной Америке в актуальный период (2014-16)\n",
    "     \n",
    "     \n",
    "     - ТОП игровых консолей: PS4, XBox One;\n",
    "     - ТОП жанров игр: Shooter, Action, Sports;\n",
    "     - ТОП рейтингов: «M» («Mature») — «Для взрослых», «E» («Everyone») — «Для всех», «T» («Teen») — «Подросткам»."
   ]
  },
  {
   "cell_type": "markdown",
   "metadata": {},
   "source": [
    "#### Портрет пользователя EU"
   ]
  },
  {
   "cell_type": "code",
   "execution_count": 59,
   "metadata": {},
   "outputs": [
    {
     "data": {
      "image/png": "[encoded data removed]",
      "text/plain": [
       "<Figure size 1080x360 with 1 Axes>"
      ]
     },
     "metadata": {},
     "output_type": "display_data"
    }
   ],
   "source": [
    "#ТОП 5 платформ за актуальный период\n",
    "plot_histogram(data_temp, 'platform', 'eu_sales', 'Наибольшие продажи по платформам в евросоюзе за актуальный период',\n",
    "               'Платформа', 'Продажи')"
   ]
  },
  {
   "cell_type": "code",
   "execution_count": 60,
   "metadata": {},
   "outputs": [
    {
     "data": {
      "text/plain": [
       "0.4804196837594208"
      ]
     },
     "execution_count": 60,
     "metadata": {},
     "output_type": "execute_result"
    }
   ],
   "source": [
    "#доля PS4 к общему числу продаж в евросоюзе\n",
    "na = data_temp.query('platform == \"PS4\"')\n",
    "na['eu_sales'].sum() / data_temp['eu_sales'].sum()"
   ]
  },
  {
   "cell_type": "code",
   "execution_count": 61,
   "metadata": {},
   "outputs": [
    {
     "data": {
      "text/plain": [
       "0.17086596719373434"
      ]
     },
     "execution_count": 61,
     "metadata": {},
     "output_type": "execute_result"
    }
   ],
   "source": [
    "#доля XOne к общему числу продаж в евросоюзе\n",
    "na = data_temp.query('platform == \"XOne\"')\n",
    "na['eu_sales'].sum() / data_temp['eu_sales'].sum()"
   ]
  },
  {
   "cell_type": "markdown",
   "metadata": {},
   "source": [
    " Наиболее популярной платформой за актуальный период в евросоюзе, 2014-2016 гг, являются платформа PS4 с долей 48.0% от общих продаж, далее, с большим отрывом Xbox One - с 17.1%."
   ]
  },
  {
   "cell_type": "code",
   "execution_count": 62,
   "metadata": {},
   "outputs": [
    {
     "data": {
      "image/png": "[encoded data removed]",
      "text/plain": [
       "<Figure size 1080x360 with 1 Axes>"
      ]
     },
     "metadata": {},
     "output_type": "display_data"
    }
   ],
   "source": [
    "#ТОП 5 жанров за актуальный период\n",
    "plot_histogram(data_temp, 'genre', 'eu_sales', 'Наиболее популярные жанры в евросоюзе за актуальный период',\n",
    "               'Жанр', 'Продажи')"
   ]
  },
  {
   "cell_type": "code",
   "execution_count": 63,
   "metadata": {},
   "outputs": [
    {
     "data": {
      "image/png": "[encoded data removed]",
      "text/plain": [
       "<Figure size 1080x360 with 1 Axes>"
      ]
     },
     "metadata": {},
     "output_type": "display_data"
    }
   ],
   "source": [
    "#рейтинг за актуальный период\n",
    "plot_histogram(data_temp, 'rating', 'eu_sales', 'Наиболее популярные рейтинги в евросоюзе за актуальный период',\n",
    "               'Рейтинг', 'Продажи')"
   ]
  },
  {
   "cell_type": "markdown",
   "metadata": {},
   "source": [
    " - ВЫВОД по актуальному периоду в Евросоюзе в актуальный период (2014-16)\n",
    "     \n",
    "     \n",
    "     - ТОП игровых консолей: PS4 и с большим отрывом - Xbox One;\n",
    "     - ТОП жанров игр: Action ,Shooter, Sports;\n",
    "     - ТОП рейтингов: «M» («Mature») — «Для взрослых», «E» («Everyone») — «Для всех», «T» («Teen») — «Подросткам»."
   ]
  },
  {
   "cell_type": "markdown",
   "metadata": {},
   "source": [
    "#### Портрет пользователя JP"
   ]
  },
  {
   "cell_type": "code",
   "execution_count": 64,
   "metadata": {},
   "outputs": [
    {
     "data": {
      "image/png": "[encoded data removed]",
      "text/plain": [
       "<Figure size 1080x360 with 1 Axes>"
      ]
     },
     "metadata": {},
     "output_type": "display_data"
    }
   ],
   "source": [
    "#ТОП 5 платформ за актуальный период\n",
    "plot_histogram(data_temp, 'platform', 'jp_sales', 'Наибольшие продажи по платформам в японии за актуальный период',\n",
    "               'Платформа', 'Продажи')"
   ]
  },
  {
   "cell_type": "code",
   "execution_count": 65,
   "metadata": {},
   "outputs": [
    {
     "data": {
      "text/plain": [
       "0.4752390160060156"
      ]
     },
     "execution_count": 65,
     "metadata": {},
     "output_type": "execute_result"
    }
   ],
   "source": [
    "#доля 3DS к общему числу продаж в евросоюзе\n",
    "na = data_temp.query('platform == \"3DS\"')\n",
    "na['jp_sales'].sum() / data_temp['jp_sales'].sum()"
   ]
  },
  {
   "cell_type": "code",
   "execution_count": 66,
   "metadata": {},
   "outputs": [
    {
     "data": {
      "text/plain": [
       "0.16134923192609305"
      ]
     },
     "execution_count": 66,
     "metadata": {},
     "output_type": "execute_result"
    }
   ],
   "source": [
    "#доля PS4 к общему числу продаж в евросоюзе\n",
    "na = data_temp.query('platform == \"PS4\"')\n",
    "na['jp_sales'].sum() / data_temp['jp_sales'].sum()"
   ]
  },
  {
   "cell_type": "markdown",
   "metadata": {},
   "source": [
    "\n",
    "В Японии наиболее популярной консолью являлась 3DS от Nintendo c 47.5% от общего рынка, далее, с большим отрывом - PS4 c 16%."
   ]
  },
  {
   "cell_type": "code",
   "execution_count": 67,
   "metadata": {},
   "outputs": [
    {
     "data": {
      "image/png": "[encoded data removed]",
      "text/plain": [
       "<Figure size 1080x360 with 1 Axes>"
      ]
     },
     "metadata": {},
     "output_type": "display_data"
    }
   ],
   "source": [
    "#ТОП 5 жанров за актуальный период\n",
    "plot_histogram(data_temp, 'genre', 'jp_sales', 'Наиболее популярные жанры в японии за актуальный период',\n",
    "               'Жанр', 'Продажи')"
   ]
  },
  {
   "cell_type": "code",
   "execution_count": 68,
   "metadata": {},
   "outputs": [
    {
     "data": {
      "image/png": "[encoded data removed]",
      "text/plain": [
       "<Figure size 1080x360 with 1 Axes>"
      ]
     },
     "metadata": {},
     "output_type": "display_data"
    }
   ],
   "source": [
    "#рейтинг\n",
    "plot_histogram(data_temp, 'rating', 'jp_sales', 'Наиболее популярные рейтинги в японии за актуальный период',\n",
    "               'Рейтинг', 'Продажи')"
   ]
  },
  {
   "cell_type": "markdown",
   "metadata": {},
   "source": [
    " - ВЫВОД по актуальному периоду в Японии в актуальный период (2014-16)\n",
    "     \n",
    "     \n",
    "     - ТОП игровых консолей: Nintendo 3DS и с большим отрывом - PS 4;\n",
    "     - ТОП жанров игр: Role-Playing, Action;\n",
    "     - ТОП рейтингов: «T» («Teen») — «Подросткам», , «E» («Everyone») — «Для всех», «M» («Mature») — «Для взрослых»."
   ]
  },
  {
   "cell_type": "markdown",
   "metadata": {},
   "source": [
    "#### Промежуточный вывод по портрету пользователей"
   ]
  },
  {
   "cell_type": "markdown",
   "metadata": {},
   "source": [
    "Актуальность данных - ключ к объективному прогнозу. Для определения портретов пользователя были использованы данные 2014-2016 годов, которые наилучшим образом отражают картину на рынке консолей и игр.\n",
    "\n",
    "В 2017 году наибольшую прибыль будут приносить игры жанров Action, Shooter, для платформы PS4 с рейтингом - «M» («Mature») — «Для взрослых».\n",
    "\n",
    "В Японии наблюдается популярность консоли Nintendo DS3 с долей 47.5% от общего рынка. В регионах \"Евросоюз\" и \"Северная Америка\" - существенное преобладание PS4."
   ]
  },
  {
   "cell_type": "markdown",
   "metadata": {},
   "source": [
    "### Проверка гипотез"
   ]
  },
  {
   "cell_type": "markdown",
   "metadata": {},
   "source": [
    "- TO DO: \n",
    "\n",
    "\n",
    "    - Средние пользовательские рейтинги платформ Xbox One и PC одинаковые;\n",
    "    - Средние пользовательские рейтинги жанров Action и Sports разные;"
   ]
  },
  {
   "cell_type": "markdown",
   "metadata": {},
   "source": [
    "- Сформулируем нулевые гипотезы:\n",
    "\n",
    "    - Нулевая гипотеза H₀: Средние пользовательские рейтинги платформ Xbox One и PC одинаковые;\n",
    "    - Альтернативная гипотеза H₁: Средние пользовательские рейтинги платформ Xbox One и PC различаются"
   ]
  },
  {
   "cell_type": "code",
   "execution_count": 69,
   "metadata": {},
   "outputs": [
    {
     "data": {
      "text/plain": [
       "6.594545454545453"
      ]
     },
     "execution_count": 69,
     "metadata": {},
     "output_type": "execute_result"
    }
   ],
   "source": [
    "#применяется фильтр для нахождения среднего значения для Xbox One\n",
    "box_one = data[(data['platform']=='XOne') & (data['year_of_release']>2013)]['user_score']\n",
    "box_one.mean()"
   ]
  },
  {
   "cell_type": "code",
   "execution_count": 70,
   "metadata": {},
   "outputs": [
    {
     "data": {
      "text/plain": [
       "6.298360655737703"
      ]
     },
     "execution_count": 70,
     "metadata": {},
     "output_type": "execute_result"
    }
   ],
   "source": [
    "#применяется фильтр для нахождения среднего значения для PC\n",
    "pc = data[(data['platform']=='PC') & (data['year_of_release']>2013)]['user_score']\n",
    "pc.mean()"
   ]
  },
  {
   "cell_type": "code",
   "execution_count": 71,
   "metadata": {},
   "outputs": [
    {
     "name": "stdout",
     "output_type": "stream",
     "text": [
      "p-значение: 0.11601398086668832\n",
      "Не получилось отвергнуть нулевую гипотезу\n"
     ]
    }
   ],
   "source": [
    "#Выполним проверку гипотезы\n",
    "\n",
    "alpha = .01\n",
    "\n",
    "results = st.ttest_ind(box_one.dropna(), pc.dropna(), equal_var=False)\n",
    "\n",
    "print('p-значение:', results.pvalue)\n",
    "\n",
    "\n",
    "if (results.pvalue < alpha):\n",
    "    print(\"Отвергаем нулевую гипотезу\")\n",
    "else:\n",
    "    print(\"Не получилось отвергнуть нулевую гипотезу\")"
   ]
  },
  {
   "cell_type": "markdown",
   "metadata": {},
   "source": [
    "С вероятностью 11% можно получить различные пользовательские рейтинги"
   ]
  },
  {
   "cell_type": "markdown",
   "metadata": {},
   "source": [
    "Средние пользовательские рейтинги жанров Action (англ. «действие», экшен-игры) и Sports (англ. «спортивные соревнования») разные."
   ]
  },
  {
   "cell_type": "markdown",
   "metadata": {},
   "source": [
    "- Сформулируем нулевые гипотезы:\n",
    "\n",
    "    - Нулевая гипотеза H₀: Средние пользовательские рейтинги жанров Action и Sports одинаковые;\n",
    "    - Альтернативная гипотеза H₁: Средние пользовательские рейтинги жанров Action и Sports различаются"
   ]
  },
  {
   "cell_type": "code",
   "execution_count": 72,
   "metadata": {},
   "outputs": [],
   "source": [
    "#фильтр\n",
    "action = data[(data['genre']=='Action') & (data['year_of_release']>2006)]['user_score']"
   ]
  },
  {
   "cell_type": "code",
   "execution_count": 73,
   "metadata": {},
   "outputs": [
    {
     "data": {
      "text/plain": [
       "6.836079077429997"
      ]
     },
     "execution_count": 73,
     "metadata": {},
     "output_type": "execute_result"
    }
   ],
   "source": [
    "#среднее\n",
    "action.mean()"
   ]
  },
  {
   "cell_type": "code",
   "execution_count": 74,
   "metadata": {},
   "outputs": [],
   "source": [
    "#фильтр\n",
    "sports = data[(data['genre']=='Sports') & (data['year_of_release']>2006)]['user_score']"
   ]
  },
  {
   "cell_type": "code",
   "execution_count": 75,
   "metadata": {},
   "outputs": [
    {
     "data": {
      "text/plain": [
       "6.307979626485568"
      ]
     },
     "execution_count": 75,
     "metadata": {},
     "output_type": "execute_result"
    }
   ],
   "source": [
    "#среднее\n",
    "sports.mean()"
   ]
  },
  {
   "cell_type": "code",
   "execution_count": 76,
   "metadata": {},
   "outputs": [
    {
     "name": "stdout",
     "output_type": "stream",
     "text": [
      "p-значение: 4.540665510055229e-11\n",
      "Отвергаем нулевую гипотезу\n"
     ]
    }
   ],
   "source": [
    "#Выполним проверку гипотезы.\n",
    "\n",
    "alpha = .01\n",
    "\n",
    "results = st.ttest_ind(action.dropna(), sports.dropna(), equal_var=False)\n",
    "\n",
    "print('p-значение:', results.pvalue)\n",
    "\n",
    "\n",
    "if (results.pvalue < alpha):\n",
    "    print(\"Отвергаем нулевую гипотезу\")\n",
    "else:\n",
    "    print(\"Не получилось отвергнуть нулевую гипотезу\")"
   ]
  },
  {
   "cell_type": "markdown",
   "metadata": {},
   "source": [
    "Практически нет вероятности получить одинаковые рейтинги"
   ]
  },
  {
   "cell_type": "markdown",
   "metadata": {},
   "source": [
    "### Общий вывод"
   ]
  },
  {
   "cell_type": "markdown",
   "metadata": {},
   "source": [
    "Задачей исследования являлось определение закономерностей, определяющих успешность игры. Исследование позволило сформировать прогноз на 2017 год: больше всего продаж обеспечат игры для консоли Play Station 4, которая занимает лидирующие позиции на рынке,  в жанрах Shooter, с рейтингом - «M» («Mature») — «Для взрослых»."
   ]
  },
  {
   "cell_type": "markdown",
   "metadata": {},
   "source": [
    "Исследование включало в себя следующие этапы:\n",
    "- Изучение общей информации;\n",
    "\n",
    "В котором выполнена первоначальная оценка данных, получено первичное представление о типах данных и количестве пропусков.\n",
    "\n",
    "- Предобработка данных;\n",
    "\n",
    "На этой стадии были удалены пропуски в столбцах \"name\" и \"release date\". Количество удаленных строк - менее 5% от общего количества.  В перечне уникальных значений, в столбце оценок пользователей, присутствовало значение 'tbd' (to be determined), т.е. рейтинг ожидается, значения таких ячеек были изменены на NaN, для того чтобы в дальнейшем использовать данный столбец для исследовательского анализа. \n",
    "\n",
    "- Исследовательский анализ данных;\n",
    "\n",
    "Исходя из сформированных данных, можно утверждать, что в 90е годы объемы продаж игр показывали большие темпы роста, вплоть до 2008 года, однако после, началось существенное падение показателей. Наиболее веросятным событием, после которого был отмечен значительный спад, явилось начало эпохи мобильной разаработки. Появился App Store, количество скачиваний из которого, равно как и количество приложений в нем, в в частности игр - росло экспоненциально. \n",
    "\n",
    "Однако в 2013 году падение перешло в небольшой рост, 2 гиганта индустрии - Sony и Microsoft выпустили 2е новых консоли - PS4 и Xbox One, что сопровождалось масштабной рекламной компанией. \n",
    "\n",
    "Поскольку задачей исследования является формирование прогноза на 2017 год, была выделена выборка данных за 2014 - 2016 годы. 2013 год был исключен, поскольку PS4 и Xbox One были выпущены в ноябре 2013. \n",
    "\n",
    "Для этого периода, были выделены 3 лидера продаж:\n",
    "   \n",
    "       - PS4;\n",
    "       - XOne;\n",
    "       - 3DS от Nintendo;\n",
    "       \n",
    "До 2015 года PS4 и Xbox One демонстрировали рост объемов продаж, остальные консоли, включая Nintendo - 3DS - устойчивое снижение показателей. В общей же выборке - Nintendo - 3DS ненадолго захватила инициативу, но после 2008 года, объемы продаж игр для этой консоли пошли на спад.\n",
    "\n",
    "Проведено исследование зависимости продаж от оценок пользователей и критиков. Выяснено, что покупатели охотнее прислушиваются к критикам, чем к пользователя. Зависимость от покупателй показала крайне слабую корреляцию.\n",
    "\n",
    "По выборке для актуального периода, наибольшую прибыльность показали следующие жанры:\n",
    "   \n",
    "       - Shooter;\n",
    "       - Sports;\n",
    "       - Platform;\n",
    "       \n",
    "Отрыв жанра Shooter от остальных - крайне велик. По результатам исследования всего набора данных, Shooter занимал второе место, сместив в актуальном периоде жанр Platform на третью позицию. \n",
    "\n",
    "- Портрет пользователя в регионах продаж:\n",
    "\n",
    "По актуальному периоду в Северной Америке в актуальный период (2014-16)\n",
    "         \n",
    "         - ТОП игровых консолей: PS4, XBox One;\n",
    "         - ТОП жанров игр: Shooter, Action, Sports;\n",
    "         - ТОП рейтингов: «M» («Mature») — «Для взрослых», «E» («Everyone») — «Для всех», «T» («Teen») — «Подросткам».\n",
    "         \n",
    "По актуальному периоду в Японии в актуальный период (2014-16)\n",
    "         \n",
    "         - ТОП игровых консолей: Nintendo 3DS и с большим отрывом - PS 4;\n",
    "         - ТОП жанров игр: Role-Playing, Action;\n",
    "         - ТОП рейтингов: «T» («Teen») — «Подросткам», , «E» («Everyone») — «Для всех», «M» («Mature») — «Для взрослых».\n",
    "         \n",
    "         \n",
    " NA и EU во многом схожи, в то время, как Япония более самобытна. В Японии наблюдается популярность консоли Nintendo DS3 с долей 47.5% от общего рынка. В регионах \"Евросоюз\" и \"Северная Америка\" - существенное преобладание PS4.\n",
    " \n",
    " - Проверка гипотез;\n",
    " \n",
    " Были сформулированы следующие гипотезы:\n",
    " \n",
    "         - Нулевая гипотеза H₀: Средние пользовательские рейтинги платформ Xbox One и PC одинаковые;\n",
    "         - Альтернативная гипотеза H₁: Средние пользовательские рейтинги платформ Xbox One и PC различаются.\n",
    "         \n",
    " С вероятностью 11% можно получить различные пользовательские рейтинги\n",
    " \n",
    " А также:\n",
    " \n",
    "         - Нулевая гипотеза H₀: Средние пользовательские рейтинги жанров Action и Sports одинаковые;\n",
    "         - Альтернативная гипотеза H₁: Средние пользовательские рейтинги жанров Action и Sports различаются\n",
    "         \n",
    "В результате проверки, нулевая гипотеза была опровергнута. Практически нет вероятности получить одинаковые рейтинги."
   ]
  }
 ],
 "metadata": {
  "ExecuteTimeLog": [
   {
    "duration": 1288,
    "start_time": "2022-11-15T07:02:53.177Z"
   },
   {
    "duration": 121,
    "start_time": "2022-11-15T07:02:54.466Z"
   },
   {
    "duration": 207,
    "start_time": "2022-11-15T07:03:15.041Z"
   },
   {
    "duration": 16,
    "start_time": "2022-11-15T07:03:21.676Z"
   },
   {
    "duration": 15,
    "start_time": "2022-11-15T07:05:43.358Z"
   },
   {
    "duration": 4,
    "start_time": "2022-11-15T07:19:50.603Z"
   },
   {
    "duration": 4,
    "start_time": "2022-11-15T07:31:56.316Z"
   },
   {
    "duration": 3,
    "start_time": "2022-11-15T07:32:33.173Z"
   },
   {
    "duration": 4,
    "start_time": "2022-11-15T07:32:39.599Z"
   },
   {
    "duration": 5,
    "start_time": "2022-11-15T07:35:51.755Z"
   },
   {
    "duration": 6,
    "start_time": "2022-11-15T07:36:04.912Z"
   },
   {
    "duration": 11,
    "start_time": "2022-11-15T07:36:21.690Z"
   },
   {
    "duration": 5,
    "start_time": "2022-11-15T07:36:26.949Z"
   },
   {
    "duration": 6,
    "start_time": "2022-11-15T07:37:09.648Z"
   },
   {
    "duration": 4,
    "start_time": "2022-11-15T07:37:27.302Z"
   },
   {
    "duration": 6,
    "start_time": "2022-11-15T07:37:37.004Z"
   },
   {
    "duration": 7,
    "start_time": "2022-11-15T07:37:47.894Z"
   },
   {
    "duration": 5,
    "start_time": "2022-11-15T07:38:09.787Z"
   },
   {
    "duration": 5,
    "start_time": "2022-11-15T07:38:32.999Z"
   },
   {
    "duration": 5,
    "start_time": "2022-11-15T07:39:03.835Z"
   },
   {
    "duration": 9,
    "start_time": "2022-11-15T07:45:42.301Z"
   },
   {
    "duration": 13,
    "start_time": "2022-11-15T07:47:52.397Z"
   },
   {
    "duration": 7,
    "start_time": "2022-11-15T07:50:24.867Z"
   },
   {
    "duration": 8,
    "start_time": "2022-11-15T07:50:31.135Z"
   },
   {
    "duration": 5,
    "start_time": "2022-11-15T07:52:32.386Z"
   },
   {
    "duration": 5,
    "start_time": "2022-11-15T07:52:39.346Z"
   },
   {
    "duration": 5,
    "start_time": "2022-11-15T07:52:56.009Z"
   },
   {
    "duration": 5,
    "start_time": "2022-11-15T07:54:58.934Z"
   },
   {
    "duration": 6,
    "start_time": "2022-11-15T07:57:49.923Z"
   },
   {
    "duration": 25,
    "start_time": "2022-11-15T07:58:14.988Z"
   },
   {
    "duration": 15,
    "start_time": "2022-11-15T08:00:29.775Z"
   },
   {
    "duration": 11,
    "start_time": "2022-11-15T08:02:35.265Z"
   },
   {
    "duration": 10,
    "start_time": "2022-11-15T08:02:39.998Z"
   },
   {
    "duration": 5,
    "start_time": "2022-11-15T08:02:45.576Z"
   },
   {
    "duration": 7,
    "start_time": "2022-11-15T08:06:02.876Z"
   },
   {
    "duration": 6,
    "start_time": "2022-11-15T08:06:15.484Z"
   },
   {
    "duration": 6,
    "start_time": "2022-11-15T08:06:22.368Z"
   },
   {
    "duration": 6,
    "start_time": "2022-11-15T08:06:33.670Z"
   },
   {
    "duration": 5,
    "start_time": "2022-11-15T08:06:58.235Z"
   },
   {
    "duration": 16,
    "start_time": "2022-11-15T08:17:03.250Z"
   },
   {
    "duration": 24,
    "start_time": "2022-11-15T08:17:28.289Z"
   },
   {
    "duration": 13,
    "start_time": "2022-11-15T08:18:42.468Z"
   },
   {
    "duration": 16,
    "start_time": "2022-11-15T08:18:57.472Z"
   },
   {
    "duration": 18,
    "start_time": "2022-11-15T08:23:26.516Z"
   },
   {
    "duration": 14,
    "start_time": "2022-11-15T08:30:38.933Z"
   },
   {
    "duration": 15,
    "start_time": "2022-11-15T08:34:37.574Z"
   },
   {
    "duration": 13,
    "start_time": "2022-11-15T08:34:57.142Z"
   },
   {
    "duration": 13,
    "start_time": "2022-11-15T08:35:14.444Z"
   },
   {
    "duration": 15,
    "start_time": "2022-11-15T08:35:39.296Z"
   },
   {
    "duration": 14,
    "start_time": "2022-11-15T08:36:01.662Z"
   },
   {
    "duration": 16,
    "start_time": "2022-11-15T08:36:17.445Z"
   },
   {
    "duration": 13,
    "start_time": "2022-11-15T08:37:02.040Z"
   },
   {
    "duration": 13,
    "start_time": "2022-11-15T08:41:23.652Z"
   },
   {
    "duration": 11,
    "start_time": "2022-11-15T08:55:23.297Z"
   },
   {
    "duration": 6,
    "start_time": "2022-11-15T08:55:37.883Z"
   },
   {
    "duration": 11,
    "start_time": "2022-11-15T08:58:34.398Z"
   },
   {
    "duration": 15119,
    "start_time": "2022-11-15T08:58:43.804Z"
   },
   {
    "duration": 26,
    "start_time": "2022-11-15T09:01:24.901Z"
   },
   {
    "duration": 19,
    "start_time": "2022-11-15T09:01:28.901Z"
   },
   {
    "duration": 5,
    "start_time": "2022-11-15T09:01:47.727Z"
   },
   {
    "duration": 52,
    "start_time": "2022-11-15T09:01:48.730Z"
   },
   {
    "duration": 14,
    "start_time": "2022-11-15T09:01:49.409Z"
   },
   {
    "duration": 14,
    "start_time": "2022-11-15T09:01:50.522Z"
   },
   {
    "duration": 3,
    "start_time": "2022-11-15T09:01:54.501Z"
   },
   {
    "duration": 10,
    "start_time": "2022-11-15T09:01:55.106Z"
   },
   {
    "duration": 14,
    "start_time": "2022-11-15T09:01:56.037Z"
   },
   {
    "duration": 7,
    "start_time": "2022-11-15T09:01:58.054Z"
   },
   {
    "duration": 19,
    "start_time": "2022-11-15T09:03:11.434Z"
   },
   {
    "duration": 19,
    "start_time": "2022-11-15T09:05:20.306Z"
   },
   {
    "duration": 1188,
    "start_time": "2022-11-15T09:05:54.695Z"
   },
   {
    "duration": 51,
    "start_time": "2022-11-15T09:05:55.885Z"
   },
   {
    "duration": 16,
    "start_time": "2022-11-15T09:05:56.277Z"
   },
   {
    "duration": 15,
    "start_time": "2022-11-15T09:05:59.449Z"
   },
   {
    "duration": 4,
    "start_time": "2022-11-15T09:06:01.068Z"
   },
   {
    "duration": 11,
    "start_time": "2022-11-15T09:06:03.005Z"
   },
   {
    "duration": 15,
    "start_time": "2022-11-15T09:06:04.022Z"
   },
   {
    "duration": 10,
    "start_time": "2022-11-15T09:06:04.908Z"
   },
   {
    "duration": 13801,
    "start_time": "2022-11-15T09:06:11.783Z"
   },
   {
    "duration": 0,
    "start_time": "2022-11-15T09:06:25.588Z"
   },
   {
    "duration": 0,
    "start_time": "2022-11-15T09:06:25.589Z"
   },
   {
    "duration": 25,
    "start_time": "2022-11-15T09:06:36.595Z"
   },
   {
    "duration": 19,
    "start_time": "2022-11-15T09:09:42.197Z"
   },
   {
    "duration": 43503,
    "start_time": "2022-11-15T09:21:20.788Z"
   },
   {
    "duration": 0,
    "start_time": "2022-11-15T09:22:04.294Z"
   },
   {
    "duration": 19,
    "start_time": "2022-11-15T09:23:36.608Z"
   },
   {
    "duration": 13,
    "start_time": "2022-11-15T09:23:43.844Z"
   },
   {
    "duration": 16,
    "start_time": "2022-11-15T09:23:47.772Z"
   },
   {
    "duration": 11,
    "start_time": "2022-11-15T09:24:22.283Z"
   },
   {
    "duration": 22,
    "start_time": "2022-11-15T09:24:31.559Z"
   },
   {
    "duration": 54,
    "start_time": "2022-11-15T09:28:57.539Z"
   },
   {
    "duration": 80,
    "start_time": "2022-11-15T09:29:10.025Z"
   },
   {
    "duration": 3,
    "start_time": "2022-11-15T09:29:20.307Z"
   },
   {
    "duration": 3,
    "start_time": "2022-11-15T09:29:23.049Z"
   },
   {
    "duration": 70,
    "start_time": "2022-11-15T09:29:30.911Z"
   },
   {
    "duration": 46,
    "start_time": "2022-11-15T09:29:36.980Z"
   },
   {
    "duration": 82,
    "start_time": "2022-11-15T09:29:44.168Z"
   },
   {
    "duration": 451,
    "start_time": "2022-11-15T09:48:32.815Z"
   },
   {
    "duration": 370,
    "start_time": "2022-11-15T09:49:08.920Z"
   },
   {
    "duration": 4,
    "start_time": "2022-11-15T10:53:06.541Z"
   },
   {
    "duration": 4,
    "start_time": "2022-11-15T10:53:25.754Z"
   },
   {
    "duration": 6,
    "start_time": "2022-11-15T10:53:44.669Z"
   },
   {
    "duration": 22,
    "start_time": "2022-11-15T10:54:04.076Z"
   },
   {
    "duration": 66,
    "start_time": "2022-11-15T10:55:26.008Z"
   },
   {
    "duration": 26,
    "start_time": "2022-11-15T10:55:44.728Z"
   },
   {
    "duration": 28,
    "start_time": "2022-11-15T10:55:48.840Z"
   },
   {
    "duration": 51,
    "start_time": "2022-11-15T10:55:53.258Z"
   },
   {
    "duration": 5,
    "start_time": "2022-11-15T10:56:16.696Z"
   },
   {
    "duration": 66,
    "start_time": "2022-11-15T10:56:17.328Z"
   },
   {
    "duration": 15,
    "start_time": "2022-11-15T10:56:17.830Z"
   },
   {
    "duration": 16,
    "start_time": "2022-11-15T10:56:18.651Z"
   },
   {
    "duration": 4,
    "start_time": "2022-11-15T10:56:21.516Z"
   },
   {
    "duration": 11,
    "start_time": "2022-11-15T10:56:22.122Z"
   },
   {
    "duration": 20,
    "start_time": "2022-11-15T10:56:23.782Z"
   },
   {
    "duration": 7,
    "start_time": "2022-11-15T10:56:24.609Z"
   },
   {
    "duration": 2,
    "start_time": "2022-11-15T10:56:28.183Z"
   },
   {
    "duration": 4,
    "start_time": "2022-11-15T10:56:28.715Z"
   },
   {
    "duration": 23,
    "start_time": "2022-11-15T10:56:29.972Z"
   },
   {
    "duration": 23,
    "start_time": "2022-11-15T10:57:43.071Z"
   },
   {
    "duration": 67,
    "start_time": "2022-11-15T10:59:38.735Z"
   },
   {
    "duration": 4,
    "start_time": "2022-11-15T11:00:42.189Z"
   },
   {
    "duration": 49,
    "start_time": "2022-11-15T11:00:42.817Z"
   },
   {
    "duration": 13,
    "start_time": "2022-11-15T11:00:43.324Z"
   },
   {
    "duration": 14,
    "start_time": "2022-11-15T11:00:44.050Z"
   },
   {
    "duration": 3,
    "start_time": "2022-11-15T11:00:46.805Z"
   },
   {
    "duration": 15,
    "start_time": "2022-11-15T11:00:47.304Z"
   },
   {
    "duration": 20,
    "start_time": "2022-11-15T11:00:48.892Z"
   },
   {
    "duration": 6,
    "start_time": "2022-11-15T11:00:49.745Z"
   },
   {
    "duration": 13,
    "start_time": "2022-11-15T11:06:04.839Z"
   },
   {
    "duration": 5,
    "start_time": "2022-11-15T11:06:26.228Z"
   },
   {
    "duration": 8,
    "start_time": "2022-11-15T11:06:39.304Z"
   },
   {
    "duration": 6,
    "start_time": "2022-11-15T11:07:53.163Z"
   },
   {
    "duration": 20,
    "start_time": "2022-11-15T11:22:13.941Z"
   },
   {
    "duration": 4,
    "start_time": "2022-11-15T12:20:04.128Z"
   },
   {
    "duration": 5,
    "start_time": "2022-11-15T12:20:13.151Z"
   },
   {
    "duration": 53,
    "start_time": "2022-11-15T12:20:13.790Z"
   },
   {
    "duration": 12,
    "start_time": "2022-11-15T12:20:14.239Z"
   },
   {
    "duration": 12,
    "start_time": "2022-11-15T12:20:14.998Z"
   },
   {
    "duration": 3,
    "start_time": "2022-11-15T12:20:17.398Z"
   },
   {
    "duration": 4,
    "start_time": "2022-11-15T12:20:18.060Z"
   },
   {
    "duration": 1260,
    "start_time": "2022-11-15T14:30:31.721Z"
   },
   {
    "duration": 203,
    "start_time": "2022-11-15T14:30:32.984Z"
   },
   {
    "duration": 19,
    "start_time": "2022-11-15T14:30:33.189Z"
   },
   {
    "duration": 15,
    "start_time": "2022-11-15T14:30:34.249Z"
   },
   {
    "duration": 3,
    "start_time": "2022-11-15T14:30:37.053Z"
   },
   {
    "duration": 6,
    "start_time": "2022-11-15T14:30:37.728Z"
   },
   {
    "duration": 10,
    "start_time": "2022-11-15T14:31:20.677Z"
   },
   {
    "duration": 8,
    "start_time": "2022-11-15T14:31:40.950Z"
   },
   {
    "duration": 14,
    "start_time": "2022-11-15T14:36:43.713Z"
   },
   {
    "duration": 9,
    "start_time": "2022-11-15T14:38:04.272Z"
   },
   {
    "duration": 5,
    "start_time": "2022-11-15T14:38:10.542Z"
   },
   {
    "duration": 52,
    "start_time": "2022-11-15T14:38:11.086Z"
   },
   {
    "duration": 26,
    "start_time": "2022-11-15T14:38:11.614Z"
   },
   {
    "duration": 15,
    "start_time": "2022-11-15T14:38:12.183Z"
   },
   {
    "duration": 3,
    "start_time": "2022-11-15T14:38:14.463Z"
   },
   {
    "duration": 5,
    "start_time": "2022-11-15T14:38:15.078Z"
   },
   {
    "duration": 10,
    "start_time": "2022-11-15T14:38:17.446Z"
   },
   {
    "duration": 13,
    "start_time": "2022-11-15T14:38:20.277Z"
   },
   {
    "duration": 6,
    "start_time": "2022-11-15T14:55:40.290Z"
   },
   {
    "duration": 12,
    "start_time": "2022-11-15T14:55:48.013Z"
   },
   {
    "duration": 15,
    "start_time": "2022-11-15T14:55:58.625Z"
   },
   {
    "duration": 6,
    "start_time": "2022-11-15T14:56:00.960Z"
   },
   {
    "duration": 9,
    "start_time": "2022-11-15T14:56:04.022Z"
   },
   {
    "duration": 16,
    "start_time": "2022-11-15T14:59:58.872Z"
   },
   {
    "duration": 7,
    "start_time": "2022-11-15T15:00:15.537Z"
   },
   {
    "duration": 5,
    "start_time": "2022-11-15T15:00:28.665Z"
   },
   {
    "duration": 6,
    "start_time": "2022-11-15T15:00:40.694Z"
   },
   {
    "duration": 5,
    "start_time": "2022-11-15T15:00:58.358Z"
   },
   {
    "duration": 5,
    "start_time": "2022-11-15T15:02:26.192Z"
   },
   {
    "duration": 1168,
    "start_time": "2022-11-16T12:15:01.991Z"
   },
   {
    "duration": 96,
    "start_time": "2022-11-16T12:15:03.161Z"
   },
   {
    "duration": 15,
    "start_time": "2022-11-16T12:15:03.258Z"
   },
   {
    "duration": 16,
    "start_time": "2022-11-16T12:15:03.275Z"
   },
   {
    "duration": 2,
    "start_time": "2022-11-16T12:15:03.293Z"
   },
   {
    "duration": 6,
    "start_time": "2022-11-16T12:15:03.296Z"
   },
   {
    "duration": 14,
    "start_time": "2022-11-16T12:15:03.303Z"
   },
   {
    "duration": 15,
    "start_time": "2022-11-16T12:15:03.318Z"
   },
   {
    "duration": 8,
    "start_time": "2022-11-16T12:15:03.335Z"
   },
   {
    "duration": 8,
    "start_time": "2022-11-16T12:15:03.344Z"
   },
   {
    "duration": 8,
    "start_time": "2022-11-16T12:15:03.353Z"
   },
   {
    "duration": 5,
    "start_time": "2022-11-16T12:15:03.363Z"
   },
   {
    "duration": 7,
    "start_time": "2022-11-16T12:15:03.369Z"
   },
   {
    "duration": 1171,
    "start_time": "2022-11-16T14:15:06.612Z"
   },
   {
    "duration": 57,
    "start_time": "2022-11-16T14:15:07.785Z"
   },
   {
    "duration": 19,
    "start_time": "2022-11-16T14:15:07.844Z"
   },
   {
    "duration": 18,
    "start_time": "2022-11-16T14:15:07.864Z"
   },
   {
    "duration": 3,
    "start_time": "2022-11-16T14:15:07.884Z"
   },
   {
    "duration": 7,
    "start_time": "2022-11-16T14:15:07.888Z"
   },
   {
    "duration": 17,
    "start_time": "2022-11-16T14:15:07.896Z"
   },
   {
    "duration": 21,
    "start_time": "2022-11-16T14:15:07.914Z"
   },
   {
    "duration": 5,
    "start_time": "2022-11-16T14:15:07.937Z"
   },
   {
    "duration": 7,
    "start_time": "2022-11-16T14:15:07.944Z"
   },
   {
    "duration": 6,
    "start_time": "2022-11-16T14:15:07.953Z"
   },
   {
    "duration": 9,
    "start_time": "2022-11-16T14:15:07.960Z"
   },
   {
    "duration": 7,
    "start_time": "2022-11-16T14:15:07.971Z"
   },
   {
    "duration": 23,
    "start_time": "2022-11-16T14:30:24.216Z"
   },
   {
    "duration": 98,
    "start_time": "2022-11-16T14:31:44.765Z"
   },
   {
    "duration": 7,
    "start_time": "2022-11-16T14:33:30.727Z"
   },
   {
    "duration": 9,
    "start_time": "2022-11-16T14:33:48.580Z"
   },
   {
    "duration": 6,
    "start_time": "2022-11-16T14:38:54.893Z"
   },
   {
    "duration": 9,
    "start_time": "2022-11-16T14:38:59.318Z"
   },
   {
    "duration": 8,
    "start_time": "2022-11-16T14:39:06.996Z"
   },
   {
    "duration": 9,
    "start_time": "2022-11-16T14:39:10.730Z"
   },
   {
    "duration": 21,
    "start_time": "2022-11-16T14:39:17.895Z"
   },
   {
    "duration": 2,
    "start_time": "2022-11-16T14:42:25.722Z"
   },
   {
    "duration": 5,
    "start_time": "2022-11-16T14:43:44.380Z"
   },
   {
    "duration": 4,
    "start_time": "2022-11-16T14:47:21.109Z"
   },
   {
    "duration": 12,
    "start_time": "2022-11-16T14:47:29.208Z"
   },
   {
    "duration": 74,
    "start_time": "2022-11-16T14:59:20.396Z"
   },
   {
    "duration": 5,
    "start_time": "2022-11-16T15:00:59.491Z"
   },
   {
    "duration": 5,
    "start_time": "2022-11-16T15:01:06.291Z"
   },
   {
    "duration": 1168,
    "start_time": "2022-11-16T15:02:07.987Z"
   },
   {
    "duration": 49,
    "start_time": "2022-11-16T15:02:09.157Z"
   },
   {
    "duration": 47,
    "start_time": "2022-11-16T15:02:09.208Z"
   },
   {
    "duration": 78,
    "start_time": "2022-11-16T15:02:09.257Z"
   },
   {
    "duration": 36,
    "start_time": "2022-11-16T15:02:09.339Z"
   },
   {
    "duration": 81,
    "start_time": "2022-11-16T15:02:09.378Z"
   },
   {
    "duration": 67,
    "start_time": "2022-11-16T15:02:09.461Z"
   },
   {
    "duration": 43,
    "start_time": "2022-11-16T15:02:09.530Z"
   },
   {
    "duration": 56,
    "start_time": "2022-11-16T15:02:09.574Z"
   },
   {
    "duration": 38,
    "start_time": "2022-11-16T15:02:09.632Z"
   },
   {
    "duration": 37,
    "start_time": "2022-11-16T15:02:09.672Z"
   },
   {
    "duration": 28,
    "start_time": "2022-11-16T15:02:09.710Z"
   },
   {
    "duration": 66,
    "start_time": "2022-11-16T15:02:09.740Z"
   },
   {
    "duration": 64,
    "start_time": "2022-11-16T15:02:09.809Z"
   },
   {
    "duration": 28,
    "start_time": "2022-11-16T15:02:09.875Z"
   },
   {
    "duration": 5,
    "start_time": "2022-11-16T15:04:49.288Z"
   },
   {
    "duration": 5,
    "start_time": "2022-11-16T15:04:56.210Z"
   },
   {
    "duration": 5,
    "start_time": "2022-11-16T15:05:13.398Z"
   },
   {
    "duration": 5,
    "start_time": "2022-11-16T15:05:33.603Z"
   },
   {
    "duration": 1130,
    "start_time": "2022-11-16T15:05:43.679Z"
   },
   {
    "duration": 46,
    "start_time": "2022-11-16T15:05:44.811Z"
   },
   {
    "duration": 19,
    "start_time": "2022-11-16T15:05:44.859Z"
   },
   {
    "duration": 13,
    "start_time": "2022-11-16T15:05:44.880Z"
   },
   {
    "duration": 6,
    "start_time": "2022-11-16T15:05:44.895Z"
   },
   {
    "duration": 11,
    "start_time": "2022-11-16T15:05:44.903Z"
   },
   {
    "duration": 22,
    "start_time": "2022-11-16T15:05:44.915Z"
   },
   {
    "duration": 16,
    "start_time": "2022-11-16T15:05:44.939Z"
   },
   {
    "duration": 9,
    "start_time": "2022-11-16T15:05:44.957Z"
   },
   {
    "duration": 7,
    "start_time": "2022-11-16T15:05:44.968Z"
   },
   {
    "duration": 6,
    "start_time": "2022-11-16T15:05:44.976Z"
   },
   {
    "duration": 9,
    "start_time": "2022-11-16T15:05:44.983Z"
   },
   {
    "duration": 9,
    "start_time": "2022-11-16T15:05:44.993Z"
   },
   {
    "duration": 41,
    "start_time": "2022-11-16T15:05:45.004Z"
   },
   {
    "duration": 18,
    "start_time": "2022-11-16T15:05:45.046Z"
   },
   {
    "duration": 23,
    "start_time": "2022-11-16T15:05:45.066Z"
   },
   {
    "duration": 9,
    "start_time": "2022-11-16T15:05:45.091Z"
   },
   {
    "duration": 386,
    "start_time": "2022-11-16T15:11:57.048Z"
   },
   {
    "duration": 5,
    "start_time": "2022-11-16T15:12:10.995Z"
   },
   {
    "duration": 1153,
    "start_time": "2022-11-16T15:12:58.076Z"
   },
   {
    "duration": 46,
    "start_time": "2022-11-16T15:12:59.231Z"
   },
   {
    "duration": 18,
    "start_time": "2022-11-16T15:12:59.279Z"
   },
   {
    "duration": 14,
    "start_time": "2022-11-16T15:12:59.299Z"
   },
   {
    "duration": 17,
    "start_time": "2022-11-16T15:12:59.315Z"
   },
   {
    "duration": 16,
    "start_time": "2022-11-16T15:12:59.334Z"
   },
   {
    "duration": 20,
    "start_time": "2022-11-16T15:12:59.352Z"
   },
   {
    "duration": 37,
    "start_time": "2022-11-16T15:12:59.374Z"
   },
   {
    "duration": 18,
    "start_time": "2022-11-16T15:12:59.413Z"
   },
   {
    "duration": 9,
    "start_time": "2022-11-16T15:12:59.434Z"
   },
   {
    "duration": 4,
    "start_time": "2022-11-16T15:12:59.445Z"
   },
   {
    "duration": 7,
    "start_time": "2022-11-16T15:12:59.450Z"
   },
   {
    "duration": 12,
    "start_time": "2022-11-16T15:12:59.459Z"
   },
   {
    "duration": 15,
    "start_time": "2022-11-16T15:12:59.472Z"
   },
   {
    "duration": 7,
    "start_time": "2022-11-16T15:12:59.488Z"
   },
   {
    "duration": 7,
    "start_time": "2022-11-16T15:12:59.496Z"
   },
   {
    "duration": 19,
    "start_time": "2022-11-16T15:12:59.505Z"
   },
   {
    "duration": 7,
    "start_time": "2022-11-16T15:12:59.526Z"
   },
   {
    "duration": 15,
    "start_time": "2022-11-16T15:13:19.096Z"
   },
   {
    "duration": 5,
    "start_time": "2022-11-16T15:18:07.721Z"
   },
   {
    "duration": 8,
    "start_time": "2022-11-16T15:18:58.585Z"
   },
   {
    "duration": 6,
    "start_time": "2022-11-16T15:19:11.381Z"
   },
   {
    "duration": 22,
    "start_time": "2022-11-16T15:19:37.540Z"
   },
   {
    "duration": 5,
    "start_time": "2022-11-16T15:19:50.111Z"
   },
   {
    "duration": 21,
    "start_time": "2022-11-16T15:19:51.462Z"
   },
   {
    "duration": 204,
    "start_time": "2022-11-16T16:08:03.643Z"
   },
   {
    "duration": 174,
    "start_time": "2022-11-16T16:08:10.988Z"
   },
   {
    "duration": 9,
    "start_time": "2022-11-16T16:10:29.553Z"
   },
   {
    "duration": 6,
    "start_time": "2022-11-16T16:11:38.971Z"
   },
   {
    "duration": 71,
    "start_time": "2022-11-16T16:25:46.908Z"
   },
   {
    "duration": 75,
    "start_time": "2022-11-16T16:27:04.232Z"
   },
   {
    "duration": 68,
    "start_time": "2022-11-16T16:28:07.283Z"
   },
   {
    "duration": 471,
    "start_time": "2022-11-16T16:28:30.674Z"
   },
   {
    "duration": 497,
    "start_time": "2022-11-16T16:28:37.778Z"
   },
   {
    "duration": 523,
    "start_time": "2022-11-16T16:29:11.174Z"
   },
   {
    "duration": 18,
    "start_time": "2022-11-16T16:36:23.802Z"
   },
   {
    "duration": 8,
    "start_time": "2022-11-16T16:37:04.013Z"
   },
   {
    "duration": 10,
    "start_time": "2022-11-16T16:37:44.112Z"
   },
   {
    "duration": 11,
    "start_time": "2022-11-16T16:37:57.948Z"
   },
   {
    "duration": 10,
    "start_time": "2022-11-16T16:40:17.634Z"
   },
   {
    "duration": 11,
    "start_time": "2022-11-16T16:41:01.544Z"
   },
   {
    "duration": 10,
    "start_time": "2022-11-16T16:52:38.018Z"
   },
   {
    "duration": 9,
    "start_time": "2022-11-16T16:52:56.583Z"
   },
   {
    "duration": 7,
    "start_time": "2022-11-16T19:29:53.072Z"
   },
   {
    "duration": 231,
    "start_time": "2022-11-16T19:30:12.805Z"
   },
   {
    "duration": 5,
    "start_time": "2022-11-16T19:33:44.472Z"
   },
   {
    "duration": 254,
    "start_time": "2022-11-16T19:33:44.581Z"
   },
   {
    "duration": 5,
    "start_time": "2022-11-16T19:36:54.084Z"
   },
   {
    "duration": 316,
    "start_time": "2022-11-16T19:36:55.629Z"
   },
   {
    "duration": 6,
    "start_time": "2022-11-16T19:37:41.903Z"
   },
   {
    "duration": 272,
    "start_time": "2022-11-16T19:37:42.968Z"
   },
   {
    "duration": 6,
    "start_time": "2022-11-16T20:30:20.057Z"
   },
   {
    "duration": 223,
    "start_time": "2022-11-16T20:31:17.583Z"
   },
   {
    "duration": 10,
    "start_time": "2022-11-16T20:43:31.815Z"
   },
   {
    "duration": 262,
    "start_time": "2022-11-16T20:46:16.196Z"
   },
   {
    "duration": 274,
    "start_time": "2022-11-16T20:46:42.729Z"
   },
   {
    "duration": 790,
    "start_time": "2022-11-16T20:47:05.499Z"
   },
   {
    "duration": 687,
    "start_time": "2022-11-16T20:47:19.526Z"
   },
   {
    "duration": 91,
    "start_time": "2022-11-16T20:49:03.547Z"
   },
   {
    "duration": 17,
    "start_time": "2022-11-16T20:49:25.807Z"
   },
   {
    "duration": 16,
    "start_time": "2022-11-16T20:49:44.127Z"
   },
   {
    "duration": 183,
    "start_time": "2022-11-16T20:50:11.637Z"
   },
   {
    "duration": 30,
    "start_time": "2022-11-16T20:56:17.337Z"
   },
   {
    "duration": 49,
    "start_time": "2022-11-16T20:56:44.013Z"
   },
   {
    "duration": 30,
    "start_time": "2022-11-16T20:59:15.475Z"
   },
   {
    "duration": 32,
    "start_time": "2022-11-16T20:59:52.224Z"
   },
   {
    "duration": 29,
    "start_time": "2022-11-16T20:59:58.014Z"
   },
   {
    "duration": 32,
    "start_time": "2022-11-16T21:00:19.400Z"
   },
   {
    "duration": 40,
    "start_time": "2022-11-16T21:00:23.525Z"
   },
   {
    "duration": 450,
    "start_time": "2022-11-16T21:02:02.844Z"
   },
   {
    "duration": 8,
    "start_time": "2022-11-16T21:05:30.692Z"
   },
   {
    "duration": 14,
    "start_time": "2022-11-16T21:06:32.488Z"
   },
   {
    "duration": 10,
    "start_time": "2022-11-16T21:06:39.670Z"
   },
   {
    "duration": 12,
    "start_time": "2022-11-16T21:06:58.375Z"
   },
   {
    "duration": 10,
    "start_time": "2022-11-16T21:07:20.563Z"
   },
   {
    "duration": 425,
    "start_time": "2022-11-16T21:09:27.972Z"
   },
   {
    "duration": 5,
    "start_time": "2022-11-16T21:11:11.806Z"
   },
   {
    "duration": 6,
    "start_time": "2022-11-16T21:14:25.223Z"
   },
   {
    "duration": 335,
    "start_time": "2022-11-16T21:14:27.875Z"
   },
   {
    "duration": 7,
    "start_time": "2022-11-16T21:16:18.974Z"
   },
   {
    "duration": 283,
    "start_time": "2022-11-16T21:16:20.299Z"
   },
   {
    "duration": 245,
    "start_time": "2022-11-16T21:19:41.870Z"
   },
   {
    "duration": 283,
    "start_time": "2022-11-16T21:20:20.857Z"
   },
   {
    "duration": 254,
    "start_time": "2022-11-16T21:20:36.020Z"
   },
   {
    "duration": 5842,
    "start_time": "2022-11-16T21:21:58.940Z"
   },
   {
    "duration": 769,
    "start_time": "2022-11-16T21:22:31.374Z"
   },
   {
    "duration": 205,
    "start_time": "2022-11-16T21:22:40.054Z"
   },
   {
    "duration": 457,
    "start_time": "2022-11-16T21:29:33.635Z"
   },
   {
    "duration": 22,
    "start_time": "2022-11-16T21:35:52.908Z"
   },
   {
    "duration": 54,
    "start_time": "2022-11-16T21:39:57.653Z"
   },
   {
    "duration": 52,
    "start_time": "2022-11-16T21:40:43.146Z"
   },
   {
    "duration": 6,
    "start_time": "2022-11-16T21:47:35.333Z"
   },
   {
    "duration": 315,
    "start_time": "2022-11-16T21:47:36.891Z"
   },
   {
    "duration": 6,
    "start_time": "2022-11-16T21:48:08.409Z"
   },
   {
    "duration": 247,
    "start_time": "2022-11-16T21:48:09.768Z"
   },
   {
    "duration": 9,
    "start_time": "2022-11-16T21:56:35.913Z"
   },
   {
    "duration": 11,
    "start_time": "2022-11-16T21:56:46.014Z"
   },
   {
    "duration": 9,
    "start_time": "2022-11-16T21:56:59.024Z"
   },
   {
    "duration": 8,
    "start_time": "2022-11-16T21:57:17.273Z"
   },
   {
    "duration": 8,
    "start_time": "2022-11-16T21:57:21.880Z"
   },
   {
    "duration": 9,
    "start_time": "2022-11-16T22:00:24.807Z"
   },
   {
    "duration": 48,
    "start_time": "2022-11-17T13:00:09.823Z"
   },
   {
    "duration": 1559,
    "start_time": "2022-11-17T13:00:25.937Z"
   },
   {
    "duration": 240,
    "start_time": "2022-11-17T13:00:27.509Z"
   },
   {
    "duration": 32,
    "start_time": "2022-11-17T13:00:27.750Z"
   },
   {
    "duration": 22,
    "start_time": "2022-11-17T13:00:27.785Z"
   },
   {
    "duration": 15,
    "start_time": "2022-11-17T13:00:27.810Z"
   },
   {
    "duration": 20,
    "start_time": "2022-11-17T13:00:27.826Z"
   },
   {
    "duration": 17,
    "start_time": "2022-11-17T13:00:27.848Z"
   },
   {
    "duration": 37,
    "start_time": "2022-11-17T13:00:27.867Z"
   },
   {
    "duration": 18,
    "start_time": "2022-11-17T13:00:27.906Z"
   },
   {
    "duration": 30,
    "start_time": "2022-11-17T13:00:27.927Z"
   },
   {
    "duration": 6,
    "start_time": "2022-11-17T13:00:27.959Z"
   },
   {
    "duration": 28,
    "start_time": "2022-11-17T13:00:27.968Z"
   },
   {
    "duration": 38,
    "start_time": "2022-11-17T13:00:27.998Z"
   },
   {
    "duration": 18,
    "start_time": "2022-11-17T13:00:28.038Z"
   },
   {
    "duration": 15,
    "start_time": "2022-11-17T13:00:28.058Z"
   },
   {
    "duration": 44,
    "start_time": "2022-11-17T13:00:28.078Z"
   },
   {
    "duration": 20,
    "start_time": "2022-11-17T13:00:28.124Z"
   },
   {
    "duration": 26,
    "start_time": "2022-11-17T13:00:28.145Z"
   },
   {
    "duration": 36,
    "start_time": "2022-11-17T13:00:28.173Z"
   },
   {
    "duration": 20,
    "start_time": "2022-11-17T13:00:28.211Z"
   },
   {
    "duration": 30,
    "start_time": "2022-11-17T13:00:28.233Z"
   },
   {
    "duration": 16,
    "start_time": "2022-11-17T13:00:28.266Z"
   },
   {
    "duration": 21,
    "start_time": "2022-11-17T13:00:28.284Z"
   },
   {
    "duration": 450,
    "start_time": "2022-11-17T13:00:28.307Z"
   },
   {
    "duration": 9,
    "start_time": "2022-11-17T13:00:28.760Z"
   },
   {
    "duration": 326,
    "start_time": "2022-11-17T13:00:28.771Z"
   },
   {
    "duration": 13,
    "start_time": "2022-11-17T13:00:29.100Z"
   },
   {
    "duration": 14,
    "start_time": "2022-11-17T13:00:29.118Z"
   },
   {
    "duration": 19,
    "start_time": "2022-11-17T13:00:29.134Z"
   },
   {
    "duration": 229,
    "start_time": "2022-11-17T13:01:07.152Z"
   },
   {
    "duration": 157,
    "start_time": "2022-11-17T13:01:24.400Z"
   },
   {
    "duration": 177,
    "start_time": "2022-11-17T13:02:29.967Z"
   },
   {
    "duration": 170,
    "start_time": "2022-11-17T13:02:41.952Z"
   },
   {
    "duration": 244,
    "start_time": "2022-11-17T13:19:03.625Z"
   },
   {
    "duration": 50,
    "start_time": "2022-11-17T13:19:59.912Z"
   },
   {
    "duration": 149,
    "start_time": "2022-11-17T13:20:11.613Z"
   },
   {
    "duration": 11,
    "start_time": "2022-11-17T13:56:06.712Z"
   },
   {
    "duration": 8,
    "start_time": "2022-11-17T13:56:51.412Z"
   },
   {
    "duration": 8,
    "start_time": "2022-11-17T13:57:00.669Z"
   },
   {
    "duration": 8,
    "start_time": "2022-11-17T13:57:19.758Z"
   },
   {
    "duration": 8,
    "start_time": "2022-11-17T13:59:42.106Z"
   },
   {
    "duration": 8,
    "start_time": "2022-11-17T14:00:11.016Z"
   },
   {
    "duration": 550,
    "start_time": "2022-11-17T14:01:05.291Z"
   },
   {
    "duration": 6,
    "start_time": "2022-11-17T14:19:33.295Z"
   },
   {
    "duration": 6,
    "start_time": "2022-11-17T14:19:59.269Z"
   },
   {
    "duration": 319,
    "start_time": "2022-11-17T14:20:43.371Z"
   },
   {
    "duration": 279,
    "start_time": "2022-11-17T14:21:01.037Z"
   },
   {
    "duration": 284,
    "start_time": "2022-11-17T14:21:16.233Z"
   },
   {
    "duration": 6,
    "start_time": "2022-11-17T14:25:01.962Z"
   },
   {
    "duration": 309,
    "start_time": "2022-11-17T14:25:03.318Z"
   },
   {
    "duration": 153,
    "start_time": "2022-11-17T14:27:16.514Z"
   },
   {
    "duration": 178,
    "start_time": "2022-11-17T14:27:41.092Z"
   },
   {
    "duration": 173,
    "start_time": "2022-11-17T14:27:47.996Z"
   },
   {
    "duration": 229,
    "start_time": "2022-11-17T14:28:21.221Z"
   },
   {
    "duration": 261,
    "start_time": "2022-11-17T14:29:25.925Z"
   },
   {
    "duration": 149,
    "start_time": "2022-11-17T14:29:30.821Z"
   },
   {
    "duration": 286,
    "start_time": "2022-11-17T14:34:17.417Z"
   },
   {
    "duration": 291,
    "start_time": "2022-11-17T14:34:24.737Z"
   },
   {
    "duration": 302,
    "start_time": "2022-11-17T14:35:18.924Z"
   },
   {
    "duration": 336,
    "start_time": "2022-11-17T14:35:59.228Z"
   },
   {
    "duration": 10,
    "start_time": "2022-11-17T14:40:18.395Z"
   },
   {
    "duration": 10,
    "start_time": "2022-11-17T14:40:42.511Z"
   },
   {
    "duration": 12,
    "start_time": "2022-11-17T14:43:28.028Z"
   },
   {
    "duration": 10,
    "start_time": "2022-11-17T14:50:45.807Z"
   },
   {
    "duration": 46,
    "start_time": "2022-11-17T15:57:08.854Z"
   },
   {
    "duration": 7,
    "start_time": "2022-11-17T15:57:57.733Z"
   },
   {
    "duration": 13,
    "start_time": "2022-11-17T15:58:24.131Z"
   },
   {
    "duration": 25,
    "start_time": "2022-11-17T15:58:46.774Z"
   },
   {
    "duration": 8,
    "start_time": "2022-11-17T15:59:26.474Z"
   },
   {
    "duration": 8,
    "start_time": "2022-11-17T15:59:36.132Z"
   },
   {
    "duration": 7,
    "start_time": "2022-11-17T15:59:36.899Z"
   },
   {
    "duration": 13,
    "start_time": "2022-11-17T15:59:56.788Z"
   },
   {
    "duration": 11,
    "start_time": "2022-11-17T16:00:08.772Z"
   },
   {
    "duration": 11,
    "start_time": "2022-11-17T16:00:21.813Z"
   },
   {
    "duration": 7,
    "start_time": "2022-11-17T16:01:11.449Z"
   },
   {
    "duration": 24,
    "start_time": "2022-11-17T16:01:14.673Z"
   },
   {
    "duration": 6,
    "start_time": "2022-11-17T16:02:17.598Z"
   },
   {
    "duration": 8,
    "start_time": "2022-11-17T16:02:22.697Z"
   },
   {
    "duration": 7,
    "start_time": "2022-11-17T16:03:24.264Z"
   },
   {
    "duration": 21,
    "start_time": "2022-11-17T16:03:28.461Z"
   },
   {
    "duration": 6,
    "start_time": "2022-11-17T16:04:13.330Z"
   },
   {
    "duration": 20,
    "start_time": "2022-11-17T16:04:15.824Z"
   },
   {
    "duration": 22,
    "start_time": "2022-11-17T16:04:23.573Z"
   },
   {
    "duration": 7,
    "start_time": "2022-11-17T16:04:53.861Z"
   },
   {
    "duration": 24,
    "start_time": "2022-11-17T16:04:56.349Z"
   },
   {
    "duration": 164,
    "start_time": "2022-11-17T16:06:27.089Z"
   },
   {
    "duration": 156,
    "start_time": "2022-11-17T16:06:42.064Z"
   },
   {
    "duration": 149,
    "start_time": "2022-11-17T16:07:39.933Z"
   },
   {
    "duration": 147,
    "start_time": "2022-11-17T16:07:47.331Z"
   },
   {
    "duration": 9,
    "start_time": "2022-11-17T16:11:04.381Z"
   },
   {
    "duration": 8,
    "start_time": "2022-11-17T16:11:13.701Z"
   },
   {
    "duration": 10,
    "start_time": "2022-11-17T16:11:33.904Z"
   },
   {
    "duration": 5,
    "start_time": "2022-11-17T16:12:04.166Z"
   },
   {
    "duration": 945,
    "start_time": "2022-11-17T16:12:15.733Z"
   },
   {
    "duration": 13,
    "start_time": "2022-11-17T16:12:50.350Z"
   },
   {
    "duration": 15,
    "start_time": "2022-11-17T16:17:31.767Z"
   },
   {
    "duration": 17,
    "start_time": "2022-11-17T16:18:07.296Z"
   },
   {
    "duration": 104,
    "start_time": "2022-11-17T16:20:24.297Z"
   },
   {
    "duration": 20,
    "start_time": "2022-11-17T16:21:08.959Z"
   },
   {
    "duration": 8,
    "start_time": "2022-11-17T16:31:13.743Z"
   },
   {
    "duration": 3,
    "start_time": "2022-11-17T16:31:16.046Z"
   },
   {
    "duration": 20,
    "start_time": "2022-11-17T16:31:16.800Z"
   },
   {
    "duration": 4,
    "start_time": "2022-11-17T16:34:56.620Z"
   },
   {
    "duration": 4,
    "start_time": "2022-11-17T16:35:33.136Z"
   },
   {
    "duration": 136,
    "start_time": "2022-11-17T16:38:53.767Z"
   },
   {
    "duration": 146,
    "start_time": "2022-11-17T16:39:28.760Z"
   },
   {
    "duration": 165,
    "start_time": "2022-11-17T16:39:35.717Z"
   },
   {
    "duration": 166,
    "start_time": "2022-11-17T16:39:42.575Z"
   },
   {
    "duration": 151,
    "start_time": "2022-11-17T16:39:51.067Z"
   },
   {
    "duration": 141,
    "start_time": "2022-11-17T16:41:00.357Z"
   },
   {
    "duration": 144,
    "start_time": "2022-11-17T16:42:46.668Z"
   },
   {
    "duration": 4,
    "start_time": "2022-11-17T16:49:17.663Z"
   },
   {
    "duration": 5,
    "start_time": "2022-11-17T16:49:26.488Z"
   },
   {
    "duration": 171,
    "start_time": "2022-11-17T16:49:53.182Z"
   },
   {
    "duration": 5,
    "start_time": "2022-11-17T18:20:07.297Z"
   },
   {
    "duration": 3,
    "start_time": "2022-11-17T18:20:07.976Z"
   },
   {
    "duration": 3,
    "start_time": "2022-11-17T18:21:11.999Z"
   },
   {
    "duration": 3,
    "start_time": "2022-11-17T18:21:12.555Z"
   },
   {
    "duration": 3,
    "start_time": "2022-11-17T18:31:56.946Z"
   },
   {
    "duration": 3,
    "start_time": "2022-11-17T18:31:57.361Z"
   },
   {
    "duration": 5,
    "start_time": "2022-11-17T18:32:37.228Z"
   },
   {
    "duration": 5,
    "start_time": "2022-11-17T18:33:14.045Z"
   },
   {
    "duration": 46,
    "start_time": "2022-11-17T18:34:14.262Z"
   },
   {
    "duration": 5,
    "start_time": "2022-11-17T18:34:47.783Z"
   },
   {
    "duration": 5,
    "start_time": "2022-11-17T18:35:14.264Z"
   },
   {
    "duration": 753,
    "start_time": "2022-11-17T18:50:06.958Z"
   },
   {
    "duration": 7,
    "start_time": "2022-11-17T18:51:55.454Z"
   },
   {
    "duration": 10,
    "start_time": "2022-11-17T18:54:59.023Z"
   },
   {
    "duration": 22,
    "start_time": "2022-11-17T18:56:01.081Z"
   },
   {
    "duration": 5,
    "start_time": "2022-11-17T18:57:21.840Z"
   },
   {
    "duration": 168,
    "start_time": "2022-11-17T19:00:26.721Z"
   },
   {
    "duration": 158,
    "start_time": "2022-11-17T19:00:36.135Z"
   },
   {
    "duration": 15,
    "start_time": "2022-11-17T19:05:28.866Z"
   },
   {
    "duration": 5,
    "start_time": "2022-11-17T19:10:11.589Z"
   },
   {
    "duration": 8,
    "start_time": "2022-11-17T19:10:24.075Z"
   },
   {
    "duration": 3,
    "start_time": "2022-11-17T19:10:27.303Z"
   },
   {
    "duration": 11,
    "start_time": "2022-11-17T19:10:29.974Z"
   },
   {
    "duration": 11,
    "start_time": "2022-11-17T19:10:54.610Z"
   },
   {
    "duration": 5,
    "start_time": "2022-11-17T19:11:00.698Z"
   },
   {
    "duration": 183,
    "start_time": "2022-11-17T19:11:01.832Z"
   },
   {
    "duration": 4,
    "start_time": "2022-11-17T19:11:32.700Z"
   },
   {
    "duration": 249,
    "start_time": "2022-11-17T19:11:33.741Z"
   },
   {
    "duration": 5,
    "start_time": "2022-11-17T19:12:23.097Z"
   },
   {
    "duration": 1117,
    "start_time": "2022-11-17T19:12:24.061Z"
   },
   {
    "duration": 4,
    "start_time": "2022-11-17T19:14:11.730Z"
   },
   {
    "duration": 867,
    "start_time": "2022-11-17T19:14:15.862Z"
   },
   {
    "duration": 46,
    "start_time": "2022-11-17T19:16:27.958Z"
   },
   {
    "duration": 927,
    "start_time": "2022-11-17T19:16:29.059Z"
   },
   {
    "duration": 4,
    "start_time": "2022-11-17T19:17:07.554Z"
   },
   {
    "duration": 330,
    "start_time": "2022-11-17T19:17:08.769Z"
   },
   {
    "duration": 3,
    "start_time": "2022-11-17T19:17:20.216Z"
   },
   {
    "duration": 853,
    "start_time": "2022-11-17T19:17:21.064Z"
   },
   {
    "duration": 2,
    "start_time": "2022-11-17T19:27:20.444Z"
   },
   {
    "duration": 7,
    "start_time": "2022-11-17T19:27:21.153Z"
   },
   {
    "duration": 17,
    "start_time": "2022-11-17T19:27:22.307Z"
   },
   {
    "duration": 2,
    "start_time": "2022-11-17T19:28:54.794Z"
   },
   {
    "duration": 7,
    "start_time": "2022-11-17T19:28:55.516Z"
   },
   {
    "duration": 49,
    "start_time": "2022-11-17T19:28:56.422Z"
   },
   {
    "duration": 8,
    "start_time": "2022-11-17T19:29:25.530Z"
   },
   {
    "duration": 19,
    "start_time": "2022-11-17T19:29:26.904Z"
   },
   {
    "duration": 3,
    "start_time": "2022-11-17T19:33:39.094Z"
   },
   {
    "duration": 6,
    "start_time": "2022-11-17T19:33:39.852Z"
   },
   {
    "duration": 17,
    "start_time": "2022-11-17T19:33:40.896Z"
   },
   {
    "duration": 3,
    "start_time": "2022-11-17T19:39:54.461Z"
   },
   {
    "duration": 13,
    "start_time": "2022-11-17T19:47:15.978Z"
   },
   {
    "duration": 9,
    "start_time": "2022-11-17T19:49:43.186Z"
   },
   {
    "duration": 7,
    "start_time": "2022-11-17T19:49:53.777Z"
   },
   {
    "duration": 15,
    "start_time": "2022-11-17T19:50:13.209Z"
   },
   {
    "duration": 10,
    "start_time": "2022-11-17T19:50:38.282Z"
   },
   {
    "duration": 7,
    "start_time": "2022-11-17T19:50:39.187Z"
   },
   {
    "duration": 17,
    "start_time": "2022-11-17T19:54:10.969Z"
   },
   {
    "duration": 9,
    "start_time": "2022-11-17T19:54:28.956Z"
   },
   {
    "duration": 7,
    "start_time": "2022-11-17T19:54:34.735Z"
   },
   {
    "duration": 12,
    "start_time": "2022-11-17T19:55:08.078Z"
   },
   {
    "duration": 9,
    "start_time": "2022-11-17T19:55:35.545Z"
   },
   {
    "duration": 7,
    "start_time": "2022-11-17T19:55:41.331Z"
   },
   {
    "duration": 13,
    "start_time": "2022-11-17T19:56:03.402Z"
   },
   {
    "duration": 142,
    "start_time": "2022-11-17T19:57:47.260Z"
   },
   {
    "duration": 12,
    "start_time": "2022-11-17T19:58:30.837Z"
   },
   {
    "duration": 140,
    "start_time": "2022-11-17T19:59:40.061Z"
   },
   {
    "duration": 17,
    "start_time": "2022-11-17T20:00:28.496Z"
   },
   {
    "duration": 16,
    "start_time": "2022-11-17T20:00:48.199Z"
   },
   {
    "duration": 200,
    "start_time": "2022-11-17T20:01:00.995Z"
   },
   {
    "duration": 133,
    "start_time": "2022-11-17T20:08:53.211Z"
   },
   {
    "duration": 185,
    "start_time": "2022-11-17T20:08:58.294Z"
   },
   {
    "duration": 242,
    "start_time": "2022-11-17T20:09:04.799Z"
   },
   {
    "duration": 287,
    "start_time": "2022-11-17T20:09:19.100Z"
   },
   {
    "duration": 13,
    "start_time": "2022-11-17T21:37:54.345Z"
   },
   {
    "duration": 9,
    "start_time": "2022-11-17T21:39:59.703Z"
   },
   {
    "duration": 7,
    "start_time": "2022-11-17T21:40:12.552Z"
   },
   {
    "duration": 9,
    "start_time": "2022-11-17T21:40:30.004Z"
   },
   {
    "duration": 8,
    "start_time": "2022-11-17T21:41:09.095Z"
   },
   {
    "duration": 13,
    "start_time": "2022-11-17T21:42:13.864Z"
   },
   {
    "duration": 11,
    "start_time": "2022-11-17T21:42:25.837Z"
   },
   {
    "duration": 771,
    "start_time": "2022-11-17T21:43:24.803Z"
   },
   {
    "duration": 137,
    "start_time": "2022-11-17T21:44:11.707Z"
   },
   {
    "duration": 176,
    "start_time": "2022-11-17T21:44:52.414Z"
   },
   {
    "duration": 177,
    "start_time": "2022-11-17T21:45:40.901Z"
   },
   {
    "duration": 162,
    "start_time": "2022-11-17T21:49:34.196Z"
   },
   {
    "duration": 150,
    "start_time": "2022-11-17T21:49:43.166Z"
   },
   {
    "duration": 10,
    "start_time": "2022-11-17T21:50:07.107Z"
   },
   {
    "duration": 9,
    "start_time": "2022-11-17T21:51:56.376Z"
   },
   {
    "duration": 14,
    "start_time": "2022-11-17T21:52:22.568Z"
   },
   {
    "duration": 8,
    "start_time": "2022-11-17T21:52:55.980Z"
   },
   {
    "duration": 21,
    "start_time": "2022-11-17T21:53:05.987Z"
   },
   {
    "duration": 11,
    "start_time": "2022-11-17T21:53:34.803Z"
   },
   {
    "duration": 165,
    "start_time": "2022-11-17T21:54:21.768Z"
   },
   {
    "duration": 25,
    "start_time": "2022-11-17T21:59:49.838Z"
   },
   {
    "duration": 140,
    "start_time": "2022-11-17T22:02:47.839Z"
   },
   {
    "duration": 5,
    "start_time": "2022-11-17T22:03:05.073Z"
   },
   {
    "duration": 7,
    "start_time": "2022-11-17T22:03:21.389Z"
   },
   {
    "duration": 40,
    "start_time": "2022-11-17T22:03:42.053Z"
   },
   {
    "duration": 12,
    "start_time": "2022-11-17T22:03:56.302Z"
   },
   {
    "duration": 7,
    "start_time": "2022-11-17T22:08:12.984Z"
   },
   {
    "duration": 14,
    "start_time": "2022-11-17T22:10:33.382Z"
   },
   {
    "duration": 8,
    "start_time": "2022-11-17T22:10:44.394Z"
   },
   {
    "duration": 5,
    "start_time": "2022-11-17T22:11:11.468Z"
   },
   {
    "duration": 431,
    "start_time": "2022-11-17T22:14:03.226Z"
   },
   {
    "duration": 343,
    "start_time": "2022-11-17T22:14:27.168Z"
   },
   {
    "duration": 346,
    "start_time": "2022-11-17T22:14:31.431Z"
   },
   {
    "duration": 6,
    "start_time": "2022-11-17T22:15:49.201Z"
   },
   {
    "duration": 447,
    "start_time": "2022-11-17T22:17:59.661Z"
   },
   {
    "duration": 6,
    "start_time": "2022-11-17T22:20:08.160Z"
   },
   {
    "duration": 20,
    "start_time": "2022-11-17T22:20:12.273Z"
   },
   {
    "duration": 7,
    "start_time": "2022-11-17T22:20:35.430Z"
   },
   {
    "duration": 30,
    "start_time": "2022-11-17T22:20:37.880Z"
   },
   {
    "duration": 5,
    "start_time": "2022-11-17T22:22:30.816Z"
   },
   {
    "duration": 5,
    "start_time": "2022-11-17T22:23:05.194Z"
   },
   {
    "duration": 20,
    "start_time": "2022-11-17T22:24:43.800Z"
   },
   {
    "duration": 10,
    "start_time": "2022-11-17T22:25:44.312Z"
   },
   {
    "duration": 8,
    "start_time": "2022-11-17T22:28:11.814Z"
   },
   {
    "duration": 9,
    "start_time": "2022-11-17T22:28:44.061Z"
   },
   {
    "duration": 8,
    "start_time": "2022-11-17T22:29:45.271Z"
   },
   {
    "duration": 9,
    "start_time": "2022-11-17T22:30:06.971Z"
   },
   {
    "duration": 8,
    "start_time": "2022-11-17T22:30:07.835Z"
   },
   {
    "duration": 9,
    "start_time": "2022-11-17T22:30:08.509Z"
   },
   {
    "duration": 8,
    "start_time": "2022-11-17T22:31:03.401Z"
   },
   {
    "duration": 7,
    "start_time": "2022-11-17T22:31:34.864Z"
   },
   {
    "duration": 8,
    "start_time": "2022-11-17T22:32:14.865Z"
   },
   {
    "duration": 7,
    "start_time": "2022-11-17T22:36:03.014Z"
   },
   {
    "duration": 14,
    "start_time": "2022-11-17T22:40:05.755Z"
   },
   {
    "duration": 176,
    "start_time": "2022-11-17T22:40:43.522Z"
   },
   {
    "duration": 175,
    "start_time": "2022-11-17T22:41:18.908Z"
   },
   {
    "duration": 150,
    "start_time": "2022-11-17T22:44:00.355Z"
   },
   {
    "duration": 137,
    "start_time": "2022-11-17T22:45:29.207Z"
   },
   {
    "duration": 259,
    "start_time": "2022-11-17T22:45:52.498Z"
   },
   {
    "duration": 178,
    "start_time": "2022-11-17T22:47:13.757Z"
   },
   {
    "duration": 13,
    "start_time": "2022-11-17T22:54:48.877Z"
   },
   {
    "duration": 254,
    "start_time": "2022-11-17T22:55:25.391Z"
   },
   {
    "duration": 7,
    "start_time": "2022-11-17T22:56:09.500Z"
   },
   {
    "duration": 7,
    "start_time": "2022-11-17T22:56:46.303Z"
   },
   {
    "duration": 177,
    "start_time": "2022-11-17T22:58:55.275Z"
   },
   {
    "duration": 157,
    "start_time": "2022-11-17T22:59:22.873Z"
   },
   {
    "duration": 19,
    "start_time": "2022-11-17T23:02:42.531Z"
   },
   {
    "duration": 135,
    "start_time": "2022-11-17T23:03:22.220Z"
   },
   {
    "duration": 8,
    "start_time": "2022-11-17T23:05:35.991Z"
   },
   {
    "duration": 7,
    "start_time": "2022-11-17T23:06:04.202Z"
   },
   {
    "duration": 7,
    "start_time": "2022-11-17T23:06:55.424Z"
   },
   {
    "duration": 7,
    "start_time": "2022-11-17T23:10:45.600Z"
   },
   {
    "duration": 318,
    "start_time": "2022-11-17T23:10:46.945Z"
   },
   {
    "duration": 152,
    "start_time": "2022-11-17T23:11:25.611Z"
   },
   {
    "duration": 162,
    "start_time": "2022-11-17T23:12:06.497Z"
   },
   {
    "duration": 164,
    "start_time": "2022-11-17T23:12:48.741Z"
   },
   {
    "duration": 141,
    "start_time": "2022-11-17T23:12:57.718Z"
   },
   {
    "duration": 156,
    "start_time": "2022-11-17T23:13:08.398Z"
   },
   {
    "duration": 156,
    "start_time": "2022-11-17T23:13:39.015Z"
   },
   {
    "duration": 150,
    "start_time": "2022-11-17T23:15:51.550Z"
   },
   {
    "duration": 8,
    "start_time": "2022-11-18T00:02:55.686Z"
   },
   {
    "duration": 8,
    "start_time": "2022-11-18T00:03:10.783Z"
   },
   {
    "duration": 6,
    "start_time": "2022-11-18T00:03:21.807Z"
   },
   {
    "duration": 7,
    "start_time": "2022-11-18T00:04:30.097Z"
   },
   {
    "duration": 10,
    "start_time": "2022-11-18T00:06:15.598Z"
   },
   {
    "duration": 8,
    "start_time": "2022-11-18T00:06:21.809Z"
   },
   {
    "duration": 8,
    "start_time": "2022-11-18T00:07:16.675Z"
   },
   {
    "duration": 3,
    "start_time": "2022-11-18T00:08:21.820Z"
   },
   {
    "duration": 9,
    "start_time": "2022-11-18T00:08:24.200Z"
   },
   {
    "duration": 5,
    "start_time": "2022-11-18T00:08:44.597Z"
   },
   {
    "duration": 5,
    "start_time": "2022-11-18T00:10:12.706Z"
   },
   {
    "duration": 7,
    "start_time": "2022-11-18T00:13:16.836Z"
   },
   {
    "duration": 6,
    "start_time": "2022-11-18T00:13:18.134Z"
   },
   {
    "duration": 2,
    "start_time": "2022-11-18T00:13:20.373Z"
   },
   {
    "duration": 5,
    "start_time": "2022-11-18T00:13:21.173Z"
   },
   {
    "duration": 7,
    "start_time": "2022-11-18T00:14:21.107Z"
   },
   {
    "duration": 7,
    "start_time": "2022-11-18T00:14:22.450Z"
   },
   {
    "duration": 2,
    "start_time": "2022-11-18T00:14:24.334Z"
   },
   {
    "duration": 5,
    "start_time": "2022-11-18T00:14:25.145Z"
   },
   {
    "duration": 6,
    "start_time": "2022-11-18T00:15:30.798Z"
   },
   {
    "duration": 5,
    "start_time": "2022-11-18T00:24:05.392Z"
   },
   {
    "duration": 4,
    "start_time": "2022-11-18T00:24:06.082Z"
   },
   {
    "duration": 6,
    "start_time": "2022-11-18T00:24:40.677Z"
   },
   {
    "duration": 4,
    "start_time": "2022-11-18T00:24:41.295Z"
   },
   {
    "duration": 20,
    "start_time": "2022-11-18T00:26:16.798Z"
   },
   {
    "duration": 7,
    "start_time": "2022-11-18T00:26:34.795Z"
   },
   {
    "duration": 5,
    "start_time": "2022-11-18T00:26:35.629Z"
   },
   {
    "duration": 6,
    "start_time": "2022-11-18T00:26:36.964Z"
   },
   {
    "duration": 5,
    "start_time": "2022-11-18T00:26:37.540Z"
   },
   {
    "duration": 6,
    "start_time": "2022-11-18T00:28:37.547Z"
   },
   {
    "duration": 1115,
    "start_time": "2022-11-18T05:40:39.302Z"
   },
   {
    "duration": 52,
    "start_time": "2022-11-18T05:40:40.419Z"
   },
   {
    "duration": 19,
    "start_time": "2022-11-18T05:40:40.472Z"
   },
   {
    "duration": 14,
    "start_time": "2022-11-18T05:40:40.493Z"
   },
   {
    "duration": 5,
    "start_time": "2022-11-18T05:40:40.509Z"
   },
   {
    "duration": 6,
    "start_time": "2022-11-18T05:40:40.516Z"
   },
   {
    "duration": 11,
    "start_time": "2022-11-18T05:40:40.523Z"
   },
   {
    "duration": 12,
    "start_time": "2022-11-18T05:40:40.536Z"
   },
   {
    "duration": 9,
    "start_time": "2022-11-18T05:40:40.549Z"
   },
   {
    "duration": 6,
    "start_time": "2022-11-18T05:40:40.560Z"
   },
   {
    "duration": 7,
    "start_time": "2022-11-18T05:40:40.567Z"
   },
   {
    "duration": 9,
    "start_time": "2022-11-18T05:40:40.576Z"
   },
   {
    "duration": 5,
    "start_time": "2022-11-18T05:40:40.612Z"
   },
   {
    "duration": 29,
    "start_time": "2022-11-18T05:40:40.618Z"
   },
   {
    "duration": 19,
    "start_time": "2022-11-18T05:40:40.648Z"
   },
   {
    "duration": 13,
    "start_time": "2022-11-18T05:40:40.669Z"
   },
   {
    "duration": 14,
    "start_time": "2022-11-18T05:40:40.684Z"
   },
   {
    "duration": 7,
    "start_time": "2022-11-18T05:40:40.700Z"
   },
   {
    "duration": 15,
    "start_time": "2022-11-18T05:40:40.709Z"
   },
   {
    "duration": 7,
    "start_time": "2022-11-18T05:40:40.726Z"
   },
   {
    "duration": 23,
    "start_time": "2022-11-18T05:40:40.734Z"
   },
   {
    "duration": 187,
    "start_time": "2022-11-18T05:40:40.758Z"
   },
   {
    "duration": 180,
    "start_time": "2022-11-18T05:40:40.947Z"
   },
   {
    "duration": 8,
    "start_time": "2022-11-18T05:40:41.129Z"
   },
   {
    "duration": 9,
    "start_time": "2022-11-18T05:40:41.138Z"
   },
   {
    "duration": 167,
    "start_time": "2022-11-18T05:40:41.149Z"
   },
   {
    "duration": 304,
    "start_time": "2022-11-18T05:40:41.318Z"
   },
   {
    "duration": 13,
    "start_time": "2022-11-18T05:40:41.626Z"
   },
   {
    "duration": 7,
    "start_time": "2022-11-18T05:40:41.641Z"
   },
   {
    "duration": 197,
    "start_time": "2022-11-18T05:40:41.649Z"
   },
   {
    "duration": 23,
    "start_time": "2022-11-18T05:40:41.847Z"
   },
   {
    "duration": 3,
    "start_time": "2022-11-18T05:40:41.871Z"
   },
   {
    "duration": 10,
    "start_time": "2022-11-18T05:40:41.876Z"
   },
   {
    "duration": 181,
    "start_time": "2022-11-18T05:40:41.887Z"
   },
   {
    "duration": 5,
    "start_time": "2022-11-18T05:40:42.070Z"
   },
   {
    "duration": 190,
    "start_time": "2022-11-18T05:40:42.077Z"
   },
   {
    "duration": 4,
    "start_time": "2022-11-18T05:40:42.268Z"
   },
   {
    "duration": 9,
    "start_time": "2022-11-18T05:40:42.274Z"
   },
   {
    "duration": 6,
    "start_time": "2022-11-18T05:40:42.285Z"
   },
   {
    "duration": 4,
    "start_time": "2022-11-18T05:40:42.313Z"
   },
   {
    "duration": 8,
    "start_time": "2022-11-18T05:40:42.319Z"
   },
   {
    "duration": 6,
    "start_time": "2022-11-18T05:40:42.329Z"
   },
   {
    "duration": 3,
    "start_time": "2022-11-18T05:40:42.337Z"
   },
   {
    "duration": 93,
    "start_time": "2022-11-18T05:40:42.342Z"
   },
   {
    "duration": 22,
    "start_time": "2022-11-18T05:40:42.437Z"
   },
   {
    "duration": 17,
    "start_time": "2022-11-18T05:40:42.461Z"
   },
   {
    "duration": 234,
    "start_time": "2022-11-18T05:40:42.480Z"
   },
   {
    "duration": 232,
    "start_time": "2022-11-18T05:40:42.716Z"
   },
   {
    "duration": 9,
    "start_time": "2022-11-18T05:40:42.949Z"
   },
   {
    "duration": 12,
    "start_time": "2022-11-18T05:40:42.959Z"
   },
   {
    "duration": 199,
    "start_time": "2022-11-18T05:40:42.972Z"
   },
   {
    "duration": 162,
    "start_time": "2022-11-18T05:40:43.173Z"
   },
   {
    "duration": 170,
    "start_time": "2022-11-18T05:40:43.336Z"
   },
   {
    "duration": 8,
    "start_time": "2022-11-18T05:40:43.508Z"
   },
   {
    "duration": 9,
    "start_time": "2022-11-18T05:40:43.518Z"
   },
   {
    "duration": 183,
    "start_time": "2022-11-18T05:40:43.529Z"
   },
   {
    "duration": 153,
    "start_time": "2022-11-18T05:40:43.713Z"
   },
   {
    "duration": 178,
    "start_time": "2022-11-18T05:40:43.868Z"
   },
   {
    "duration": 7,
    "start_time": "2022-11-18T05:40:44.048Z"
   },
   {
    "duration": 13,
    "start_time": "2022-11-18T05:40:44.057Z"
   },
   {
    "duration": 176,
    "start_time": "2022-11-18T05:40:44.072Z"
   },
   {
    "duration": 167,
    "start_time": "2022-11-18T05:40:44.250Z"
   },
   {
    "duration": 6,
    "start_time": "2022-11-18T05:40:44.419Z"
   },
   {
    "duration": 15,
    "start_time": "2022-11-18T05:40:44.427Z"
   },
   {
    "duration": 2,
    "start_time": "2022-11-18T05:40:44.444Z"
   },
   {
    "duration": 6,
    "start_time": "2022-11-18T05:40:44.448Z"
   },
   {
    "duration": 7,
    "start_time": "2022-11-18T05:40:44.455Z"
   },
   {
    "duration": 5,
    "start_time": "2022-11-18T05:40:44.463Z"
   },
   {
    "duration": 6,
    "start_time": "2022-11-18T05:40:44.469Z"
   },
   {
    "duration": 37,
    "start_time": "2022-11-18T05:40:44.476Z"
   },
   {
    "duration": 7,
    "start_time": "2022-11-18T05:40:44.514Z"
   },
   {
    "duration": 1408,
    "start_time": "2022-11-21T16:09:43.312Z"
   },
   {
    "duration": 5,
    "start_time": "2022-11-21T16:38:33.275Z"
   },
   {
    "duration": 53,
    "start_time": "2022-11-21T16:38:36.947Z"
   },
   {
    "duration": 18,
    "start_time": "2022-11-21T16:38:37.700Z"
   },
   {
    "duration": 14,
    "start_time": "2022-11-21T16:38:40.274Z"
   },
   {
    "duration": 5,
    "start_time": "2022-11-21T16:48:52.952Z"
   },
   {
    "duration": 63,
    "start_time": "2022-11-21T16:48:56.698Z"
   },
   {
    "duration": 21,
    "start_time": "2022-11-21T16:48:57.347Z"
   },
   {
    "duration": 14,
    "start_time": "2022-11-21T16:48:58.334Z"
   },
   {
    "duration": 3,
    "start_time": "2022-11-21T16:49:20.271Z"
   },
   {
    "duration": 5,
    "start_time": "2022-11-21T16:49:20.775Z"
   },
   {
    "duration": 9,
    "start_time": "2022-11-21T16:49:25.262Z"
   },
   {
    "duration": 96,
    "start_time": "2022-11-21T16:49:50.907Z"
   },
   {
    "duration": 16,
    "start_time": "2022-11-21T16:49:57.795Z"
   },
   {
    "duration": 9,
    "start_time": "2022-11-21T16:52:10.344Z"
   },
   {
    "duration": 50,
    "start_time": "2022-11-21T16:52:29.513Z"
   },
   {
    "duration": 15,
    "start_time": "2022-11-21T16:53:53.338Z"
   },
   {
    "duration": 14,
    "start_time": "2022-11-21T16:54:11.467Z"
   },
   {
    "duration": 7,
    "start_time": "2022-11-21T16:54:12.696Z"
   },
   {
    "duration": 7,
    "start_time": "2022-11-21T16:54:15.818Z"
   },
   {
    "duration": 4,
    "start_time": "2022-11-21T16:54:16.518Z"
   },
   {
    "duration": 5,
    "start_time": "2022-11-21T16:54:18.413Z"
   },
   {
    "duration": 4,
    "start_time": "2022-11-21T16:54:19.374Z"
   },
   {
    "duration": 5,
    "start_time": "2022-11-21T16:54:24.732Z"
   },
   {
    "duration": 6,
    "start_time": "2022-11-21T16:54:27.232Z"
   },
   {
    "duration": 6,
    "start_time": "2022-11-21T16:54:28.958Z"
   },
   {
    "duration": 6,
    "start_time": "2022-11-21T16:54:29.601Z"
   },
   {
    "duration": 5,
    "start_time": "2022-11-21T16:54:30.744Z"
   },
   {
    "duration": 18,
    "start_time": "2022-11-21T16:54:31.237Z"
   },
   {
    "duration": 6,
    "start_time": "2022-11-21T16:54:33.506Z"
   },
   {
    "duration": 23,
    "start_time": "2022-11-21T16:54:34.323Z"
   },
   {
    "duration": 26,
    "start_time": "2022-11-21T16:58:25.618Z"
   },
   {
    "duration": 14,
    "start_time": "2022-11-21T16:59:06.747Z"
   },
   {
    "duration": 171,
    "start_time": "2022-11-21T17:00:13.058Z"
   },
   {
    "duration": 164,
    "start_time": "2022-11-21T17:00:16.733Z"
   },
   {
    "duration": 8,
    "start_time": "2022-11-21T17:00:18.457Z"
   },
   {
    "duration": 8,
    "start_time": "2022-11-21T17:00:29.475Z"
   },
   {
    "duration": 153,
    "start_time": "2022-11-21T17:00:31.066Z"
   },
   {
    "duration": 295,
    "start_time": "2022-11-21T17:00:34.274Z"
   },
   {
    "duration": 12,
    "start_time": "2022-11-21T17:00:36.407Z"
   },
   {
    "duration": 7,
    "start_time": "2022-11-21T17:00:44.998Z"
   },
   {
    "duration": 173,
    "start_time": "2022-11-21T17:00:45.924Z"
   },
   {
    "duration": 21,
    "start_time": "2022-11-21T17:00:47.340Z"
   },
   {
    "duration": 4,
    "start_time": "2022-11-21T17:01:03.011Z"
   },
   {
    "duration": 9,
    "start_time": "2022-11-21T17:01:04.045Z"
   },
   {
    "duration": 257,
    "start_time": "2022-11-21T17:01:04.711Z"
   },
   {
    "duration": 5,
    "start_time": "2022-11-21T17:01:05.986Z"
   },
   {
    "duration": 162,
    "start_time": "2022-11-21T17:01:06.574Z"
   },
   {
    "duration": 13,
    "start_time": "2022-11-21T17:01:10.236Z"
   },
   {
    "duration": 7,
    "start_time": "2022-11-21T17:01:10.732Z"
   },
   {
    "duration": 5,
    "start_time": "2022-11-21T17:01:11.353Z"
   },
   {
    "duration": 4,
    "start_time": "2022-11-21T17:01:12.606Z"
   },
   {
    "duration": 5,
    "start_time": "2022-11-21T17:01:13.171Z"
   },
   {
    "duration": 5,
    "start_time": "2022-11-21T17:01:14.016Z"
   },
   {
    "duration": 5,
    "start_time": "2022-11-21T17:01:15.810Z"
   },
   {
    "duration": 10,
    "start_time": "2022-11-21T17:01:16.795Z"
   },
   {
    "duration": 23,
    "start_time": "2022-11-21T17:01:17.651Z"
   },
   {
    "duration": 17,
    "start_time": "2022-11-21T17:01:23.948Z"
   },
   {
    "duration": 16,
    "start_time": "2022-11-21T19:28:39.624Z"
   },
   {
    "duration": 226,
    "start_time": "2022-11-21T19:58:28.354Z"
   },
   {
    "duration": 215,
    "start_time": "2022-11-21T19:58:37.303Z"
   },
   {
    "duration": 207,
    "start_time": "2022-11-21T19:59:03.941Z"
   },
   {
    "duration": 186,
    "start_time": "2022-11-21T19:59:23.008Z"
   },
   {
    "duration": 19,
    "start_time": "2022-11-21T20:01:27.955Z"
   },
   {
    "duration": 203,
    "start_time": "2022-11-21T20:01:59.408Z"
   },
   {
    "duration": 1252,
    "start_time": "2022-11-21T20:39:02.323Z"
   },
   {
    "duration": 53,
    "start_time": "2022-11-21T20:39:03.577Z"
   },
   {
    "duration": 26,
    "start_time": "2022-11-21T20:39:03.632Z"
   },
   {
    "duration": 25,
    "start_time": "2022-11-21T20:39:03.661Z"
   },
   {
    "duration": 33,
    "start_time": "2022-11-21T20:39:03.688Z"
   },
   {
    "duration": 35,
    "start_time": "2022-11-21T20:39:03.723Z"
   },
   {
    "duration": 33,
    "start_time": "2022-11-21T20:39:03.759Z"
   },
   {
    "duration": 104,
    "start_time": "2022-11-21T20:39:03.794Z"
   },
   {
    "duration": 14,
    "start_time": "2022-11-21T20:39:03.900Z"
   },
   {
    "duration": 32,
    "start_time": "2022-11-21T20:39:03.917Z"
   },
   {
    "duration": 10,
    "start_time": "2022-11-21T20:39:03.952Z"
   },
   {
    "duration": 15,
    "start_time": "2022-11-21T20:39:03.963Z"
   },
   {
    "duration": 7,
    "start_time": "2022-11-21T20:39:03.980Z"
   },
   {
    "duration": 16,
    "start_time": "2022-11-21T20:39:03.989Z"
   },
   {
    "duration": 14,
    "start_time": "2022-11-21T20:39:04.007Z"
   },
   {
    "duration": 10,
    "start_time": "2022-11-21T20:39:04.022Z"
   },
   {
    "duration": 23,
    "start_time": "2022-11-21T20:39:04.034Z"
   },
   {
    "duration": 14,
    "start_time": "2022-11-21T20:39:04.058Z"
   },
   {
    "duration": 19,
    "start_time": "2022-11-21T20:39:04.074Z"
   },
   {
    "duration": 22,
    "start_time": "2022-11-21T20:39:04.095Z"
   },
   {
    "duration": 6,
    "start_time": "2022-11-21T20:39:04.120Z"
   },
   {
    "duration": 46,
    "start_time": "2022-11-21T20:39:04.128Z"
   },
   {
    "duration": 22,
    "start_time": "2022-11-21T20:39:04.176Z"
   },
   {
    "duration": 208,
    "start_time": "2022-11-21T20:39:04.200Z"
   },
   {
    "duration": 181,
    "start_time": "2022-11-21T20:39:04.411Z"
   },
   {
    "duration": 10,
    "start_time": "2022-11-21T20:39:04.594Z"
   },
   {
    "duration": 19,
    "start_time": "2022-11-21T20:39:04.605Z"
   },
   {
    "duration": 148,
    "start_time": "2022-11-21T20:39:04.645Z"
   },
   {
    "duration": 313,
    "start_time": "2022-11-21T20:39:04.795Z"
   },
   {
    "duration": 12,
    "start_time": "2022-11-21T20:39:05.110Z"
   },
   {
    "duration": 28,
    "start_time": "2022-11-21T20:39:05.124Z"
   },
   {
    "duration": 179,
    "start_time": "2022-11-21T20:39:05.154Z"
   },
   {
    "duration": 26,
    "start_time": "2022-11-21T20:39:05.335Z"
   },
   {
    "duration": 4,
    "start_time": "2022-11-21T20:39:05.363Z"
   },
   {
    "duration": 14,
    "start_time": "2022-11-21T20:39:05.369Z"
   },
   {
    "duration": 184,
    "start_time": "2022-11-21T20:39:05.385Z"
   },
   {
    "duration": 5,
    "start_time": "2022-11-21T20:39:05.571Z"
   },
   {
    "duration": 272,
    "start_time": "2022-11-21T20:39:05.578Z"
   },
   {
    "duration": 5,
    "start_time": "2022-11-21T20:39:05.851Z"
   },
   {
    "duration": 9,
    "start_time": "2022-11-21T20:39:05.859Z"
   },
   {
    "duration": 8,
    "start_time": "2022-11-21T20:39:05.870Z"
   },
   {
    "duration": 7,
    "start_time": "2022-11-21T20:39:05.879Z"
   },
   {
    "duration": 6,
    "start_time": "2022-11-21T20:39:05.888Z"
   },
   {
    "duration": 5,
    "start_time": "2022-11-21T20:39:05.896Z"
   },
   {
    "duration": 7,
    "start_time": "2022-11-21T20:39:05.902Z"
   },
   {
    "duration": 27,
    "start_time": "2022-11-21T20:39:05.910Z"
   },
   {
    "duration": 21,
    "start_time": "2022-11-21T20:39:05.938Z"
   },
   {
    "duration": 16,
    "start_time": "2022-11-21T20:39:05.961Z"
   },
   {
    "duration": 207,
    "start_time": "2022-11-21T20:39:05.978Z"
   },
   {
    "duration": 15,
    "start_time": "2022-11-21T20:39:06.187Z"
   },
   {
    "duration": 206,
    "start_time": "2022-11-21T20:39:06.204Z"
   },
   {
    "duration": 171,
    "start_time": "2022-11-21T20:39:06.412Z"
   },
   {
    "duration": 9,
    "start_time": "2022-11-21T20:39:06.584Z"
   },
   {
    "duration": 17,
    "start_time": "2022-11-21T20:39:06.595Z"
   },
   {
    "duration": 191,
    "start_time": "2022-11-21T20:39:06.613Z"
   },
   {
    "duration": 166,
    "start_time": "2022-11-21T20:39:06.806Z"
   },
   {
    "duration": 182,
    "start_time": "2022-11-21T20:39:06.974Z"
   },
   {
    "duration": 8,
    "start_time": "2022-11-21T20:39:07.158Z"
   },
   {
    "duration": 9,
    "start_time": "2022-11-21T20:39:07.167Z"
   },
   {
    "duration": 189,
    "start_time": "2022-11-21T20:39:07.177Z"
   },
   {
    "duration": 184,
    "start_time": "2022-11-21T20:39:07.368Z"
   },
   {
    "duration": 178,
    "start_time": "2022-11-21T20:39:07.554Z"
   },
   {
    "duration": 14,
    "start_time": "2022-11-21T20:39:07.737Z"
   },
   {
    "duration": 12,
    "start_time": "2022-11-21T20:39:07.754Z"
   },
   {
    "duration": 189,
    "start_time": "2022-11-21T20:39:07.768Z"
   },
   {
    "duration": 257,
    "start_time": "2022-11-21T20:39:07.960Z"
   },
   {
    "duration": 7,
    "start_time": "2022-11-21T20:39:08.219Z"
   },
   {
    "duration": 44,
    "start_time": "2022-11-21T20:39:08.228Z"
   },
   {
    "duration": 30,
    "start_time": "2022-11-21T20:39:08.274Z"
   },
   {
    "duration": 24,
    "start_time": "2022-11-21T20:39:08.306Z"
   },
   {
    "duration": 32,
    "start_time": "2022-11-21T20:39:08.333Z"
   },
   {
    "duration": 27,
    "start_time": "2022-11-21T20:39:08.367Z"
   },
   {
    "duration": 17,
    "start_time": "2022-11-21T20:39:08.396Z"
   },
   {
    "duration": 35,
    "start_time": "2022-11-21T20:39:08.414Z"
   }
  ],
  "kernelspec": {
   "display_name": "Python 3",
   "language": "python",
   "name": "python3"
  },
  "language_info": {
   "codemirror_mode": {
    "name": "ipython",
    "version": 3
   },
   "file_extension": ".py",
   "mimetype": "text/x-python",
   "name": "python",
   "nbconvert_exporter": "python",
   "pygments_lexer": "ipython3",
   "version": "3.7.0"
  },
  "toc": {
   "base_numbering": 1,
   "nav_menu": {
    "height": "477px",
    "width": "510px"
   },
   "number_sections": true,
   "sideBar": true,
   "skip_h1_title": true,
   "title_cell": "Table of Contents",
   "title_sidebar": "Contents",
   "toc_cell": false,
   "toc_position": {
    "height": "calc(100% - 180px)",
    "left": "10px",
    "top": "150px",
    "width": "366.188px"
   },
   "toc_section_display": true,
   "toc_window_display": true
  }
 },
 "nbformat": 4,
 "nbformat_minor": 2
}
